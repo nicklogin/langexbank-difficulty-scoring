{
 "cells": [
  {
   "cell_type": "code",
   "execution_count": 1,
   "metadata": {},
   "outputs": [],
   "source": [
    "import pandas as pd"
   ]
  },
  {
   "cell_type": "code",
   "execution_count": 2,
   "metadata": {},
   "outputs": [],
   "source": [
    "df = pd.read_csv(\"QuestionsWithRules.csv\", index_col=\"Unnamed: 0\")"
   ]
  },
  {
   "cell_type": "code",
   "execution_count": 3,
   "metadata": {},
   "outputs": [
    {
     "data": {
      "text/plain": [
       "TagOnlyHandler        192\n",
       "DeterminersHandler    114\n",
       "Supervised classif    113\n",
       "LexicalErrorHandle     64\n",
       "AgreementHandler       35\n",
       "TenseChoiceHandler     29\n",
       "CategoryConfusionH     17\n",
       "StandardWordOrderH     17\n",
       "Name: Rule, dtype: int64"
      ]
     },
     "execution_count": 3,
     "metadata": {},
     "output_type": "execute_result"
    }
   ],
   "source": [
    "df[\"Rule\"].value_counts()"
   ]
  },
  {
   "cell_type": "code",
   "execution_count": 9,
   "metadata": {},
   "outputs": [
    {
     "data": {
      "text/plain": [
       "Structure_confusion                                           9\n",
       "Comparative_constr                                            5\n",
       "Negation                                                      2\n",
       "Formational_affixes                                           2\n",
       "Noun_number //Articles                                        2\n",
       "Comparison_degree                                             2\n",
       "Quantifiers                                                   2\n",
       "Conjunctions                                                  2\n",
       "Agreement_errors //Tense_choice                               2\n",
       "Relative_clause                                               1\n",
       "Articles //Category_confusion                                 1\n",
       "Tense_choice //Verb_pattern                                   1\n",
       "Countable_Uncountable                                         1\n",
       "lex_item_choice OR Redundant_comp_sent                        1\n",
       "Absence_comp_sent //Articles                                  1\n",
       "Spelling //Tense_form                                         1\n",
       "Noun_number (OR Articles)                                     1\n",
       "Linking_device OR Conjunctions                                1\n",
       "Voice //Tense_choice                                          1\n",
       "Absence_sent_comp                                             1\n",
       "Absence_comp_sentence                                         1\n",
       "Determiners //Articles                                        1\n",
       "Word_order (OR lex_item_choice)                               1\n",
       "Category_confusion                                            1\n",
       "Absence_comp_sent //Agreement_errors                          1\n",
       "Word_order //Article                                          1\n",
       "Infinitive_constr //lex_item_choice                           1\n",
       "Formational_affixes //Structure_confusion                     1\n",
       "Absence_comp_sent OR Redundant_comp OR Structure_confusion    1\n",
       "Spelling //Category_confusion                                 1\n",
       "Category_confusion //lex_item_choice                          1\n",
       "Numerals //Spelling?                                          1\n",
       "Lack_par_constr                                               1\n",
       "Word_order //lex_item_choice                                  1\n",
       "Agreement_errors //Category_confusion                         1\n",
       "Structure_confusion //Article                                 1\n",
       "Articles                                                      1\n",
       "Articles //Prepositions                                       1\n",
       "Tense_choice //lex_item_choice                                1\n",
       "Articles //lex_item_choice                                    1\n",
       "Name: Error type, dtype: int64"
      ]
     },
     "execution_count": 9,
     "metadata": {},
     "output_type": "execute_result"
    }
   ],
   "source": [
    "df[(df[\"Rule\"] == \"Supervised classif\")&(df[\"Level (Hand)\"]==df[\"Level (predicted)\"])][\"Error type\"].value_counts()"
   ]
  },
  {
   "cell_type": "code",
   "execution_count": 10,
   "metadata": {},
   "outputs": [
    {
     "data": {
      "text/plain": [
       "Structure_confusion                     7\n",
       "Relative_clause                         4\n",
       "Formational_affixes                     4\n",
       "Quantifiers                             3\n",
       "Spelling //Category_confusion           3\n",
       "Parallel_constructions                  2\n",
       "Agreement_errors //Tense_choice         2\n",
       "Negation                                2\n",
       "Articles //lex_item_choice              2\n",
       "Participial_constr                      2\n",
       "Absence_comp_sent //lex_item_choice     1\n",
       "Verb_pattern //lex_item_choice          1\n",
       "Gerund_constr                           1\n",
       "Category_confusion //Articles           1\n",
       "Prepositions //Ref_device               1\n",
       "lex_item_choice //Category_confusion    1\n",
       "Word_order                              1\n",
       "Modals //Spelling                       1\n",
       "Articles //Capitalisation               1\n",
       "Agreement_errors //lex_item_choice      1\n",
       "Comparison_degree                       1\n",
       "Spelling //Structure_confusion          1\n",
       "Conjunctions (OR Linking_device?)       1\n",
       "Tense_form //lex_item_choice            1\n",
       "Absence_comp_sent //Spelling            1\n",
       "Modals //Tense_choice                   1\n",
       "Pronouns                                1\n",
       "Noun_number //Article                   1\n",
       "Articles (//lex_item_choice)            1\n",
       "Category_confusion //Spelling           1\n",
       "Ref_device //Linking_device             1\n",
       "Noun_number //Articles                  1\n",
       "Voice //lex_item_choice                 1\n",
       "Name: Error type, dtype: int64"
      ]
     },
     "execution_count": 10,
     "metadata": {},
     "output_type": "execute_result"
    }
   ],
   "source": [
    "df[(df[\"Rule\"] == \"Supervised classif\")&(df[\"Level (Hand)\"]!=df[\"Level (predicted)\"])][\"Error type\"].value_counts()"
   ]
  },
  {
   "cell_type": "code",
   "execution_count": null,
   "metadata": {},
   "outputs": [],
   "source": []
  }
 ],
 "metadata": {
  "kernelspec": {
   "display_name": "Python 3",
   "language": "python",
   "name": "python3"
  },
  "language_info": {
   "codemirror_mode": {
    "name": "ipython",
    "version": 3
   },
   "file_extension": ".py",
   "mimetype": "text/x-python",
   "name": "python",
   "nbconvert_exporter": "python",
   "pygments_lexer": "ipython3",
   "version": "3.7.3"
  }
 },
 "nbformat": 4,
 "nbformat_minor": 4
}
