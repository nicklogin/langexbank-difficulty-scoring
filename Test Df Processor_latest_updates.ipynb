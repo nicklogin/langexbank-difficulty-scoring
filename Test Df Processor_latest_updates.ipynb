{
 "cells": [
  {
   "cell_type": "code",
   "execution_count": 1,
   "metadata": {},
   "outputs": [],
   "source": [
    "import pandas as pd"
   ]
  },
  {
   "cell_type": "code",
   "execution_count": 2,
   "metadata": {},
   "outputs": [],
   "source": [
    "import numpy as np"
   ]
  },
  {
   "cell_type": "code",
   "execution_count": 3,
   "metadata": {},
   "outputs": [
    {
     "name": "stderr",
     "output_type": "stream",
     "text": [
      "c:\\users\\k1l77\\desktop\\182e~1\\term_p~1\\lib\\site-packages\\sklearn\\utils\\deprecation.py:143: FutureWarning: The sklearn.tree.tree module is  deprecated in version 0.22 and will be removed in version 0.24. The corresponding classes / functions should instead be imported from sklearn.tree. Anything that cannot be imported from sklearn.tree is now part of the private API.\n",
      "  warnings.warn(message, FutureWarning)\n"
     ]
    },
    {
     "name": "stdout",
     "output_type": "stream",
     "text": [
      "Wall time: 44.9 s\n"
     ]
    },
    {
     "name": "stderr",
     "output_type": "stream",
     "text": [
      "c:\\users\\k1l77\\desktop\\182e~1\\term_p~1\\lib\\site-packages\\sklearn\\base.py:334: UserWarning: Trying to unpickle estimator DecisionTreeClassifier from version 0.21.2 when using version 0.23.2. This might lead to breaking code or invalid results. Use at your own risk.\n",
      "  UserWarning)\n"
     ]
    }
   ],
   "source": [
    "%%time\n",
    "from dataframe_processor import process_df"
   ]
  },
  {
   "cell_type": "code",
   "execution_count": 4,
   "metadata": {},
   "outputs": [],
   "source": [
    "df = pd.read_csv(\"FullAnnotatedSet.csv\")"
   ]
  },
  {
   "cell_type": "code",
   "execution_count": 5,
   "metadata": {},
   "outputs": [
    {
     "name": "stderr",
     "output_type": "stream",
     "text": [
      "c:\\users\\k1l77\\desktop\\182e~1\\term_p~1\\lib\\site-packages\\tqdm\\std.py:699: FutureWarning: The Panel class is removed from pandas. Accessing it from the top-level namespace will also be removed in the next version\n",
      "  from pandas import Panel\n",
      "100%|████████████████████████████████████████████████████████████████████████████████████████████████████████████████████████████████████████████████████████| 581/581 [00:00<00:00, 740.68it/s]\n",
      "100%|██████████████████████████████████████████████████████████████████████████████████████████████████████████████████████████████████████████████████████| 581/581 [00:00<00:00, 58120.84it/s]\n",
      "100%|███████████████████████████████████████████████████████████████████████████████████████████████████████████████████████████████████████████████████████| 581/581 [00:00<00:00, 2251.61it/s]\n",
      "100%|███████████████████████████████████████████████████████████████████████████████████████████████████████████████████████████████████████████████████████| 581/581 [00:00<00:00, 6675.21it/s]\n",
      "100%|███████████████████████████████████████████████████████████████████████████████████████████████████████████████████████████████████████████████████████| 581/581 [00:00<00:00, 2014.52it/s]\n",
      "100%|███████████████████████████████████████████████████████████████████████████████████████████████████████████████████████████████████████████████████████| 581/581 [00:00<00:00, 1312.01it/s]\n",
      "100%|███████████████████████████████████████████████████████████████████████████████████████████████████████████████████████████████████████████████████████| 581/581 [00:00<00:00, 4150.85it/s]\n",
      "100%|██████████████████████████████████████████████████████████████████████████████████████████████████████████████████████████████████████████████████████| 581/581 [00:00<00:00, 52658.79it/s]\n",
      "100%|████████████████████████████████████████████████████████████████████████████████████████████████████████████████████████████████████████████████████████| 581/581 [00:02<00:00, 288.91it/s]\n",
      "100%|███████████████████████████████████████████████████████████████████████████████████████████████████████████████████████████████████████████████████████████| 29/29 [00:07<00:00,  3.88it/s]"
     ]
    },
    {
     "name": "stdout",
     "output_type": "stream",
     "text": [
      "Wall time: 11.8 s\n"
     ]
    },
    {
     "name": "stderr",
     "output_type": "stream",
     "text": [
      "\n",
      "C:\\Users\\k1l77\\Desktop\\QuestionLevelAnnotator\\dataframe_processor.py:28: SettingWithCopyWarning: \n",
      "A value is trying to be set on a copy of a slice from a DataFrame.\n",
      "Try using .loc[row_indexer,col_indexer] = value instead\n",
      "\n",
      "See the caveats in the documentation: https://pandas.pydata.org/pandas-docs/stable/user_guide/indexing.html#returning-a-view-versus-a-copy\n",
      "  df_zero[\"predicted\"] = predict_level(df_zero[\"Sentence\"].to_list(), bert_embedder, bert_tree)\n",
      "C:\\Users\\k1l77\\Desktop\\QuestionLevelAnnotator\\dataframe_processor.py:29: SettingWithCopyWarning: \n",
      "A value is trying to be set on a copy of a slice from a DataFrame.\n",
      "Try using .loc[row_indexer,col_indexer] = value instead\n",
      "\n",
      "See the caveats in the documentation: https://pandas.pydata.org/pandas-docs/stable/user_guide/indexing.html#returning-a-view-versus-a-copy\n",
      "  df_zero[\"predicted\"] = df_zero[\"predicted\"].apply(lambda x: int(x.split(\"_\")[1]))\n"
     ]
    }
   ],
   "source": [
    "%%time\n",
    "df_processed = process_df(df)"
   ]
  },
  {
   "cell_type": "code",
   "execution_count": 6,
   "metadata": {},
   "outputs": [
    {
     "data": {
      "text/html": [
       "<div>\n",
       "<style scoped>\n",
       "    .dataframe tbody tr th:only-of-type {\n",
       "        vertical-align: middle;\n",
       "    }\n",
       "\n",
       "    .dataframe tbody tr th {\n",
       "        vertical-align: top;\n",
       "    }\n",
       "\n",
       "    .dataframe thead th {\n",
       "        text-align: right;\n",
       "    }\n",
       "</style>\n",
       "<table border=\"1\" class=\"dataframe\">\n",
       "  <thead>\n",
       "    <tr style=\"text-align: right;\">\n",
       "      <th></th>\n",
       "      <th>Unnamed: 0</th>\n",
       "      <th>id</th>\n",
       "      <th>Sentence (original)</th>\n",
       "      <th>Sentence (changed)</th>\n",
       "      <th>Right answer</th>\n",
       "      <th>Error type</th>\n",
       "      <th>Error type+</th>\n",
       "      <th>Level (Hand)</th>\n",
       "      <th>path_in_REALEC</th>\n",
       "      <th>Sentence</th>\n",
       "      <th>Error span</th>\n",
       "      <th>predicted</th>\n",
       "    </tr>\n",
       "  </thead>\n",
       "  <tbody>\n",
       "    <tr>\n",
       "      <th>0</th>\n",
       "      <td>0</td>\n",
       "      <td>36478</td>\n",
       "      <td>The graph given to us represents the informati...</td>\n",
       "      <td>The graph represents information about changes...</td>\n",
       "      <td>the world's investment</td>\n",
       "      <td>Articles</td>\n",
       "      <td>Articles</td>\n",
       "      <td>2</td>\n",
       "      <td>https://realec.org/index.xhtml#/exam/Exam2016/...</td>\n",
       "      <td>The graph represents information about changes...</td>\n",
       "      <td>world's investment</td>\n",
       "      <td>2</td>\n",
       "    </tr>\n",
       "    <tr>\n",
       "      <th>1</th>\n",
       "      <td>1</td>\n",
       "      <td>67749</td>\n",
       "      <td>Moreover, they need money to feed their child...</td>\n",
       "      <td>NaN</td>\n",
       "      <td>this money</td>\n",
       "      <td>Agreement_errors</td>\n",
       "      <td>Countable_uncountable</td>\n",
       "      <td>1</td>\n",
       "      <td>https://realec.org/index.xhtml#/exam/Exam2017/...</td>\n",
       "      <td>Moreover, they need money to feed their child...</td>\n",
       "      <td>these money</td>\n",
       "      <td>1</td>\n",
       "    </tr>\n",
       "    <tr>\n",
       "      <th>2</th>\n",
       "      <td>2</td>\n",
       "      <td>4238</td>\n",
       "      <td>Globalization creates an important basis for ...</td>\n",
       "      <td>Globalization creates an important basis for ...</td>\n",
       "      <td>ecological ones</td>\n",
       "      <td>Absence_comp_sent</td>\n",
       "      <td>Punctuation</td>\n",
       "      <td>3</td>\n",
       "      <td>https://realec.org/index.xhtml#/2012-2014/esl_...</td>\n",
       "      <td>Globalization creates an important basis for ...</td>\n",
       "      <td>ecological</td>\n",
       "      <td>3</td>\n",
       "    </tr>\n",
       "    <tr>\n",
       "      <th>3</th>\n",
       "      <td>4</td>\n",
       "      <td>50904</td>\n",
       "      <td>If in North Africa and South Asia there &lt;b&gt;is...</td>\n",
       "      <td>If in North Africa and South Asia there &lt;b&gt;is...</td>\n",
       "      <td>were</td>\n",
       "      <td>Agreement_errors //Tense_choice</td>\n",
       "      <td>Agreement_errors</td>\n",
       "      <td>3</td>\n",
       "      <td>https://realec.org/index.xhtml#/exam/Exam2017/...</td>\n",
       "      <td>If in North Africa and South Asia there &lt;b&gt;is...</td>\n",
       "      <td>is</td>\n",
       "      <td>1</td>\n",
       "    </tr>\n",
       "    <tr>\n",
       "      <th>4</th>\n",
       "      <td>5</td>\n",
       "      <td>61808</td>\n",
       "      <td>That is &lt;b&gt;really hard task&lt;/b&gt; for people to ...</td>\n",
       "      <td>That is &lt;b&gt;really hard task&lt;/b&gt; for people to ...</td>\n",
       "      <td>a really hard task</td>\n",
       "      <td>Articles</td>\n",
       "      <td>Articles</td>\n",
       "      <td>2</td>\n",
       "      <td>https://realec.org/index.xhtml#/exam/Exam2017/...</td>\n",
       "      <td>That is &lt;b&gt;really hard task&lt;/b&gt; for people to ...</td>\n",
       "      <td>really hard task</td>\n",
       "      <td>2</td>\n",
       "    </tr>\n",
       "    <tr>\n",
       "      <th>...</th>\n",
       "      <td>...</td>\n",
       "      <td>...</td>\n",
       "      <td>...</td>\n",
       "      <td>...</td>\n",
       "      <td>...</td>\n",
       "      <td>...</td>\n",
       "      <td>...</td>\n",
       "      <td>...</td>\n",
       "      <td>...</td>\n",
       "      <td>...</td>\n",
       "      <td>...</td>\n",
       "      <td>...</td>\n",
       "    </tr>\n",
       "    <tr>\n",
       "      <th>576</th>\n",
       "      <td>738</td>\n",
       "      <td>43202</td>\n",
       "      <td>In the Middle East and Latin America the rate...</td>\n",
       "      <td>NaN</td>\n",
       "      <td>from 6,8 to 5,8</td>\n",
       "      <td>Absence_comp_sent</td>\n",
       "      <td>Prepositions</td>\n",
       "      <td>3</td>\n",
       "      <td>https://realec.org/index.xhtml#/exam/Exam2017/...</td>\n",
       "      <td>In the Middle East and Latin America the rate...</td>\n",
       "      <td>6,8 to 5,8</td>\n",
       "      <td>3</td>\n",
       "    </tr>\n",
       "    <tr>\n",
       "      <th>577</th>\n",
       "      <td>740</td>\n",
       "      <td>68578</td>\n",
       "      <td>A more detailed look reveals that there are s...</td>\n",
       "      <td>A more detailed look reveals that there are s...</td>\n",
       "      <td>to</td>\n",
       "      <td>Prepositions</td>\n",
       "      <td>suggestion</td>\n",
       "      <td>3</td>\n",
       "      <td>https://realec.org/index.xhtml#/exam/Exam2017/...</td>\n",
       "      <td>A more detailed look reveals that there are s...</td>\n",
       "      <td>from</td>\n",
       "      <td>3</td>\n",
       "    </tr>\n",
       "    <tr>\n",
       "      <th>578</th>\n",
       "      <td>741</td>\n",
       "      <td>80835</td>\n",
       "      <td>Firstly, I believe that space could &lt;b&gt;wait&lt;/...</td>\n",
       "      <td>Firstly, I believe that space could wait &lt;b&gt;a...</td>\n",
       "      <td>until</td>\n",
       "      <td>Linking_device OR Conjunctions</td>\n",
       "      <td>Prepositions</td>\n",
       "      <td>3</td>\n",
       "      <td>https://realec.org/index.xhtml#/exam/Exam2017/...</td>\n",
       "      <td>Firstly, I believe that space could wait &lt;b&gt;a...</td>\n",
       "      <td>a time, when</td>\n",
       "      <td>3</td>\n",
       "    </tr>\n",
       "    <tr>\n",
       "      <th>579</th>\n",
       "      <td>742</td>\n",
       "      <td>67232</td>\n",
       "      <td>&lt;b&gt;Having paid&lt;/b&gt; more attention to it we wi...</td>\n",
       "      <td>NaN</td>\n",
       "      <td>By paying</td>\n",
       "      <td>Structure_confusion</td>\n",
       "      <td>Participial_constr</td>\n",
       "      <td>3</td>\n",
       "      <td>https://realec.org/index.xhtml#/exam/Exam2017/...</td>\n",
       "      <td>&lt;b&gt;Having paid&lt;/b&gt; more attention to it we wi...</td>\n",
       "      <td>Having paid</td>\n",
       "      <td>1</td>\n",
       "    </tr>\n",
       "    <tr>\n",
       "      <th>580</th>\n",
       "      <td>743</td>\n",
       "      <td>36905</td>\n",
       "      <td>It is more comfortable of course when your fr...</td>\n",
       "      <td>It is more comfortable, of course, when your ...</td>\n",
       "      <td>at</td>\n",
       "      <td>Prepositions</td>\n",
       "      <td>Prepositions</td>\n",
       "      <td>3</td>\n",
       "      <td>https://realec.org/index.xhtml#/2012-2014/esl_...</td>\n",
       "      <td>It is more comfortable, of course, when your ...</td>\n",
       "      <td>on</td>\n",
       "      <td>3</td>\n",
       "    </tr>\n",
       "  </tbody>\n",
       "</table>\n",
       "<p>581 rows × 12 columns</p>\n",
       "</div>"
      ],
      "text/plain": [
       "     Unnamed: 0     id                                Sentence (original)  \\\n",
       "0             0  36478  The graph given to us represents the informati...   \n",
       "1             1  67749   Moreover, they need money to feed their child...   \n",
       "2             2   4238   Globalization creates an important basis for ...   \n",
       "3             4  50904   If in North Africa and South Asia there <b>is...   \n",
       "4             5  61808  That is <b>really hard task</b> for people to ...   \n",
       "..          ...    ...                                                ...   \n",
       "576         738  43202   In the Middle East and Latin America the rate...   \n",
       "577         740  68578   A more detailed look reveals that there are s...   \n",
       "578         741  80835   Firstly, I believe that space could <b>wait</...   \n",
       "579         742  67232   <b>Having paid</b> more attention to it we wi...   \n",
       "580         743  36905   It is more comfortable of course when your fr...   \n",
       "\n",
       "                                    Sentence (changed)  \\\n",
       "0    The graph represents information about changes...   \n",
       "1                                                  NaN   \n",
       "2     Globalization creates an important basis for ...   \n",
       "3     If in North Africa and South Asia there <b>is...   \n",
       "4    That is <b>really hard task</b> for people to ...   \n",
       "..                                                 ...   \n",
       "576                                                NaN   \n",
       "577   A more detailed look reveals that there are s...   \n",
       "578   Firstly, I believe that space could wait <b>a...   \n",
       "579                                                NaN   \n",
       "580   It is more comfortable, of course, when your ...   \n",
       "\n",
       "               Right answer                       Error type  \\\n",
       "0    the world's investment                         Articles   \n",
       "1                this money                 Agreement_errors   \n",
       "2           ecological ones                Absence_comp_sent   \n",
       "3                      were  Agreement_errors //Tense_choice   \n",
       "4        a really hard task                         Articles   \n",
       "..                      ...                              ...   \n",
       "576         from 6,8 to 5,8                Absence_comp_sent   \n",
       "577                      to                     Prepositions   \n",
       "578                   until   Linking_device OR Conjunctions   \n",
       "579               By paying              Structure_confusion   \n",
       "580                      at                     Prepositions   \n",
       "\n",
       "               Error type+  Level (Hand)  \\\n",
       "0                 Articles             2   \n",
       "1    Countable_uncountable             1   \n",
       "2              Punctuation             3   \n",
       "3         Agreement_errors             3   \n",
       "4                 Articles             2   \n",
       "..                     ...           ...   \n",
       "576           Prepositions             3   \n",
       "577             suggestion             3   \n",
       "578           Prepositions             3   \n",
       "579     Participial_constr             3   \n",
       "580           Prepositions             3   \n",
       "\n",
       "                                        path_in_REALEC  \\\n",
       "0    https://realec.org/index.xhtml#/exam/Exam2016/...   \n",
       "1    https://realec.org/index.xhtml#/exam/Exam2017/...   \n",
       "2    https://realec.org/index.xhtml#/2012-2014/esl_...   \n",
       "3    https://realec.org/index.xhtml#/exam/Exam2017/...   \n",
       "4    https://realec.org/index.xhtml#/exam/Exam2017/...   \n",
       "..                                                 ...   \n",
       "576  https://realec.org/index.xhtml#/exam/Exam2017/...   \n",
       "577  https://realec.org/index.xhtml#/exam/Exam2017/...   \n",
       "578  https://realec.org/index.xhtml#/exam/Exam2017/...   \n",
       "579  https://realec.org/index.xhtml#/exam/Exam2017/...   \n",
       "580  https://realec.org/index.xhtml#/2012-2014/esl_...   \n",
       "\n",
       "                                              Sentence          Error span  \\\n",
       "0    The graph represents information about changes...  world's investment   \n",
       "1     Moreover, they need money to feed their child...         these money   \n",
       "2     Globalization creates an important basis for ...          ecological   \n",
       "3     If in North Africa and South Asia there <b>is...                  is   \n",
       "4    That is <b>really hard task</b> for people to ...    really hard task   \n",
       "..                                                 ...                 ...   \n",
       "576   In the Middle East and Latin America the rate...          6,8 to 5,8   \n",
       "577   A more detailed look reveals that there are s...                from   \n",
       "578   Firstly, I believe that space could wait <b>a...        a time, when   \n",
       "579   <b>Having paid</b> more attention to it we wi...         Having paid   \n",
       "580   It is more comfortable, of course, when your ...                  on   \n",
       "\n",
       "     predicted  \n",
       "0            2  \n",
       "1            1  \n",
       "2            3  \n",
       "3            1  \n",
       "4            2  \n",
       "..         ...  \n",
       "576          3  \n",
       "577          3  \n",
       "578          3  \n",
       "579          1  \n",
       "580          3  \n",
       "\n",
       "[581 rows x 12 columns]"
      ]
     },
     "execution_count": 6,
     "metadata": {},
     "output_type": "execute_result"
    }
   ],
   "source": [
    "df"
   ]
  },
  {
   "cell_type": "code",
   "execution_count": 7,
   "metadata": {},
   "outputs": [
    {
     "data": {
      "text/plain": [
       "2    253\n",
       "3    195\n",
       "1    133\n",
       "Name: predicted, dtype: int64"
      ]
     },
     "execution_count": 7,
     "metadata": {},
     "output_type": "execute_result"
    }
   ],
   "source": [
    "df[\"predicted\"].value_counts()"
   ]
  },
  {
   "cell_type": "code",
   "execution_count": 8,
   "metadata": {},
   "outputs": [],
   "source": [
    "from sklearn.metrics import classification_report"
   ]
  },
  {
   "cell_type": "code",
   "execution_count": 9,
   "metadata": {},
   "outputs": [
    {
     "name": "stdout",
     "output_type": "stream",
     "text": [
      "              precision    recall  f1-score   support\n",
      "\n",
      "           1       0.82      0.92      0.87       118\n",
      "           2       0.69      0.87      0.77       200\n",
      "           3       0.90      0.67      0.77       263\n",
      "\n",
      "    accuracy                           0.79       581\n",
      "   macro avg       0.80      0.82      0.80       581\n",
      "weighted avg       0.81      0.79      0.79       581\n",
      "\n"
     ]
    }
   ],
   "source": [
    "print(classification_report(df[\"Level (Hand)\"], df[\"predicted\"]))"
   ]
  },
  {
   "cell_type": "code",
   "execution_count": 24,
   "metadata": {},
   "outputs": [],
   "source": [
    "report = classification_report(df[\"Level (Hand)\"], df[\"predicted\"],\n",
    "                              output_dict=True)"
   ]
  },
  {
   "cell_type": "code",
   "execution_count": 25,
   "metadata": {},
   "outputs": [],
   "source": [
    "report = pd.DataFrame(report).transpose().applymap(lambda x: np.round(x,2))"
   ]
  },
  {
   "cell_type": "code",
   "execution_count": 26,
   "metadata": {},
   "outputs": [],
   "source": [
    "report.to_csv(\"CombinedReport.csv\")"
   ]
  },
  {
   "cell_type": "code",
   "execution_count": null,
   "metadata": {},
   "outputs": [],
   "source": []
  }
 ],
 "metadata": {
  "kernelspec": {
   "display_name": "Python 3",
   "language": "python",
   "name": "python3"
  },
  "language_info": {
   "codemirror_mode": {
    "name": "ipython",
    "version": 3
   },
   "file_extension": ".py",
   "mimetype": "text/x-python",
   "name": "python",
   "nbconvert_exporter": "python",
   "pygments_lexer": "ipython3",
   "version": "3.7.3"
  }
 },
 "nbformat": 4,
 "nbformat_minor": 4
}
