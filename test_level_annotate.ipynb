{
 "cells": [
  {
   "cell_type": "code",
   "execution_count": 1,
   "metadata": {},
   "outputs": [],
   "source": [
    "import pandas as pd\n",
    "from tqdm import tqdm\n",
    "\n",
    "import re"
   ]
  },
  {
   "cell_type": "code",
   "execution_count": 2,
   "metadata": {},
   "outputs": [],
   "source": [
    "df = pd.read_excel(\"realec_errors.xlsx\",\n",
    "                  engine='openpyxl')"
   ]
  },
  {
   "cell_type": "code",
   "execution_count": 3,
   "metadata": {},
   "outputs": [],
   "source": [
    "df.to_csv(\"realec_errors.csv\")\n",
    "df = pd.read_csv(\"realec_errors.csv\")"
   ]
  },
  {
   "cell_type": "code",
   "execution_count": 4,
   "metadata": {},
   "outputs": [
    {
     "data": {
      "text/html": [
       "<div>\n",
       "<style scoped>\n",
       "    .dataframe tbody tr th:only-of-type {\n",
       "        vertical-align: middle;\n",
       "    }\n",
       "\n",
       "    .dataframe tbody tr th {\n",
       "        vertical-align: top;\n",
       "    }\n",
       "\n",
       "    .dataframe thead th {\n",
       "        text-align: right;\n",
       "    }\n",
       "</style>\n",
       "<table border=\"1\" class=\"dataframe\">\n",
       "  <thead>\n",
       "    <tr style=\"text-align: right;\">\n",
       "      <th></th>\n",
       "      <th>Unnamed: 0</th>\n",
       "      <th>id</th>\n",
       "      <th>Sentence</th>\n",
       "      <th>Right answer</th>\n",
       "      <th>Error type</th>\n",
       "      <th>Corrected</th>\n",
       "      <th>Random</th>\n",
       "    </tr>\n",
       "  </thead>\n",
       "  <tbody>\n",
       "    <tr>\n",
       "      <th>0</th>\n",
       "      <td>0</td>\n",
       "      <td>51175</td>\n",
       "      <td>Actually, it is an old tradition of &lt;b&gt;distri...</td>\n",
       "      <td>spreading</td>\n",
       "      <td>lex_item_choice</td>\n",
       "      <td>Actually, it is an old tradition of spreading...</td>\n",
       "      <td>0.999965</td>\n",
       "    </tr>\n",
       "    <tr>\n",
       "      <th>1</th>\n",
       "      <td>1</td>\n",
       "      <td>36478</td>\n",
       "      <td>The graph given to us represents the informati...</td>\n",
       "      <td>the world's investment</td>\n",
       "      <td>Articles</td>\n",
       "      <td>The graph given to us represents the informati...</td>\n",
       "      <td>0.999928</td>\n",
       "    </tr>\n",
       "    <tr>\n",
       "      <th>2</th>\n",
       "      <td>2</td>\n",
       "      <td>6697</td>\n",
       "      <td>Now, letвЂ™s take a look &lt;b&gt;on&lt;/b&gt; the situat...</td>\n",
       "      <td>at</td>\n",
       "      <td>Prepositions</td>\n",
       "      <td>Now, letвЂ™s take a look at the situation in ...</td>\n",
       "      <td>0.999912</td>\n",
       "    </tr>\n",
       "    <tr>\n",
       "      <th>3</th>\n",
       "      <td>3</td>\n",
       "      <td>76371</td>\n",
       "      <td>Here we can see five lines which &lt;b&gt;shows&lt;/b&gt;...</td>\n",
       "      <td>show</td>\n",
       "      <td>Tense_choice</td>\n",
       "      <td>Here we can see five lines which show us how ...</td>\n",
       "      <td>0.999907</td>\n",
       "    </tr>\n",
       "    <tr>\n",
       "      <th>4</th>\n",
       "      <td>4</td>\n",
       "      <td>67749</td>\n",
       "      <td>Moreover, they need money to feed their child...</td>\n",
       "      <td>this money</td>\n",
       "      <td>Countable_uncountable</td>\n",
       "      <td>Moreover, they need money to feed their child...</td>\n",
       "      <td>0.999901</td>\n",
       "    </tr>\n",
       "  </tbody>\n",
       "</table>\n",
       "</div>"
      ],
      "text/plain": [
       "   Unnamed: 0     id                                           Sentence  \\\n",
       "0           0  51175   Actually, it is an old tradition of <b>distri...   \n",
       "1           1  36478  The graph given to us represents the informati...   \n",
       "2           2   6697   Now, letвЂ™s take a look <b>on</b> the situat...   \n",
       "3           3  76371   Here we can see five lines which <b>shows</b>...   \n",
       "4           4  67749   Moreover, they need money to feed their child...   \n",
       "\n",
       "             Right answer             Error type  \\\n",
       "0               spreading        lex_item_choice   \n",
       "1  the world's investment               Articles   \n",
       "2                      at           Prepositions   \n",
       "3                    show           Tense_choice   \n",
       "4              this money  Countable_uncountable   \n",
       "\n",
       "                                           Corrected    Random  \n",
       "0   Actually, it is an old tradition of spreading...  0.999965  \n",
       "1  The graph given to us represents the informati...  0.999928  \n",
       "2   Now, letвЂ™s take a look at the situation in ...  0.999912  \n",
       "3   Here we can see five lines which show us how ...  0.999907  \n",
       "4   Moreover, they need money to feed their child...  0.999901  "
      ]
     },
     "execution_count": 4,
     "metadata": {},
     "output_type": "execute_result"
    }
   ],
   "source": [
    "df.head()"
   ]
  },
  {
   "cell_type": "code",
   "execution_count": 5,
   "metadata": {},
   "outputs": [
    {
     "name": "stderr",
     "output_type": "stream",
     "text": [
      "c:\\users\\k1l77\\desktop\\182e~1\\term_p~1\\lib\\site-packages\\tqdm\\std.py:699: FutureWarning: The Panel class is removed from pandas. Accessing it from the top-level namespace will also be removed in the next version\n",
      "  from pandas import Panel\n"
     ]
    }
   ],
   "source": [
    "tqdm.pandas()"
   ]
  },
  {
   "cell_type": "code",
   "execution_count": 6,
   "metadata": {},
   "outputs": [
    {
     "name": "stderr",
     "output_type": "stream",
     "text": [
      "100%|██████████████████████████████████████████████████████████████████████████████████████████████████████████████████████████████████████████████████████████████████| 81765/81765 [00:00<00:00, 131543.53it/s]\n"
     ]
    }
   ],
   "source": [
    "df['Error span'] = df['Sentence'].progress_apply(lambda x:\\\n",
    "                                                re.search('<b>(.*?)</b>',\n",
    "                                                         x).group(1))"
   ]
  },
  {
   "cell_type": "code",
   "execution_count": 7,
   "metadata": {},
   "outputs": [
    {
     "data": {
      "text/html": [
       "<div>\n",
       "<style scoped>\n",
       "    .dataframe tbody tr th:only-of-type {\n",
       "        vertical-align: middle;\n",
       "    }\n",
       "\n",
       "    .dataframe tbody tr th {\n",
       "        vertical-align: top;\n",
       "    }\n",
       "\n",
       "    .dataframe thead th {\n",
       "        text-align: right;\n",
       "    }\n",
       "</style>\n",
       "<table border=\"1\" class=\"dataframe\">\n",
       "  <thead>\n",
       "    <tr style=\"text-align: right;\">\n",
       "      <th></th>\n",
       "      <th>Unnamed: 0</th>\n",
       "      <th>id</th>\n",
       "      <th>Sentence</th>\n",
       "      <th>Right answer</th>\n",
       "      <th>Error type</th>\n",
       "      <th>Corrected</th>\n",
       "      <th>Random</th>\n",
       "      <th>Error span</th>\n",
       "    </tr>\n",
       "  </thead>\n",
       "  <tbody>\n",
       "    <tr>\n",
       "      <th>0</th>\n",
       "      <td>0</td>\n",
       "      <td>51175</td>\n",
       "      <td>Actually, it is an old tradition of &lt;b&gt;distri...</td>\n",
       "      <td>spreading</td>\n",
       "      <td>lex_item_choice</td>\n",
       "      <td>Actually, it is an old tradition of spreading...</td>\n",
       "      <td>0.999965</td>\n",
       "      <td>distribution</td>\n",
       "    </tr>\n",
       "    <tr>\n",
       "      <th>1</th>\n",
       "      <td>1</td>\n",
       "      <td>36478</td>\n",
       "      <td>The graph given to us represents the informati...</td>\n",
       "      <td>the world's investment</td>\n",
       "      <td>Articles</td>\n",
       "      <td>The graph given to us represents the informati...</td>\n",
       "      <td>0.999928</td>\n",
       "      <td>world's investment</td>\n",
       "    </tr>\n",
       "    <tr>\n",
       "      <th>2</th>\n",
       "      <td>2</td>\n",
       "      <td>6697</td>\n",
       "      <td>Now, letвЂ™s take a look &lt;b&gt;on&lt;/b&gt; the situat...</td>\n",
       "      <td>at</td>\n",
       "      <td>Prepositions</td>\n",
       "      <td>Now, letвЂ™s take a look at the situation in ...</td>\n",
       "      <td>0.999912</td>\n",
       "      <td>on</td>\n",
       "    </tr>\n",
       "    <tr>\n",
       "      <th>3</th>\n",
       "      <td>3</td>\n",
       "      <td>76371</td>\n",
       "      <td>Here we can see five lines which &lt;b&gt;shows&lt;/b&gt;...</td>\n",
       "      <td>show</td>\n",
       "      <td>Tense_choice</td>\n",
       "      <td>Here we can see five lines which show us how ...</td>\n",
       "      <td>0.999907</td>\n",
       "      <td>shows</td>\n",
       "    </tr>\n",
       "    <tr>\n",
       "      <th>4</th>\n",
       "      <td>4</td>\n",
       "      <td>67749</td>\n",
       "      <td>Moreover, they need money to feed their child...</td>\n",
       "      <td>this money</td>\n",
       "      <td>Countable_uncountable</td>\n",
       "      <td>Moreover, they need money to feed their child...</td>\n",
       "      <td>0.999901</td>\n",
       "      <td>these money</td>\n",
       "    </tr>\n",
       "  </tbody>\n",
       "</table>\n",
       "</div>"
      ],
      "text/plain": [
       "   Unnamed: 0     id                                           Sentence  \\\n",
       "0           0  51175   Actually, it is an old tradition of <b>distri...   \n",
       "1           1  36478  The graph given to us represents the informati...   \n",
       "2           2   6697   Now, letвЂ™s take a look <b>on</b> the situat...   \n",
       "3           3  76371   Here we can see five lines which <b>shows</b>...   \n",
       "4           4  67749   Moreover, they need money to feed their child...   \n",
       "\n",
       "             Right answer             Error type  \\\n",
       "0               spreading        lex_item_choice   \n",
       "1  the world's investment               Articles   \n",
       "2                      at           Prepositions   \n",
       "3                    show           Tense_choice   \n",
       "4              this money  Countable_uncountable   \n",
       "\n",
       "                                           Corrected    Random  \\\n",
       "0   Actually, it is an old tradition of spreading...  0.999965   \n",
       "1  The graph given to us represents the informati...  0.999928   \n",
       "2   Now, letвЂ™s take a look at the situation in ...  0.999912   \n",
       "3   Here we can see five lines which show us how ...  0.999907   \n",
       "4   Moreover, they need money to feed their child...  0.999901   \n",
       "\n",
       "           Error span  \n",
       "0        distribution  \n",
       "1  world's investment  \n",
       "2                  on  \n",
       "3               shows  \n",
       "4         these money  "
      ]
     },
     "execution_count": 7,
     "metadata": {},
     "output_type": "execute_result"
    }
   ],
   "source": [
    "df.head()"
   ]
  },
  {
   "cell_type": "code",
   "execution_count": 8,
   "metadata": {},
   "outputs": [],
   "source": [
    "df.to_csv(\"realec_errors.csv\")"
   ]
  },
  {
   "cell_type": "code",
   "execution_count": 9,
   "metadata": {},
   "outputs": [],
   "source": [
    "from annotate_level import annotate_level"
   ]
  },
  {
   "cell_type": "code",
   "execution_count": 10,
   "metadata": {},
   "outputs": [],
   "source": [
    "df1 = df.loc[df['Error span'].apply(lambda x: type(x) == str)]"
   ]
  },
  {
   "cell_type": "code",
   "execution_count": 11,
   "metadata": {},
   "outputs": [
    {
     "data": {
      "text/html": [
       "<div>\n",
       "<style scoped>\n",
       "    .dataframe tbody tr th:only-of-type {\n",
       "        vertical-align: middle;\n",
       "    }\n",
       "\n",
       "    .dataframe tbody tr th {\n",
       "        vertical-align: top;\n",
       "    }\n",
       "\n",
       "    .dataframe thead th {\n",
       "        text-align: right;\n",
       "    }\n",
       "</style>\n",
       "<table border=\"1\" class=\"dataframe\">\n",
       "  <thead>\n",
       "    <tr style=\"text-align: right;\">\n",
       "      <th></th>\n",
       "      <th>Unnamed: 0</th>\n",
       "      <th>id</th>\n",
       "      <th>Sentence</th>\n",
       "      <th>Right answer</th>\n",
       "      <th>Error type</th>\n",
       "      <th>Corrected</th>\n",
       "      <th>Random</th>\n",
       "      <th>Error span</th>\n",
       "    </tr>\n",
       "  </thead>\n",
       "  <tbody>\n",
       "    <tr>\n",
       "      <th>45</th>\n",
       "      <td>45</td>\n",
       "      <td>36833</td>\n",
       "      <td>Next 12 years the number of boys dropped to &lt;...</td>\n",
       "      <td>2020-01-05 00:00:00</td>\n",
       "      <td>Numerals</td>\n",
       "      <td>Next 12 years the number of boys dropped to 5...</td>\n",
       "      <td>0.999433</td>\n",
       "      <td>5,1</td>\n",
       "    </tr>\n",
       "  </tbody>\n",
       "</table>\n",
       "</div>"
      ],
      "text/plain": [
       "    Unnamed: 0     id                                           Sentence  \\\n",
       "45          45  36833   Next 12 years the number of boys dropped to <...   \n",
       "\n",
       "           Right answer Error type  \\\n",
       "45  2020-01-05 00:00:00   Numerals   \n",
       "\n",
       "                                            Corrected    Random Error span  \n",
       "45   Next 12 years the number of boys dropped to 5...  0.999433        5,1  "
      ]
     },
     "execution_count": 11,
     "metadata": {},
     "output_type": "execute_result"
    }
   ],
   "source": [
    "df1.loc[df1['Sentence']==' Next 12 years the number of boys dropped to <b>5,1</b> millions and girls - to 4.8 millions.']"
   ]
  },
  {
   "cell_type": "code",
   "execution_count": 12,
   "metadata": {},
   "outputs": [
    {
     "name": "stderr",
     "output_type": "stream",
     "text": [
      "c:\\users\\k1l77\\desktop\\182e~1\\term_p~1\\lib\\site-packages\\tqdm\\std.py:699: FutureWarning: The Panel class is removed from pandas. Accessing it from the top-level namespace will also be removed in the next version\n",
      "  from pandas import Panel\n",
      "100%|███████████████████████████████████████████████████████████████████████████████████████████████████████████████████████████████████████████████████████████████████████| 5000/5000 [00:10<00:00, 484.05it/s]\n",
      "100%|█████████████████████████████████████████████████████████████████████████████████████████████████████████████████████████████████████████████████████████████████████| 5000/5000 [00:00<00:00, 17675.48it/s]\n",
      "100%|█████████████████████████████████████████████████████████████████████████████████████████████████████████████████████████████████████████████████████████████████████| 5000/5000 [00:00<00:00, 12342.20it/s]\n",
      "100%|██████████████████████████████████████████████████████████████████████████████████████████████████████████████████████████████████████████████████████████████████████| 5000/5000 [00:00<00:00, 8675.86it/s]\n",
      "100%|██████████████████████████████████████████████████████████████████████████████████████████████████████████████████████████████████████████████████████████████████████| 5000/5000 [00:01<00:00, 3136.32it/s]\n",
      "100%|███████████████████████████████████████████████████████████████████████████████████████████████████████████████████████████████████████████████████████████████████████| 5000/5000 [00:06<00:00, 719.98it/s]\n",
      "100%|███████████████████████████████████████████████████████████████████████████████████████████████████████████████████████████████████████████████████████████████████████| 5000/5000 [00:09<00:00, 521.00it/s]\n",
      "100%|██████████████████████████████████████████████████████████████████████████████████████████████████████████████████████████████████████████████████████████████████████| 5000/5000 [00:02<00:00, 1721.51it/s]\n",
      "100%|█████████████████████████████████████████████████████████████████████████████████████████████████████████████████████████████████████████████████████████████████████| 5000/5000 [00:00<00:00, 16002.50it/s]\n",
      "100%|█████████████████████████████████████████████████████████████████████████████████████████████████████████████████████████████████████████████████████████████████████| 5000/5000 [00:00<00:00, 17676.93it/s]\n"
     ]
    }
   ],
   "source": [
    "levels = annotate_level(df1.iloc[:5000])"
   ]
  },
  {
   "cell_type": "code",
   "execution_count": 13,
   "metadata": {},
   "outputs": [
    {
     "data": {
      "text/plain": [
       "array([[0, 0, 0, ..., 0, 0, 0],\n",
       "       [0, 0, 3, ..., 1, 1, 0],\n",
       "       [0, 0, 0, ..., 0, 0, 0],\n",
       "       ...,\n",
       "       [0, 0, 0, ..., 0, 0, 0],\n",
       "       [0, 0, 0, ..., 0, 0, 0],\n",
       "       [0, 0, 0, ..., 0, 0, 0]], dtype=int64)"
      ]
     },
     "execution_count": 13,
     "metadata": {},
     "output_type": "execute_result"
    }
   ],
   "source": [
    "levels"
   ]
  },
  {
   "cell_type": "code",
   "execution_count": 14,
   "metadata": {},
   "outputs": [],
   "source": [
    "levels = levels.sum(axis=0)"
   ]
  },
  {
   "cell_type": "code",
   "execution_count": 15,
   "metadata": {},
   "outputs": [
    {
     "data": {
      "text/plain": [
       "0    1672\n",
       "1    1278\n",
       "2    1044\n",
       "3    1006\n",
       "dtype: int64"
      ]
     },
     "execution_count": 15,
     "metadata": {},
     "output_type": "execute_result"
    }
   ],
   "source": [
    "pd.Series(levels).value_counts()"
   ]
  },
  {
   "cell_type": "code",
   "execution_count": 16,
   "metadata": {},
   "outputs": [
    {
     "name": "stderr",
     "output_type": "stream",
     "text": [
      "c:\\users\\k1l77\\desktop\\182e~1\\term_p~1\\lib\\site-packages\\ipykernel_launcher.py:2: SettingWithCopyWarning: \n",
      "A value is trying to be set on a copy of a slice from a DataFrame.\n",
      "Try using .loc[row_indexer,col_indexer] = value instead\n",
      "\n",
      "See the caveats in the documentation: https://pandas.pydata.org/pandas-docs/stable/user_guide/indexing.html#returning-a-view-versus-a-copy\n",
      "  \n"
     ]
    }
   ],
   "source": [
    "df11 = df1.iloc[:5000]\n",
    "df11['level'] = levels\n",
    "df11.to_excel(\"level_annotated_sample.xlsx\")"
   ]
  },
  {
   "cell_type": "code",
   "execution_count": null,
   "metadata": {},
   "outputs": [],
   "source": []
  }
 ],
 "metadata": {
  "kernelspec": {
   "display_name": "Python 3",
   "language": "python",
   "name": "python3"
  },
  "language_info": {
   "codemirror_mode": {
    "name": "ipython",
    "version": 3
   },
   "file_extension": ".py",
   "mimetype": "text/x-python",
   "name": "python",
   "nbconvert_exporter": "python",
   "pygments_lexer": "ipython3",
   "version": "3.7.3"
  }
 },
 "nbformat": 4,
 "nbformat_minor": 4
}
