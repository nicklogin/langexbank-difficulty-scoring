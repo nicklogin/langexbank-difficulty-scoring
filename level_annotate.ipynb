{
 "cells": [
  {
   "cell_type": "code",
   "execution_count": 1,
   "metadata": {},
   "outputs": [],
   "source": [
    "import pandas as pd\n",
    "from tqdm import tqdm\n",
    "from annotate_level import annotate_level\n",
    "import re"
   ]
  },
  {
   "cell_type": "code",
   "execution_count": 2,
   "metadata": {},
   "outputs": [],
   "source": [
    "df = pd.read_csv(\"realec_sample_final_170821.csv\")"
   ]
  },
  {
   "cell_type": "code",
   "execution_count": 3,
   "metadata": {},
   "outputs": [
    {
     "data": {
      "text/html": [
       "<div>\n",
       "<style scoped>\n",
       "    .dataframe tbody tr th:only-of-type {\n",
       "        vertical-align: middle;\n",
       "    }\n",
       "\n",
       "    .dataframe tbody tr th {\n",
       "        vertical-align: top;\n",
       "    }\n",
       "\n",
       "    .dataframe thead th {\n",
       "        text-align: right;\n",
       "    }\n",
       "</style>\n",
       "<table border=\"1\" class=\"dataframe\">\n",
       "  <thead>\n",
       "    <tr style=\"text-align: right;\">\n",
       "      <th></th>\n",
       "      <th>Unnamed: 0</th>\n",
       "      <th>id</th>\n",
       "      <th>Sentence (original)</th>\n",
       "      <th>Sentence (changed)</th>\n",
       "      <th>Right answer</th>\n",
       "      <th>Error type</th>\n",
       "      <th>Error type+</th>\n",
       "      <th>Level</th>\n",
       "      <th>path_in_REALEC</th>\n",
       "      <th>NUM</th>\n",
       "      <th>-1</th>\n",
       "    </tr>\n",
       "  </thead>\n",
       "  <tbody>\n",
       "    <tr>\n",
       "      <th>0</th>\n",
       "      <td>1</td>\n",
       "      <td>36478</td>\n",
       "      <td>The graph given to us represents the informati...</td>\n",
       "      <td>NaN</td>\n",
       "      <td>the world's investment</td>\n",
       "      <td>Articles</td>\n",
       "      <td>Articles</td>\n",
       "      <td>2</td>\n",
       "      <td>https://realec.org/index.xhtml#/exam/Exam2016/...</td>\n",
       "      <td>3</td>\n",
       "      <td>0</td>\n",
       "    </tr>\n",
       "    <tr>\n",
       "      <th>1</th>\n",
       "      <td>2</td>\n",
       "      <td>67749</td>\n",
       "      <td>Moreover, they need money to feed their child...</td>\n",
       "      <td>NaN</td>\n",
       "      <td>this money</td>\n",
       "      <td>Countable_uncountable</td>\n",
       "      <td>Countable_uncountable</td>\n",
       "      <td>1</td>\n",
       "      <td>https://realec.org/index.xhtml#/exam/Exam2017/...</td>\n",
       "      <td>4</td>\n",
       "      <td>0</td>\n",
       "    </tr>\n",
       "    <tr>\n",
       "      <th>2</th>\n",
       "      <td>4</td>\n",
       "      <td>4238</td>\n",
       "      <td>Globalization creates an important basis for ...</td>\n",
       "      <td>NaN</td>\n",
       "      <td>,</td>\n",
       "      <td>Punctuation</td>\n",
       "      <td>Punctuation</td>\n",
       "      <td>2</td>\n",
       "      <td>https://realec.org/index.xhtml#/2012-2014/esl_...</td>\n",
       "      <td>6</td>\n",
       "      <td>0</td>\n",
       "    </tr>\n",
       "    <tr>\n",
       "      <th>3</th>\n",
       "      <td>5</td>\n",
       "      <td>13931</td>\n",
       "      <td>Nowadays, the problems with &lt;b&gt;student&lt;/b&gt; beh...</td>\n",
       "      <td>NaN</td>\n",
       "      <td>student`s</td>\n",
       "      <td>Possessive</td>\n",
       "      <td>Possessive</td>\n",
       "      <td>NaN</td>\n",
       "      <td>https://realec.org/index.xhtml#/exam/Exam2014/...</td>\n",
       "      <td>7</td>\n",
       "      <td>0</td>\n",
       "    </tr>\n",
       "    <tr>\n",
       "      <th>4</th>\n",
       "      <td>6</td>\n",
       "      <td>50904</td>\n",
       "      <td>If in North Africa and South Asia there &lt;b&gt;is...</td>\n",
       "      <td>NaN</td>\n",
       "      <td>were</td>\n",
       "      <td>Agreement_errors</td>\n",
       "      <td>Agreement_errors</td>\n",
       "      <td>3</td>\n",
       "      <td>https://realec.org/index.xhtml#/exam/Exam2017/...</td>\n",
       "      <td>8</td>\n",
       "      <td>0</td>\n",
       "    </tr>\n",
       "  </tbody>\n",
       "</table>\n",
       "</div>"
      ],
      "text/plain": [
       "   Unnamed: 0     id                                Sentence (original)  \\\n",
       "0           1  36478  The graph given to us represents the informati...   \n",
       "1           2  67749   Moreover, they need money to feed their child...   \n",
       "2           4   4238   Globalization creates an important basis for ...   \n",
       "3           5  13931  Nowadays, the problems with <b>student</b> beh...   \n",
       "4           6  50904   If in North Africa and South Asia there <b>is...   \n",
       "\n",
       "  Sentence (changed)            Right answer             Error type  \\\n",
       "0                NaN  the world's investment               Articles   \n",
       "1                NaN              this money  Countable_uncountable   \n",
       "2                NaN                       ,            Punctuation   \n",
       "3                NaN               student`s             Possessive   \n",
       "4                NaN                    were       Agreement_errors   \n",
       "\n",
       "             Error type+ Level  \\\n",
       "0               Articles     2   \n",
       "1  Countable_uncountable     1   \n",
       "2            Punctuation     2   \n",
       "3             Possessive   NaN   \n",
       "4       Agreement_errors     3   \n",
       "\n",
       "                                      path_in_REALEC  NUM  -1  \n",
       "0  https://realec.org/index.xhtml#/exam/Exam2016/...    3   0  \n",
       "1  https://realec.org/index.xhtml#/exam/Exam2017/...    4   0  \n",
       "2  https://realec.org/index.xhtml#/2012-2014/esl_...    6   0  \n",
       "3  https://realec.org/index.xhtml#/exam/Exam2014/...    7   0  \n",
       "4  https://realec.org/index.xhtml#/exam/Exam2017/...    8   0  "
      ]
     },
     "execution_count": 3,
     "metadata": {},
     "output_type": "execute_result"
    }
   ],
   "source": [
    "df.head()"
   ]
  },
  {
   "cell_type": "code",
   "execution_count": 4,
   "metadata": {},
   "outputs": [
    {
     "data": {
      "text/plain": [
       "['Unnamed: 0',\n",
       " 'id',\n",
       " 'Sentence (original)',\n",
       " 'Sentence (changed)',\n",
       " 'Right answer',\n",
       " 'Error type',\n",
       " 'Error type+',\n",
       " 'Level',\n",
       " 'path_in_REALEC',\n",
       " 'NUM',\n",
       " '-1']"
      ]
     },
     "execution_count": 4,
     "metadata": {},
     "output_type": "execute_result"
    }
   ],
   "source": [
    "[col for col in df.columns]"
   ]
  },
  {
   "cell_type": "code",
   "execution_count": 5,
   "metadata": {},
   "outputs": [],
   "source": [
    "df = df.rename({'Level': 'Level (Hand)'}, axis=1)"
   ]
  },
  {
   "cell_type": "code",
   "execution_count": 6,
   "metadata": {},
   "outputs": [
    {
     "data": {
      "text/plain": [
       "['Unnamed: 0',\n",
       " 'id',\n",
       " 'Sentence (original)',\n",
       " 'Sentence (changed)',\n",
       " 'Right answer',\n",
       " 'Error type',\n",
       " 'Error type+',\n",
       " 'Level (Hand)',\n",
       " 'path_in_REALEC',\n",
       " 'NUM',\n",
       " '-1']"
      ]
     },
     "execution_count": 6,
     "metadata": {},
     "output_type": "execute_result"
    }
   ],
   "source": [
    "[col for col in df.columns]"
   ]
  },
  {
   "cell_type": "code",
   "execution_count": 7,
   "metadata": {},
   "outputs": [
    {
     "name": "stderr",
     "output_type": "stream",
     "text": [
      "c:\\users\\k1l77\\desktop\\182e~1\\term_p~1\\lib\\site-packages\\tqdm\\std.py:699: FutureWarning: The Panel class is removed from pandas. Accessing it from the top-level namespace will also be removed in the next version\n",
      "  from pandas import Panel\n"
     ]
    }
   ],
   "source": [
    "tqdm.pandas()"
   ]
  },
  {
   "cell_type": "code",
   "execution_count": 8,
   "metadata": {},
   "outputs": [
    {
     "name": "stderr",
     "output_type": "stream",
     "text": [
      "100%|███████████████████████████████████████████████████████████████████████████████████████████████████████████████████████████████████████████████████| 836/836 [00:00<00:00, 279441.99it/s]\n"
     ]
    }
   ],
   "source": [
    "df['Error span'] = df['Sentence (original)'].progress_apply(lambda x:\\\n",
    "                                                re.search('<b>(.*?)</b>',\n",
    "                                                         x).group(1))"
   ]
  },
  {
   "cell_type": "code",
   "execution_count": 9,
   "metadata": {},
   "outputs": [],
   "source": [
    "df = df.dropna(subset=['Sentence (original)', 'Error span',\n",
    "                      'Right answer', 'Error type', 'Level (Hand)'],\n",
    "              axis=0)\n",
    "df = df.loc[(df['Level (Hand)']=='1')|(df['Level (Hand)']=='2')|(df['Level (Hand)']=='3')]\n",
    "df['Level (Hand)'] = df['Level (Hand)'].apply(int)"
   ]
  },
  {
   "cell_type": "code",
   "execution_count": 10,
   "metadata": {},
   "outputs": [
    {
     "name": "stderr",
     "output_type": "stream",
     "text": [
      "c:\\users\\k1l77\\desktop\\182e~1\\term_p~1\\lib\\site-packages\\tqdm\\std.py:699: FutureWarning: The Panel class is removed from pandas. Accessing it from the top-level namespace will also be removed in the next version\n",
      "  from pandas import Panel\n",
      "100%|██████████████████████████████████████████████████████████████████████████████████████████████████████████████████████████████████████████████████████| 538/538 [00:04<00:00, 111.19it/s]\n",
      "100%|████████████████████████████████████████████████████████████████████████████████████████████████████████████████████████████████████████████████████| 538/538 [00:00<00:00, 48949.77it/s]\n",
      "100%|█████████████████████████████████████████████████████████████████████████████████████████████████████████████████████████████████████████████████████| 538/538 [00:00<00:00, 2349.00it/s]\n",
      "100%|█████████████████████████████████████████████████████████████████████████████████████████████████████████████████████████████████████████████████████| 538/538 [00:00<00:00, 6042.66it/s]\n",
      "100%|█████████████████████████████████████████████████████████████████████████████████████████████████████████████████████████████████████████████████████| 538/538 [00:00<00:00, 1568.51it/s]\n",
      "100%|█████████████████████████████████████████████████████████████████████████████████████████████████████████████████████████████████████████████████████| 538/538 [00:00<00:00, 1166.94it/s]\n",
      "100%|█████████████████████████████████████████████████████████████████████████████████████████████████████████████████████████████████████████████████████| 538/538 [00:00<00:00, 5173.10it/s]\n",
      "100%|████████████████████████████████████████████████████████████████████████████████████████████████████████████████████████████████████████████████████| 538/538 [00:00<00:00, 48749.90it/s]\n",
      "100%|████████████████████████████████████████████████████████████████████████████████████████████████████████████████████████████████████████████████████| 538/538 [00:00<00:00, 59764.69it/s]\n"
     ]
    }
   ],
   "source": [
    "df_annot = annotate_level(df)"
   ]
  },
  {
   "cell_type": "code",
   "execution_count": 11,
   "metadata": {},
   "outputs": [],
   "source": [
    "from sklearn.metrics import classification_report"
   ]
  },
  {
   "cell_type": "code",
   "execution_count": 12,
   "metadata": {},
   "outputs": [
    {
     "data": {
      "text/plain": [
       "array([2, 2, 0, 1, 2, 1, 2, 3, 2, 3, 1, 2, 0, 3, 1, 3, 0, 1, 3, 2, 2, 2,\n",
       "       2, 2, 0, 1, 1, 1, 0, 2, 2, 3, 2, 1, 2, 3, 0, 2, 2, 3, 1, 2, 1, 2,\n",
       "       3, 1, 2, 0, 2, 1, 0, 2, 3, 3, 3, 1, 2, 2, 0, 0, 1, 1, 2, 3, 3, 1,\n",
       "       1, 3, 2, 1, 1, 3, 3, 3, 1, 3, 1, 2, 3, 1, 1, 2, 0, 1, 1, 2, 0, 2,\n",
       "       0, 2, 2, 2, 1, 3, 1, 2, 2, 1, 3, 2, 2, 2, 2, 2, 3, 2, 3, 1, 1, 2,\n",
       "       0, 2, 1, 1, 0, 3, 2, 0, 3, 3, 2, 0, 2, 1, 0, 0, 2, 3, 2, 3, 3, 3,\n",
       "       1, 1, 3, 0, 1, 3, 2, 2, 2, 2, 0, 1, 2, 2, 2, 2, 3, 2, 1, 1, 1, 2,\n",
       "       3, 3, 0, 1, 0, 3, 1, 2, 1, 2, 3, 1, 2, 3, 2, 2, 2, 1, 2, 2, 3, 1,\n",
       "       1, 0, 2, 2, 3, 1, 3, 3, 1, 2, 3, 3, 3, 3, 1, 3, 3, 2, 3, 1, 1, 3,\n",
       "       2, 2, 0, 0, 2, 2, 2, 3, 1, 1, 2, 1, 2, 1, 3, 3, 0, 3, 1, 2, 0, 1,\n",
       "       1, 3, 0, 1, 2, 3, 3, 2, 2, 3, 3, 2, 1, 3, 2, 0, 3, 2, 1, 3, 2, 3,\n",
       "       3, 0, 1, 3, 3, 3, 0, 3, 0, 3, 3, 2, 2, 3, 2, 3, 0, 1, 0, 0, 0, 3,\n",
       "       2, 2, 2, 2, 2, 3, 3, 3, 1, 3, 2, 2, 1, 0, 1, 0, 2, 3, 2, 3, 2, 3,\n",
       "       0, 2, 1, 2, 1, 3, 1, 1, 2, 2, 1, 3, 1, 2, 0, 0, 3, 2, 0, 3, 2, 0,\n",
       "       1, 0, 1, 2, 2, 2, 3, 2, 1, 1, 1, 1, 1, 2, 2, 1, 2, 3, 2, 3, 3, 2,\n",
       "       1, 2, 3, 2, 1, 3, 3, 2, 3, 1, 3, 1, 3, 3, 1, 1, 3, 0, 3, 2, 2, 0,\n",
       "       3, 3, 2, 0, 2, 3, 2, 1, 2, 0, 1, 2, 2, 1, 3, 2, 0, 0, 2, 2, 2, 2,\n",
       "       1, 1, 2, 2, 2, 2, 3, 2, 0, 2, 3, 2, 3, 2, 3, 3, 1, 1, 3, 2, 2, 3,\n",
       "       1, 2, 0, 3, 2, 2, 2, 3, 3, 1, 3, 1, 3, 1, 0, 1, 3, 3, 2, 1, 3, 2,\n",
       "       3, 2, 2, 3, 3, 0, 3, 2, 2, 2, 2, 3, 2, 3, 1, 3, 2, 0, 1, 3, 1, 3,\n",
       "       1, 2, 1, 2, 1, 1, 0, 0, 2, 0, 3, 3, 3, 2, 0, 3, 3, 0, 2, 1, 2, 0,\n",
       "       3, 1, 2, 2, 1, 3, 2, 2, 1, 1, 1, 2, 0, 1, 2, 3, 3, 2, 2, 3, 0, 2,\n",
       "       0, 1, 2, 1, 3, 2, 2, 2, 2, 3, 1, 3, 1, 2, 2, 1, 3, 1, 3, 2, 2, 1,\n",
       "       1, 2, 3, 2, 3, 2, 2, 1, 2, 1, 1, 3, 1, 3, 3, 2, 2, 1, 2, 0, 1, 0,\n",
       "       1, 2, 3, 0, 1, 3, 2, 2, 2, 1], dtype=int64)"
      ]
     },
     "execution_count": 12,
     "metadata": {},
     "output_type": "execute_result"
    }
   ],
   "source": [
    "df_annot"
   ]
  },
  {
   "cell_type": "code",
   "execution_count": 13,
   "metadata": {},
   "outputs": [
    {
     "name": "stdout",
     "output_type": "stream",
     "text": [
      "              precision    recall  f1-score   support\n",
      "\n",
      "           0       0.00      0.00      0.00         0\n",
      "           1       0.76      0.88      0.81       114\n",
      "           2       0.69      0.66      0.68       200\n",
      "           3       0.77      0.51      0.61       224\n",
      "\n",
      "    accuracy                           0.64       538\n",
      "   macro avg       0.56      0.51      0.53       538\n",
      "weighted avg       0.74      0.64      0.68       538\n",
      "\n"
     ]
    },
    {
     "name": "stderr",
     "output_type": "stream",
     "text": [
      "c:\\users\\k1l77\\desktop\\182e~1\\term_p~1\\lib\\site-packages\\sklearn\\metrics\\_classification.py:1221: UndefinedMetricWarning: Recall and F-score are ill-defined and being set to 0.0 in labels with no true samples. Use `zero_division` parameter to control this behavior.\n",
      "  _warn_prf(average, modifier, msg_start, len(result))\n"
     ]
    }
   ],
   "source": [
    "print(classification_report(df['Level (Hand)'], df_annot))"
   ]
  },
  {
   "cell_type": "code",
   "execution_count": 14,
   "metadata": {},
   "outputs": [
    {
     "data": {
      "text/plain": [
       "array([2, 1, 3], dtype=int64)"
      ]
     },
     "execution_count": 14,
     "metadata": {},
     "output_type": "execute_result"
    }
   ],
   "source": [
    "df['Level (Hand)'].unique()"
   ]
  },
  {
   "cell_type": "code",
   "execution_count": 15,
   "metadata": {},
   "outputs": [],
   "source": [
    "df['Level (Auto)'] = df_annot"
   ]
  },
  {
   "cell_type": "code",
   "execution_count": 16,
   "metadata": {},
   "outputs": [],
   "source": [
    "df.to_excel(\"QuestionLevels.xlsx\", engine=\"openpyxl\")"
   ]
  },
  {
   "cell_type": "code",
   "execution_count": null,
   "metadata": {},
   "outputs": [],
   "source": []
  }
 ],
 "metadata": {
  "kernelspec": {
   "display_name": "Python 3",
   "language": "python",
   "name": "python3"
  },
  "language_info": {
   "codemirror_mode": {
    "name": "ipython",
    "version": 3
   },
   "file_extension": ".py",
   "mimetype": "text/x-python",
   "name": "python",
   "nbconvert_exporter": "python",
   "pygments_lexer": "ipython3",
   "version": "3.7.3"
  }
 },
 "nbformat": 4,
 "nbformat_minor": 4
}
