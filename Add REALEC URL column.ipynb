{
 "cells": [
  {
   "cell_type": "code",
   "execution_count": 1,
   "metadata": {},
   "outputs": [],
   "source": [
    "import pandas as pd"
   ]
  },
  {
   "cell_type": "code",
   "execution_count": 2,
   "metadata": {},
   "outputs": [],
   "source": [
    "import os"
   ]
  },
  {
   "cell_type": "code",
   "execution_count": 3,
   "metadata": {},
   "outputs": [
    {
     "data": {
      "text/plain": [
       "['.ipynb_checkpoints',\n",
       " '.vscode',\n",
       " 'Add REALEC URL column.ipynb',\n",
       " 'annotate_level.py',\n",
       " 'base.py',\n",
       " 'level_annotated_sample.xlsx',\n",
       " 'realec_errors.csv',\n",
       " 'realec_errors.xlsx',\n",
       " 'realec_errors1.xlsx',\n",
       " 'realec_errorsA.xlsx',\n",
       " 'realec_errors_050821.csv',\n",
       " 'realec_errors_050821.xlsx',\n",
       " 'realec_errors_sample.xlsx',\n",
       " 'test_level_annotate.ipynb',\n",
       " '__pycache__']"
      ]
     },
     "execution_count": 3,
     "metadata": {},
     "output_type": "execute_result"
    }
   ],
   "source": [
    "os.listdir()"
   ]
  },
  {
   "cell_type": "code",
   "execution_count": 6,
   "metadata": {},
   "outputs": [],
   "source": [
    "df = pd.read_csv(\"realec_errors_050821.csv\",\n",
    "                index_col='Unnamed: 0')"
   ]
  },
  {
   "cell_type": "code",
   "execution_count": 7,
   "metadata": {},
   "outputs": [
    {
     "data": {
      "text/html": [
       "<div>\n",
       "<style scoped>\n",
       "    .dataframe tbody tr th:only-of-type {\n",
       "        vertical-align: middle;\n",
       "    }\n",
       "\n",
       "    .dataframe tbody tr th {\n",
       "        vertical-align: top;\n",
       "    }\n",
       "\n",
       "    .dataframe thead th {\n",
       "        text-align: right;\n",
       "    }\n",
       "</style>\n",
       "<table border=\"1\" class=\"dataframe\">\n",
       "  <thead>\n",
       "    <tr style=\"text-align: right;\">\n",
       "      <th></th>\n",
       "      <th>Sentence</th>\n",
       "      <th>Right answer</th>\n",
       "      <th>Error type</th>\n",
       "      <th>Folder</th>\n",
       "      <th>Filename</th>\n",
       "    </tr>\n",
       "  </thead>\n",
       "  <tbody>\n",
       "    <tr>\n",
       "      <th>0</th>\n",
       "      <td>It could be clearly seen from the graph that ...</td>\n",
       "      <td>websites</td>\n",
       "      <td>Spelling</td>\n",
       "      <td>downloaded_2021_08_05_11_15_07094784/data/exam...</td>\n",
       "      <td>2017_EGe_121_1</td>\n",
       "    </tr>\n",
       "    <tr>\n",
       "      <th>1</th>\n",
       "      <td>Moreover, a considerable prevalence of young ...</td>\n",
       "      <td>has to be</td>\n",
       "      <td>Modals</td>\n",
       "      <td>downloaded_2021_08_05_11_15_07094784/data/exam...</td>\n",
       "      <td>2017_EGe_121_1</td>\n",
       "    </tr>\n",
       "    <tr>\n",
       "      <th>2</th>\n",
       "      <td>Obviously, there is a dramatic gap between th...</td>\n",
       "      <td>the former</td>\n",
       "      <td>Ref_device</td>\n",
       "      <td>downloaded_2021_08_05_11_15_07094784/data/exam...</td>\n",
       "      <td>2017_EGe_121_1</td>\n",
       "    </tr>\n",
       "    <tr>\n",
       "      <th>3</th>\n",
       "      <td>It is &lt;b&gt;fare&lt;/b&gt; to mention that Facebook is...</td>\n",
       "      <td>fair</td>\n",
       "      <td>Spelling</td>\n",
       "      <td>downloaded_2021_08_05_11_15_07094784/data/exam...</td>\n",
       "      <td>2017_EGe_121_1</td>\n",
       "    </tr>\n",
       "    <tr>\n",
       "      <th>4</th>\n",
       "      <td>Moreover, &lt;b&gt;Linked In&lt;/b&gt; has approximately ...</td>\n",
       "      <td>linkedin</td>\n",
       "      <td>Spelling</td>\n",
       "      <td>downloaded_2021_08_05_11_15_07094784/data/exam...</td>\n",
       "      <td>2017_EGe_121_1</td>\n",
       "    </tr>\n",
       "  </tbody>\n",
       "</table>\n",
       "</div>"
      ],
      "text/plain": [
       "                                            Sentence Right answer  Error type  \\\n",
       "0   It could be clearly seen from the graph that ...     websites    Spelling   \n",
       "1   Moreover, a considerable prevalence of young ...    has to be      Modals   \n",
       "2   Obviously, there is a dramatic gap between th...   the former  Ref_device   \n",
       "3   It is <b>fare</b> to mention that Facebook is...         fair    Spelling   \n",
       "4   Moreover, <b>Linked In</b> has approximately ...     linkedin    Spelling   \n",
       "\n",
       "                                              Folder        Filename  \n",
       "0  downloaded_2021_08_05_11_15_07094784/data/exam...  2017_EGe_121_1  \n",
       "1  downloaded_2021_08_05_11_15_07094784/data/exam...  2017_EGe_121_1  \n",
       "2  downloaded_2021_08_05_11_15_07094784/data/exam...  2017_EGe_121_1  \n",
       "3  downloaded_2021_08_05_11_15_07094784/data/exam...  2017_EGe_121_1  \n",
       "4  downloaded_2021_08_05_11_15_07094784/data/exam...  2017_EGe_121_1  "
      ]
     },
     "execution_count": 7,
     "metadata": {},
     "output_type": "execute_result"
    }
   ],
   "source": [
    "df.head()"
   ]
  },
  {
   "cell_type": "code",
   "execution_count": 14,
   "metadata": {},
   "outputs": [],
   "source": [
    "prefix_len = len('downloaded_2021_08_05_11_15_07094784/data')\n",
    "df['path_in_REALEC'] = df.apply(lambda x: \"https://realec.org/index.xhtml#\"+x['Folder'][prefix_len:]+'/'+x['Filename']+'\\n',\n",
    "                                axis=1)"
   ]
  },
  {
   "cell_type": "code",
   "execution_count": 15,
   "metadata": {},
   "outputs": [
    {
     "data": {
      "text/html": [
       "<div>\n",
       "<style scoped>\n",
       "    .dataframe tbody tr th:only-of-type {\n",
       "        vertical-align: middle;\n",
       "    }\n",
       "\n",
       "    .dataframe tbody tr th {\n",
       "        vertical-align: top;\n",
       "    }\n",
       "\n",
       "    .dataframe thead th {\n",
       "        text-align: right;\n",
       "    }\n",
       "</style>\n",
       "<table border=\"1\" class=\"dataframe\">\n",
       "  <thead>\n",
       "    <tr style=\"text-align: right;\">\n",
       "      <th></th>\n",
       "      <th>Sentence</th>\n",
       "      <th>Right answer</th>\n",
       "      <th>Error type</th>\n",
       "      <th>Folder</th>\n",
       "      <th>Filename</th>\n",
       "      <th>path_in_REALEC</th>\n",
       "    </tr>\n",
       "  </thead>\n",
       "  <tbody>\n",
       "    <tr>\n",
       "      <th>0</th>\n",
       "      <td>It could be clearly seen from the graph that ...</td>\n",
       "      <td>websites</td>\n",
       "      <td>Spelling</td>\n",
       "      <td>downloaded_2021_08_05_11_15_07094784/data/exam...</td>\n",
       "      <td>2017_EGe_121_1</td>\n",
       "      <td>https://realec.org/index.xhtml#/exam/Exam2017/...</td>\n",
       "    </tr>\n",
       "    <tr>\n",
       "      <th>1</th>\n",
       "      <td>Moreover, a considerable prevalence of young ...</td>\n",
       "      <td>has to be</td>\n",
       "      <td>Modals</td>\n",
       "      <td>downloaded_2021_08_05_11_15_07094784/data/exam...</td>\n",
       "      <td>2017_EGe_121_1</td>\n",
       "      <td>https://realec.org/index.xhtml#/exam/Exam2017/...</td>\n",
       "    </tr>\n",
       "    <tr>\n",
       "      <th>2</th>\n",
       "      <td>Obviously, there is a dramatic gap between th...</td>\n",
       "      <td>the former</td>\n",
       "      <td>Ref_device</td>\n",
       "      <td>downloaded_2021_08_05_11_15_07094784/data/exam...</td>\n",
       "      <td>2017_EGe_121_1</td>\n",
       "      <td>https://realec.org/index.xhtml#/exam/Exam2017/...</td>\n",
       "    </tr>\n",
       "    <tr>\n",
       "      <th>3</th>\n",
       "      <td>It is &lt;b&gt;fare&lt;/b&gt; to mention that Facebook is...</td>\n",
       "      <td>fair</td>\n",
       "      <td>Spelling</td>\n",
       "      <td>downloaded_2021_08_05_11_15_07094784/data/exam...</td>\n",
       "      <td>2017_EGe_121_1</td>\n",
       "      <td>https://realec.org/index.xhtml#/exam/Exam2017/...</td>\n",
       "    </tr>\n",
       "    <tr>\n",
       "      <th>4</th>\n",
       "      <td>Moreover, &lt;b&gt;Linked In&lt;/b&gt; has approximately ...</td>\n",
       "      <td>linkedin</td>\n",
       "      <td>Spelling</td>\n",
       "      <td>downloaded_2021_08_05_11_15_07094784/data/exam...</td>\n",
       "      <td>2017_EGe_121_1</td>\n",
       "      <td>https://realec.org/index.xhtml#/exam/Exam2017/...</td>\n",
       "    </tr>\n",
       "  </tbody>\n",
       "</table>\n",
       "</div>"
      ],
      "text/plain": [
       "                                            Sentence Right answer  Error type  \\\n",
       "0   It could be clearly seen from the graph that ...     websites    Spelling   \n",
       "1   Moreover, a considerable prevalence of young ...    has to be      Modals   \n",
       "2   Obviously, there is a dramatic gap between th...   the former  Ref_device   \n",
       "3   It is <b>fare</b> to mention that Facebook is...         fair    Spelling   \n",
       "4   Moreover, <b>Linked In</b> has approximately ...     linkedin    Spelling   \n",
       "\n",
       "                                              Folder        Filename  \\\n",
       "0  downloaded_2021_08_05_11_15_07094784/data/exam...  2017_EGe_121_1   \n",
       "1  downloaded_2021_08_05_11_15_07094784/data/exam...  2017_EGe_121_1   \n",
       "2  downloaded_2021_08_05_11_15_07094784/data/exam...  2017_EGe_121_1   \n",
       "3  downloaded_2021_08_05_11_15_07094784/data/exam...  2017_EGe_121_1   \n",
       "4  downloaded_2021_08_05_11_15_07094784/data/exam...  2017_EGe_121_1   \n",
       "\n",
       "                                      path_in_REALEC  \n",
       "0  https://realec.org/index.xhtml#/exam/Exam2017/...  \n",
       "1  https://realec.org/index.xhtml#/exam/Exam2017/...  \n",
       "2  https://realec.org/index.xhtml#/exam/Exam2017/...  \n",
       "3  https://realec.org/index.xhtml#/exam/Exam2017/...  \n",
       "4  https://realec.org/index.xhtml#/exam/Exam2017/...  "
      ]
     },
     "execution_count": 15,
     "metadata": {},
     "output_type": "execute_result"
    }
   ],
   "source": [
    "df.head()"
   ]
  },
  {
   "cell_type": "code",
   "execution_count": 16,
   "metadata": {},
   "outputs": [],
   "source": [
    "df.to_excel(\"realec_errors_050821.xlsx\")"
   ]
  },
  {
   "cell_type": "code",
   "execution_count": null,
   "metadata": {},
   "outputs": [],
   "source": []
  }
 ],
 "metadata": {
  "kernelspec": {
   "display_name": "Python 3",
   "language": "python",
   "name": "python3"
  },
  "language_info": {
   "codemirror_mode": {
    "name": "ipython",
    "version": 3
   },
   "file_extension": ".py",
   "mimetype": "text/x-python",
   "name": "python",
   "nbconvert_exporter": "python",
   "pygments_lexer": "ipython3",
   "version": "3.7.3"
  }
 },
 "nbformat": 4,
 "nbformat_minor": 4
}
