{
  "nbformat": 4,
  "nbformat_minor": 0,
  "metadata": {
    "colab": {
      "name": "QuestionLevelStudyFullSet1",
      "provenance": [],
      "collapsed_sections": [
        "3jDWQmUM8IvP",
        "Z32HyYL06XqL"
      ]
    },
    "kernelspec": {
      "name": "python3",
      "display_name": "Python 3"
    },
    "widgets": {
      "application/vnd.jupyter.widget-state+json": {
        "b058a03e3ca74427ac08161878315ee8": {
          "model_module": "@jupyter-widgets/controls",
          "model_name": "HBoxModel",
          "model_module_version": "1.5.0",
          "state": {
            "_view_name": "HBoxView",
            "_dom_classes": [],
            "_model_name": "HBoxModel",
            "_view_module": "@jupyter-widgets/controls",
            "_model_module_version": "1.5.0",
            "_view_count": null,
            "_view_module_version": "1.5.0",
            "box_style": "",
            "layout": "IPY_MODEL_10dafa4c81a44881b0317a7faa9ccda9",
            "_model_module": "@jupyter-widgets/controls",
            "children": [
              "IPY_MODEL_0faa24a9ae57430387bc829cce406395",
              "IPY_MODEL_372d7e3a51774f0aa6d17a3b5bc9ca7d",
              "IPY_MODEL_226f4799f3234296b79ac615f06fa179"
            ]
          }
        },
        "10dafa4c81a44881b0317a7faa9ccda9": {
          "model_module": "@jupyter-widgets/base",
          "model_name": "LayoutModel",
          "model_module_version": "1.2.0",
          "state": {
            "_view_name": "LayoutView",
            "grid_template_rows": null,
            "right": null,
            "justify_content": null,
            "_view_module": "@jupyter-widgets/base",
            "overflow": null,
            "_model_module_version": "1.2.0",
            "_view_count": null,
            "flex_flow": null,
            "width": null,
            "min_width": null,
            "border": null,
            "align_items": null,
            "bottom": null,
            "_model_module": "@jupyter-widgets/base",
            "top": null,
            "grid_column": null,
            "overflow_y": null,
            "overflow_x": null,
            "grid_auto_flow": null,
            "grid_area": null,
            "grid_template_columns": null,
            "flex": null,
            "_model_name": "LayoutModel",
            "justify_items": null,
            "grid_row": null,
            "max_height": null,
            "align_content": null,
            "visibility": null,
            "align_self": null,
            "height": null,
            "min_height": null,
            "padding": null,
            "grid_auto_rows": null,
            "grid_gap": null,
            "max_width": null,
            "order": null,
            "_view_module_version": "1.2.0",
            "grid_template_areas": null,
            "object_position": null,
            "object_fit": null,
            "grid_auto_columns": null,
            "margin": null,
            "display": null,
            "left": null
          }
        },
        "0faa24a9ae57430387bc829cce406395": {
          "model_module": "@jupyter-widgets/controls",
          "model_name": "HTMLModel",
          "model_module_version": "1.5.0",
          "state": {
            "_view_name": "HTMLView",
            "style": "IPY_MODEL_c8f35ce6c9bf4b2fa53d8d31e4be2188",
            "_dom_classes": [],
            "description": "",
            "_model_name": "HTMLModel",
            "placeholder": "​",
            "_view_module": "@jupyter-widgets/controls",
            "_model_module_version": "1.5.0",
            "value": "100%",
            "_view_count": null,
            "_view_module_version": "1.5.0",
            "description_tooltip": null,
            "_model_module": "@jupyter-widgets/controls",
            "layout": "IPY_MODEL_ff52569fc464460b86a827c69b16d326"
          }
        },
        "372d7e3a51774f0aa6d17a3b5bc9ca7d": {
          "model_module": "@jupyter-widgets/controls",
          "model_name": "FloatProgressModel",
          "model_module_version": "1.5.0",
          "state": {
            "_view_name": "ProgressView",
            "style": "IPY_MODEL_75089aff902b4c57b4b525295218b4d2",
            "_dom_classes": [],
            "description": "",
            "_model_name": "FloatProgressModel",
            "bar_style": "success",
            "max": 160,
            "_view_module": "@jupyter-widgets/controls",
            "_model_module_version": "1.5.0",
            "value": 160,
            "_view_count": null,
            "_view_module_version": "1.5.0",
            "orientation": "horizontal",
            "min": 0,
            "description_tooltip": null,
            "_model_module": "@jupyter-widgets/controls",
            "layout": "IPY_MODEL_33946427deb14f8f9e81bf84ecf73727"
          }
        },
        "226f4799f3234296b79ac615f06fa179": {
          "model_module": "@jupyter-widgets/controls",
          "model_name": "HTMLModel",
          "model_module_version": "1.5.0",
          "state": {
            "_view_name": "HTMLView",
            "style": "IPY_MODEL_45b8898eae9a4907bbf0ce2d9392e93f",
            "_dom_classes": [],
            "description": "",
            "_model_name": "HTMLModel",
            "placeholder": "​",
            "_view_module": "@jupyter-widgets/controls",
            "_model_module_version": "1.5.0",
            "value": " 160/160 [01:37&lt;00:00,  1.87it/s]",
            "_view_count": null,
            "_view_module_version": "1.5.0",
            "description_tooltip": null,
            "_model_module": "@jupyter-widgets/controls",
            "layout": "IPY_MODEL_ad155bed1dbd473baa8bd93725b1c7f2"
          }
        },
        "c8f35ce6c9bf4b2fa53d8d31e4be2188": {
          "model_module": "@jupyter-widgets/controls",
          "model_name": "DescriptionStyleModel",
          "model_module_version": "1.5.0",
          "state": {
            "_view_name": "StyleView",
            "_model_name": "DescriptionStyleModel",
            "description_width": "",
            "_view_module": "@jupyter-widgets/base",
            "_model_module_version": "1.5.0",
            "_view_count": null,
            "_view_module_version": "1.2.0",
            "_model_module": "@jupyter-widgets/controls"
          }
        },
        "ff52569fc464460b86a827c69b16d326": {
          "model_module": "@jupyter-widgets/base",
          "model_name": "LayoutModel",
          "model_module_version": "1.2.0",
          "state": {
            "_view_name": "LayoutView",
            "grid_template_rows": null,
            "right": null,
            "justify_content": null,
            "_view_module": "@jupyter-widgets/base",
            "overflow": null,
            "_model_module_version": "1.2.0",
            "_view_count": null,
            "flex_flow": null,
            "width": null,
            "min_width": null,
            "border": null,
            "align_items": null,
            "bottom": null,
            "_model_module": "@jupyter-widgets/base",
            "top": null,
            "grid_column": null,
            "overflow_y": null,
            "overflow_x": null,
            "grid_auto_flow": null,
            "grid_area": null,
            "grid_template_columns": null,
            "flex": null,
            "_model_name": "LayoutModel",
            "justify_items": null,
            "grid_row": null,
            "max_height": null,
            "align_content": null,
            "visibility": null,
            "align_self": null,
            "height": null,
            "min_height": null,
            "padding": null,
            "grid_auto_rows": null,
            "grid_gap": null,
            "max_width": null,
            "order": null,
            "_view_module_version": "1.2.0",
            "grid_template_areas": null,
            "object_position": null,
            "object_fit": null,
            "grid_auto_columns": null,
            "margin": null,
            "display": null,
            "left": null
          }
        },
        "75089aff902b4c57b4b525295218b4d2": {
          "model_module": "@jupyter-widgets/controls",
          "model_name": "ProgressStyleModel",
          "model_module_version": "1.5.0",
          "state": {
            "_view_name": "StyleView",
            "_model_name": "ProgressStyleModel",
            "description_width": "",
            "_view_module": "@jupyter-widgets/base",
            "_model_module_version": "1.5.0",
            "_view_count": null,
            "_view_module_version": "1.2.0",
            "bar_color": null,
            "_model_module": "@jupyter-widgets/controls"
          }
        },
        "33946427deb14f8f9e81bf84ecf73727": {
          "model_module": "@jupyter-widgets/base",
          "model_name": "LayoutModel",
          "model_module_version": "1.2.0",
          "state": {
            "_view_name": "LayoutView",
            "grid_template_rows": null,
            "right": null,
            "justify_content": null,
            "_view_module": "@jupyter-widgets/base",
            "overflow": null,
            "_model_module_version": "1.2.0",
            "_view_count": null,
            "flex_flow": null,
            "width": null,
            "min_width": null,
            "border": null,
            "align_items": null,
            "bottom": null,
            "_model_module": "@jupyter-widgets/base",
            "top": null,
            "grid_column": null,
            "overflow_y": null,
            "overflow_x": null,
            "grid_auto_flow": null,
            "grid_area": null,
            "grid_template_columns": null,
            "flex": null,
            "_model_name": "LayoutModel",
            "justify_items": null,
            "grid_row": null,
            "max_height": null,
            "align_content": null,
            "visibility": null,
            "align_self": null,
            "height": null,
            "min_height": null,
            "padding": null,
            "grid_auto_rows": null,
            "grid_gap": null,
            "max_width": null,
            "order": null,
            "_view_module_version": "1.2.0",
            "grid_template_areas": null,
            "object_position": null,
            "object_fit": null,
            "grid_auto_columns": null,
            "margin": null,
            "display": null,
            "left": null
          }
        },
        "45b8898eae9a4907bbf0ce2d9392e93f": {
          "model_module": "@jupyter-widgets/controls",
          "model_name": "DescriptionStyleModel",
          "model_module_version": "1.5.0",
          "state": {
            "_view_name": "StyleView",
            "_model_name": "DescriptionStyleModel",
            "description_width": "",
            "_view_module": "@jupyter-widgets/base",
            "_model_module_version": "1.5.0",
            "_view_count": null,
            "_view_module_version": "1.2.0",
            "_model_module": "@jupyter-widgets/controls"
          }
        },
        "ad155bed1dbd473baa8bd93725b1c7f2": {
          "model_module": "@jupyter-widgets/base",
          "model_name": "LayoutModel",
          "model_module_version": "1.2.0",
          "state": {
            "_view_name": "LayoutView",
            "grid_template_rows": null,
            "right": null,
            "justify_content": null,
            "_view_module": "@jupyter-widgets/base",
            "overflow": null,
            "_model_module_version": "1.2.0",
            "_view_count": null,
            "flex_flow": null,
            "width": null,
            "min_width": null,
            "border": null,
            "align_items": null,
            "bottom": null,
            "_model_module": "@jupyter-widgets/base",
            "top": null,
            "grid_column": null,
            "overflow_y": null,
            "overflow_x": null,
            "grid_auto_flow": null,
            "grid_area": null,
            "grid_template_columns": null,
            "flex": null,
            "_model_name": "LayoutModel",
            "justify_items": null,
            "grid_row": null,
            "max_height": null,
            "align_content": null,
            "visibility": null,
            "align_self": null,
            "height": null,
            "min_height": null,
            "padding": null,
            "grid_auto_rows": null,
            "grid_gap": null,
            "max_width": null,
            "order": null,
            "_view_module_version": "1.2.0",
            "grid_template_areas": null,
            "object_position": null,
            "object_fit": null,
            "grid_auto_columns": null,
            "margin": null,
            "display": null,
            "left": null
          }
        },
        "efe7c3a4a1624bcfb9a98795429ab58d": {
          "model_module": "@jupyter-widgets/controls",
          "model_name": "HBoxModel",
          "model_module_version": "1.5.0",
          "state": {
            "_view_name": "HBoxView",
            "_dom_classes": [],
            "_model_name": "HBoxModel",
            "_view_module": "@jupyter-widgets/controls",
            "_model_module_version": "1.5.0",
            "_view_count": null,
            "_view_module_version": "1.5.0",
            "box_style": "",
            "layout": "IPY_MODEL_ddb5752c56f84c7ab5214cdf4311dcf9",
            "_model_module": "@jupyter-widgets/controls",
            "children": [
              "IPY_MODEL_7514c167518f46a5bc144fa60dd70b78",
              "IPY_MODEL_2c7fb680ac034c9dac143fc94be0f3a9",
              "IPY_MODEL_b7553b5288a5435b9824e4ab69cdb39f"
            ]
          }
        },
        "ddb5752c56f84c7ab5214cdf4311dcf9": {
          "model_module": "@jupyter-widgets/base",
          "model_name": "LayoutModel",
          "model_module_version": "1.2.0",
          "state": {
            "_view_name": "LayoutView",
            "grid_template_rows": null,
            "right": null,
            "justify_content": null,
            "_view_module": "@jupyter-widgets/base",
            "overflow": null,
            "_model_module_version": "1.2.0",
            "_view_count": null,
            "flex_flow": null,
            "width": null,
            "min_width": null,
            "border": null,
            "align_items": null,
            "bottom": null,
            "_model_module": "@jupyter-widgets/base",
            "top": null,
            "grid_column": null,
            "overflow_y": null,
            "overflow_x": null,
            "grid_auto_flow": null,
            "grid_area": null,
            "grid_template_columns": null,
            "flex": null,
            "_model_name": "LayoutModel",
            "justify_items": null,
            "grid_row": null,
            "max_height": null,
            "align_content": null,
            "visibility": null,
            "align_self": null,
            "height": null,
            "min_height": null,
            "padding": null,
            "grid_auto_rows": null,
            "grid_gap": null,
            "max_width": null,
            "order": null,
            "_view_module_version": "1.2.0",
            "grid_template_areas": null,
            "object_position": null,
            "object_fit": null,
            "grid_auto_columns": null,
            "margin": null,
            "display": null,
            "left": null
          }
        },
        "7514c167518f46a5bc144fa60dd70b78": {
          "model_module": "@jupyter-widgets/controls",
          "model_name": "HTMLModel",
          "model_module_version": "1.5.0",
          "state": {
            "_view_name": "HTMLView",
            "style": "IPY_MODEL_d05cac79f4f44ef19444e60d7d32c273",
            "_dom_classes": [],
            "description": "",
            "_model_name": "HTMLModel",
            "placeholder": "​",
            "_view_module": "@jupyter-widgets/controls",
            "_model_module_version": "1.5.0",
            "value": "100%",
            "_view_count": null,
            "_view_module_version": "1.5.0",
            "description_tooltip": null,
            "_model_module": "@jupyter-widgets/controls",
            "layout": "IPY_MODEL_886f74961df64729b1564392dc837537"
          }
        },
        "2c7fb680ac034c9dac143fc94be0f3a9": {
          "model_module": "@jupyter-widgets/controls",
          "model_name": "FloatProgressModel",
          "model_module_version": "1.5.0",
          "state": {
            "_view_name": "ProgressView",
            "style": "IPY_MODEL_878ee00937694ee4aad551dc98150506",
            "_dom_classes": [],
            "description": "",
            "_model_name": "FloatProgressModel",
            "bar_style": "success",
            "max": 160,
            "_view_module": "@jupyter-widgets/controls",
            "_model_module_version": "1.5.0",
            "value": 160,
            "_view_count": null,
            "_view_module_version": "1.5.0",
            "orientation": "horizontal",
            "min": 0,
            "description_tooltip": null,
            "_model_module": "@jupyter-widgets/controls",
            "layout": "IPY_MODEL_fdd3ee7375f7456687e527175554b903"
          }
        },
        "b7553b5288a5435b9824e4ab69cdb39f": {
          "model_module": "@jupyter-widgets/controls",
          "model_name": "HTMLModel",
          "model_module_version": "1.5.0",
          "state": {
            "_view_name": "HTMLView",
            "style": "IPY_MODEL_79e06633a33c44d787a996ec6f0effa7",
            "_dom_classes": [],
            "description": "",
            "_model_name": "HTMLModel",
            "placeholder": "​",
            "_view_module": "@jupyter-widgets/controls",
            "_model_module_version": "1.5.0",
            "value": " 160/160 [01:43&lt;00:00,  1.64it/s]",
            "_view_count": null,
            "_view_module_version": "1.5.0",
            "description_tooltip": null,
            "_model_module": "@jupyter-widgets/controls",
            "layout": "IPY_MODEL_4c371ed4db1d4900a109092278b4ea4f"
          }
        },
        "d05cac79f4f44ef19444e60d7d32c273": {
          "model_module": "@jupyter-widgets/controls",
          "model_name": "DescriptionStyleModel",
          "model_module_version": "1.5.0",
          "state": {
            "_view_name": "StyleView",
            "_model_name": "DescriptionStyleModel",
            "description_width": "",
            "_view_module": "@jupyter-widgets/base",
            "_model_module_version": "1.5.0",
            "_view_count": null,
            "_view_module_version": "1.2.0",
            "_model_module": "@jupyter-widgets/controls"
          }
        },
        "886f74961df64729b1564392dc837537": {
          "model_module": "@jupyter-widgets/base",
          "model_name": "LayoutModel",
          "model_module_version": "1.2.0",
          "state": {
            "_view_name": "LayoutView",
            "grid_template_rows": null,
            "right": null,
            "justify_content": null,
            "_view_module": "@jupyter-widgets/base",
            "overflow": null,
            "_model_module_version": "1.2.0",
            "_view_count": null,
            "flex_flow": null,
            "width": null,
            "min_width": null,
            "border": null,
            "align_items": null,
            "bottom": null,
            "_model_module": "@jupyter-widgets/base",
            "top": null,
            "grid_column": null,
            "overflow_y": null,
            "overflow_x": null,
            "grid_auto_flow": null,
            "grid_area": null,
            "grid_template_columns": null,
            "flex": null,
            "_model_name": "LayoutModel",
            "justify_items": null,
            "grid_row": null,
            "max_height": null,
            "align_content": null,
            "visibility": null,
            "align_self": null,
            "height": null,
            "min_height": null,
            "padding": null,
            "grid_auto_rows": null,
            "grid_gap": null,
            "max_width": null,
            "order": null,
            "_view_module_version": "1.2.0",
            "grid_template_areas": null,
            "object_position": null,
            "object_fit": null,
            "grid_auto_columns": null,
            "margin": null,
            "display": null,
            "left": null
          }
        },
        "878ee00937694ee4aad551dc98150506": {
          "model_module": "@jupyter-widgets/controls",
          "model_name": "ProgressStyleModel",
          "model_module_version": "1.5.0",
          "state": {
            "_view_name": "StyleView",
            "_model_name": "ProgressStyleModel",
            "description_width": "",
            "_view_module": "@jupyter-widgets/base",
            "_model_module_version": "1.5.0",
            "_view_count": null,
            "_view_module_version": "1.2.0",
            "bar_color": null,
            "_model_module": "@jupyter-widgets/controls"
          }
        },
        "fdd3ee7375f7456687e527175554b903": {
          "model_module": "@jupyter-widgets/base",
          "model_name": "LayoutModel",
          "model_module_version": "1.2.0",
          "state": {
            "_view_name": "LayoutView",
            "grid_template_rows": null,
            "right": null,
            "justify_content": null,
            "_view_module": "@jupyter-widgets/base",
            "overflow": null,
            "_model_module_version": "1.2.0",
            "_view_count": null,
            "flex_flow": null,
            "width": null,
            "min_width": null,
            "border": null,
            "align_items": null,
            "bottom": null,
            "_model_module": "@jupyter-widgets/base",
            "top": null,
            "grid_column": null,
            "overflow_y": null,
            "overflow_x": null,
            "grid_auto_flow": null,
            "grid_area": null,
            "grid_template_columns": null,
            "flex": null,
            "_model_name": "LayoutModel",
            "justify_items": null,
            "grid_row": null,
            "max_height": null,
            "align_content": null,
            "visibility": null,
            "align_self": null,
            "height": null,
            "min_height": null,
            "padding": null,
            "grid_auto_rows": null,
            "grid_gap": null,
            "max_width": null,
            "order": null,
            "_view_module_version": "1.2.0",
            "grid_template_areas": null,
            "object_position": null,
            "object_fit": null,
            "grid_auto_columns": null,
            "margin": null,
            "display": null,
            "left": null
          }
        },
        "79e06633a33c44d787a996ec6f0effa7": {
          "model_module": "@jupyter-widgets/controls",
          "model_name": "DescriptionStyleModel",
          "model_module_version": "1.5.0",
          "state": {
            "_view_name": "StyleView",
            "_model_name": "DescriptionStyleModel",
            "description_width": "",
            "_view_module": "@jupyter-widgets/base",
            "_model_module_version": "1.5.0",
            "_view_count": null,
            "_view_module_version": "1.2.0",
            "_model_module": "@jupyter-widgets/controls"
          }
        },
        "4c371ed4db1d4900a109092278b4ea4f": {
          "model_module": "@jupyter-widgets/base",
          "model_name": "LayoutModel",
          "model_module_version": "1.2.0",
          "state": {
            "_view_name": "LayoutView",
            "grid_template_rows": null,
            "right": null,
            "justify_content": null,
            "_view_module": "@jupyter-widgets/base",
            "overflow": null,
            "_model_module_version": "1.2.0",
            "_view_count": null,
            "flex_flow": null,
            "width": null,
            "min_width": null,
            "border": null,
            "align_items": null,
            "bottom": null,
            "_model_module": "@jupyter-widgets/base",
            "top": null,
            "grid_column": null,
            "overflow_y": null,
            "overflow_x": null,
            "grid_auto_flow": null,
            "grid_area": null,
            "grid_template_columns": null,
            "flex": null,
            "_model_name": "LayoutModel",
            "justify_items": null,
            "grid_row": null,
            "max_height": null,
            "align_content": null,
            "visibility": null,
            "align_self": null,
            "height": null,
            "min_height": null,
            "padding": null,
            "grid_auto_rows": null,
            "grid_gap": null,
            "max_width": null,
            "order": null,
            "_view_module_version": "1.2.0",
            "grid_template_areas": null,
            "object_position": null,
            "object_fit": null,
            "grid_auto_columns": null,
            "margin": null,
            "display": null,
            "left": null
          }
        },
        "fa15a1122365407d80079dd8264c29bd": {
          "model_module": "@jupyter-widgets/controls",
          "model_name": "HBoxModel",
          "model_module_version": "1.5.0",
          "state": {
            "_view_name": "HBoxView",
            "_dom_classes": [],
            "_model_name": "HBoxModel",
            "_view_module": "@jupyter-widgets/controls",
            "_model_module_version": "1.5.0",
            "_view_count": null,
            "_view_module_version": "1.5.0",
            "box_style": "",
            "layout": "IPY_MODEL_4e1b21f1a6734e3cb4b15f9581f3f7bd",
            "_model_module": "@jupyter-widgets/controls",
            "children": [
              "IPY_MODEL_d82f42571d134b75bcef513c1a231e3c",
              "IPY_MODEL_566b1d2dea1542608c6b168b6569c630",
              "IPY_MODEL_43be1ad144c04d32b748421ce9e788f2"
            ]
          }
        },
        "4e1b21f1a6734e3cb4b15f9581f3f7bd": {
          "model_module": "@jupyter-widgets/base",
          "model_name": "LayoutModel",
          "model_module_version": "1.2.0",
          "state": {
            "_view_name": "LayoutView",
            "grid_template_rows": null,
            "right": null,
            "justify_content": null,
            "_view_module": "@jupyter-widgets/base",
            "overflow": null,
            "_model_module_version": "1.2.0",
            "_view_count": null,
            "flex_flow": null,
            "width": null,
            "min_width": null,
            "border": null,
            "align_items": null,
            "bottom": null,
            "_model_module": "@jupyter-widgets/base",
            "top": null,
            "grid_column": null,
            "overflow_y": null,
            "overflow_x": null,
            "grid_auto_flow": null,
            "grid_area": null,
            "grid_template_columns": null,
            "flex": null,
            "_model_name": "LayoutModel",
            "justify_items": null,
            "grid_row": null,
            "max_height": null,
            "align_content": null,
            "visibility": null,
            "align_self": null,
            "height": null,
            "min_height": null,
            "padding": null,
            "grid_auto_rows": null,
            "grid_gap": null,
            "max_width": null,
            "order": null,
            "_view_module_version": "1.2.0",
            "grid_template_areas": null,
            "object_position": null,
            "object_fit": null,
            "grid_auto_columns": null,
            "margin": null,
            "display": null,
            "left": null
          }
        },
        "d82f42571d134b75bcef513c1a231e3c": {
          "model_module": "@jupyter-widgets/controls",
          "model_name": "HTMLModel",
          "model_module_version": "1.5.0",
          "state": {
            "_view_name": "HTMLView",
            "style": "IPY_MODEL_bf79a66e2f254600bb66a16def61f64c",
            "_dom_classes": [],
            "description": "",
            "_model_name": "HTMLModel",
            "placeholder": "​",
            "_view_module": "@jupyter-widgets/controls",
            "_model_module_version": "1.5.0",
            "value": "100%",
            "_view_count": null,
            "_view_module_version": "1.5.0",
            "description_tooltip": null,
            "_model_module": "@jupyter-widgets/controls",
            "layout": "IPY_MODEL_cc567f20dcbd492786ed0e356139c035"
          }
        },
        "566b1d2dea1542608c6b168b6569c630": {
          "model_module": "@jupyter-widgets/controls",
          "model_name": "FloatProgressModel",
          "model_module_version": "1.5.0",
          "state": {
            "_view_name": "ProgressView",
            "style": "IPY_MODEL_669f1df5f3e64222bac5de20b7e44d07",
            "_dom_classes": [],
            "description": "",
            "_model_name": "FloatProgressModel",
            "bar_style": "success",
            "max": 160,
            "_view_module": "@jupyter-widgets/controls",
            "_model_module_version": "1.5.0",
            "value": 160,
            "_view_count": null,
            "_view_module_version": "1.5.0",
            "orientation": "horizontal",
            "min": 0,
            "description_tooltip": null,
            "_model_module": "@jupyter-widgets/controls",
            "layout": "IPY_MODEL_06b4e8d250914e59997a05886106c9a2"
          }
        },
        "43be1ad144c04d32b748421ce9e788f2": {
          "model_module": "@jupyter-widgets/controls",
          "model_name": "HTMLModel",
          "model_module_version": "1.5.0",
          "state": {
            "_view_name": "HTMLView",
            "style": "IPY_MODEL_8013cd8b51604beaabd9f7d08388c2c5",
            "_dom_classes": [],
            "description": "",
            "_model_name": "HTMLModel",
            "placeholder": "​",
            "_view_module": "@jupyter-widgets/controls",
            "_model_module_version": "1.5.0",
            "value": " 160/160 [05:32&lt;00:00,  1.82s/it]",
            "_view_count": null,
            "_view_module_version": "1.5.0",
            "description_tooltip": null,
            "_model_module": "@jupyter-widgets/controls",
            "layout": "IPY_MODEL_d1bf44cd82654dcca8c4d50e16c76841"
          }
        },
        "bf79a66e2f254600bb66a16def61f64c": {
          "model_module": "@jupyter-widgets/controls",
          "model_name": "DescriptionStyleModel",
          "model_module_version": "1.5.0",
          "state": {
            "_view_name": "StyleView",
            "_model_name": "DescriptionStyleModel",
            "description_width": "",
            "_view_module": "@jupyter-widgets/base",
            "_model_module_version": "1.5.0",
            "_view_count": null,
            "_view_module_version": "1.2.0",
            "_model_module": "@jupyter-widgets/controls"
          }
        },
        "cc567f20dcbd492786ed0e356139c035": {
          "model_module": "@jupyter-widgets/base",
          "model_name": "LayoutModel",
          "model_module_version": "1.2.0",
          "state": {
            "_view_name": "LayoutView",
            "grid_template_rows": null,
            "right": null,
            "justify_content": null,
            "_view_module": "@jupyter-widgets/base",
            "overflow": null,
            "_model_module_version": "1.2.0",
            "_view_count": null,
            "flex_flow": null,
            "width": null,
            "min_width": null,
            "border": null,
            "align_items": null,
            "bottom": null,
            "_model_module": "@jupyter-widgets/base",
            "top": null,
            "grid_column": null,
            "overflow_y": null,
            "overflow_x": null,
            "grid_auto_flow": null,
            "grid_area": null,
            "grid_template_columns": null,
            "flex": null,
            "_model_name": "LayoutModel",
            "justify_items": null,
            "grid_row": null,
            "max_height": null,
            "align_content": null,
            "visibility": null,
            "align_self": null,
            "height": null,
            "min_height": null,
            "padding": null,
            "grid_auto_rows": null,
            "grid_gap": null,
            "max_width": null,
            "order": null,
            "_view_module_version": "1.2.0",
            "grid_template_areas": null,
            "object_position": null,
            "object_fit": null,
            "grid_auto_columns": null,
            "margin": null,
            "display": null,
            "left": null
          }
        },
        "669f1df5f3e64222bac5de20b7e44d07": {
          "model_module": "@jupyter-widgets/controls",
          "model_name": "ProgressStyleModel",
          "model_module_version": "1.5.0",
          "state": {
            "_view_name": "StyleView",
            "_model_name": "ProgressStyleModel",
            "description_width": "",
            "_view_module": "@jupyter-widgets/base",
            "_model_module_version": "1.5.0",
            "_view_count": null,
            "_view_module_version": "1.2.0",
            "bar_color": null,
            "_model_module": "@jupyter-widgets/controls"
          }
        },
        "06b4e8d250914e59997a05886106c9a2": {
          "model_module": "@jupyter-widgets/base",
          "model_name": "LayoutModel",
          "model_module_version": "1.2.0",
          "state": {
            "_view_name": "LayoutView",
            "grid_template_rows": null,
            "right": null,
            "justify_content": null,
            "_view_module": "@jupyter-widgets/base",
            "overflow": null,
            "_model_module_version": "1.2.0",
            "_view_count": null,
            "flex_flow": null,
            "width": null,
            "min_width": null,
            "border": null,
            "align_items": null,
            "bottom": null,
            "_model_module": "@jupyter-widgets/base",
            "top": null,
            "grid_column": null,
            "overflow_y": null,
            "overflow_x": null,
            "grid_auto_flow": null,
            "grid_area": null,
            "grid_template_columns": null,
            "flex": null,
            "_model_name": "LayoutModel",
            "justify_items": null,
            "grid_row": null,
            "max_height": null,
            "align_content": null,
            "visibility": null,
            "align_self": null,
            "height": null,
            "min_height": null,
            "padding": null,
            "grid_auto_rows": null,
            "grid_gap": null,
            "max_width": null,
            "order": null,
            "_view_module_version": "1.2.0",
            "grid_template_areas": null,
            "object_position": null,
            "object_fit": null,
            "grid_auto_columns": null,
            "margin": null,
            "display": null,
            "left": null
          }
        },
        "8013cd8b51604beaabd9f7d08388c2c5": {
          "model_module": "@jupyter-widgets/controls",
          "model_name": "DescriptionStyleModel",
          "model_module_version": "1.5.0",
          "state": {
            "_view_name": "StyleView",
            "_model_name": "DescriptionStyleModel",
            "description_width": "",
            "_view_module": "@jupyter-widgets/base",
            "_model_module_version": "1.5.0",
            "_view_count": null,
            "_view_module_version": "1.2.0",
            "_model_module": "@jupyter-widgets/controls"
          }
        },
        "d1bf44cd82654dcca8c4d50e16c76841": {
          "model_module": "@jupyter-widgets/base",
          "model_name": "LayoutModel",
          "model_module_version": "1.2.0",
          "state": {
            "_view_name": "LayoutView",
            "grid_template_rows": null,
            "right": null,
            "justify_content": null,
            "_view_module": "@jupyter-widgets/base",
            "overflow": null,
            "_model_module_version": "1.2.0",
            "_view_count": null,
            "flex_flow": null,
            "width": null,
            "min_width": null,
            "border": null,
            "align_items": null,
            "bottom": null,
            "_model_module": "@jupyter-widgets/base",
            "top": null,
            "grid_column": null,
            "overflow_y": null,
            "overflow_x": null,
            "grid_auto_flow": null,
            "grid_area": null,
            "grid_template_columns": null,
            "flex": null,
            "_model_name": "LayoutModel",
            "justify_items": null,
            "grid_row": null,
            "max_height": null,
            "align_content": null,
            "visibility": null,
            "align_self": null,
            "height": null,
            "min_height": null,
            "padding": null,
            "grid_auto_rows": null,
            "grid_gap": null,
            "max_width": null,
            "order": null,
            "_view_module_version": "1.2.0",
            "grid_template_areas": null,
            "object_position": null,
            "object_fit": null,
            "grid_auto_columns": null,
            "margin": null,
            "display": null,
            "left": null
          }
        },
        "512cd0a11d984a0cba70fd56de9d0da3": {
          "model_module": "@jupyter-widgets/controls",
          "model_name": "HBoxModel",
          "model_module_version": "1.5.0",
          "state": {
            "_view_name": "HBoxView",
            "_dom_classes": [],
            "_model_name": "HBoxModel",
            "_view_module": "@jupyter-widgets/controls",
            "_model_module_version": "1.5.0",
            "_view_count": null,
            "_view_module_version": "1.5.0",
            "box_style": "",
            "layout": "IPY_MODEL_7ffac81e2a3442898e15502677d8cdb1",
            "_model_module": "@jupyter-widgets/controls",
            "children": [
              "IPY_MODEL_d60e2a7c99994e1c92451dabcc9c258d",
              "IPY_MODEL_e1e82800c6874b86b6ded0781efef54a",
              "IPY_MODEL_f55a9a93cb7b420b880161981238019f"
            ]
          }
        },
        "7ffac81e2a3442898e15502677d8cdb1": {
          "model_module": "@jupyter-widgets/base",
          "model_name": "LayoutModel",
          "model_module_version": "1.2.0",
          "state": {
            "_view_name": "LayoutView",
            "grid_template_rows": null,
            "right": null,
            "justify_content": null,
            "_view_module": "@jupyter-widgets/base",
            "overflow": null,
            "_model_module_version": "1.2.0",
            "_view_count": null,
            "flex_flow": null,
            "width": null,
            "min_width": null,
            "border": null,
            "align_items": null,
            "bottom": null,
            "_model_module": "@jupyter-widgets/base",
            "top": null,
            "grid_column": null,
            "overflow_y": null,
            "overflow_x": null,
            "grid_auto_flow": null,
            "grid_area": null,
            "grid_template_columns": null,
            "flex": null,
            "_model_name": "LayoutModel",
            "justify_items": null,
            "grid_row": null,
            "max_height": null,
            "align_content": null,
            "visibility": null,
            "align_self": null,
            "height": null,
            "min_height": null,
            "padding": null,
            "grid_auto_rows": null,
            "grid_gap": null,
            "max_width": null,
            "order": null,
            "_view_module_version": "1.2.0",
            "grid_template_areas": null,
            "object_position": null,
            "object_fit": null,
            "grid_auto_columns": null,
            "margin": null,
            "display": null,
            "left": null
          }
        },
        "d60e2a7c99994e1c92451dabcc9c258d": {
          "model_module": "@jupyter-widgets/controls",
          "model_name": "HTMLModel",
          "model_module_version": "1.5.0",
          "state": {
            "_view_name": "HTMLView",
            "style": "IPY_MODEL_f2d7d01d24de4abb8e3b09a2d5138939",
            "_dom_classes": [],
            "description": "",
            "_model_name": "HTMLModel",
            "placeholder": "​",
            "_view_module": "@jupyter-widgets/controls",
            "_model_module_version": "1.5.0",
            "value": "100%",
            "_view_count": null,
            "_view_module_version": "1.5.0",
            "description_tooltip": null,
            "_model_module": "@jupyter-widgets/controls",
            "layout": "IPY_MODEL_393f14be9b814ba0aabe554ba68c3b94"
          }
        },
        "e1e82800c6874b86b6ded0781efef54a": {
          "model_module": "@jupyter-widgets/controls",
          "model_name": "FloatProgressModel",
          "model_module_version": "1.5.0",
          "state": {
            "_view_name": "ProgressView",
            "style": "IPY_MODEL_1121c9fc41d8414c9ec8412f9e1000c2",
            "_dom_classes": [],
            "description": "",
            "_model_name": "FloatProgressModel",
            "bar_style": "success",
            "max": 160,
            "_view_module": "@jupyter-widgets/controls",
            "_model_module_version": "1.5.0",
            "value": 160,
            "_view_count": null,
            "_view_module_version": "1.5.0",
            "orientation": "horizontal",
            "min": 0,
            "description_tooltip": null,
            "_model_module": "@jupyter-widgets/controls",
            "layout": "IPY_MODEL_9a9acd97c07d4d2caa852c4d5f2c2359"
          }
        },
        "f55a9a93cb7b420b880161981238019f": {
          "model_module": "@jupyter-widgets/controls",
          "model_name": "HTMLModel",
          "model_module_version": "1.5.0",
          "state": {
            "_view_name": "HTMLView",
            "style": "IPY_MODEL_59aa22a24e0442c0b901cc373dfa8943",
            "_dom_classes": [],
            "description": "",
            "_model_name": "HTMLModel",
            "placeholder": "​",
            "_view_module": "@jupyter-widgets/controls",
            "_model_module_version": "1.5.0",
            "value": " 160/160 [01:54&lt;00:00,  1.72it/s]",
            "_view_count": null,
            "_view_module_version": "1.5.0",
            "description_tooltip": null,
            "_model_module": "@jupyter-widgets/controls",
            "layout": "IPY_MODEL_ae539220a7ee43cd9873ea9f3ca0cfde"
          }
        },
        "f2d7d01d24de4abb8e3b09a2d5138939": {
          "model_module": "@jupyter-widgets/controls",
          "model_name": "DescriptionStyleModel",
          "model_module_version": "1.5.0",
          "state": {
            "_view_name": "StyleView",
            "_model_name": "DescriptionStyleModel",
            "description_width": "",
            "_view_module": "@jupyter-widgets/base",
            "_model_module_version": "1.5.0",
            "_view_count": null,
            "_view_module_version": "1.2.0",
            "_model_module": "@jupyter-widgets/controls"
          }
        },
        "393f14be9b814ba0aabe554ba68c3b94": {
          "model_module": "@jupyter-widgets/base",
          "model_name": "LayoutModel",
          "model_module_version": "1.2.0",
          "state": {
            "_view_name": "LayoutView",
            "grid_template_rows": null,
            "right": null,
            "justify_content": null,
            "_view_module": "@jupyter-widgets/base",
            "overflow": null,
            "_model_module_version": "1.2.0",
            "_view_count": null,
            "flex_flow": null,
            "width": null,
            "min_width": null,
            "border": null,
            "align_items": null,
            "bottom": null,
            "_model_module": "@jupyter-widgets/base",
            "top": null,
            "grid_column": null,
            "overflow_y": null,
            "overflow_x": null,
            "grid_auto_flow": null,
            "grid_area": null,
            "grid_template_columns": null,
            "flex": null,
            "_model_name": "LayoutModel",
            "justify_items": null,
            "grid_row": null,
            "max_height": null,
            "align_content": null,
            "visibility": null,
            "align_self": null,
            "height": null,
            "min_height": null,
            "padding": null,
            "grid_auto_rows": null,
            "grid_gap": null,
            "max_width": null,
            "order": null,
            "_view_module_version": "1.2.0",
            "grid_template_areas": null,
            "object_position": null,
            "object_fit": null,
            "grid_auto_columns": null,
            "margin": null,
            "display": null,
            "left": null
          }
        },
        "1121c9fc41d8414c9ec8412f9e1000c2": {
          "model_module": "@jupyter-widgets/controls",
          "model_name": "ProgressStyleModel",
          "model_module_version": "1.5.0",
          "state": {
            "_view_name": "StyleView",
            "_model_name": "ProgressStyleModel",
            "description_width": "",
            "_view_module": "@jupyter-widgets/base",
            "_model_module_version": "1.5.0",
            "_view_count": null,
            "_view_module_version": "1.2.0",
            "bar_color": null,
            "_model_module": "@jupyter-widgets/controls"
          }
        },
        "9a9acd97c07d4d2caa852c4d5f2c2359": {
          "model_module": "@jupyter-widgets/base",
          "model_name": "LayoutModel",
          "model_module_version": "1.2.0",
          "state": {
            "_view_name": "LayoutView",
            "grid_template_rows": null,
            "right": null,
            "justify_content": null,
            "_view_module": "@jupyter-widgets/base",
            "overflow": null,
            "_model_module_version": "1.2.0",
            "_view_count": null,
            "flex_flow": null,
            "width": null,
            "min_width": null,
            "border": null,
            "align_items": null,
            "bottom": null,
            "_model_module": "@jupyter-widgets/base",
            "top": null,
            "grid_column": null,
            "overflow_y": null,
            "overflow_x": null,
            "grid_auto_flow": null,
            "grid_area": null,
            "grid_template_columns": null,
            "flex": null,
            "_model_name": "LayoutModel",
            "justify_items": null,
            "grid_row": null,
            "max_height": null,
            "align_content": null,
            "visibility": null,
            "align_self": null,
            "height": null,
            "min_height": null,
            "padding": null,
            "grid_auto_rows": null,
            "grid_gap": null,
            "max_width": null,
            "order": null,
            "_view_module_version": "1.2.0",
            "grid_template_areas": null,
            "object_position": null,
            "object_fit": null,
            "grid_auto_columns": null,
            "margin": null,
            "display": null,
            "left": null
          }
        },
        "59aa22a24e0442c0b901cc373dfa8943": {
          "model_module": "@jupyter-widgets/controls",
          "model_name": "DescriptionStyleModel",
          "model_module_version": "1.5.0",
          "state": {
            "_view_name": "StyleView",
            "_model_name": "DescriptionStyleModel",
            "description_width": "",
            "_view_module": "@jupyter-widgets/base",
            "_model_module_version": "1.5.0",
            "_view_count": null,
            "_view_module_version": "1.2.0",
            "_model_module": "@jupyter-widgets/controls"
          }
        },
        "ae539220a7ee43cd9873ea9f3ca0cfde": {
          "model_module": "@jupyter-widgets/base",
          "model_name": "LayoutModel",
          "model_module_version": "1.2.0",
          "state": {
            "_view_name": "LayoutView",
            "grid_template_rows": null,
            "right": null,
            "justify_content": null,
            "_view_module": "@jupyter-widgets/base",
            "overflow": null,
            "_model_module_version": "1.2.0",
            "_view_count": null,
            "flex_flow": null,
            "width": null,
            "min_width": null,
            "border": null,
            "align_items": null,
            "bottom": null,
            "_model_module": "@jupyter-widgets/base",
            "top": null,
            "grid_column": null,
            "overflow_y": null,
            "overflow_x": null,
            "grid_auto_flow": null,
            "grid_area": null,
            "grid_template_columns": null,
            "flex": null,
            "_model_name": "LayoutModel",
            "justify_items": null,
            "grid_row": null,
            "max_height": null,
            "align_content": null,
            "visibility": null,
            "align_self": null,
            "height": null,
            "min_height": null,
            "padding": null,
            "grid_auto_rows": null,
            "grid_gap": null,
            "max_width": null,
            "order": null,
            "_view_module_version": "1.2.0",
            "grid_template_areas": null,
            "object_position": null,
            "object_fit": null,
            "grid_auto_columns": null,
            "margin": null,
            "display": null,
            "left": null
          }
        },
        "85720d2e116345a9b03ac5e084c8d95d": {
          "model_module": "@jupyter-widgets/controls",
          "model_name": "HBoxModel",
          "model_module_version": "1.5.0",
          "state": {
            "_view_name": "HBoxView",
            "_dom_classes": [],
            "_model_name": "HBoxModel",
            "_view_module": "@jupyter-widgets/controls",
            "_model_module_version": "1.5.0",
            "_view_count": null,
            "_view_module_version": "1.5.0",
            "box_style": "",
            "layout": "IPY_MODEL_3213d618c2be4a8a8fa3ea8691305b0e",
            "_model_module": "@jupyter-widgets/controls",
            "children": [
              "IPY_MODEL_cfa59174c7c44c6c85757eede8808098",
              "IPY_MODEL_431366b9bc2e43ef855341aafe1ec9fe",
              "IPY_MODEL_cd1f71ce028a4994a68e7bcdb11daa00"
            ]
          }
        },
        "3213d618c2be4a8a8fa3ea8691305b0e": {
          "model_module": "@jupyter-widgets/base",
          "model_name": "LayoutModel",
          "model_module_version": "1.2.0",
          "state": {
            "_view_name": "LayoutView",
            "grid_template_rows": null,
            "right": null,
            "justify_content": null,
            "_view_module": "@jupyter-widgets/base",
            "overflow": null,
            "_model_module_version": "1.2.0",
            "_view_count": null,
            "flex_flow": null,
            "width": null,
            "min_width": null,
            "border": null,
            "align_items": null,
            "bottom": null,
            "_model_module": "@jupyter-widgets/base",
            "top": null,
            "grid_column": null,
            "overflow_y": null,
            "overflow_x": null,
            "grid_auto_flow": null,
            "grid_area": null,
            "grid_template_columns": null,
            "flex": null,
            "_model_name": "LayoutModel",
            "justify_items": null,
            "grid_row": null,
            "max_height": null,
            "align_content": null,
            "visibility": null,
            "align_self": null,
            "height": null,
            "min_height": null,
            "padding": null,
            "grid_auto_rows": null,
            "grid_gap": null,
            "max_width": null,
            "order": null,
            "_view_module_version": "1.2.0",
            "grid_template_areas": null,
            "object_position": null,
            "object_fit": null,
            "grid_auto_columns": null,
            "margin": null,
            "display": null,
            "left": null
          }
        },
        "cfa59174c7c44c6c85757eede8808098": {
          "model_module": "@jupyter-widgets/controls",
          "model_name": "HTMLModel",
          "model_module_version": "1.5.0",
          "state": {
            "_view_name": "HTMLView",
            "style": "IPY_MODEL_f7cb118aa3c6483f82fa545fa42eddae",
            "_dom_classes": [],
            "description": "",
            "_model_name": "HTMLModel",
            "placeholder": "​",
            "_view_module": "@jupyter-widgets/controls",
            "_model_module_version": "1.5.0",
            "value": "100%",
            "_view_count": null,
            "_view_module_version": "1.5.0",
            "description_tooltip": null,
            "_model_module": "@jupyter-widgets/controls",
            "layout": "IPY_MODEL_3b256e9a11c344b6b1bb1068d015ccb4"
          }
        },
        "431366b9bc2e43ef855341aafe1ec9fe": {
          "model_module": "@jupyter-widgets/controls",
          "model_name": "FloatProgressModel",
          "model_module_version": "1.5.0",
          "state": {
            "_view_name": "ProgressView",
            "style": "IPY_MODEL_e78f66efe25743989f1ad5e68fcb8be3",
            "_dom_classes": [],
            "description": "",
            "_model_name": "FloatProgressModel",
            "bar_style": "success",
            "max": 640,
            "_view_module": "@jupyter-widgets/controls",
            "_model_module_version": "1.5.0",
            "value": 640,
            "_view_count": null,
            "_view_module_version": "1.5.0",
            "orientation": "horizontal",
            "min": 0,
            "description_tooltip": null,
            "_model_module": "@jupyter-widgets/controls",
            "layout": "IPY_MODEL_78961b9db4b641cfa531683f50a9e7d5"
          }
        },
        "cd1f71ce028a4994a68e7bcdb11daa00": {
          "model_module": "@jupyter-widgets/controls",
          "model_name": "HTMLModel",
          "model_module_version": "1.5.0",
          "state": {
            "_view_name": "HTMLView",
            "style": "IPY_MODEL_925c4b30c9cb4468ab88e7d5df9a5335",
            "_dom_classes": [],
            "description": "",
            "_model_name": "HTMLModel",
            "placeholder": "​",
            "_view_module": "@jupyter-widgets/controls",
            "_model_module_version": "1.5.0",
            "value": " 640/640 [00:21&lt;00:00, 32.63it/s]",
            "_view_count": null,
            "_view_module_version": "1.5.0",
            "description_tooltip": null,
            "_model_module": "@jupyter-widgets/controls",
            "layout": "IPY_MODEL_03a8fcb688e940c8956e8c35a0073e96"
          }
        },
        "f7cb118aa3c6483f82fa545fa42eddae": {
          "model_module": "@jupyter-widgets/controls",
          "model_name": "DescriptionStyleModel",
          "model_module_version": "1.5.0",
          "state": {
            "_view_name": "StyleView",
            "_model_name": "DescriptionStyleModel",
            "description_width": "",
            "_view_module": "@jupyter-widgets/base",
            "_model_module_version": "1.5.0",
            "_view_count": null,
            "_view_module_version": "1.2.0",
            "_model_module": "@jupyter-widgets/controls"
          }
        },
        "3b256e9a11c344b6b1bb1068d015ccb4": {
          "model_module": "@jupyter-widgets/base",
          "model_name": "LayoutModel",
          "model_module_version": "1.2.0",
          "state": {
            "_view_name": "LayoutView",
            "grid_template_rows": null,
            "right": null,
            "justify_content": null,
            "_view_module": "@jupyter-widgets/base",
            "overflow": null,
            "_model_module_version": "1.2.0",
            "_view_count": null,
            "flex_flow": null,
            "width": null,
            "min_width": null,
            "border": null,
            "align_items": null,
            "bottom": null,
            "_model_module": "@jupyter-widgets/base",
            "top": null,
            "grid_column": null,
            "overflow_y": null,
            "overflow_x": null,
            "grid_auto_flow": null,
            "grid_area": null,
            "grid_template_columns": null,
            "flex": null,
            "_model_name": "LayoutModel",
            "justify_items": null,
            "grid_row": null,
            "max_height": null,
            "align_content": null,
            "visibility": null,
            "align_self": null,
            "height": null,
            "min_height": null,
            "padding": null,
            "grid_auto_rows": null,
            "grid_gap": null,
            "max_width": null,
            "order": null,
            "_view_module_version": "1.2.0",
            "grid_template_areas": null,
            "object_position": null,
            "object_fit": null,
            "grid_auto_columns": null,
            "margin": null,
            "display": null,
            "left": null
          }
        },
        "e78f66efe25743989f1ad5e68fcb8be3": {
          "model_module": "@jupyter-widgets/controls",
          "model_name": "ProgressStyleModel",
          "model_module_version": "1.5.0",
          "state": {
            "_view_name": "StyleView",
            "_model_name": "ProgressStyleModel",
            "description_width": "",
            "_view_module": "@jupyter-widgets/base",
            "_model_module_version": "1.5.0",
            "_view_count": null,
            "_view_module_version": "1.2.0",
            "bar_color": null,
            "_model_module": "@jupyter-widgets/controls"
          }
        },
        "78961b9db4b641cfa531683f50a9e7d5": {
          "model_module": "@jupyter-widgets/base",
          "model_name": "LayoutModel",
          "model_module_version": "1.2.0",
          "state": {
            "_view_name": "LayoutView",
            "grid_template_rows": null,
            "right": null,
            "justify_content": null,
            "_view_module": "@jupyter-widgets/base",
            "overflow": null,
            "_model_module_version": "1.2.0",
            "_view_count": null,
            "flex_flow": null,
            "width": null,
            "min_width": null,
            "border": null,
            "align_items": null,
            "bottom": null,
            "_model_module": "@jupyter-widgets/base",
            "top": null,
            "grid_column": null,
            "overflow_y": null,
            "overflow_x": null,
            "grid_auto_flow": null,
            "grid_area": null,
            "grid_template_columns": null,
            "flex": null,
            "_model_name": "LayoutModel",
            "justify_items": null,
            "grid_row": null,
            "max_height": null,
            "align_content": null,
            "visibility": null,
            "align_self": null,
            "height": null,
            "min_height": null,
            "padding": null,
            "grid_auto_rows": null,
            "grid_gap": null,
            "max_width": null,
            "order": null,
            "_view_module_version": "1.2.0",
            "grid_template_areas": null,
            "object_position": null,
            "object_fit": null,
            "grid_auto_columns": null,
            "margin": null,
            "display": null,
            "left": null
          }
        },
        "925c4b30c9cb4468ab88e7d5df9a5335": {
          "model_module": "@jupyter-widgets/controls",
          "model_name": "DescriptionStyleModel",
          "model_module_version": "1.5.0",
          "state": {
            "_view_name": "StyleView",
            "_model_name": "DescriptionStyleModel",
            "description_width": "",
            "_view_module": "@jupyter-widgets/base",
            "_model_module_version": "1.5.0",
            "_view_count": null,
            "_view_module_version": "1.2.0",
            "_model_module": "@jupyter-widgets/controls"
          }
        },
        "03a8fcb688e940c8956e8c35a0073e96": {
          "model_module": "@jupyter-widgets/base",
          "model_name": "LayoutModel",
          "model_module_version": "1.2.0",
          "state": {
            "_view_name": "LayoutView",
            "grid_template_rows": null,
            "right": null,
            "justify_content": null,
            "_view_module": "@jupyter-widgets/base",
            "overflow": null,
            "_model_module_version": "1.2.0",
            "_view_count": null,
            "flex_flow": null,
            "width": null,
            "min_width": null,
            "border": null,
            "align_items": null,
            "bottom": null,
            "_model_module": "@jupyter-widgets/base",
            "top": null,
            "grid_column": null,
            "overflow_y": null,
            "overflow_x": null,
            "grid_auto_flow": null,
            "grid_area": null,
            "grid_template_columns": null,
            "flex": null,
            "_model_name": "LayoutModel",
            "justify_items": null,
            "grid_row": null,
            "max_height": null,
            "align_content": null,
            "visibility": null,
            "align_self": null,
            "height": null,
            "min_height": null,
            "padding": null,
            "grid_auto_rows": null,
            "grid_gap": null,
            "max_width": null,
            "order": null,
            "_view_module_version": "1.2.0",
            "grid_template_areas": null,
            "object_position": null,
            "object_fit": null,
            "grid_auto_columns": null,
            "margin": null,
            "display": null,
            "left": null
          }
        },
        "a43447ca3e71480992571235d60e983a": {
          "model_module": "@jupyter-widgets/controls",
          "model_name": "HBoxModel",
          "model_module_version": "1.5.0",
          "state": {
            "_view_name": "HBoxView",
            "_dom_classes": [],
            "_model_name": "HBoxModel",
            "_view_module": "@jupyter-widgets/controls",
            "_model_module_version": "1.5.0",
            "_view_count": null,
            "_view_module_version": "1.5.0",
            "box_style": "",
            "layout": "IPY_MODEL_3d32fba574c848d5a96a561eb35d9478",
            "_model_module": "@jupyter-widgets/controls",
            "children": [
              "IPY_MODEL_9c56be539fbd4438be0c8830582a87ec",
              "IPY_MODEL_f3fa1912b5324128a94e64cbf1ae91b7",
              "IPY_MODEL_6a286e8d4fc34eaeaf5ca09b53b2a7c1"
            ]
          }
        },
        "3d32fba574c848d5a96a561eb35d9478": {
          "model_module": "@jupyter-widgets/base",
          "model_name": "LayoutModel",
          "model_module_version": "1.2.0",
          "state": {
            "_view_name": "LayoutView",
            "grid_template_rows": null,
            "right": null,
            "justify_content": null,
            "_view_module": "@jupyter-widgets/base",
            "overflow": null,
            "_model_module_version": "1.2.0",
            "_view_count": null,
            "flex_flow": null,
            "width": null,
            "min_width": null,
            "border": null,
            "align_items": null,
            "bottom": null,
            "_model_module": "@jupyter-widgets/base",
            "top": null,
            "grid_column": null,
            "overflow_y": null,
            "overflow_x": null,
            "grid_auto_flow": null,
            "grid_area": null,
            "grid_template_columns": null,
            "flex": null,
            "_model_name": "LayoutModel",
            "justify_items": null,
            "grid_row": null,
            "max_height": null,
            "align_content": null,
            "visibility": null,
            "align_self": null,
            "height": null,
            "min_height": null,
            "padding": null,
            "grid_auto_rows": null,
            "grid_gap": null,
            "max_width": null,
            "order": null,
            "_view_module_version": "1.2.0",
            "grid_template_areas": null,
            "object_position": null,
            "object_fit": null,
            "grid_auto_columns": null,
            "margin": null,
            "display": null,
            "left": null
          }
        },
        "9c56be539fbd4438be0c8830582a87ec": {
          "model_module": "@jupyter-widgets/controls",
          "model_name": "HTMLModel",
          "model_module_version": "1.5.0",
          "state": {
            "_view_name": "HTMLView",
            "style": "IPY_MODEL_a1ee903e6dab4faaab30dff60a599b0c",
            "_dom_classes": [],
            "description": "",
            "_model_name": "HTMLModel",
            "placeholder": "​",
            "_view_module": "@jupyter-widgets/controls",
            "_model_module_version": "1.5.0",
            "value": "100%",
            "_view_count": null,
            "_view_module_version": "1.5.0",
            "description_tooltip": null,
            "_model_module": "@jupyter-widgets/controls",
            "layout": "IPY_MODEL_845cd3fc05fc42cea83cfb8d4ce4563d"
          }
        },
        "f3fa1912b5324128a94e64cbf1ae91b7": {
          "model_module": "@jupyter-widgets/controls",
          "model_name": "FloatProgressModel",
          "model_module_version": "1.5.0",
          "state": {
            "_view_name": "ProgressView",
            "style": "IPY_MODEL_8b7cd34bcc1e481095282d005ea352bf",
            "_dom_classes": [],
            "description": "",
            "_model_name": "FloatProgressModel",
            "bar_style": "success",
            "max": 160,
            "_view_module": "@jupyter-widgets/controls",
            "_model_module_version": "1.5.0",
            "value": 160,
            "_view_count": null,
            "_view_module_version": "1.5.0",
            "orientation": "horizontal",
            "min": 0,
            "description_tooltip": null,
            "_model_module": "@jupyter-widgets/controls",
            "layout": "IPY_MODEL_19d79a7493994130b59860697c6a077a"
          }
        },
        "6a286e8d4fc34eaeaf5ca09b53b2a7c1": {
          "model_module": "@jupyter-widgets/controls",
          "model_name": "HTMLModel",
          "model_module_version": "1.5.0",
          "state": {
            "_view_name": "HTMLView",
            "style": "IPY_MODEL_3854da3b5d6648038883b1df2c21f57f",
            "_dom_classes": [],
            "description": "",
            "_model_name": "HTMLModel",
            "placeholder": "​",
            "_view_module": "@jupyter-widgets/controls",
            "_model_module_version": "1.5.0",
            "value": " 160/160 [02:14&lt;00:00,  1.36it/s]",
            "_view_count": null,
            "_view_module_version": "1.5.0",
            "description_tooltip": null,
            "_model_module": "@jupyter-widgets/controls",
            "layout": "IPY_MODEL_e1d2c9bf2ff74f22a36a7abfdeba2787"
          }
        },
        "a1ee903e6dab4faaab30dff60a599b0c": {
          "model_module": "@jupyter-widgets/controls",
          "model_name": "DescriptionStyleModel",
          "model_module_version": "1.5.0",
          "state": {
            "_view_name": "StyleView",
            "_model_name": "DescriptionStyleModel",
            "description_width": "",
            "_view_module": "@jupyter-widgets/base",
            "_model_module_version": "1.5.0",
            "_view_count": null,
            "_view_module_version": "1.2.0",
            "_model_module": "@jupyter-widgets/controls"
          }
        },
        "845cd3fc05fc42cea83cfb8d4ce4563d": {
          "model_module": "@jupyter-widgets/base",
          "model_name": "LayoutModel",
          "model_module_version": "1.2.0",
          "state": {
            "_view_name": "LayoutView",
            "grid_template_rows": null,
            "right": null,
            "justify_content": null,
            "_view_module": "@jupyter-widgets/base",
            "overflow": null,
            "_model_module_version": "1.2.0",
            "_view_count": null,
            "flex_flow": null,
            "width": null,
            "min_width": null,
            "border": null,
            "align_items": null,
            "bottom": null,
            "_model_module": "@jupyter-widgets/base",
            "top": null,
            "grid_column": null,
            "overflow_y": null,
            "overflow_x": null,
            "grid_auto_flow": null,
            "grid_area": null,
            "grid_template_columns": null,
            "flex": null,
            "_model_name": "LayoutModel",
            "justify_items": null,
            "grid_row": null,
            "max_height": null,
            "align_content": null,
            "visibility": null,
            "align_self": null,
            "height": null,
            "min_height": null,
            "padding": null,
            "grid_auto_rows": null,
            "grid_gap": null,
            "max_width": null,
            "order": null,
            "_view_module_version": "1.2.0",
            "grid_template_areas": null,
            "object_position": null,
            "object_fit": null,
            "grid_auto_columns": null,
            "margin": null,
            "display": null,
            "left": null
          }
        },
        "8b7cd34bcc1e481095282d005ea352bf": {
          "model_module": "@jupyter-widgets/controls",
          "model_name": "ProgressStyleModel",
          "model_module_version": "1.5.0",
          "state": {
            "_view_name": "StyleView",
            "_model_name": "ProgressStyleModel",
            "description_width": "",
            "_view_module": "@jupyter-widgets/base",
            "_model_module_version": "1.5.0",
            "_view_count": null,
            "_view_module_version": "1.2.0",
            "bar_color": null,
            "_model_module": "@jupyter-widgets/controls"
          }
        },
        "19d79a7493994130b59860697c6a077a": {
          "model_module": "@jupyter-widgets/base",
          "model_name": "LayoutModel",
          "model_module_version": "1.2.0",
          "state": {
            "_view_name": "LayoutView",
            "grid_template_rows": null,
            "right": null,
            "justify_content": null,
            "_view_module": "@jupyter-widgets/base",
            "overflow": null,
            "_model_module_version": "1.2.0",
            "_view_count": null,
            "flex_flow": null,
            "width": null,
            "min_width": null,
            "border": null,
            "align_items": null,
            "bottom": null,
            "_model_module": "@jupyter-widgets/base",
            "top": null,
            "grid_column": null,
            "overflow_y": null,
            "overflow_x": null,
            "grid_auto_flow": null,
            "grid_area": null,
            "grid_template_columns": null,
            "flex": null,
            "_model_name": "LayoutModel",
            "justify_items": null,
            "grid_row": null,
            "max_height": null,
            "align_content": null,
            "visibility": null,
            "align_self": null,
            "height": null,
            "min_height": null,
            "padding": null,
            "grid_auto_rows": null,
            "grid_gap": null,
            "max_width": null,
            "order": null,
            "_view_module_version": "1.2.0",
            "grid_template_areas": null,
            "object_position": null,
            "object_fit": null,
            "grid_auto_columns": null,
            "margin": null,
            "display": null,
            "left": null
          }
        },
        "3854da3b5d6648038883b1df2c21f57f": {
          "model_module": "@jupyter-widgets/controls",
          "model_name": "DescriptionStyleModel",
          "model_module_version": "1.5.0",
          "state": {
            "_view_name": "StyleView",
            "_model_name": "DescriptionStyleModel",
            "description_width": "",
            "_view_module": "@jupyter-widgets/base",
            "_model_module_version": "1.5.0",
            "_view_count": null,
            "_view_module_version": "1.2.0",
            "_model_module": "@jupyter-widgets/controls"
          }
        },
        "e1d2c9bf2ff74f22a36a7abfdeba2787": {
          "model_module": "@jupyter-widgets/base",
          "model_name": "LayoutModel",
          "model_module_version": "1.2.0",
          "state": {
            "_view_name": "LayoutView",
            "grid_template_rows": null,
            "right": null,
            "justify_content": null,
            "_view_module": "@jupyter-widgets/base",
            "overflow": null,
            "_model_module_version": "1.2.0",
            "_view_count": null,
            "flex_flow": null,
            "width": null,
            "min_width": null,
            "border": null,
            "align_items": null,
            "bottom": null,
            "_model_module": "@jupyter-widgets/base",
            "top": null,
            "grid_column": null,
            "overflow_y": null,
            "overflow_x": null,
            "grid_auto_flow": null,
            "grid_area": null,
            "grid_template_columns": null,
            "flex": null,
            "_model_name": "LayoutModel",
            "justify_items": null,
            "grid_row": null,
            "max_height": null,
            "align_content": null,
            "visibility": null,
            "align_self": null,
            "height": null,
            "min_height": null,
            "padding": null,
            "grid_auto_rows": null,
            "grid_gap": null,
            "max_width": null,
            "order": null,
            "_view_module_version": "1.2.0",
            "grid_template_areas": null,
            "object_position": null,
            "object_fit": null,
            "grid_auto_columns": null,
            "margin": null,
            "display": null,
            "left": null
          }
        },
        "515cab940dd44d1fb5500a5dff68f690": {
          "model_module": "@jupyter-widgets/controls",
          "model_name": "HBoxModel",
          "model_module_version": "1.5.0",
          "state": {
            "_view_name": "HBoxView",
            "_dom_classes": [],
            "_model_name": "HBoxModel",
            "_view_module": "@jupyter-widgets/controls",
            "_model_module_version": "1.5.0",
            "_view_count": null,
            "_view_module_version": "1.5.0",
            "box_style": "",
            "layout": "IPY_MODEL_bee1180847e04cad8138fd1d3ed82545",
            "_model_module": "@jupyter-widgets/controls",
            "children": [
              "IPY_MODEL_e9c5d37641f946538000045215e1ab28",
              "IPY_MODEL_81805cf4208f4aab94ccc56282eba6dc",
              "IPY_MODEL_aa4db9bafdfa4d58a09bad8dd0d09d4a"
            ]
          }
        },
        "bee1180847e04cad8138fd1d3ed82545": {
          "model_module": "@jupyter-widgets/base",
          "model_name": "LayoutModel",
          "model_module_version": "1.2.0",
          "state": {
            "_view_name": "LayoutView",
            "grid_template_rows": null,
            "right": null,
            "justify_content": null,
            "_view_module": "@jupyter-widgets/base",
            "overflow": null,
            "_model_module_version": "1.2.0",
            "_view_count": null,
            "flex_flow": null,
            "width": null,
            "min_width": null,
            "border": null,
            "align_items": null,
            "bottom": null,
            "_model_module": "@jupyter-widgets/base",
            "top": null,
            "grid_column": null,
            "overflow_y": null,
            "overflow_x": null,
            "grid_auto_flow": null,
            "grid_area": null,
            "grid_template_columns": null,
            "flex": null,
            "_model_name": "LayoutModel",
            "justify_items": null,
            "grid_row": null,
            "max_height": null,
            "align_content": null,
            "visibility": null,
            "align_self": null,
            "height": null,
            "min_height": null,
            "padding": null,
            "grid_auto_rows": null,
            "grid_gap": null,
            "max_width": null,
            "order": null,
            "_view_module_version": "1.2.0",
            "grid_template_areas": null,
            "object_position": null,
            "object_fit": null,
            "grid_auto_columns": null,
            "margin": null,
            "display": null,
            "left": null
          }
        },
        "e9c5d37641f946538000045215e1ab28": {
          "model_module": "@jupyter-widgets/controls",
          "model_name": "HTMLModel",
          "model_module_version": "1.5.0",
          "state": {
            "_view_name": "HTMLView",
            "style": "IPY_MODEL_475ad286e7144c88a306ed4ddf8480b4",
            "_dom_classes": [],
            "description": "",
            "_model_name": "HTMLModel",
            "placeholder": "​",
            "_view_module": "@jupyter-widgets/controls",
            "_model_module_version": "1.5.0",
            "value": "100%",
            "_view_count": null,
            "_view_module_version": "1.5.0",
            "description_tooltip": null,
            "_model_module": "@jupyter-widgets/controls",
            "layout": "IPY_MODEL_b2c600a86d4e4b51a0cf2bf67e771e1a"
          }
        },
        "81805cf4208f4aab94ccc56282eba6dc": {
          "model_module": "@jupyter-widgets/controls",
          "model_name": "FloatProgressModel",
          "model_module_version": "1.5.0",
          "state": {
            "_view_name": "ProgressView",
            "style": "IPY_MODEL_b15a808d04374396a88642ccdf114491",
            "_dom_classes": [],
            "description": "",
            "_model_name": "FloatProgressModel",
            "bar_style": "success",
            "max": 160,
            "_view_module": "@jupyter-widgets/controls",
            "_model_module_version": "1.5.0",
            "value": 160,
            "_view_count": null,
            "_view_module_version": "1.5.0",
            "orientation": "horizontal",
            "min": 0,
            "description_tooltip": null,
            "_model_module": "@jupyter-widgets/controls",
            "layout": "IPY_MODEL_48126fcc465c43a7a42db307223c7b7e"
          }
        },
        "aa4db9bafdfa4d58a09bad8dd0d09d4a": {
          "model_module": "@jupyter-widgets/controls",
          "model_name": "HTMLModel",
          "model_module_version": "1.5.0",
          "state": {
            "_view_name": "HTMLView",
            "style": "IPY_MODEL_6d2b21b46b2441e8b4b8a0799f178e12",
            "_dom_classes": [],
            "description": "",
            "_model_name": "HTMLModel",
            "placeholder": "​",
            "_view_module": "@jupyter-widgets/controls",
            "_model_module_version": "1.5.0",
            "value": " 160/160 [01:10&lt;00:00,  2.36it/s]",
            "_view_count": null,
            "_view_module_version": "1.5.0",
            "description_tooltip": null,
            "_model_module": "@jupyter-widgets/controls",
            "layout": "IPY_MODEL_44e5c8712de244ffb5217767b8a29417"
          }
        },
        "475ad286e7144c88a306ed4ddf8480b4": {
          "model_module": "@jupyter-widgets/controls",
          "model_name": "DescriptionStyleModel",
          "model_module_version": "1.5.0",
          "state": {
            "_view_name": "StyleView",
            "_model_name": "DescriptionStyleModel",
            "description_width": "",
            "_view_module": "@jupyter-widgets/base",
            "_model_module_version": "1.5.0",
            "_view_count": null,
            "_view_module_version": "1.2.0",
            "_model_module": "@jupyter-widgets/controls"
          }
        },
        "b2c600a86d4e4b51a0cf2bf67e771e1a": {
          "model_module": "@jupyter-widgets/base",
          "model_name": "LayoutModel",
          "model_module_version": "1.2.0",
          "state": {
            "_view_name": "LayoutView",
            "grid_template_rows": null,
            "right": null,
            "justify_content": null,
            "_view_module": "@jupyter-widgets/base",
            "overflow": null,
            "_model_module_version": "1.2.0",
            "_view_count": null,
            "flex_flow": null,
            "width": null,
            "min_width": null,
            "border": null,
            "align_items": null,
            "bottom": null,
            "_model_module": "@jupyter-widgets/base",
            "top": null,
            "grid_column": null,
            "overflow_y": null,
            "overflow_x": null,
            "grid_auto_flow": null,
            "grid_area": null,
            "grid_template_columns": null,
            "flex": null,
            "_model_name": "LayoutModel",
            "justify_items": null,
            "grid_row": null,
            "max_height": null,
            "align_content": null,
            "visibility": null,
            "align_self": null,
            "height": null,
            "min_height": null,
            "padding": null,
            "grid_auto_rows": null,
            "grid_gap": null,
            "max_width": null,
            "order": null,
            "_view_module_version": "1.2.0",
            "grid_template_areas": null,
            "object_position": null,
            "object_fit": null,
            "grid_auto_columns": null,
            "margin": null,
            "display": null,
            "left": null
          }
        },
        "b15a808d04374396a88642ccdf114491": {
          "model_module": "@jupyter-widgets/controls",
          "model_name": "ProgressStyleModel",
          "model_module_version": "1.5.0",
          "state": {
            "_view_name": "StyleView",
            "_model_name": "ProgressStyleModel",
            "description_width": "",
            "_view_module": "@jupyter-widgets/base",
            "_model_module_version": "1.5.0",
            "_view_count": null,
            "_view_module_version": "1.2.0",
            "bar_color": null,
            "_model_module": "@jupyter-widgets/controls"
          }
        },
        "48126fcc465c43a7a42db307223c7b7e": {
          "model_module": "@jupyter-widgets/base",
          "model_name": "LayoutModel",
          "model_module_version": "1.2.0",
          "state": {
            "_view_name": "LayoutView",
            "grid_template_rows": null,
            "right": null,
            "justify_content": null,
            "_view_module": "@jupyter-widgets/base",
            "overflow": null,
            "_model_module_version": "1.2.0",
            "_view_count": null,
            "flex_flow": null,
            "width": null,
            "min_width": null,
            "border": null,
            "align_items": null,
            "bottom": null,
            "_model_module": "@jupyter-widgets/base",
            "top": null,
            "grid_column": null,
            "overflow_y": null,
            "overflow_x": null,
            "grid_auto_flow": null,
            "grid_area": null,
            "grid_template_columns": null,
            "flex": null,
            "_model_name": "LayoutModel",
            "justify_items": null,
            "grid_row": null,
            "max_height": null,
            "align_content": null,
            "visibility": null,
            "align_self": null,
            "height": null,
            "min_height": null,
            "padding": null,
            "grid_auto_rows": null,
            "grid_gap": null,
            "max_width": null,
            "order": null,
            "_view_module_version": "1.2.0",
            "grid_template_areas": null,
            "object_position": null,
            "object_fit": null,
            "grid_auto_columns": null,
            "margin": null,
            "display": null,
            "left": null
          }
        },
        "6d2b21b46b2441e8b4b8a0799f178e12": {
          "model_module": "@jupyter-widgets/controls",
          "model_name": "DescriptionStyleModel",
          "model_module_version": "1.5.0",
          "state": {
            "_view_name": "StyleView",
            "_model_name": "DescriptionStyleModel",
            "description_width": "",
            "_view_module": "@jupyter-widgets/base",
            "_model_module_version": "1.5.0",
            "_view_count": null,
            "_view_module_version": "1.2.0",
            "_model_module": "@jupyter-widgets/controls"
          }
        },
        "44e5c8712de244ffb5217767b8a29417": {
          "model_module": "@jupyter-widgets/base",
          "model_name": "LayoutModel",
          "model_module_version": "1.2.0",
          "state": {
            "_view_name": "LayoutView",
            "grid_template_rows": null,
            "right": null,
            "justify_content": null,
            "_view_module": "@jupyter-widgets/base",
            "overflow": null,
            "_model_module_version": "1.2.0",
            "_view_count": null,
            "flex_flow": null,
            "width": null,
            "min_width": null,
            "border": null,
            "align_items": null,
            "bottom": null,
            "_model_module": "@jupyter-widgets/base",
            "top": null,
            "grid_column": null,
            "overflow_y": null,
            "overflow_x": null,
            "grid_auto_flow": null,
            "grid_area": null,
            "grid_template_columns": null,
            "flex": null,
            "_model_name": "LayoutModel",
            "justify_items": null,
            "grid_row": null,
            "max_height": null,
            "align_content": null,
            "visibility": null,
            "align_self": null,
            "height": null,
            "min_height": null,
            "padding": null,
            "grid_auto_rows": null,
            "grid_gap": null,
            "max_width": null,
            "order": null,
            "_view_module_version": "1.2.0",
            "grid_template_areas": null,
            "object_position": null,
            "object_fit": null,
            "grid_auto_columns": null,
            "margin": null,
            "display": null,
            "left": null
          }
        }
      }
    }
  },
  "cells": [
    {
      "cell_type": "code",
      "metadata": {
        "id": "1kJaECw4B47X",
        "colab": {
          "base_uri": "https://localhost:8080/"
        },
        "outputId": "903880f9-acf8-49b3-8cd9-1d1ec6954079"
      },
      "source": [
        "!apt install -qq enchant\n",
        "!pip install pyenchant\n",
        "!pip install pyspellchecker\n",
        "!pip install transformers\n",
        "!pip install conllu\n",
        "!pip install ufal.udpipe\n",
        "\n",
        "from sklearn.linear_model import LogisticRegression, RidgeClassifier\n",
        "from sklearn.ensemble import RandomForestClassifier\n",
        "from sklearn.svm import SVC\n",
        "from sklearn.tree import DecisionTreeClassifier\n",
        "from sklearn.naive_bayes import BernoulliNB\n",
        "from sklearn.feature_extraction.text import TfidfVectorizer\n",
        "from sklearn.model_selection import train_test_split\n",
        "from sklearn.decomposition import TruncatedSVD\n",
        "from sklearn.manifold import TSNE\n",
        "from sklearn.metrics import classification_report\n",
        "from sklearn.preprocessing import LabelEncoder\n",
        "from gensim.models import KeyedVectors\n",
        "from transformers import BertModel, BertTokenizer, GPT2Model, GPT2Tokenizer\n",
        "from tqdm import tqdm_notebook\n",
        "from math import ceil\n",
        "\n",
        "import re\n",
        "import os\n",
        "import html\n",
        "import pandas as pd\n",
        "import matplotlib.pyplot as plt\n",
        "import numpy as np\n",
        "\n",
        "import nltk\n",
        "nltk.download('punkt')\n",
        "from nltk import word_tokenize"
      ],
      "execution_count": null,
      "outputs": [
        {
          "output_type": "stream",
          "name": "stdout",
          "text": [
            "enchant is already the newest version (1.6.0-11.1).\n",
            "0 upgraded, 0 newly installed, 0 to remove and 40 not upgraded.\n",
            "Requirement already satisfied: pyenchant in /usr/local/lib/python3.7/dist-packages (3.2.1)\n",
            "Requirement already satisfied: pyspellchecker in /usr/local/lib/python3.7/dist-packages (0.6.2)\n",
            "Requirement already satisfied: transformers in /usr/local/lib/python3.7/dist-packages (4.10.0)\n",
            "Requirement already satisfied: huggingface-hub>=0.0.12 in /usr/local/lib/python3.7/dist-packages (from transformers) (0.0.16)\n",
            "Requirement already satisfied: pyyaml>=5.1 in /usr/local/lib/python3.7/dist-packages (from transformers) (5.4.1)\n",
            "Requirement already satisfied: sacremoses in /usr/local/lib/python3.7/dist-packages (from transformers) (0.0.45)\n",
            "Requirement already satisfied: filelock in /usr/local/lib/python3.7/dist-packages (from transformers) (3.0.12)\n",
            "Requirement already satisfied: regex!=2019.12.17 in /usr/local/lib/python3.7/dist-packages (from transformers) (2019.12.20)\n",
            "Requirement already satisfied: packaging in /usr/local/lib/python3.7/dist-packages (from transformers) (21.0)\n",
            "Requirement already satisfied: tokenizers<0.11,>=0.10.1 in /usr/local/lib/python3.7/dist-packages (from transformers) (0.10.3)\n",
            "Requirement already satisfied: tqdm>=4.27 in /usr/local/lib/python3.7/dist-packages (from transformers) (4.62.0)\n",
            "Requirement already satisfied: importlib-metadata in /usr/local/lib/python3.7/dist-packages (from transformers) (4.6.4)\n",
            "Requirement already satisfied: numpy>=1.17 in /usr/local/lib/python3.7/dist-packages (from transformers) (1.19.5)\n",
            "Requirement already satisfied: requests in /usr/local/lib/python3.7/dist-packages (from transformers) (2.23.0)\n",
            "Requirement already satisfied: typing-extensions in /usr/local/lib/python3.7/dist-packages (from huggingface-hub>=0.0.12->transformers) (3.7.4.3)\n",
            "Requirement already satisfied: pyparsing>=2.0.2 in /usr/local/lib/python3.7/dist-packages (from packaging->transformers) (2.4.7)\n",
            "Requirement already satisfied: zipp>=0.5 in /usr/local/lib/python3.7/dist-packages (from importlib-metadata->transformers) (3.5.0)\n",
            "Requirement already satisfied: certifi>=2017.4.17 in /usr/local/lib/python3.7/dist-packages (from requests->transformers) (2021.5.30)\n",
            "Requirement already satisfied: chardet<4,>=3.0.2 in /usr/local/lib/python3.7/dist-packages (from requests->transformers) (3.0.4)\n",
            "Requirement already satisfied: idna<3,>=2.5 in /usr/local/lib/python3.7/dist-packages (from requests->transformers) (2.10)\n",
            "Requirement already satisfied: urllib3!=1.25.0,!=1.25.1,<1.26,>=1.21.1 in /usr/local/lib/python3.7/dist-packages (from requests->transformers) (1.24.3)\n",
            "Requirement already satisfied: joblib in /usr/local/lib/python3.7/dist-packages (from sacremoses->transformers) (1.0.1)\n",
            "Requirement already satisfied: click in /usr/local/lib/python3.7/dist-packages (from sacremoses->transformers) (7.1.2)\n",
            "Requirement already satisfied: six in /usr/local/lib/python3.7/dist-packages (from sacremoses->transformers) (1.15.0)\n",
            "Requirement already satisfied: conllu in /usr/local/lib/python3.7/dist-packages (4.4.1)\n",
            "Requirement already satisfied: ufal.udpipe in /usr/local/lib/python3.7/dist-packages (1.2.0.3)\n",
            "[nltk_data] Downloading package punkt to /root/nltk_data...\n",
            "[nltk_data]   Package punkt is already up-to-date!\n"
          ]
        }
      ]
    },
    {
      "cell_type": "code",
      "metadata": {
        "id": "WbzAykKbEMIw"
      },
      "source": [
        "import pickle"
      ],
      "execution_count": null,
      "outputs": []
    },
    {
      "cell_type": "code",
      "metadata": {
        "id": "bmWaU8c_E0gj"
      },
      "source": [
        "from google.colab import files"
      ],
      "execution_count": null,
      "outputs": []
    },
    {
      "cell_type": "code",
      "metadata": {
        "colab": {
          "base_uri": "https://localhost:8080/",
          "height": 379
        },
        "id": "n31g5F24nUcQ",
        "outputId": "3374d3e0-d491-4fda-8c13-f4d67f236b6d"
      },
      "source": [
        "!pip uninstall scikit-learn\n",
        "!pip install scikit-learn==0.21.2"
      ],
      "execution_count": null,
      "outputs": [
        {
          "output_type": "stream",
          "name": "stdout",
          "text": [
            "Found existing installation: scikit-learn 0.22.2.post1\n",
            "Uninstalling scikit-learn-0.22.2.post1:\n",
            "  Would remove:\n",
            "    /usr/local/lib/python3.7/dist-packages/scikit_learn-0.22.2.post1.dist-info/*\n",
            "    /usr/local/lib/python3.7/dist-packages/sklearn/*\n",
            "Proceed (y/n)? y\n",
            "  Successfully uninstalled scikit-learn-0.22.2.post1\n",
            "Collecting scikit-learn==0.21.2\n",
            "  Downloading scikit_learn-0.21.2-cp37-cp37m-manylinux1_x86_64.whl (6.7 MB)\n",
            "\u001b[K     |████████████████████████████████| 6.7 MB 15.7 MB/s \n",
            "\u001b[?25hRequirement already satisfied: joblib>=0.11 in /usr/local/lib/python3.7/dist-packages (from scikit-learn==0.21.2) (1.0.1)\n",
            "Requirement already satisfied: numpy>=1.11.0 in /usr/local/lib/python3.7/dist-packages (from scikit-learn==0.21.2) (1.19.5)\n",
            "Requirement already satisfied: scipy>=0.17.0 in /usr/local/lib/python3.7/dist-packages (from scikit-learn==0.21.2) (1.4.1)\n",
            "Installing collected packages: scikit-learn\n",
            "Successfully installed scikit-learn-0.21.2\n"
          ]
        },
        {
          "output_type": "display_data",
          "data": {
            "application/vnd.colab-display-data+json": {
              "pip_warning": {
                "packages": [
                  "sklearn"
                ]
              }
            }
          },
          "metadata": {}
        }
      ]
    },
    {
      "cell_type": "markdown",
      "metadata": {
        "id": "uG776ROjnA6c"
      },
      "source": [
        "Установим Инспектор:"
      ]
    },
    {
      "cell_type": "code",
      "metadata": {
        "colab": {
          "base_uri": "https://localhost:8080/"
        },
        "id": "7go82-IcnEAJ",
        "outputId": "719fd153-77aa-4dc1-c852-65e9c7236951"
      },
      "source": [
        "!git clone https://github.com/lcl-hse/lab_inspector.git"
      ],
      "execution_count": null,
      "outputs": [
        {
          "output_type": "stream",
          "name": "stdout",
          "text": [
            "Cloning into 'lab_inspector'...\n",
            "remote: Enumerating objects: 21918, done.\u001b[K\n",
            "remote: Counting objects: 100% (34/34), done.\u001b[K\n",
            "remote: Compressing objects: 100% (31/31), done.\u001b[K\n",
            "remote: Total 21918 (delta 5), reused 27 (delta 2), pack-reused 21884\u001b[K\n",
            "Receiving objects: 100% (21918/21918), 93.60 MiB | 23.88 MiB/s, done.\n",
            "Resolving deltas: 100% (5494/5494), done.\n",
            "Checking out files: 100% (26120/26120), done.\n"
          ]
        }
      ]
    },
    {
      "cell_type": "code",
      "metadata": {
        "colab": {
          "base_uri": "https://localhost:8080/"
        },
        "id": "SN-lywiZnMOF",
        "outputId": "44e722c2-de5d-40b9-dcf5-7170933cba16"
      },
      "source": [
        "os.listdir('lab_inspector')"
      ],
      "execution_count": null,
      "outputs": [
        {
          "output_type": "execute_result",
          "data": {
            "text/plain": [
              "['R', 'Inspector', 'README.md', '.git']"
            ]
          },
          "metadata": {},
          "execution_count": 3
        }
      ]
    },
    {
      "cell_type": "markdown",
      "metadata": {
        "id": "P9eselqzty4w"
      },
      "source": [
        "Установим модель Word2Vec:"
      ]
    },
    {
      "cell_type": "code",
      "metadata": {
        "colab": {
          "base_uri": "https://localhost:8080/"
        },
        "id": "OgDgzM-5tziP",
        "outputId": "ba428445-1ebb-41c6-e7dd-1760c8020299"
      },
      "source": [
        "!wget http://vectors.nlpl.eu/repository/20/40.zip"
      ],
      "execution_count": null,
      "outputs": [
        {
          "output_type": "stream",
          "name": "stdout",
          "text": [
            "--2021-09-06 10:46:38--  http://vectors.nlpl.eu/repository/20/40.zip\n",
            "Resolving vectors.nlpl.eu (vectors.nlpl.eu)... 129.240.189.181\n",
            "Connecting to vectors.nlpl.eu (vectors.nlpl.eu)|129.240.189.181|:80... connected.\n",
            "HTTP request sent, awaiting response... 200 OK\n",
            "Length: 3033545506 (2.8G) [application/zip]\n",
            "Saving to: ‘40.zip’\n",
            "\n",
            "40.zip              100%[===================>]   2.83G  26.9MB/s    in 1m 47s  \n",
            "\n",
            "2021-09-06 10:48:25 (27.1 MB/s) - ‘40.zip’ saved [3033545506/3033545506]\n",
            "\n"
          ]
        }
      ]
    },
    {
      "cell_type": "code",
      "metadata": {
        "colab": {
          "base_uri": "https://localhost:8080/"
        },
        "id": "4NFXcHuvt6Ub",
        "outputId": "adee0d36-c2f9-48f2-b0d5-4ae1769bab5e"
      },
      "source": [
        "!unzip 40.zip"
      ],
      "execution_count": null,
      "outputs": [
        {
          "output_type": "stream",
          "name": "stdout",
          "text": [
            "Archive:  40.zip\n",
            "  inflating: LIST                    \n",
            "  inflating: meta.json               \n",
            "  inflating: model.bin               \n",
            "  inflating: model.txt               \n",
            "  inflating: README                  \n"
          ]
        }
      ]
    },
    {
      "cell_type": "markdown",
      "metadata": {
        "id": "UxBvF0fc6KlI"
      },
      "source": [
        "## Load data"
      ]
    },
    {
      "cell_type": "code",
      "metadata": {
        "id": "3YNaPOBu6Mxa",
        "colab": {
          "base_uri": "https://localhost:8080/"
        },
        "outputId": "c882769e-2f22-4f5b-9eb8-03b52b0e3c83"
      },
      "source": [
        "from google.colab import drive\n",
        "drive.mount('/content/drive')\n",
        "questions = pd.read_excel('drive/My Drive/QuestionLevelPrediction/questions_final.xlsx', index_col='Unnamed: 0')"
      ],
      "execution_count": null,
      "outputs": [
        {
          "output_type": "stream",
          "name": "stdout",
          "text": [
            "Drive already mounted at /content/drive; to attempt to forcibly remount, call drive.mount(\"/content/drive\", force_remount=True).\n"
          ]
        }
      ]
    },
    {
      "cell_type": "code",
      "metadata": {
        "id": "21U7QXEo6V4S"
      },
      "source": [
        "def clean_question_text(qtext):\n",
        "  quest_text = re.sub('<.*?>','',qtext)\n",
        "  quest_text = html.unescape(quest_text)\n",
        "  return quest_text"
      ],
      "execution_count": null,
      "outputs": []
    },
    {
      "cell_type": "code",
      "metadata": {
        "id": "5QcTRkp967SW",
        "colab": {
          "base_uri": "https://localhost:8080/",
          "height": 422
        },
        "outputId": "9dfda715-ada5-4f44-cda0-63b935b0949c"
      },
      "source": [
        "questions"
      ],
      "execution_count": null,
      "outputs": [
        {
          "output_type": "execute_result",
          "data": {
            "text/html": [
              "<div>\n",
              "<style scoped>\n",
              "    .dataframe tbody tr th:only-of-type {\n",
              "        vertical-align: middle;\n",
              "    }\n",
              "\n",
              "    .dataframe tbody tr th {\n",
              "        vertical-align: top;\n",
              "    }\n",
              "\n",
              "    .dataframe thead th {\n",
              "        text-align: right;\n",
              "    }\n",
              "</style>\n",
              "<table border=\"1\" class=\"dataframe\">\n",
              "  <thead>\n",
              "    <tr style=\"text-align: right;\">\n",
              "      <th></th>\n",
              "      <th>question</th>\n",
              "      <th>category</th>\n",
              "      <th>Unnamed: 3</th>\n",
              "      <th>collection</th>\n",
              "    </tr>\n",
              "  </thead>\n",
              "  <tbody>\n",
              "    <tr>\n",
              "      <th>0</th>\n",
              "      <td>The given diagram &lt;b&gt;demonstrate&lt;/b&gt; the propo...</td>\n",
              "      <td>1</td>\n",
              "      <td>NaN</td>\n",
              "      <td>Placement test 2017</td>\n",
              "    </tr>\n",
              "    <tr>\n",
              "      <th>1</th>\n",
              "      <td>After a stable period we can see a huge increa...</td>\n",
              "      <td>adpq_2</td>\n",
              "      <td>2</td>\n",
              "      <td>Placement test 2017</td>\n",
              "    </tr>\n",
              "    <tr>\n",
              "      <th>2</th>\n",
              "      <td>Thus, the percentage of people &lt;b&gt;65 and plus ...</td>\n",
              "      <td>adpq_3</td>\n",
              "      <td>3</td>\n",
              "      <td>Placement test 2017</td>\n",
              "    </tr>\n",
              "    <tr>\n",
              "      <th>3</th>\n",
              "      <td>And it comes after many years of their efforts...</td>\n",
              "      <td>adpq_2</td>\n",
              "      <td>15</td>\n",
              "      <td>Placement test 2017</td>\n",
              "    </tr>\n",
              "    <tr>\n",
              "      <th>4</th>\n",
              "      <td>It is clear that Kyoto and Los Angeles undergr...</td>\n",
              "      <td>adpq_2</td>\n",
              "      <td>8</td>\n",
              "      <td>Placement test 2017</td>\n",
              "    </tr>\n",
              "    <tr>\n",
              "      <th>...</th>\n",
              "      <td>...</td>\n",
              "      <td>...</td>\n",
              "      <td>...</td>\n",
              "      <td>...</td>\n",
              "    </tr>\n",
              "    <tr>\n",
              "      <th>732</th>\n",
              "      <td>But their richest part of the population &lt;b&gt;us...</td>\n",
              "      <td>adpq_1</td>\n",
              "      <td>NaN</td>\n",
              "      <td>Current version of test</td>\n",
              "    </tr>\n",
              "    <tr>\n",
              "      <th>733</th>\n",
              "      <td>From 1960s it gradually decreased to 5 per cen...</td>\n",
              "      <td>adpq_3</td>\n",
              "      <td>Comparative_constr</td>\n",
              "      <td>Current version of test</td>\n",
              "    </tr>\n",
              "    <tr>\n",
              "      <th>734</th>\n",
              "      <td>And it is not pointless making children who la...</td>\n",
              "      <td>pointless doing? or making to do?</td>\n",
              "      <td>NaN</td>\n",
              "      <td>Current version of test</td>\n",
              "    </tr>\n",
              "    <tr>\n",
              "      <th>735</th>\n",
              "      <td>Even if &lt;b&gt;the child&lt;/b&gt; doesn&amp;#8217;t have tr...</td>\n",
              "      <td>adpq_1</td>\n",
              "      <td>Art_choice</td>\n",
              "      <td>Current version of test</td>\n",
              "    </tr>\n",
              "    <tr>\n",
              "      <th>736</th>\n",
              "      <td>There are a lot of people who will disagree wi...</td>\n",
              "      <td>adpq_3</td>\n",
              "      <td>Art_form</td>\n",
              "      <td>Current version of test</td>\n",
              "    </tr>\n",
              "  </tbody>\n",
              "</table>\n",
              "<p>737 rows × 4 columns</p>\n",
              "</div>"
            ],
            "text/plain": [
              "                                              question  ...               collection\n",
              "0    The given diagram <b>demonstrate</b> the propo...  ...      Placement test 2017\n",
              "1    After a stable period we can see a huge increa...  ...      Placement test 2017\n",
              "2    Thus, the percentage of people <b>65 and plus ...  ...      Placement test 2017\n",
              "3    And it comes after many years of their efforts...  ...      Placement test 2017\n",
              "4    It is clear that Kyoto and Los Angeles undergr...  ...      Placement test 2017\n",
              "..                                                 ...  ...                      ...\n",
              "732  But their richest part of the population <b>us...  ...  Current version of test\n",
              "733  From 1960s it gradually decreased to 5 per cen...  ...  Current version of test\n",
              "734  And it is not pointless making children who la...  ...  Current version of test\n",
              "735  Even if <b>the child</b> doesn&#8217;t have tr...  ...  Current version of test\n",
              "736  There are a lot of people who will disagree wi...  ...  Current version of test\n",
              "\n",
              "[737 rows x 4 columns]"
            ]
          },
          "metadata": {},
          "execution_count": 5
        }
      ]
    },
    {
      "cell_type": "code",
      "metadata": {
        "id": "1ZS17IWZ6XEd"
      },
      "source": [
        "questions = questions.dropna(axis=0, subset=['category']).dropna(axis=0, subset=['question'])\n",
        "questions['question'] = questions['question'].apply(clean_question_text)"
      ],
      "execution_count": null,
      "outputs": []
    },
    {
      "cell_type": "code",
      "metadata": {
        "id": "ak0u9dii7DmZ",
        "colab": {
          "base_uri": "https://localhost:8080/"
        },
        "outputId": "6905444c-8ca9-4548-c186-e490fbf4af45"
      },
      "source": [
        "len(questions)"
      ],
      "execution_count": null,
      "outputs": [
        {
          "output_type": "execute_result",
          "data": {
            "text/plain": [
              "703"
            ]
          },
          "metadata": {},
          "execution_count": 7
        }
      ]
    },
    {
      "cell_type": "code",
      "metadata": {
        "id": "4MRjhzPL7OCI",
        "colab": {
          "base_uri": "https://localhost:8080/"
        },
        "outputId": "6d99ca3b-d660-4e82-db7f-6f43ebebfb24"
      },
      "source": [
        "questions['category'].unique()"
      ],
      "execution_count": null,
      "outputs": [
        {
          "output_type": "execute_result",
          "data": {
            "text/plain": [
              "array([1, 'adpq_2', 'adpq_3', 'adpq_2 or 3', 'adpq_1', 'adpq_3 ',\n",
              "       'adpq_2 ', 'adpq_?', '??',\n",
              "       \"adpq_2 (если считать, что 'produce' - noun, то часть речи не меняется)\",\n",
              "       'область ошибки-?', 'correct?', 'adpq_2?', 'to be removed',\n",
              "       'to be removed?', 'adpq_', 'adpq_1 or to be removed',\n",
              "       'layer? adpq_2', 'current the? adpq_1', 'adpq_1 (the same)',\n",
              "       'the numbers? adpq_2', 'pointless doing? or making to do?'],\n",
              "      dtype=object)"
            ]
          },
          "metadata": {},
          "execution_count": 8
        }
      ]
    },
    {
      "cell_type": "code",
      "metadata": {
        "id": "CGKK42cq7UN4"
      },
      "source": [
        "questions = questions.loc[questions['category'].apply(lambda x: x in (1,'adpq_1','adpq_2', 'adpq_3'))]"
      ],
      "execution_count": null,
      "outputs": []
    },
    {
      "cell_type": "code",
      "metadata": {
        "id": "BVYB1bv0q_BY"
      },
      "source": [
        "questions['category'] = questions['category'].apply(lambda x: f\"adpq_{x}\" if type(x)==int else x)"
      ],
      "execution_count": null,
      "outputs": []
    },
    {
      "cell_type": "code",
      "metadata": {
        "id": "vJ12sQHD7s8q",
        "colab": {
          "base_uri": "https://localhost:8080/"
        },
        "outputId": "c5b2ad13-70ed-4f86-924f-2bd58e3e850a"
      },
      "source": [
        "len(questions)"
      ],
      "execution_count": null,
      "outputs": [
        {
          "output_type": "execute_result",
          "data": {
            "text/plain": [
              "640"
            ]
          },
          "metadata": {},
          "execution_count": 11
        }
      ]
    },
    {
      "cell_type": "markdown",
      "metadata": {
        "id": "3jDWQmUM8IvP"
      },
      "source": [
        "## Baseline: TF-IDF"
      ]
    },
    {
      "cell_type": "code",
      "metadata": {
        "id": "KuVUV3t3OYkO"
      },
      "source": [
        "X = questions['question']\n",
        "y = questions['category']\n",
        "\n",
        "X_train, X_test, y_train, y_test = train_test_split(X, y, random_state=42)"
      ],
      "execution_count": null,
      "outputs": []
    },
    {
      "cell_type": "code",
      "metadata": {
        "id": "h9X7avAsC8LX"
      },
      "source": [
        "clfs = [\n",
        "        LogisticRegression, RidgeClassifier,\n",
        "        RandomForestClassifier, SVC,\n",
        "        DecisionTreeClassifier, BernoulliNB\n",
        "]"
      ],
      "execution_count": null,
      "outputs": []
    },
    {
      "cell_type": "code",
      "metadata": {
        "id": "-IKvwUzGOqrX"
      },
      "source": [
        "vec = TfidfVectorizer().fit(X_train)"
      ],
      "execution_count": null,
      "outputs": []
    },
    {
      "cell_type": "code",
      "metadata": {
        "id": "nXR04kK_PIbH"
      },
      "source": [
        "X_train_ = vec.transform(X_train)\n",
        "X_test_ = vec.transform(X_test)"
      ],
      "execution_count": null,
      "outputs": []
    },
    {
      "cell_type": "code",
      "metadata": {
        "colab": {
          "base_uri": "https://localhost:8080/"
        },
        "id": "2-mNUCvHtRPF",
        "outputId": "1c0dc860-09dc-4009-89c3-5aed60582735"
      },
      "source": [
        "len(X_train)"
      ],
      "execution_count": null,
      "outputs": [
        {
          "output_type": "execute_result",
          "data": {
            "text/plain": [
              "480"
            ]
          },
          "metadata": {},
          "execution_count": 30
        }
      ]
    },
    {
      "cell_type": "code",
      "metadata": {
        "id": "RIjiTH42Pbc0"
      },
      "source": [
        "reducer = TruncatedSVD(n_components=450, random_state=42).fit(X_train_)"
      ],
      "execution_count": null,
      "outputs": []
    },
    {
      "cell_type": "code",
      "metadata": {
        "id": "pzKZg1SJQcMf",
        "colab": {
          "base_uri": "https://localhost:8080/"
        },
        "outputId": "03906276-7409-4ef7-fd4e-c76e83c3cfff"
      },
      "source": [
        "reducer.explained_variance_ratio_.sum()"
      ],
      "execution_count": null,
      "outputs": [
        {
          "output_type": "execute_result",
          "data": {
            "text/plain": [
              "0.9950345494100687"
            ]
          },
          "metadata": {},
          "execution_count": 32
        }
      ]
    },
    {
      "cell_type": "code",
      "metadata": {
        "id": "U9WqRxs_PxqH"
      },
      "source": [
        "X_train_, X_test_ = reducer.transform(X_train_), reducer.transform(X_test_)"
      ],
      "execution_count": null,
      "outputs": []
    },
    {
      "cell_type": "code",
      "metadata": {
        "id": "XrU4nuBjSppW",
        "colab": {
          "base_uri": "https://localhost:8080/"
        },
        "outputId": "8a8e8844-c0be-4a1a-a680-f1e64325c79d"
      },
      "source": [
        "clfs"
      ],
      "execution_count": null,
      "outputs": [
        {
          "output_type": "execute_result",
          "data": {
            "text/plain": [
              "[sklearn.linear_model.logistic.LogisticRegression,\n",
              " sklearn.linear_model.ridge.RidgeClassifier,\n",
              " sklearn.ensemble.forest.RandomForestClassifier,\n",
              " sklearn.svm.classes.SVC,\n",
              " sklearn.tree.tree.DecisionTreeClassifier,\n",
              " sklearn.naive_bayes.BernoulliNB]"
            ]
          },
          "metadata": {},
          "execution_count": 34
        }
      ]
    },
    {
      "cell_type": "code",
      "metadata": {
        "id": "4rcBnCqcQCW3",
        "colab": {
          "base_uri": "https://localhost:8080/"
        },
        "outputId": "80ee2410-1a57-423d-ac94-48b9f0ba05cc"
      },
      "source": [
        "result = []\n",
        "\n",
        "for clf in clfs:\n",
        "  try:\n",
        "    scorer = clf(random_state=42).fit(X_train_, y_train)\n",
        "  except:\n",
        "    scorer = clf().fit(X_train_, y_train)\n",
        "  predicted = scorer.predict(X_test_)\n",
        "  report = classification_report(y_test, predicted, output_dict=True)\n",
        "  entry = ({\n",
        "      'algorithm': clf.__name__,\n",
        "  })\n",
        "\n",
        "  for key, val in report.items():\n",
        "    if type(val) == dict:\n",
        "      for k, v in val.items():\n",
        "        entry[f\"{key}_{k}\"] = v\n",
        "    else:\n",
        "      entry[key] = val\n",
        "  \n",
        "  result.append(entry)\n",
        "result = pd.DataFrame(result)"
      ],
      "execution_count": null,
      "outputs": [
        {
          "output_type": "stream",
          "name": "stderr",
          "text": [
            "/usr/local/lib/python3.7/dist-packages/sklearn/linear_model/logistic.py:432: FutureWarning: Default solver will be changed to 'lbfgs' in 0.22. Specify a solver to silence this warning.\n",
            "  FutureWarning)\n",
            "/usr/local/lib/python3.7/dist-packages/sklearn/linear_model/logistic.py:469: FutureWarning: Default multi_class will be changed to 'auto' in 0.22. Specify the multi_class option to silence this warning.\n",
            "  \"this warning.\", FutureWarning)\n",
            "/usr/local/lib/python3.7/dist-packages/sklearn/ensemble/forest.py:245: FutureWarning: The default value of n_estimators will change from 10 in version 0.20 to 100 in 0.22.\n",
            "  \"10 in version 0.20 to 100 in 0.22.\", FutureWarning)\n",
            "/usr/local/lib/python3.7/dist-packages/sklearn/svm/base.py:193: FutureWarning: The default value of gamma will change from 'auto' to 'scale' in version 0.22 to account better for unscaled features. Set gamma explicitly to 'auto' or 'scale' to avoid this warning.\n",
            "  \"avoid this warning.\", FutureWarning)\n",
            "/usr/local/lib/python3.7/dist-packages/sklearn/metrics/classification.py:1437: UndefinedMetricWarning: Precision and F-score are ill-defined and being set to 0.0 in labels with no predicted samples.\n",
            "  'precision', 'predicted', average, warn_for)\n"
          ]
        }
      ]
    },
    {
      "cell_type": "code",
      "metadata": {
        "id": "bXmBWAqkQ3ue",
        "colab": {
          "base_uri": "https://localhost:8080/",
          "height": 291
        },
        "outputId": "21afe0ca-5a57-478d-9442-e2814c2b92be"
      },
      "source": [
        "result"
      ],
      "execution_count": null,
      "outputs": [
        {
          "output_type": "execute_result",
          "data": {
            "text/html": [
              "<div>\n",
              "<style scoped>\n",
              "    .dataframe tbody tr th:only-of-type {\n",
              "        vertical-align: middle;\n",
              "    }\n",
              "\n",
              "    .dataframe tbody tr th {\n",
              "        vertical-align: top;\n",
              "    }\n",
              "\n",
              "    .dataframe thead th {\n",
              "        text-align: right;\n",
              "    }\n",
              "</style>\n",
              "<table border=\"1\" class=\"dataframe\">\n",
              "  <thead>\n",
              "    <tr style=\"text-align: right;\">\n",
              "      <th></th>\n",
              "      <th>algorithm</th>\n",
              "      <th>adpq_1_precision</th>\n",
              "      <th>adpq_1_recall</th>\n",
              "      <th>adpq_1_f1-score</th>\n",
              "      <th>adpq_1_support</th>\n",
              "      <th>adpq_2_precision</th>\n",
              "      <th>adpq_2_recall</th>\n",
              "      <th>adpq_2_f1-score</th>\n",
              "      <th>adpq_2_support</th>\n",
              "      <th>adpq_3_precision</th>\n",
              "      <th>adpq_3_recall</th>\n",
              "      <th>adpq_3_f1-score</th>\n",
              "      <th>adpq_3_support</th>\n",
              "      <th>accuracy</th>\n",
              "      <th>macro avg_precision</th>\n",
              "      <th>macro avg_recall</th>\n",
              "      <th>macro avg_f1-score</th>\n",
              "      <th>macro avg_support</th>\n",
              "      <th>weighted avg_precision</th>\n",
              "      <th>weighted avg_recall</th>\n",
              "      <th>weighted avg_f1-score</th>\n",
              "      <th>weighted avg_support</th>\n",
              "    </tr>\n",
              "  </thead>\n",
              "  <tbody>\n",
              "    <tr>\n",
              "      <th>0</th>\n",
              "      <td>LogisticRegression</td>\n",
              "      <td>0.000000</td>\n",
              "      <td>0.000000</td>\n",
              "      <td>0.000000</td>\n",
              "      <td>15</td>\n",
              "      <td>0.462810</td>\n",
              "      <td>0.746667</td>\n",
              "      <td>0.571429</td>\n",
              "      <td>75</td>\n",
              "      <td>0.447368</td>\n",
              "      <td>0.242857</td>\n",
              "      <td>0.314815</td>\n",
              "      <td>70</td>\n",
              "      <td>0.45625</td>\n",
              "      <td>0.303393</td>\n",
              "      <td>0.329841</td>\n",
              "      <td>0.295414</td>\n",
              "      <td>160</td>\n",
              "      <td>0.412666</td>\n",
              "      <td>0.45625</td>\n",
              "      <td>0.405589</td>\n",
              "      <td>160</td>\n",
              "    </tr>\n",
              "    <tr>\n",
              "      <th>1</th>\n",
              "      <td>RidgeClassifier</td>\n",
              "      <td>0.250000</td>\n",
              "      <td>0.066667</td>\n",
              "      <td>0.105263</td>\n",
              "      <td>15</td>\n",
              "      <td>0.479167</td>\n",
              "      <td>0.613333</td>\n",
              "      <td>0.538012</td>\n",
              "      <td>75</td>\n",
              "      <td>0.483333</td>\n",
              "      <td>0.414286</td>\n",
              "      <td>0.446154</td>\n",
              "      <td>70</td>\n",
              "      <td>0.47500</td>\n",
              "      <td>0.404167</td>\n",
              "      <td>0.364762</td>\n",
              "      <td>0.363143</td>\n",
              "      <td>160</td>\n",
              "      <td>0.459505</td>\n",
              "      <td>0.47500</td>\n",
              "      <td>0.457254</td>\n",
              "      <td>160</td>\n",
              "    </tr>\n",
              "    <tr>\n",
              "      <th>2</th>\n",
              "      <td>RandomForestClassifier</td>\n",
              "      <td>1.000000</td>\n",
              "      <td>0.066667</td>\n",
              "      <td>0.125000</td>\n",
              "      <td>15</td>\n",
              "      <td>0.479675</td>\n",
              "      <td>0.786667</td>\n",
              "      <td>0.595960</td>\n",
              "      <td>75</td>\n",
              "      <td>0.500000</td>\n",
              "      <td>0.257143</td>\n",
              "      <td>0.339623</td>\n",
              "      <td>70</td>\n",
              "      <td>0.48750</td>\n",
              "      <td>0.659892</td>\n",
              "      <td>0.370159</td>\n",
              "      <td>0.353527</td>\n",
              "      <td>160</td>\n",
              "      <td>0.537348</td>\n",
              "      <td>0.48750</td>\n",
              "      <td>0.439660</td>\n",
              "      <td>160</td>\n",
              "    </tr>\n",
              "    <tr>\n",
              "      <th>3</th>\n",
              "      <td>SVC</td>\n",
              "      <td>0.000000</td>\n",
              "      <td>0.000000</td>\n",
              "      <td>0.000000</td>\n",
              "      <td>15</td>\n",
              "      <td>0.468750</td>\n",
              "      <td>1.000000</td>\n",
              "      <td>0.638298</td>\n",
              "      <td>75</td>\n",
              "      <td>0.000000</td>\n",
              "      <td>0.000000</td>\n",
              "      <td>0.000000</td>\n",
              "      <td>70</td>\n",
              "      <td>0.46875</td>\n",
              "      <td>0.156250</td>\n",
              "      <td>0.333333</td>\n",
              "      <td>0.212766</td>\n",
              "      <td>160</td>\n",
              "      <td>0.219727</td>\n",
              "      <td>0.46875</td>\n",
              "      <td>0.299202</td>\n",
              "      <td>160</td>\n",
              "    </tr>\n",
              "    <tr>\n",
              "      <th>4</th>\n",
              "      <td>DecisionTreeClassifier</td>\n",
              "      <td>0.111111</td>\n",
              "      <td>0.066667</td>\n",
              "      <td>0.083333</td>\n",
              "      <td>15</td>\n",
              "      <td>0.424242</td>\n",
              "      <td>0.560000</td>\n",
              "      <td>0.482759</td>\n",
              "      <td>75</td>\n",
              "      <td>0.365385</td>\n",
              "      <td>0.271429</td>\n",
              "      <td>0.311475</td>\n",
              "      <td>70</td>\n",
              "      <td>0.38750</td>\n",
              "      <td>0.300246</td>\n",
              "      <td>0.299365</td>\n",
              "      <td>0.292522</td>\n",
              "      <td>160</td>\n",
              "      <td>0.369136</td>\n",
              "      <td>0.38750</td>\n",
              "      <td>0.370376</td>\n",
              "      <td>160</td>\n",
              "    </tr>\n",
              "    <tr>\n",
              "      <th>5</th>\n",
              "      <td>BernoulliNB</td>\n",
              "      <td>0.222222</td>\n",
              "      <td>0.133333</td>\n",
              "      <td>0.166667</td>\n",
              "      <td>15</td>\n",
              "      <td>0.506173</td>\n",
              "      <td>0.546667</td>\n",
              "      <td>0.525641</td>\n",
              "      <td>75</td>\n",
              "      <td>0.457143</td>\n",
              "      <td>0.457143</td>\n",
              "      <td>0.457143</td>\n",
              "      <td>70</td>\n",
              "      <td>0.46875</td>\n",
              "      <td>0.395179</td>\n",
              "      <td>0.379048</td>\n",
              "      <td>0.383150</td>\n",
              "      <td>160</td>\n",
              "      <td>0.458102</td>\n",
              "      <td>0.46875</td>\n",
              "      <td>0.462019</td>\n",
              "      <td>160</td>\n",
              "    </tr>\n",
              "  </tbody>\n",
              "</table>\n",
              "</div>"
            ],
            "text/plain": [
              "                algorithm  ...  weighted avg_support\n",
              "0      LogisticRegression  ...                   160\n",
              "1         RidgeClassifier  ...                   160\n",
              "2  RandomForestClassifier  ...                   160\n",
              "3                     SVC  ...                   160\n",
              "4  DecisionTreeClassifier  ...                   160\n",
              "5             BernoulliNB  ...                   160\n",
              "\n",
              "[6 rows x 22 columns]"
            ]
          },
          "metadata": {},
          "execution_count": 36
        }
      ]
    },
    {
      "cell_type": "code",
      "metadata": {
        "id": "Bsi_slK7Vmmv",
        "colab": {
          "base_uri": "https://localhost:8080/"
        },
        "outputId": "1a2e8a91-5fdd-4f71-a17d-17affd3c994e"
      },
      "source": [
        "y_train.value_counts()/len(y_train)"
      ],
      "execution_count": null,
      "outputs": [
        {
          "output_type": "execute_result",
          "data": {
            "text/plain": [
              "adpq_2    0.495833\n",
              "adpq_3    0.395833\n",
              "adpq_1    0.108333\n",
              "Name: category, dtype: float64"
            ]
          },
          "metadata": {},
          "execution_count": 37
        }
      ]
    },
    {
      "cell_type": "markdown",
      "metadata": {
        "id": "Z32HyYL06XqL"
      },
      "source": [
        "## Word2Vec"
      ]
    },
    {
      "cell_type": "code",
      "metadata": {
        "id": "Bzg3_mnz6aoY"
      },
      "source": [
        "class W2VEmbedder:\n",
        "  def __init__(self, model_path):\n",
        "    self.model = KeyedVectors.load_word2vec_format(model_path, binary=True)\n",
        "  \n",
        "  def process(self, text):\n",
        "    return np.array([self.model[word.lower()] for word in word_tokenize(text, language=\"english\") if word in self.model.vocab]).mean(axis=0)\n",
        "  \n",
        "  def process_texts(self, texts):\n",
        "    return np.array([self.process(text) for text in texts])"
      ],
      "execution_count": null,
      "outputs": []
    },
    {
      "cell_type": "code",
      "metadata": {
        "id": "QmOkl1Mr3trA"
      },
      "source": [
        "embedder = W2VEmbedder('model.bin')"
      ],
      "execution_count": null,
      "outputs": []
    },
    {
      "cell_type": "code",
      "metadata": {
        "id": "U3nVZVRY4vh-",
        "colab": {
          "base_uri": "https://localhost:8080/"
        },
        "outputId": "6ef6a838-fb43-4627-b491-59bc74f50d53"
      },
      "source": [
        "%%time\n",
        "X = embedder.process_texts(questions['question'])"
      ],
      "execution_count": null,
      "outputs": [
        {
          "output_type": "stream",
          "name": "stdout",
          "text": [
            "CPU times: user 181 ms, sys: 1.87 ms, total: 183 ms\n",
            "Wall time: 203 ms\n"
          ]
        }
      ]
    },
    {
      "cell_type": "code",
      "metadata": {
        "id": "H5GR_rzS_W4F",
        "colab": {
          "base_uri": "https://localhost:8080/"
        },
        "outputId": "0f2396ae-decf-4d1b-b9f3-416aba0be949"
      },
      "source": [
        "X.shape"
      ],
      "execution_count": null,
      "outputs": [
        {
          "output_type": "execute_result",
          "data": {
            "text/plain": [
              "(640, 100)"
            ]
          },
          "metadata": {},
          "execution_count": 43
        }
      ]
    },
    {
      "cell_type": "code",
      "metadata": {
        "id": "Lopwbssq8Hpd"
      },
      "source": [
        "y = questions[\"category\"]"
      ],
      "execution_count": null,
      "outputs": []
    },
    {
      "cell_type": "code",
      "metadata": {
        "id": "u_X3OYSRms8s",
        "colab": {
          "base_uri": "https://localhost:8080/"
        },
        "outputId": "d23d5b69-6607-49e2-a7f4-8f562f4c379c"
      },
      "source": [
        "%%time\n",
        "X_train, X_test, y_train, y_test = train_test_split(X, y, random_state=42)\n",
        "\n",
        "clfs = [\n",
        "        LogisticRegression, RidgeClassifier,\n",
        "        RandomForestClassifier, SVC,\n",
        "        DecisionTreeClassifier, BernoulliNB\n",
        "]\n",
        "\n",
        "result = []\n",
        "\n",
        "for clf in clfs:\n",
        "  try:\n",
        "    scorer = clf(random_state=42).fit(X_train, y_train)\n",
        "  except:\n",
        "    scorer = clf().fit(X_train, y_train)\n",
        "  predicted = scorer.predict(X_test)\n",
        "  report = classification_report(y_test, predicted, output_dict=True)\n",
        "  entry = ({\n",
        "      'algorithm': clf.__name__,\n",
        "  })\n",
        "\n",
        "  for key, val in report.items():\n",
        "    if type(val) == dict:\n",
        "      for k, v in val.items():\n",
        "        entry[f\"{key}_{k}\"] = v\n",
        "    else:\n",
        "      entry[key] = val\n",
        "  \n",
        "  result.append(entry)\n",
        "result = pd.DataFrame(result)"
      ],
      "execution_count": null,
      "outputs": [
        {
          "output_type": "stream",
          "name": "stderr",
          "text": [
            "/usr/local/lib/python3.7/dist-packages/sklearn/linear_model/logistic.py:432: FutureWarning: Default solver will be changed to 'lbfgs' in 0.22. Specify a solver to silence this warning.\n",
            "  FutureWarning)\n",
            "/usr/local/lib/python3.7/dist-packages/sklearn/linear_model/logistic.py:469: FutureWarning: Default multi_class will be changed to 'auto' in 0.22. Specify the multi_class option to silence this warning.\n",
            "  \"this warning.\", FutureWarning)\n",
            "/usr/local/lib/python3.7/dist-packages/sklearn/metrics/classification.py:1437: UndefinedMetricWarning: Precision and F-score are ill-defined and being set to 0.0 in labels with no predicted samples.\n",
            "  'precision', 'predicted', average, warn_for)\n",
            "/usr/local/lib/python3.7/dist-packages/sklearn/metrics/classification.py:1437: UndefinedMetricWarning: Precision and F-score are ill-defined and being set to 0.0 in labels with no predicted samples.\n",
            "  'precision', 'predicted', average, warn_for)\n",
            "/usr/local/lib/python3.7/dist-packages/sklearn/ensemble/forest.py:245: FutureWarning: The default value of n_estimators will change from 10 in version 0.20 to 100 in 0.22.\n",
            "  \"10 in version 0.20 to 100 in 0.22.\", FutureWarning)\n",
            "/usr/local/lib/python3.7/dist-packages/sklearn/svm/base.py:193: FutureWarning: The default value of gamma will change from 'auto' to 'scale' in version 0.22 to account better for unscaled features. Set gamma explicitly to 'auto' or 'scale' to avoid this warning.\n",
            "  \"avoid this warning.\", FutureWarning)\n"
          ]
        },
        {
          "output_type": "stream",
          "name": "stdout",
          "text": [
            "CPU times: user 263 ms, sys: 151 ms, total: 414 ms\n",
            "Wall time: 292 ms\n"
          ]
        },
        {
          "output_type": "stream",
          "name": "stderr",
          "text": [
            "/usr/local/lib/python3.7/dist-packages/sklearn/metrics/classification.py:1437: UndefinedMetricWarning: Precision and F-score are ill-defined and being set to 0.0 in labels with no predicted samples.\n",
            "  'precision', 'predicted', average, warn_for)\n"
          ]
        }
      ]
    },
    {
      "cell_type": "code",
      "metadata": {
        "id": "R_q79i82nqNC",
        "colab": {
          "base_uri": "https://localhost:8080/",
          "height": 291
        },
        "outputId": "06f2a531-3b16-48a7-cf5d-a647ab9c25b6"
      },
      "source": [
        "result"
      ],
      "execution_count": null,
      "outputs": [
        {
          "output_type": "execute_result",
          "data": {
            "text/html": [
              "<div>\n",
              "<style scoped>\n",
              "    .dataframe tbody tr th:only-of-type {\n",
              "        vertical-align: middle;\n",
              "    }\n",
              "\n",
              "    .dataframe tbody tr th {\n",
              "        vertical-align: top;\n",
              "    }\n",
              "\n",
              "    .dataframe thead th {\n",
              "        text-align: right;\n",
              "    }\n",
              "</style>\n",
              "<table border=\"1\" class=\"dataframe\">\n",
              "  <thead>\n",
              "    <tr style=\"text-align: right;\">\n",
              "      <th></th>\n",
              "      <th>algorithm</th>\n",
              "      <th>adpq_1_precision</th>\n",
              "      <th>adpq_1_recall</th>\n",
              "      <th>adpq_1_f1-score</th>\n",
              "      <th>adpq_1_support</th>\n",
              "      <th>adpq_2_precision</th>\n",
              "      <th>adpq_2_recall</th>\n",
              "      <th>adpq_2_f1-score</th>\n",
              "      <th>adpq_2_support</th>\n",
              "      <th>adpq_3_precision</th>\n",
              "      <th>adpq_3_recall</th>\n",
              "      <th>adpq_3_f1-score</th>\n",
              "      <th>adpq_3_support</th>\n",
              "      <th>accuracy</th>\n",
              "      <th>macro avg_precision</th>\n",
              "      <th>macro avg_recall</th>\n",
              "      <th>macro avg_f1-score</th>\n",
              "      <th>macro avg_support</th>\n",
              "      <th>weighted avg_precision</th>\n",
              "      <th>weighted avg_recall</th>\n",
              "      <th>weighted avg_f1-score</th>\n",
              "      <th>weighted avg_support</th>\n",
              "    </tr>\n",
              "  </thead>\n",
              "  <tbody>\n",
              "    <tr>\n",
              "      <th>0</th>\n",
              "      <td>LogisticRegression</td>\n",
              "      <td>0.000000</td>\n",
              "      <td>0.000000</td>\n",
              "      <td>0.000000</td>\n",
              "      <td>15</td>\n",
              "      <td>0.475806</td>\n",
              "      <td>0.786667</td>\n",
              "      <td>0.592965</td>\n",
              "      <td>75</td>\n",
              "      <td>0.444444</td>\n",
              "      <td>0.228571</td>\n",
              "      <td>0.301887</td>\n",
              "      <td>70</td>\n",
              "      <td>0.46875</td>\n",
              "      <td>0.306750</td>\n",
              "      <td>0.338413</td>\n",
              "      <td>0.298284</td>\n",
              "      <td>160</td>\n",
              "      <td>0.417479</td>\n",
              "      <td>0.46875</td>\n",
              "      <td>0.410028</td>\n",
              "      <td>160</td>\n",
              "    </tr>\n",
              "    <tr>\n",
              "      <th>1</th>\n",
              "      <td>RidgeClassifier</td>\n",
              "      <td>0.000000</td>\n",
              "      <td>0.000000</td>\n",
              "      <td>0.000000</td>\n",
              "      <td>15</td>\n",
              "      <td>0.490196</td>\n",
              "      <td>0.666667</td>\n",
              "      <td>0.564972</td>\n",
              "      <td>75</td>\n",
              "      <td>0.465517</td>\n",
              "      <td>0.385714</td>\n",
              "      <td>0.421875</td>\n",
              "      <td>70</td>\n",
              "      <td>0.48125</td>\n",
              "      <td>0.318571</td>\n",
              "      <td>0.350794</td>\n",
              "      <td>0.328949</td>\n",
              "      <td>160</td>\n",
              "      <td>0.433443</td>\n",
              "      <td>0.48125</td>\n",
              "      <td>0.449401</td>\n",
              "      <td>160</td>\n",
              "    </tr>\n",
              "    <tr>\n",
              "      <th>2</th>\n",
              "      <td>RandomForestClassifier</td>\n",
              "      <td>0.166667</td>\n",
              "      <td>0.133333</td>\n",
              "      <td>0.148148</td>\n",
              "      <td>15</td>\n",
              "      <td>0.480000</td>\n",
              "      <td>0.640000</td>\n",
              "      <td>0.548571</td>\n",
              "      <td>75</td>\n",
              "      <td>0.437500</td>\n",
              "      <td>0.300000</td>\n",
              "      <td>0.355932</td>\n",
              "      <td>70</td>\n",
              "      <td>0.44375</td>\n",
              "      <td>0.361389</td>\n",
              "      <td>0.357778</td>\n",
              "      <td>0.350884</td>\n",
              "      <td>160</td>\n",
              "      <td>0.432031</td>\n",
              "      <td>0.44375</td>\n",
              "      <td>0.426752</td>\n",
              "      <td>160</td>\n",
              "    </tr>\n",
              "    <tr>\n",
              "      <th>3</th>\n",
              "      <td>SVC</td>\n",
              "      <td>0.000000</td>\n",
              "      <td>0.000000</td>\n",
              "      <td>0.000000</td>\n",
              "      <td>15</td>\n",
              "      <td>0.468750</td>\n",
              "      <td>1.000000</td>\n",
              "      <td>0.638298</td>\n",
              "      <td>75</td>\n",
              "      <td>0.000000</td>\n",
              "      <td>0.000000</td>\n",
              "      <td>0.000000</td>\n",
              "      <td>70</td>\n",
              "      <td>0.46875</td>\n",
              "      <td>0.156250</td>\n",
              "      <td>0.333333</td>\n",
              "      <td>0.212766</td>\n",
              "      <td>160</td>\n",
              "      <td>0.219727</td>\n",
              "      <td>0.46875</td>\n",
              "      <td>0.299202</td>\n",
              "      <td>160</td>\n",
              "    </tr>\n",
              "    <tr>\n",
              "      <th>4</th>\n",
              "      <td>DecisionTreeClassifier</td>\n",
              "      <td>0.190476</td>\n",
              "      <td>0.266667</td>\n",
              "      <td>0.222222</td>\n",
              "      <td>15</td>\n",
              "      <td>0.500000</td>\n",
              "      <td>0.560000</td>\n",
              "      <td>0.528302</td>\n",
              "      <td>75</td>\n",
              "      <td>0.381818</td>\n",
              "      <td>0.300000</td>\n",
              "      <td>0.336000</td>\n",
              "      <td>70</td>\n",
              "      <td>0.41875</td>\n",
              "      <td>0.357431</td>\n",
              "      <td>0.375556</td>\n",
              "      <td>0.362175</td>\n",
              "      <td>160</td>\n",
              "      <td>0.419278</td>\n",
              "      <td>0.41875</td>\n",
              "      <td>0.415475</td>\n",
              "      <td>160</td>\n",
              "    </tr>\n",
              "    <tr>\n",
              "      <th>5</th>\n",
              "      <td>BernoulliNB</td>\n",
              "      <td>0.166667</td>\n",
              "      <td>0.066667</td>\n",
              "      <td>0.095238</td>\n",
              "      <td>15</td>\n",
              "      <td>0.489130</td>\n",
              "      <td>0.600000</td>\n",
              "      <td>0.538922</td>\n",
              "      <td>75</td>\n",
              "      <td>0.483871</td>\n",
              "      <td>0.428571</td>\n",
              "      <td>0.454545</td>\n",
              "      <td>70</td>\n",
              "      <td>0.47500</td>\n",
              "      <td>0.379889</td>\n",
              "      <td>0.365079</td>\n",
              "      <td>0.362902</td>\n",
              "      <td>160</td>\n",
              "      <td>0.456598</td>\n",
              "      <td>0.47500</td>\n",
              "      <td>0.460412</td>\n",
              "      <td>160</td>\n",
              "    </tr>\n",
              "  </tbody>\n",
              "</table>\n",
              "</div>"
            ],
            "text/plain": [
              "                algorithm  ...  weighted avg_support\n",
              "0      LogisticRegression  ...                   160\n",
              "1         RidgeClassifier  ...                   160\n",
              "2  RandomForestClassifier  ...                   160\n",
              "3                     SVC  ...                   160\n",
              "4  DecisionTreeClassifier  ...                   160\n",
              "5             BernoulliNB  ...                   160\n",
              "\n",
              "[6 rows x 22 columns]"
            ]
          },
          "metadata": {},
          "execution_count": 47
        }
      ]
    },
    {
      "cell_type": "markdown",
      "metadata": {
        "id": "2XTZHSiPoB6u"
      },
      "source": [
        "## BERT"
      ]
    },
    {
      "cell_type": "code",
      "metadata": {
        "id": "FVTLAsmToG65"
      },
      "source": [
        "class MyBatchIterator:\n",
        "  def __init__(self, texts, batch_size):\n",
        "    self.texts = texts\n",
        "    self.batch_size = batch_size\n",
        "  \n",
        "  def __iter__(self):\n",
        "    self.start = 0\n",
        "    return self\n",
        "  \n",
        "  def __next__(self):\n",
        "    if self.start >= len(self.texts):\n",
        "      raise StopIteration\n",
        "    batch = self.texts[self.start:self.start+self.batch_size]\n",
        "    self.start += self.batch_size\n",
        "    return batch\n",
        "  \n",
        "  def __len__(self):\n",
        "    return ceil(len(self.texts)/self.batch_size)\n",
        "\n",
        "class BERTEmbedder:\n",
        "  def __init__(self, model_name):\n",
        "    self.tokenizer = BertTokenizer.from_pretrained(model_name)\n",
        "    self.model = BertModel.from_pretrained(model_name)\n",
        "  \n",
        "  def process(self, texts, flatten_method='pooler'):\n",
        "    tokenized = self.tokenizer(texts, return_tensors='pt', padding=True, truncation=True, max_length=128)\n",
        "    ids = tokenized['input_ids']\n",
        "    mask = tokenized['attention_mask']\n",
        "    processed = self.model(input_ids=ids, attention_mask=mask)\n",
        "\n",
        "    if flatten_method == 'average':\n",
        "      return processed['last_hidden_state'].detach().numpy().mean(axis=1)\n",
        "    elif flatten_method == 'pooler':\n",
        "      return processed['pooler_output'].detach().numpy()\n",
        "  \n",
        "  def process_sample(self, texts, batch_size=4, flatten_method='pooler'):\n",
        "    text_iter = MyBatchIterator(texts, batch_size=batch_size)\n",
        "    batches = []\n",
        "\n",
        "    for batch in tqdm_notebook(text_iter, total=len(text_iter)):\n",
        "      batches.append(self.process(batch, flatten_method=flatten_method))\n",
        "    \n",
        "    return np.concatenate(batches, axis=0)"
      ],
      "execution_count": null,
      "outputs": []
    },
    {
      "cell_type": "code",
      "metadata": {
        "id": "EhcJqy7EuNBq",
        "colab": {
          "base_uri": "https://localhost:8080/"
        },
        "outputId": "40cb73a8-2a93-4c7a-f61e-c5afe2471461"
      },
      "source": [
        "bert_embedder = BERTEmbedder('bert-base-cased')"
      ],
      "execution_count": null,
      "outputs": [
        {
          "output_type": "stream",
          "name": "stderr",
          "text": [
            "Some weights of the model checkpoint at bert-base-cased were not used when initializing BertModel: ['cls.predictions.transform.LayerNorm.bias', 'cls.predictions.decoder.weight', 'cls.seq_relationship.weight', 'cls.predictions.bias', 'cls.predictions.transform.dense.weight', 'cls.seq_relationship.bias', 'cls.predictions.transform.dense.bias', 'cls.predictions.transform.LayerNorm.weight']\n",
            "- This IS expected if you are initializing BertModel from the checkpoint of a model trained on another task or with another architecture (e.g. initializing a BertForSequenceClassification model from a BertForPreTraining model).\n",
            "- This IS NOT expected if you are initializing BertModel from the checkpoint of a model that you expect to be exactly identical (initializing a BertForSequenceClassification model from a BertForSequenceClassification model).\n"
          ]
        }
      ]
    },
    {
      "cell_type": "code",
      "metadata": {
        "id": "uBNCdnuquZSO",
        "colab": {
          "base_uri": "https://localhost:8080/",
          "height": 122,
          "referenced_widgets": [
            "b058a03e3ca74427ac08161878315ee8",
            "10dafa4c81a44881b0317a7faa9ccda9",
            "0faa24a9ae57430387bc829cce406395",
            "372d7e3a51774f0aa6d17a3b5bc9ca7d",
            "226f4799f3234296b79ac615f06fa179",
            "c8f35ce6c9bf4b2fa53d8d31e4be2188",
            "ff52569fc464460b86a827c69b16d326",
            "75089aff902b4c57b4b525295218b4d2",
            "33946427deb14f8f9e81bf84ecf73727",
            "45b8898eae9a4907bbf0ce2d9392e93f",
            "ad155bed1dbd473baa8bd93725b1c7f2"
          ]
        },
        "outputId": "61a6696f-9b57-4c47-9431-0761a833cdf6"
      },
      "source": [
        "%%time\n",
        "X = bert_embedder.process_sample(questions['question'].tolist())"
      ],
      "execution_count": null,
      "outputs": [
        {
          "output_type": "stream",
          "name": "stderr",
          "text": [
            "/usr/local/lib/python3.7/dist-packages/ipykernel_launcher.py:40: TqdmDeprecationWarning: This function will be removed in tqdm==5.0.0\n",
            "Please use `tqdm.notebook.tqdm` instead of `tqdm.tqdm_notebook`\n"
          ]
        },
        {
          "output_type": "display_data",
          "data": {
            "application/vnd.jupyter.widget-view+json": {
              "model_id": "b058a03e3ca74427ac08161878315ee8",
              "version_minor": 0,
              "version_major": 2
            },
            "text/plain": [
              "  0%|          | 0/160 [00:00<?, ?it/s]"
            ]
          },
          "metadata": {}
        },
        {
          "output_type": "stream",
          "name": "stdout",
          "text": [
            "CPU times: user 1min 34s, sys: 2.46 s, total: 1min 37s\n",
            "Wall time: 1min 37s\n"
          ]
        }
      ]
    },
    {
      "cell_type": "code",
      "metadata": {
        "id": "m6-i2F643n5D",
        "colab": {
          "base_uri": "https://localhost:8080/"
        },
        "outputId": "9ddaa7cf-7187-4498-ce0c-f6a3cab66b54"
      },
      "source": [
        "%%time\n",
        "y = questions[\"category\"]\n",
        "X_train, X_test, y_train, y_test = train_test_split(X, y, random_state=42)\n",
        "\n",
        "clfs = [\n",
        "        RidgeClassifier,\n",
        "        RandomForestClassifier, SVC,\n",
        "        DecisionTreeClassifier, BernoulliNB\n",
        "]\n",
        "\n",
        "result = []\n",
        "\n",
        "for clf in clfs:\n",
        "  try:\n",
        "    scorer = clf(random_state=42).fit(X_train, y_train)\n",
        "  except:\n",
        "    scorer = clf().fit(X_train, y_train)\n",
        "  predicted = scorer.predict(X_test)\n",
        "  report = classification_report(y_test, predicted, output_dict=True)\n",
        "  entry = ({\n",
        "      'algorithm': clf.__name__,\n",
        "  })\n",
        "\n",
        "  for key, val in report.items():\n",
        "    if type(val) == dict:\n",
        "      for k, v in val.items():\n",
        "        entry[f\"{key}_{k}\"] = v\n",
        "    else:\n",
        "      entry[key] = val\n",
        "  \n",
        "  result.append(entry)\n",
        "result = pd.DataFrame(result)"
      ],
      "execution_count": null,
      "outputs": [
        {
          "output_type": "stream",
          "name": "stderr",
          "text": [
            "/usr/local/lib/python3.7/dist-packages/sklearn/ensemble/forest.py:245: FutureWarning: The default value of n_estimators will change from 10 in version 0.20 to 100 in 0.22.\n",
            "  \"10 in version 0.20 to 100 in 0.22.\", FutureWarning)\n",
            "/usr/local/lib/python3.7/dist-packages/sklearn/svm/base.py:193: FutureWarning: The default value of gamma will change from 'auto' to 'scale' in version 0.22 to account better for unscaled features. Set gamma explicitly to 'auto' or 'scale' to avoid this warning.\n",
            "  \"avoid this warning.\", FutureWarning)\n",
            "/usr/local/lib/python3.7/dist-packages/sklearn/metrics/classification.py:1437: UndefinedMetricWarning: Precision and F-score are ill-defined and being set to 0.0 in labels with no predicted samples.\n",
            "  'precision', 'predicted', average, warn_for)\n"
          ]
        },
        {
          "output_type": "stream",
          "name": "stdout",
          "text": [
            "CPU times: user 969 ms, sys: 184 ms, total: 1.15 s\n",
            "Wall time: 1 s\n"
          ]
        }
      ]
    },
    {
      "cell_type": "code",
      "metadata": {
        "id": "eb6iOIjqAboM",
        "colab": {
          "base_uri": "https://localhost:8080/",
          "height": 260
        },
        "outputId": "0166078a-04a8-4eed-c7e3-53e44e212a9c"
      },
      "source": [
        "result"
      ],
      "execution_count": null,
      "outputs": [
        {
          "output_type": "execute_result",
          "data": {
            "text/html": [
              "<div>\n",
              "<style scoped>\n",
              "    .dataframe tbody tr th:only-of-type {\n",
              "        vertical-align: middle;\n",
              "    }\n",
              "\n",
              "    .dataframe tbody tr th {\n",
              "        vertical-align: top;\n",
              "    }\n",
              "\n",
              "    .dataframe thead th {\n",
              "        text-align: right;\n",
              "    }\n",
              "</style>\n",
              "<table border=\"1\" class=\"dataframe\">\n",
              "  <thead>\n",
              "    <tr style=\"text-align: right;\">\n",
              "      <th></th>\n",
              "      <th>algorithm</th>\n",
              "      <th>adpq_1_precision</th>\n",
              "      <th>adpq_1_recall</th>\n",
              "      <th>adpq_1_f1-score</th>\n",
              "      <th>adpq_1_support</th>\n",
              "      <th>adpq_2_precision</th>\n",
              "      <th>adpq_2_recall</th>\n",
              "      <th>adpq_2_f1-score</th>\n",
              "      <th>adpq_2_support</th>\n",
              "      <th>adpq_3_precision</th>\n",
              "      <th>adpq_3_recall</th>\n",
              "      <th>adpq_3_f1-score</th>\n",
              "      <th>adpq_3_support</th>\n",
              "      <th>accuracy</th>\n",
              "      <th>macro avg_precision</th>\n",
              "      <th>macro avg_recall</th>\n",
              "      <th>macro avg_f1-score</th>\n",
              "      <th>macro avg_support</th>\n",
              "      <th>weighted avg_precision</th>\n",
              "      <th>weighted avg_recall</th>\n",
              "      <th>weighted avg_f1-score</th>\n",
              "      <th>weighted avg_support</th>\n",
              "    </tr>\n",
              "  </thead>\n",
              "  <tbody>\n",
              "    <tr>\n",
              "      <th>0</th>\n",
              "      <td>RidgeClassifier</td>\n",
              "      <td>0.000000</td>\n",
              "      <td>0.000000</td>\n",
              "      <td>0.000000</td>\n",
              "      <td>15</td>\n",
              "      <td>0.447619</td>\n",
              "      <td>0.626667</td>\n",
              "      <td>0.522222</td>\n",
              "      <td>75</td>\n",
              "      <td>0.396226</td>\n",
              "      <td>0.300000</td>\n",
              "      <td>0.341463</td>\n",
              "      <td>70</td>\n",
              "      <td>0.42500</td>\n",
              "      <td>0.281282</td>\n",
              "      <td>0.308889</td>\n",
              "      <td>0.287895</td>\n",
              "      <td>160</td>\n",
              "      <td>0.383170</td>\n",
              "      <td>0.42500</td>\n",
              "      <td>0.394182</td>\n",
              "      <td>160</td>\n",
              "    </tr>\n",
              "    <tr>\n",
              "      <th>1</th>\n",
              "      <td>RandomForestClassifier</td>\n",
              "      <td>0.000000</td>\n",
              "      <td>0.000000</td>\n",
              "      <td>0.000000</td>\n",
              "      <td>15</td>\n",
              "      <td>0.468750</td>\n",
              "      <td>0.600000</td>\n",
              "      <td>0.526316</td>\n",
              "      <td>75</td>\n",
              "      <td>0.466667</td>\n",
              "      <td>0.400000</td>\n",
              "      <td>0.430769</td>\n",
              "      <td>70</td>\n",
              "      <td>0.45625</td>\n",
              "      <td>0.311806</td>\n",
              "      <td>0.333333</td>\n",
              "      <td>0.319028</td>\n",
              "      <td>160</td>\n",
              "      <td>0.423893</td>\n",
              "      <td>0.45625</td>\n",
              "      <td>0.435172</td>\n",
              "      <td>160</td>\n",
              "    </tr>\n",
              "    <tr>\n",
              "      <th>2</th>\n",
              "      <td>SVC</td>\n",
              "      <td>0.000000</td>\n",
              "      <td>0.000000</td>\n",
              "      <td>0.000000</td>\n",
              "      <td>15</td>\n",
              "      <td>0.468750</td>\n",
              "      <td>1.000000</td>\n",
              "      <td>0.638298</td>\n",
              "      <td>75</td>\n",
              "      <td>0.000000</td>\n",
              "      <td>0.000000</td>\n",
              "      <td>0.000000</td>\n",
              "      <td>70</td>\n",
              "      <td>0.46875</td>\n",
              "      <td>0.156250</td>\n",
              "      <td>0.333333</td>\n",
              "      <td>0.212766</td>\n",
              "      <td>160</td>\n",
              "      <td>0.219727</td>\n",
              "      <td>0.46875</td>\n",
              "      <td>0.299202</td>\n",
              "      <td>160</td>\n",
              "    </tr>\n",
              "    <tr>\n",
              "      <th>3</th>\n",
              "      <td>DecisionTreeClassifier</td>\n",
              "      <td>0.055556</td>\n",
              "      <td>0.066667</td>\n",
              "      <td>0.060606</td>\n",
              "      <td>15</td>\n",
              "      <td>0.409091</td>\n",
              "      <td>0.480000</td>\n",
              "      <td>0.441718</td>\n",
              "      <td>75</td>\n",
              "      <td>0.351852</td>\n",
              "      <td>0.271429</td>\n",
              "      <td>0.306452</td>\n",
              "      <td>70</td>\n",
              "      <td>0.35000</td>\n",
              "      <td>0.272166</td>\n",
              "      <td>0.272698</td>\n",
              "      <td>0.269592</td>\n",
              "      <td>160</td>\n",
              "      <td>0.350905</td>\n",
              "      <td>0.35000</td>\n",
              "      <td>0.346810</td>\n",
              "      <td>160</td>\n",
              "    </tr>\n",
              "    <tr>\n",
              "      <th>4</th>\n",
              "      <td>BernoulliNB</td>\n",
              "      <td>0.333333</td>\n",
              "      <td>0.066667</td>\n",
              "      <td>0.111111</td>\n",
              "      <td>15</td>\n",
              "      <td>0.419048</td>\n",
              "      <td>0.586667</td>\n",
              "      <td>0.488889</td>\n",
              "      <td>75</td>\n",
              "      <td>0.384615</td>\n",
              "      <td>0.285714</td>\n",
              "      <td>0.327869</td>\n",
              "      <td>70</td>\n",
              "      <td>0.40625</td>\n",
              "      <td>0.378999</td>\n",
              "      <td>0.313016</td>\n",
              "      <td>0.309290</td>\n",
              "      <td>160</td>\n",
              "      <td>0.395948</td>\n",
              "      <td>0.40625</td>\n",
              "      <td>0.383026</td>\n",
              "      <td>160</td>\n",
              "    </tr>\n",
              "  </tbody>\n",
              "</table>\n",
              "</div>"
            ],
            "text/plain": [
              "                algorithm  ...  weighted avg_support\n",
              "0         RidgeClassifier  ...                   160\n",
              "1  RandomForestClassifier  ...                   160\n",
              "2                     SVC  ...                   160\n",
              "3  DecisionTreeClassifier  ...                   160\n",
              "4             BernoulliNB  ...                   160\n",
              "\n",
              "[5 rows x 22 columns]"
            ]
          },
          "metadata": {},
          "execution_count": 52
        }
      ]
    },
    {
      "cell_type": "markdown",
      "metadata": {
        "id": "AIRo7WDTBKAP"
      },
      "source": [
        "Now let's try averaging BERT vectors"
      ]
    },
    {
      "cell_type": "code",
      "metadata": {
        "id": "zwMPZLSgBNab",
        "colab": {
          "base_uri": "https://localhost:8080/",
          "height": 378,
          "referenced_widgets": [
            "efe7c3a4a1624bcfb9a98795429ab58d",
            "ddb5752c56f84c7ab5214cdf4311dcf9",
            "7514c167518f46a5bc144fa60dd70b78",
            "2c7fb680ac034c9dac143fc94be0f3a9",
            "b7553b5288a5435b9824e4ab69cdb39f",
            "d05cac79f4f44ef19444e60d7d32c273",
            "886f74961df64729b1564392dc837537",
            "878ee00937694ee4aad551dc98150506",
            "fdd3ee7375f7456687e527175554b903",
            "79e06633a33c44d787a996ec6f0effa7",
            "4c371ed4db1d4900a109092278b4ea4f"
          ]
        },
        "outputId": "d58d6ed6-0a22-4ecc-a403-24c46b782f2d"
      },
      "source": [
        "%%time\n",
        "X = bert_embedder.process_sample(questions['question'].tolist(),\n",
        "                                 flatten_method='average')\n",
        "\n",
        "y = questions[\"category\"]\n",
        "X_train, X_test, y_train, y_test = train_test_split(X, y, random_state=42)\n",
        "\n",
        "clfs = [\n",
        "        LogisticRegression, RidgeClassifier,\n",
        "        RandomForestClassifier, SVC,\n",
        "        DecisionTreeClassifier, BernoulliNB\n",
        "]\n",
        "\n",
        "result = []\n",
        "\n",
        "for clf in clfs:\n",
        "  try:\n",
        "    scorer = clf(random_state=42).fit(X_train, y_train)\n",
        "  except:\n",
        "    scorer = clf().fit(X_train, y_train)\n",
        "  predicted = scorer.predict(X_test)\n",
        "  report = classification_report(y_test, predicted, output_dict=True)\n",
        "  entry = ({\n",
        "      'algorithm': clf.__name__,\n",
        "  })\n",
        "\n",
        "  for key, val in report.items():\n",
        "    if type(val) == dict:\n",
        "      for k, v in val.items():\n",
        "        entry[f\"{key}_{k}\"] = v\n",
        "    else:\n",
        "      entry[key] = val\n",
        "  \n",
        "  result.append(entry)\n",
        "result = pd.DataFrame(result)"
      ],
      "execution_count": null,
      "outputs": [
        {
          "output_type": "stream",
          "name": "stderr",
          "text": [
            "Some weights of the model checkpoint at bert-base-cased were not used when initializing BertModel: ['cls.predictions.bias', 'cls.predictions.transform.dense.weight', 'cls.seq_relationship.weight', 'cls.predictions.transform.LayerNorm.weight', 'cls.predictions.transform.dense.bias', 'cls.predictions.decoder.weight', 'cls.seq_relationship.bias', 'cls.predictions.transform.LayerNorm.bias']\n",
            "- This IS expected if you are initializing BertModel from the checkpoint of a model trained on another task or with another architecture (e.g. initializing a BertForSequenceClassification model from a BertForPreTraining model).\n",
            "- This IS NOT expected if you are initializing BertModel from the checkpoint of a model that you expect to be exactly identical (initializing a BertForSequenceClassification model from a BertForSequenceClassification model).\n",
            "/usr/local/lib/python3.7/dist-packages/ipykernel_launcher.py:40: TqdmDeprecationWarning: This function will be removed in tqdm==5.0.0\n",
            "Please use `tqdm.notebook.tqdm` instead of `tqdm.tqdm_notebook`\n"
          ]
        },
        {
          "output_type": "display_data",
          "data": {
            "application/vnd.jupyter.widget-view+json": {
              "model_id": "efe7c3a4a1624bcfb9a98795429ab58d",
              "version_minor": 0,
              "version_major": 2
            },
            "text/plain": [
              "  0%|          | 0/160 [00:00<?, ?it/s]"
            ]
          },
          "metadata": {}
        },
        {
          "output_type": "stream",
          "name": "stderr",
          "text": [
            "/usr/local/lib/python3.7/dist-packages/sklearn/linear_model/logistic.py:432: FutureWarning: Default solver will be changed to 'lbfgs' in 0.22. Specify a solver to silence this warning.\n",
            "  FutureWarning)\n",
            "/usr/local/lib/python3.7/dist-packages/sklearn/linear_model/logistic.py:469: FutureWarning: Default multi_class will be changed to 'auto' in 0.22. Specify the multi_class option to silence this warning.\n",
            "  \"this warning.\", FutureWarning)\n",
            "/usr/local/lib/python3.7/dist-packages/sklearn/ensemble/forest.py:245: FutureWarning: The default value of n_estimators will change from 10 in version 0.20 to 100 in 0.22.\n",
            "  \"10 in version 0.20 to 100 in 0.22.\", FutureWarning)\n",
            "/usr/local/lib/python3.7/dist-packages/sklearn/svm/base.py:193: FutureWarning: The default value of gamma will change from 'auto' to 'scale' in version 0.22 to account better for unscaled features. Set gamma explicitly to 'auto' or 'scale' to avoid this warning.\n",
            "  \"avoid this warning.\", FutureWarning)\n",
            "/usr/local/lib/python3.7/dist-packages/sklearn/metrics/classification.py:1437: UndefinedMetricWarning: Precision and F-score are ill-defined and being set to 0.0 in labels with no predicted samples.\n",
            "  'precision', 'predicted', average, warn_for)\n"
          ]
        },
        {
          "output_type": "stream",
          "name": "stdout",
          "text": [
            "CPU times: user 1min 34s, sys: 12 s, total: 1min 46s\n",
            "Wall time: 1min 46s\n"
          ]
        }
      ]
    },
    {
      "cell_type": "code",
      "metadata": {
        "id": "ZFW1OLZjCsqE",
        "colab": {
          "base_uri": "https://localhost:8080/",
          "height": 291
        },
        "outputId": "d13af07f-6c4e-4f81-d851-2e8e7ecf1c8d"
      },
      "source": [
        "result"
      ],
      "execution_count": null,
      "outputs": [
        {
          "output_type": "execute_result",
          "data": {
            "text/html": [
              "<div>\n",
              "<style scoped>\n",
              "    .dataframe tbody tr th:only-of-type {\n",
              "        vertical-align: middle;\n",
              "    }\n",
              "\n",
              "    .dataframe tbody tr th {\n",
              "        vertical-align: top;\n",
              "    }\n",
              "\n",
              "    .dataframe thead th {\n",
              "        text-align: right;\n",
              "    }\n",
              "</style>\n",
              "<table border=\"1\" class=\"dataframe\">\n",
              "  <thead>\n",
              "    <tr style=\"text-align: right;\">\n",
              "      <th></th>\n",
              "      <th>algorithm</th>\n",
              "      <th>adpq_1_precision</th>\n",
              "      <th>adpq_1_recall</th>\n",
              "      <th>adpq_1_f1-score</th>\n",
              "      <th>adpq_1_support</th>\n",
              "      <th>adpq_2_precision</th>\n",
              "      <th>adpq_2_recall</th>\n",
              "      <th>adpq_2_f1-score</th>\n",
              "      <th>adpq_2_support</th>\n",
              "      <th>adpq_3_precision</th>\n",
              "      <th>adpq_3_recall</th>\n",
              "      <th>adpq_3_f1-score</th>\n",
              "      <th>adpq_3_support</th>\n",
              "      <th>accuracy</th>\n",
              "      <th>macro avg_precision</th>\n",
              "      <th>macro avg_recall</th>\n",
              "      <th>macro avg_f1-score</th>\n",
              "      <th>macro avg_support</th>\n",
              "      <th>weighted avg_precision</th>\n",
              "      <th>weighted avg_recall</th>\n",
              "      <th>weighted avg_f1-score</th>\n",
              "      <th>weighted avg_support</th>\n",
              "    </tr>\n",
              "  </thead>\n",
              "  <tbody>\n",
              "    <tr>\n",
              "      <th>0</th>\n",
              "      <td>LogisticRegression</td>\n",
              "      <td>0.285714</td>\n",
              "      <td>0.133333</td>\n",
              "      <td>0.181818</td>\n",
              "      <td>15</td>\n",
              "      <td>0.485149</td>\n",
              "      <td>0.653333</td>\n",
              "      <td>0.556818</td>\n",
              "      <td>75</td>\n",
              "      <td>0.480769</td>\n",
              "      <td>0.357143</td>\n",
              "      <td>0.409836</td>\n",
              "      <td>70</td>\n",
              "      <td>0.47500</td>\n",
              "      <td>0.417211</td>\n",
              "      <td>0.381270</td>\n",
              "      <td>0.382824</td>\n",
              "      <td>160</td>\n",
              "      <td>0.464536</td>\n",
              "      <td>0.47500</td>\n",
              "      <td>0.457357</td>\n",
              "      <td>160</td>\n",
              "    </tr>\n",
              "    <tr>\n",
              "      <th>1</th>\n",
              "      <td>RidgeClassifier</td>\n",
              "      <td>0.300000</td>\n",
              "      <td>0.200000</td>\n",
              "      <td>0.240000</td>\n",
              "      <td>15</td>\n",
              "      <td>0.452632</td>\n",
              "      <td>0.573333</td>\n",
              "      <td>0.505882</td>\n",
              "      <td>75</td>\n",
              "      <td>0.381818</td>\n",
              "      <td>0.300000</td>\n",
              "      <td>0.336000</td>\n",
              "      <td>70</td>\n",
              "      <td>0.41875</td>\n",
              "      <td>0.378150</td>\n",
              "      <td>0.357778</td>\n",
              "      <td>0.360627</td>\n",
              "      <td>160</td>\n",
              "      <td>0.407342</td>\n",
              "      <td>0.41875</td>\n",
              "      <td>0.406632</td>\n",
              "      <td>160</td>\n",
              "    </tr>\n",
              "    <tr>\n",
              "      <th>2</th>\n",
              "      <td>RandomForestClassifier</td>\n",
              "      <td>0.000000</td>\n",
              "      <td>0.000000</td>\n",
              "      <td>0.000000</td>\n",
              "      <td>15</td>\n",
              "      <td>0.491379</td>\n",
              "      <td>0.760000</td>\n",
              "      <td>0.596859</td>\n",
              "      <td>75</td>\n",
              "      <td>0.512821</td>\n",
              "      <td>0.285714</td>\n",
              "      <td>0.366972</td>\n",
              "      <td>70</td>\n",
              "      <td>0.48125</td>\n",
              "      <td>0.334733</td>\n",
              "      <td>0.348571</td>\n",
              "      <td>0.321277</td>\n",
              "      <td>160</td>\n",
              "      <td>0.454693</td>\n",
              "      <td>0.48125</td>\n",
              "      <td>0.440328</td>\n",
              "      <td>160</td>\n",
              "    </tr>\n",
              "    <tr>\n",
              "      <th>3</th>\n",
              "      <td>SVC</td>\n",
              "      <td>0.000000</td>\n",
              "      <td>0.000000</td>\n",
              "      <td>0.000000</td>\n",
              "      <td>15</td>\n",
              "      <td>0.468750</td>\n",
              "      <td>1.000000</td>\n",
              "      <td>0.638298</td>\n",
              "      <td>75</td>\n",
              "      <td>0.000000</td>\n",
              "      <td>0.000000</td>\n",
              "      <td>0.000000</td>\n",
              "      <td>70</td>\n",
              "      <td>0.46875</td>\n",
              "      <td>0.156250</td>\n",
              "      <td>0.333333</td>\n",
              "      <td>0.212766</td>\n",
              "      <td>160</td>\n",
              "      <td>0.219727</td>\n",
              "      <td>0.46875</td>\n",
              "      <td>0.299202</td>\n",
              "      <td>160</td>\n",
              "    </tr>\n",
              "    <tr>\n",
              "      <th>4</th>\n",
              "      <td>DecisionTreeClassifier</td>\n",
              "      <td>0.083333</td>\n",
              "      <td>0.066667</td>\n",
              "      <td>0.074074</td>\n",
              "      <td>15</td>\n",
              "      <td>0.500000</td>\n",
              "      <td>0.573333</td>\n",
              "      <td>0.534161</td>\n",
              "      <td>75</td>\n",
              "      <td>0.532258</td>\n",
              "      <td>0.471429</td>\n",
              "      <td>0.500000</td>\n",
              "      <td>70</td>\n",
              "      <td>0.48125</td>\n",
              "      <td>0.371864</td>\n",
              "      <td>0.370476</td>\n",
              "      <td>0.369412</td>\n",
              "      <td>160</td>\n",
              "      <td>0.475050</td>\n",
              "      <td>0.48125</td>\n",
              "      <td>0.476083</td>\n",
              "      <td>160</td>\n",
              "    </tr>\n",
              "    <tr>\n",
              "      <th>5</th>\n",
              "      <td>BernoulliNB</td>\n",
              "      <td>0.090909</td>\n",
              "      <td>0.133333</td>\n",
              "      <td>0.108108</td>\n",
              "      <td>15</td>\n",
              "      <td>0.486842</td>\n",
              "      <td>0.493333</td>\n",
              "      <td>0.490066</td>\n",
              "      <td>75</td>\n",
              "      <td>0.435484</td>\n",
              "      <td>0.385714</td>\n",
              "      <td>0.409091</td>\n",
              "      <td>70</td>\n",
              "      <td>0.41250</td>\n",
              "      <td>0.337745</td>\n",
              "      <td>0.337460</td>\n",
              "      <td>0.335755</td>\n",
              "      <td>160</td>\n",
              "      <td>0.427254</td>\n",
              "      <td>0.41250</td>\n",
              "      <td>0.418831</td>\n",
              "      <td>160</td>\n",
              "    </tr>\n",
              "  </tbody>\n",
              "</table>\n",
              "</div>"
            ],
            "text/plain": [
              "                algorithm  ...  weighted avg_support\n",
              "0      LogisticRegression  ...                   160\n",
              "1         RidgeClassifier  ...                   160\n",
              "2  RandomForestClassifier  ...                   160\n",
              "3                     SVC  ...                   160\n",
              "4  DecisionTreeClassifier  ...                   160\n",
              "5             BernoulliNB  ...                   160\n",
              "\n",
              "[6 rows x 22 columns]"
            ]
          },
          "metadata": {},
          "execution_count": 55
        }
      ]
    },
    {
      "cell_type": "markdown",
      "metadata": {
        "id": "2uOixqAhB3DR"
      },
      "source": [
        "Let's try with BERT large:"
      ]
    },
    {
      "cell_type": "code",
      "metadata": {
        "id": "__8G8oLdB6Fy",
        "colab": {
          "base_uri": "https://localhost:8080/",
          "height": 378,
          "referenced_widgets": [
            "fa15a1122365407d80079dd8264c29bd",
            "4e1b21f1a6734e3cb4b15f9581f3f7bd",
            "d82f42571d134b75bcef513c1a231e3c",
            "566b1d2dea1542608c6b168b6569c630",
            "43be1ad144c04d32b748421ce9e788f2",
            "bf79a66e2f254600bb66a16def61f64c",
            "cc567f20dcbd492786ed0e356139c035",
            "669f1df5f3e64222bac5de20b7e44d07",
            "06b4e8d250914e59997a05886106c9a2",
            "8013cd8b51604beaabd9f7d08388c2c5",
            "d1bf44cd82654dcca8c4d50e16c76841"
          ]
        },
        "outputId": "a786994d-bd7e-4ebf-8989-115c97d52c62"
      },
      "source": [
        "%%time\n",
        "embedder = BERTEmbedder('bert-large-cased')\n",
        "X = embedder.process_sample(questions['question'].tolist(),\n",
        "                                 flatten_method='average')\n",
        "\n",
        "y = questions[\"category\"]\n",
        "X_train, X_test, y_train, y_test = train_test_split(X, y, random_state=42)\n",
        "\n",
        "clfs = [\n",
        "        LogisticRegression, RidgeClassifier,\n",
        "        RandomForestClassifier, SVC,\n",
        "        DecisionTreeClassifier, BernoulliNB\n",
        "]\n",
        "\n",
        "result = []\n",
        "\n",
        "for clf in clfs:\n",
        "  try:\n",
        "    scorer = clf(random_state=42).fit(X_train, y_train)\n",
        "  except:\n",
        "    scorer = clf().fit(X_train, y_train)\n",
        "  predicted = scorer.predict(X_test)\n",
        "  report = classification_report(y_test, predicted, output_dict=True)\n",
        "  entry = ({\n",
        "      'algorithm': clf.__name__,\n",
        "  })\n",
        "\n",
        "  for key, val in report.items():\n",
        "    if type(val) == dict:\n",
        "      for k, v in val.items():\n",
        "        entry[f\"{key}_{k}\"] = v\n",
        "    else:\n",
        "      entry[key] = val\n",
        "  \n",
        "  result.append(entry)\n",
        "result = pd.DataFrame(result)"
      ],
      "execution_count": null,
      "outputs": [
        {
          "output_type": "stream",
          "name": "stderr",
          "text": [
            "Some weights of the model checkpoint at bert-large-cased were not used when initializing BertModel: ['cls.predictions.bias', 'cls.predictions.transform.dense.weight', 'cls.seq_relationship.weight', 'cls.predictions.decoder.weight', 'cls.predictions.transform.dense.bias', 'cls.predictions.transform.LayerNorm.weight', 'cls.seq_relationship.bias', 'cls.predictions.transform.LayerNorm.bias']\n",
            "- This IS expected if you are initializing BertModel from the checkpoint of a model trained on another task or with another architecture (e.g. initializing a BertForSequenceClassification model from a BertForPreTraining model).\n",
            "- This IS NOT expected if you are initializing BertModel from the checkpoint of a model that you expect to be exactly identical (initializing a BertForSequenceClassification model from a BertForSequenceClassification model).\n",
            "/usr/local/lib/python3.7/dist-packages/ipykernel_launcher.py:40: TqdmDeprecationWarning: This function will be removed in tqdm==5.0.0\n",
            "Please use `tqdm.notebook.tqdm` instead of `tqdm.tqdm_notebook`\n"
          ]
        },
        {
          "output_type": "display_data",
          "data": {
            "application/vnd.jupyter.widget-view+json": {
              "model_id": "fa15a1122365407d80079dd8264c29bd",
              "version_minor": 0,
              "version_major": 2
            },
            "text/plain": [
              "  0%|          | 0/160 [00:00<?, ?it/s]"
            ]
          },
          "metadata": {}
        },
        {
          "output_type": "stream",
          "name": "stderr",
          "text": [
            "/usr/local/lib/python3.7/dist-packages/sklearn/linear_model/logistic.py:432: FutureWarning: Default solver will be changed to 'lbfgs' in 0.22. Specify a solver to silence this warning.\n",
            "  FutureWarning)\n",
            "/usr/local/lib/python3.7/dist-packages/sklearn/linear_model/logistic.py:469: FutureWarning: Default multi_class will be changed to 'auto' in 0.22. Specify the multi_class option to silence this warning.\n",
            "  \"this warning.\", FutureWarning)\n",
            "/usr/local/lib/python3.7/dist-packages/sklearn/ensemble/forest.py:245: FutureWarning: The default value of n_estimators will change from 10 in version 0.20 to 100 in 0.22.\n",
            "  \"10 in version 0.20 to 100 in 0.22.\", FutureWarning)\n",
            "/usr/local/lib/python3.7/dist-packages/sklearn/svm/base.py:193: FutureWarning: The default value of gamma will change from 'auto' to 'scale' in version 0.22 to account better for unscaled features. Set gamma explicitly to 'auto' or 'scale' to avoid this warning.\n",
            "  \"avoid this warning.\", FutureWarning)\n",
            "/usr/local/lib/python3.7/dist-packages/sklearn/metrics/classification.py:1437: UndefinedMetricWarning: Precision and F-score are ill-defined and being set to 0.0 in labels with no predicted samples.\n",
            "  'precision', 'predicted', average, warn_for)\n"
          ]
        },
        {
          "output_type": "stream",
          "name": "stdout",
          "text": [
            "CPU times: user 5min 29s, sys: 12.6 s, total: 5min 42s\n",
            "Wall time: 5min 41s\n"
          ]
        }
      ]
    },
    {
      "cell_type": "code",
      "metadata": {
        "id": "MfJsoq1XESbd",
        "colab": {
          "base_uri": "https://localhost:8080/",
          "height": 291
        },
        "outputId": "653dd58f-b85d-4dce-9de1-65eaf519433d"
      },
      "source": [
        "result"
      ],
      "execution_count": null,
      "outputs": [
        {
          "output_type": "execute_result",
          "data": {
            "text/html": [
              "<div>\n",
              "<style scoped>\n",
              "    .dataframe tbody tr th:only-of-type {\n",
              "        vertical-align: middle;\n",
              "    }\n",
              "\n",
              "    .dataframe tbody tr th {\n",
              "        vertical-align: top;\n",
              "    }\n",
              "\n",
              "    .dataframe thead th {\n",
              "        text-align: right;\n",
              "    }\n",
              "</style>\n",
              "<table border=\"1\" class=\"dataframe\">\n",
              "  <thead>\n",
              "    <tr style=\"text-align: right;\">\n",
              "      <th></th>\n",
              "      <th>algorithm</th>\n",
              "      <th>adpq_1_precision</th>\n",
              "      <th>adpq_1_recall</th>\n",
              "      <th>adpq_1_f1-score</th>\n",
              "      <th>adpq_1_support</th>\n",
              "      <th>adpq_2_precision</th>\n",
              "      <th>adpq_2_recall</th>\n",
              "      <th>adpq_2_f1-score</th>\n",
              "      <th>adpq_2_support</th>\n",
              "      <th>adpq_3_precision</th>\n",
              "      <th>adpq_3_recall</th>\n",
              "      <th>adpq_3_f1-score</th>\n",
              "      <th>adpq_3_support</th>\n",
              "      <th>accuracy</th>\n",
              "      <th>macro avg_precision</th>\n",
              "      <th>macro avg_recall</th>\n",
              "      <th>macro avg_f1-score</th>\n",
              "      <th>macro avg_support</th>\n",
              "      <th>weighted avg_precision</th>\n",
              "      <th>weighted avg_recall</th>\n",
              "      <th>weighted avg_f1-score</th>\n",
              "      <th>weighted avg_support</th>\n",
              "    </tr>\n",
              "  </thead>\n",
              "  <tbody>\n",
              "    <tr>\n",
              "      <th>0</th>\n",
              "      <td>LogisticRegression</td>\n",
              "      <td>0.333333</td>\n",
              "      <td>0.133333</td>\n",
              "      <td>0.190476</td>\n",
              "      <td>15</td>\n",
              "      <td>0.489796</td>\n",
              "      <td>0.640000</td>\n",
              "      <td>0.554913</td>\n",
              "      <td>75</td>\n",
              "      <td>0.500000</td>\n",
              "      <td>0.400000</td>\n",
              "      <td>0.444444</td>\n",
              "      <td>70</td>\n",
              "      <td>0.48750</td>\n",
              "      <td>0.441043</td>\n",
              "      <td>0.391111</td>\n",
              "      <td>0.396611</td>\n",
              "      <td>160</td>\n",
              "      <td>0.479592</td>\n",
              "      <td>0.48750</td>\n",
              "      <td>0.472417</td>\n",
              "      <td>160</td>\n",
              "    </tr>\n",
              "    <tr>\n",
              "      <th>1</th>\n",
              "      <td>RidgeClassifier</td>\n",
              "      <td>0.125000</td>\n",
              "      <td>0.133333</td>\n",
              "      <td>0.129032</td>\n",
              "      <td>15</td>\n",
              "      <td>0.480519</td>\n",
              "      <td>0.493333</td>\n",
              "      <td>0.486842</td>\n",
              "      <td>75</td>\n",
              "      <td>0.477612</td>\n",
              "      <td>0.457143</td>\n",
              "      <td>0.467153</td>\n",
              "      <td>70</td>\n",
              "      <td>0.44375</td>\n",
              "      <td>0.361044</td>\n",
              "      <td>0.361270</td>\n",
              "      <td>0.361009</td>\n",
              "      <td>160</td>\n",
              "      <td>0.445917</td>\n",
              "      <td>0.44375</td>\n",
              "      <td>0.444684</td>\n",
              "      <td>160</td>\n",
              "    </tr>\n",
              "    <tr>\n",
              "      <th>2</th>\n",
              "      <td>RandomForestClassifier</td>\n",
              "      <td>0.000000</td>\n",
              "      <td>0.000000</td>\n",
              "      <td>0.000000</td>\n",
              "      <td>15</td>\n",
              "      <td>0.482143</td>\n",
              "      <td>0.720000</td>\n",
              "      <td>0.577540</td>\n",
              "      <td>75</td>\n",
              "      <td>0.545455</td>\n",
              "      <td>0.342857</td>\n",
              "      <td>0.421053</td>\n",
              "      <td>70</td>\n",
              "      <td>0.48750</td>\n",
              "      <td>0.342532</td>\n",
              "      <td>0.354286</td>\n",
              "      <td>0.332864</td>\n",
              "      <td>160</td>\n",
              "      <td>0.464641</td>\n",
              "      <td>0.48750</td>\n",
              "      <td>0.454932</td>\n",
              "      <td>160</td>\n",
              "    </tr>\n",
              "    <tr>\n",
              "      <th>3</th>\n",
              "      <td>SVC</td>\n",
              "      <td>0.000000</td>\n",
              "      <td>0.000000</td>\n",
              "      <td>0.000000</td>\n",
              "      <td>15</td>\n",
              "      <td>0.468750</td>\n",
              "      <td>1.000000</td>\n",
              "      <td>0.638298</td>\n",
              "      <td>75</td>\n",
              "      <td>0.000000</td>\n",
              "      <td>0.000000</td>\n",
              "      <td>0.000000</td>\n",
              "      <td>70</td>\n",
              "      <td>0.46875</td>\n",
              "      <td>0.156250</td>\n",
              "      <td>0.333333</td>\n",
              "      <td>0.212766</td>\n",
              "      <td>160</td>\n",
              "      <td>0.219727</td>\n",
              "      <td>0.46875</td>\n",
              "      <td>0.299202</td>\n",
              "      <td>160</td>\n",
              "    </tr>\n",
              "    <tr>\n",
              "      <th>4</th>\n",
              "      <td>DecisionTreeClassifier</td>\n",
              "      <td>0.100000</td>\n",
              "      <td>0.133333</td>\n",
              "      <td>0.114286</td>\n",
              "      <td>15</td>\n",
              "      <td>0.488889</td>\n",
              "      <td>0.586667</td>\n",
              "      <td>0.533333</td>\n",
              "      <td>75</td>\n",
              "      <td>0.400000</td>\n",
              "      <td>0.285714</td>\n",
              "      <td>0.333333</td>\n",
              "      <td>70</td>\n",
              "      <td>0.41250</td>\n",
              "      <td>0.329630</td>\n",
              "      <td>0.335238</td>\n",
              "      <td>0.326984</td>\n",
              "      <td>160</td>\n",
              "      <td>0.413542</td>\n",
              "      <td>0.41250</td>\n",
              "      <td>0.406548</td>\n",
              "      <td>160</td>\n",
              "    </tr>\n",
              "    <tr>\n",
              "      <th>5</th>\n",
              "      <td>BernoulliNB</td>\n",
              "      <td>0.090909</td>\n",
              "      <td>0.133333</td>\n",
              "      <td>0.108108</td>\n",
              "      <td>15</td>\n",
              "      <td>0.462500</td>\n",
              "      <td>0.493333</td>\n",
              "      <td>0.477419</td>\n",
              "      <td>75</td>\n",
              "      <td>0.482759</td>\n",
              "      <td>0.400000</td>\n",
              "      <td>0.437500</td>\n",
              "      <td>70</td>\n",
              "      <td>0.41875</td>\n",
              "      <td>0.345389</td>\n",
              "      <td>0.342222</td>\n",
              "      <td>0.341009</td>\n",
              "      <td>160</td>\n",
              "      <td>0.436526</td>\n",
              "      <td>0.41875</td>\n",
              "      <td>0.425332</td>\n",
              "      <td>160</td>\n",
              "    </tr>\n",
              "  </tbody>\n",
              "</table>\n",
              "</div>"
            ],
            "text/plain": [
              "                algorithm  ...  weighted avg_support\n",
              "0      LogisticRegression  ...                   160\n",
              "1         RidgeClassifier  ...                   160\n",
              "2  RandomForestClassifier  ...                   160\n",
              "3                     SVC  ...                   160\n",
              "4  DecisionTreeClassifier  ...                   160\n",
              "5             BernoulliNB  ...                   160\n",
              "\n",
              "[6 rows x 22 columns]"
            ]
          },
          "metadata": {},
          "execution_count": 102
        }
      ]
    },
    {
      "cell_type": "markdown",
      "metadata": {
        "id": "2M1LQrfAx_Mb"
      },
      "source": [
        "Попробуем с GPT-2:"
      ]
    },
    {
      "cell_type": "code",
      "metadata": {
        "id": "cKQAsVB-yDV9"
      },
      "source": [
        "class GPT2Embedder(BERTEmbedder):\n",
        "  def __init__(self, model_name):\n",
        "    self.tokenizer = GPT2Tokenizer.from_pretrained(model_name)\n",
        "    self.tokenizer.pad_token = self.tokenizer.eos_token\n",
        "    self.model = GPT2Model.from_pretrained(model_name)\n",
        "  \n",
        "  def process(self, texts, flatten_method='pooler'):\n",
        "    tokenized = self.tokenizer(texts, return_tensors='pt', padding=True, truncation=True, max_length=128)\n",
        "    ids = tokenized['input_ids']\n",
        "    mask = tokenized['attention_mask']\n",
        "    processed = self.model(input_ids=ids, attention_mask=mask)\n",
        "\n",
        "    if flatten_method == 'average':\n",
        "      return processed['last_hidden_state'].detach().numpy().mean(axis=1)\n",
        "    elif flatten_method == 'pooler':\n",
        "      return processed['pooler_output'].detach().numpy()"
      ],
      "execution_count": null,
      "outputs": []
    },
    {
      "cell_type": "code",
      "metadata": {
        "colab": {
          "base_uri": "https://localhost:8080/",
          "height": 324,
          "referenced_widgets": [
            "512cd0a11d984a0cba70fd56de9d0da3",
            "7ffac81e2a3442898e15502677d8cdb1",
            "d60e2a7c99994e1c92451dabcc9c258d",
            "e1e82800c6874b86b6ded0781efef54a",
            "f55a9a93cb7b420b880161981238019f",
            "f2d7d01d24de4abb8e3b09a2d5138939",
            "393f14be9b814ba0aabe554ba68c3b94",
            "1121c9fc41d8414c9ec8412f9e1000c2",
            "9a9acd97c07d4d2caa852c4d5f2c2359",
            "59aa22a24e0442c0b901cc373dfa8943",
            "ae539220a7ee43cd9873ea9f3ca0cfde"
          ]
        },
        "id": "3Kyi0k30zJPi",
        "outputId": "309ed77f-8d3a-4de7-88e4-bd395137d072"
      },
      "source": [
        "%%time\n",
        "embedder = GPT2Embedder(\"gpt2\")\n",
        "X = embedder.process_sample(questions['question'].tolist(),\n",
        "                                 flatten_method='average')\n",
        "\n",
        "y = questions[\"category\"]\n",
        "X_train, X_test, y_train, y_test = train_test_split(X, y, random_state=42)\n",
        "\n",
        "clfs = [\n",
        "        LogisticRegression, RidgeClassifier,\n",
        "        RandomForestClassifier, SVC,\n",
        "        DecisionTreeClassifier, BernoulliNB\n",
        "]\n",
        "\n",
        "result = []\n",
        "\n",
        "for clf in clfs:\n",
        "  try:\n",
        "    scorer = clf(random_state=42).fit(X_train, y_train)\n",
        "  except:\n",
        "    scorer = clf().fit(X_train, y_train)\n",
        "  predicted = scorer.predict(X_test)\n",
        "  report = classification_report(y_test, predicted, output_dict=True)\n",
        "  entry = ({\n",
        "      'algorithm': clf.__name__,\n",
        "  })\n",
        "\n",
        "  for key, val in report.items():\n",
        "    if type(val) == dict:\n",
        "      for k, v in val.items():\n",
        "        entry[f\"{key}_{k}\"] = v\n",
        "    else:\n",
        "      entry[key] = val\n",
        "  \n",
        "  result.append(entry)\n",
        "result = pd.DataFrame(result)"
      ],
      "execution_count": null,
      "outputs": [
        {
          "output_type": "stream",
          "name": "stderr",
          "text": [
            "/usr/local/lib/python3.7/dist-packages/ipykernel_launcher.py:40: TqdmDeprecationWarning: This function will be removed in tqdm==5.0.0\n",
            "Please use `tqdm.notebook.tqdm` instead of `tqdm.tqdm_notebook`\n"
          ]
        },
        {
          "output_type": "display_data",
          "data": {
            "application/vnd.jupyter.widget-view+json": {
              "model_id": "512cd0a11d984a0cba70fd56de9d0da3",
              "version_minor": 0,
              "version_major": 2
            },
            "text/plain": [
              "  0%|          | 0/160 [00:00<?, ?it/s]"
            ]
          },
          "metadata": {}
        },
        {
          "output_type": "stream",
          "name": "stderr",
          "text": [
            "/usr/local/lib/python3.7/dist-packages/sklearn/linear_model/logistic.py:432: FutureWarning: Default solver will be changed to 'lbfgs' in 0.22. Specify a solver to silence this warning.\n",
            "  FutureWarning)\n",
            "/usr/local/lib/python3.7/dist-packages/sklearn/linear_model/logistic.py:469: FutureWarning: Default multi_class will be changed to 'auto' in 0.22. Specify the multi_class option to silence this warning.\n",
            "  \"this warning.\", FutureWarning)\n",
            "/usr/local/lib/python3.7/dist-packages/sklearn/ensemble/forest.py:245: FutureWarning: The default value of n_estimators will change from 10 in version 0.20 to 100 in 0.22.\n",
            "  \"10 in version 0.20 to 100 in 0.22.\", FutureWarning)\n",
            "/usr/local/lib/python3.7/dist-packages/sklearn/svm/base.py:193: FutureWarning: The default value of gamma will change from 'auto' to 'scale' in version 0.22 to account better for unscaled features. Set gamma explicitly to 'auto' or 'scale' to avoid this warning.\n",
            "  \"avoid this warning.\", FutureWarning)\n",
            "/usr/local/lib/python3.7/dist-packages/sklearn/metrics/classification.py:1437: UndefinedMetricWarning: Precision and F-score are ill-defined and being set to 0.0 in labels with no predicted samples.\n",
            "  'precision', 'predicted', average, warn_for)\n"
          ]
        },
        {
          "output_type": "stream",
          "name": "stdout",
          "text": [
            "CPU times: user 1min 39s, sys: 18.6 s, total: 1min 58s\n",
            "Wall time: 1min 57s\n"
          ]
        }
      ]
    },
    {
      "cell_type": "code",
      "metadata": {
        "colab": {
          "base_uri": "https://localhost:8080/",
          "height": 291
        },
        "id": "WEbCHKHLIw9T",
        "outputId": "3330cf5d-771f-429d-a74b-f650841d2a56"
      },
      "source": [
        "result"
      ],
      "execution_count": null,
      "outputs": [
        {
          "output_type": "execute_result",
          "data": {
            "text/html": [
              "<div>\n",
              "<style scoped>\n",
              "    .dataframe tbody tr th:only-of-type {\n",
              "        vertical-align: middle;\n",
              "    }\n",
              "\n",
              "    .dataframe tbody tr th {\n",
              "        vertical-align: top;\n",
              "    }\n",
              "\n",
              "    .dataframe thead th {\n",
              "        text-align: right;\n",
              "    }\n",
              "</style>\n",
              "<table border=\"1\" class=\"dataframe\">\n",
              "  <thead>\n",
              "    <tr style=\"text-align: right;\">\n",
              "      <th></th>\n",
              "      <th>algorithm</th>\n",
              "      <th>adpq_1_precision</th>\n",
              "      <th>adpq_1_recall</th>\n",
              "      <th>adpq_1_f1-score</th>\n",
              "      <th>adpq_1_support</th>\n",
              "      <th>adpq_2_precision</th>\n",
              "      <th>adpq_2_recall</th>\n",
              "      <th>adpq_2_f1-score</th>\n",
              "      <th>adpq_2_support</th>\n",
              "      <th>adpq_3_precision</th>\n",
              "      <th>adpq_3_recall</th>\n",
              "      <th>adpq_3_f1-score</th>\n",
              "      <th>adpq_3_support</th>\n",
              "      <th>accuracy</th>\n",
              "      <th>macro avg_precision</th>\n",
              "      <th>macro avg_recall</th>\n",
              "      <th>macro avg_f1-score</th>\n",
              "      <th>macro avg_support</th>\n",
              "      <th>weighted avg_precision</th>\n",
              "      <th>weighted avg_recall</th>\n",
              "      <th>weighted avg_f1-score</th>\n",
              "      <th>weighted avg_support</th>\n",
              "    </tr>\n",
              "  </thead>\n",
              "  <tbody>\n",
              "    <tr>\n",
              "      <th>0</th>\n",
              "      <td>LogisticRegression</td>\n",
              "      <td>0.000000</td>\n",
              "      <td>0.000000</td>\n",
              "      <td>0.000000</td>\n",
              "      <td>15</td>\n",
              "      <td>0.470000</td>\n",
              "      <td>0.626667</td>\n",
              "      <td>0.537143</td>\n",
              "      <td>75</td>\n",
              "      <td>0.518519</td>\n",
              "      <td>0.400000</td>\n",
              "      <td>0.451613</td>\n",
              "      <td>70</td>\n",
              "      <td>0.46875</td>\n",
              "      <td>0.329506</td>\n",
              "      <td>0.342222</td>\n",
              "      <td>0.329585</td>\n",
              "      <td>160</td>\n",
              "      <td>0.447164</td>\n",
              "      <td>0.46875</td>\n",
              "      <td>0.449366</td>\n",
              "      <td>160</td>\n",
              "    </tr>\n",
              "    <tr>\n",
              "      <th>1</th>\n",
              "      <td>RidgeClassifier</td>\n",
              "      <td>0.187500</td>\n",
              "      <td>0.200000</td>\n",
              "      <td>0.193548</td>\n",
              "      <td>15</td>\n",
              "      <td>0.483871</td>\n",
              "      <td>0.600000</td>\n",
              "      <td>0.535714</td>\n",
              "      <td>75</td>\n",
              "      <td>0.509804</td>\n",
              "      <td>0.371429</td>\n",
              "      <td>0.429752</td>\n",
              "      <td>70</td>\n",
              "      <td>0.46250</td>\n",
              "      <td>0.393725</td>\n",
              "      <td>0.390476</td>\n",
              "      <td>0.386338</td>\n",
              "      <td>160</td>\n",
              "      <td>0.467432</td>\n",
              "      <td>0.46250</td>\n",
              "      <td>0.457278</td>\n",
              "      <td>160</td>\n",
              "    </tr>\n",
              "    <tr>\n",
              "      <th>2</th>\n",
              "      <td>RandomForestClassifier</td>\n",
              "      <td>0.000000</td>\n",
              "      <td>0.000000</td>\n",
              "      <td>0.000000</td>\n",
              "      <td>15</td>\n",
              "      <td>0.465517</td>\n",
              "      <td>0.720000</td>\n",
              "      <td>0.565445</td>\n",
              "      <td>75</td>\n",
              "      <td>0.400000</td>\n",
              "      <td>0.228571</td>\n",
              "      <td>0.290909</td>\n",
              "      <td>70</td>\n",
              "      <td>0.43750</td>\n",
              "      <td>0.288506</td>\n",
              "      <td>0.316190</td>\n",
              "      <td>0.285451</td>\n",
              "      <td>160</td>\n",
              "      <td>0.393211</td>\n",
              "      <td>0.43750</td>\n",
              "      <td>0.392325</td>\n",
              "      <td>160</td>\n",
              "    </tr>\n",
              "    <tr>\n",
              "      <th>3</th>\n",
              "      <td>SVC</td>\n",
              "      <td>0.000000</td>\n",
              "      <td>0.000000</td>\n",
              "      <td>0.000000</td>\n",
              "      <td>15</td>\n",
              "      <td>0.468254</td>\n",
              "      <td>0.786667</td>\n",
              "      <td>0.587065</td>\n",
              "      <td>75</td>\n",
              "      <td>0.470588</td>\n",
              "      <td>0.228571</td>\n",
              "      <td>0.307692</td>\n",
              "      <td>70</td>\n",
              "      <td>0.46875</td>\n",
              "      <td>0.312947</td>\n",
              "      <td>0.338413</td>\n",
              "      <td>0.298252</td>\n",
              "      <td>160</td>\n",
              "      <td>0.425376</td>\n",
              "      <td>0.46875</td>\n",
              "      <td>0.409802</td>\n",
              "      <td>160</td>\n",
              "    </tr>\n",
              "    <tr>\n",
              "      <th>4</th>\n",
              "      <td>DecisionTreeClassifier</td>\n",
              "      <td>0.240000</td>\n",
              "      <td>0.400000</td>\n",
              "      <td>0.300000</td>\n",
              "      <td>15</td>\n",
              "      <td>0.500000</td>\n",
              "      <td>0.560000</td>\n",
              "      <td>0.528302</td>\n",
              "      <td>75</td>\n",
              "      <td>0.509804</td>\n",
              "      <td>0.371429</td>\n",
              "      <td>0.429752</td>\n",
              "      <td>70</td>\n",
              "      <td>0.46250</td>\n",
              "      <td>0.416601</td>\n",
              "      <td>0.443810</td>\n",
              "      <td>0.419351</td>\n",
              "      <td>160</td>\n",
              "      <td>0.479914</td>\n",
              "      <td>0.46250</td>\n",
              "      <td>0.463783</td>\n",
              "      <td>160</td>\n",
              "    </tr>\n",
              "    <tr>\n",
              "      <th>5</th>\n",
              "      <td>BernoulliNB</td>\n",
              "      <td>0.181818</td>\n",
              "      <td>0.266667</td>\n",
              "      <td>0.216216</td>\n",
              "      <td>15</td>\n",
              "      <td>0.547619</td>\n",
              "      <td>0.613333</td>\n",
              "      <td>0.578616</td>\n",
              "      <td>75</td>\n",
              "      <td>0.555556</td>\n",
              "      <td>0.428571</td>\n",
              "      <td>0.483871</td>\n",
              "      <td>70</td>\n",
              "      <td>0.50000</td>\n",
              "      <td>0.428331</td>\n",
              "      <td>0.436190</td>\n",
              "      <td>0.426235</td>\n",
              "      <td>160</td>\n",
              "      <td>0.516797</td>\n",
              "      <td>0.50000</td>\n",
              "      <td>0.503190</td>\n",
              "      <td>160</td>\n",
              "    </tr>\n",
              "  </tbody>\n",
              "</table>\n",
              "</div>"
            ],
            "text/plain": [
              "                algorithm  ...  weighted avg_support\n",
              "0      LogisticRegression  ...                   160\n",
              "1         RidgeClassifier  ...                   160\n",
              "2  RandomForestClassifier  ...                   160\n",
              "3                     SVC  ...                   160\n",
              "4  DecisionTreeClassifier  ...                   160\n",
              "5             BernoulliNB  ...                   160\n",
              "\n",
              "[6 rows x 22 columns]"
            ]
          },
          "metadata": {},
          "execution_count": 114
        }
      ]
    },
    {
      "cell_type": "code",
      "metadata": {
        "id": "mAaHZtyZK7Tb"
      },
      "source": [
        "gpt2_embedder = embedder"
      ],
      "execution_count": null,
      "outputs": []
    },
    {
      "cell_type": "markdown",
      "metadata": {
        "id": "FywZBvjb41BP"
      },
      "source": [
        "## Inspector"
      ]
    },
    {
      "cell_type": "code",
      "metadata": {
        "id": "el5QoNZa43vn"
      },
      "source": [
        "os.chdir('lab_inspector/Inspector')"
      ],
      "execution_count": null,
      "outputs": []
    },
    {
      "cell_type": "code",
      "metadata": {
        "id": "PTSygekW6-XL",
        "colab": {
          "base_uri": "https://localhost:8080/"
        },
        "outputId": "0e4626c5-052e-4fd3-df95-cbd6757c1000"
      },
      "source": [
        "from main import main"
      ],
      "execution_count": null,
      "outputs": [
        {
          "output_type": "stream",
          "name": "stderr",
          "text": [
            "/usr/local/lib/python3.7/dist-packages/sklearn/base.py:306: UserWarning: Trying to unpickle estimator TfidfTransformer from version 0.21.1 when using version 0.21.2. This might lead to breaking code or invalid results. Use at your own risk.\n",
            "  UserWarning)\n",
            "/usr/local/lib/python3.7/dist-packages/sklearn/base.py:306: UserWarning: Trying to unpickle estimator TfidfVectorizer from version 0.21.1 when using version 0.21.2. This might lead to breaking code or invalid results. Use at your own risk.\n",
            "  UserWarning)\n",
            "/usr/local/lib/python3.7/dist-packages/sklearn/base.py:306: UserWarning: Trying to unpickle estimator ColumnTransformer from version 0.21.1 when using version 0.21.2. This might lead to breaking code or invalid results. Use at your own risk.\n",
            "  UserWarning)\n",
            "/usr/local/lib/python3.7/dist-packages/sklearn/base.py:306: UserWarning: Trying to unpickle estimator LogisticRegression from version 0.21.1 when using version 0.21.2. This might lead to breaking code or invalid results. Use at your own risk.\n",
            "  UserWarning)\n",
            "/usr/local/lib/python3.7/dist-packages/sklearn/base.py:306: UserWarning: Trying to unpickle estimator Pipeline from version 0.21.1 when using version 0.21.2. This might lead to breaking code or invalid results. Use at your own risk.\n",
            "  UserWarning)\n"
          ]
        }
      ]
    },
    {
      "cell_type": "code",
      "metadata": {
        "id": "s9o_QOpV98-I",
        "colab": {
          "base_uri": "https://localhost:8080/",
          "height": 104,
          "referenced_widgets": [
            "85720d2e116345a9b03ac5e084c8d95d",
            "3213d618c2be4a8a8fa3ea8691305b0e",
            "cfa59174c7c44c6c85757eede8808098",
            "431366b9bc2e43ef855341aafe1ec9fe",
            "cd1f71ce028a4994a68e7bcdb11daa00",
            "f7cb118aa3c6483f82fa545fa42eddae",
            "3b256e9a11c344b6b1bb1068d015ccb4",
            "e78f66efe25743989f1ad5e68fcb8be3",
            "78961b9db4b641cfa531683f50a9e7d5",
            "925c4b30c9cb4468ab88e7d5df9a5335",
            "03a8fcb688e940c8956e8c35a0073e96"
          ]
        },
        "outputId": "8b5aedb7-8061-46f4-f9db-11f0a5af89cf"
      },
      "source": [
        "inspector_df = []\n",
        "\n",
        "for index, row in tqdm_notebook(questions.iterrows(), total=len(questions)):\n",
        "  inspector_df.append(main(row['question']))"
      ],
      "execution_count": null,
      "outputs": [
        {
          "output_type": "stream",
          "name": "stderr",
          "text": [
            "/usr/local/lib/python3.7/dist-packages/ipykernel_launcher.py:3: TqdmDeprecationWarning: This function will be removed in tqdm==5.0.0\n",
            "Please use `tqdm.notebook.tqdm` instead of `tqdm.tqdm_notebook`\n",
            "  This is separate from the ipykernel package so we can avoid doing imports until\n"
          ]
        },
        {
          "output_type": "display_data",
          "data": {
            "application/vnd.jupyter.widget-view+json": {
              "model_id": "85720d2e116345a9b03ac5e084c8d95d",
              "version_minor": 0,
              "version_major": 2
            },
            "text/plain": [
              "  0%|          | 0/640 [00:00<?, ?it/s]"
            ]
          },
          "metadata": {}
        }
      ]
    },
    {
      "cell_type": "code",
      "metadata": {
        "id": "gPE_68POBgHA"
      },
      "source": [
        "inspector_df = pd.DataFrame(inspector_df,\n",
        "                            index=questions.index)"
      ],
      "execution_count": null,
      "outputs": []
    },
    {
      "cell_type": "code",
      "metadata": {
        "colab": {
          "base_uri": "https://localhost:8080/"
        },
        "id": "erswDiT33Jw6",
        "outputId": "f5899fbf-f503-4f5b-b18d-4d6d447c1c0f"
      },
      "source": [
        "inspector_df.shape"
      ],
      "execution_count": null,
      "outputs": [
        {
          "output_type": "execute_result",
          "data": {
            "text/plain": [
              "(640, 72)"
            ]
          },
          "metadata": {},
          "execution_count": 80
        }
      ]
    },
    {
      "cell_type": "code",
      "metadata": {
        "id": "0J-JCor8B-RH",
        "colab": {
          "base_uri": "https://localhost:8080/"
        },
        "outputId": "a945394d-0054-4869-aa9f-76a9fcc7378a"
      },
      "source": [
        "X, y = inspector_df, questions['category']\n",
        "\n",
        "X_train, X_test, y_train, y_test = train_test_split(X, y, random_state=42)\n",
        "\n",
        "clfs = [\n",
        "        LogisticRegression, RidgeClassifier,\n",
        "        RandomForestClassifier, SVC,\n",
        "        DecisionTreeClassifier, BernoulliNB\n",
        "]\n",
        "\n",
        "result = []\n",
        "\n",
        "for clf in clfs:\n",
        "  try:\n",
        "    scorer = clf(random_state=42).fit(X_train, y_train)\n",
        "  except:\n",
        "    scorer = clf().fit(X_train, y_train)\n",
        "  predicted = scorer.predict(X_test)\n",
        "  report = classification_report(y_test, predicted, output_dict=True)\n",
        "  entry = ({\n",
        "      'algorithm': clf.__name__,\n",
        "  })\n",
        "\n",
        "  for key, val in report.items():\n",
        "    if type(val) == dict:\n",
        "      for k, v in val.items():\n",
        "        entry[f\"{key}_{k}\"] = v\n",
        "    else:\n",
        "      entry[key] = val\n",
        "  \n",
        "  result.append(entry)\n",
        "result = pd.DataFrame(result)"
      ],
      "execution_count": null,
      "outputs": [
        {
          "output_type": "stream",
          "name": "stderr",
          "text": [
            "/usr/local/lib/python3.7/dist-packages/sklearn/linear_model/logistic.py:432: FutureWarning: Default solver will be changed to 'lbfgs' in 0.22. Specify a solver to silence this warning.\n",
            "  FutureWarning)\n",
            "/usr/local/lib/python3.7/dist-packages/sklearn/linear_model/logistic.py:469: FutureWarning: Default multi_class will be changed to 'auto' in 0.22. Specify the multi_class option to silence this warning.\n",
            "  \"this warning.\", FutureWarning)\n",
            "/usr/local/lib/python3.7/dist-packages/sklearn/metrics/classification.py:1437: UndefinedMetricWarning: Precision and F-score are ill-defined and being set to 0.0 in labels with no predicted samples.\n",
            "  'precision', 'predicted', average, warn_for)\n",
            "/usr/local/lib/python3.7/dist-packages/sklearn/ensemble/forest.py:245: FutureWarning: The default value of n_estimators will change from 10 in version 0.20 to 100 in 0.22.\n",
            "  \"10 in version 0.20 to 100 in 0.22.\", FutureWarning)\n",
            "/usr/local/lib/python3.7/dist-packages/sklearn/svm/base.py:193: FutureWarning: The default value of gamma will change from 'auto' to 'scale' in version 0.22 to account better for unscaled features. Set gamma explicitly to 'auto' or 'scale' to avoid this warning.\n",
            "  \"avoid this warning.\", FutureWarning)\n"
          ]
        }
      ]
    },
    {
      "cell_type": "code",
      "metadata": {
        "id": "Fv8YytNACZuX",
        "colab": {
          "base_uri": "https://localhost:8080/",
          "height": 291
        },
        "outputId": "7f787f4f-578d-46b5-d8f5-f5bf2cb2283e"
      },
      "source": [
        "result"
      ],
      "execution_count": null,
      "outputs": [
        {
          "output_type": "execute_result",
          "data": {
            "text/html": [
              "<div>\n",
              "<style scoped>\n",
              "    .dataframe tbody tr th:only-of-type {\n",
              "        vertical-align: middle;\n",
              "    }\n",
              "\n",
              "    .dataframe tbody tr th {\n",
              "        vertical-align: top;\n",
              "    }\n",
              "\n",
              "    .dataframe thead th {\n",
              "        text-align: right;\n",
              "    }\n",
              "</style>\n",
              "<table border=\"1\" class=\"dataframe\">\n",
              "  <thead>\n",
              "    <tr style=\"text-align: right;\">\n",
              "      <th></th>\n",
              "      <th>algorithm</th>\n",
              "      <th>adpq_1_precision</th>\n",
              "      <th>adpq_1_recall</th>\n",
              "      <th>adpq_1_f1-score</th>\n",
              "      <th>adpq_1_support</th>\n",
              "      <th>adpq_2_precision</th>\n",
              "      <th>adpq_2_recall</th>\n",
              "      <th>adpq_2_f1-score</th>\n",
              "      <th>adpq_2_support</th>\n",
              "      <th>adpq_3_precision</th>\n",
              "      <th>adpq_3_recall</th>\n",
              "      <th>adpq_3_f1-score</th>\n",
              "      <th>adpq_3_support</th>\n",
              "      <th>accuracy</th>\n",
              "      <th>macro avg_precision</th>\n",
              "      <th>macro avg_recall</th>\n",
              "      <th>macro avg_f1-score</th>\n",
              "      <th>macro avg_support</th>\n",
              "      <th>weighted avg_precision</th>\n",
              "      <th>weighted avg_recall</th>\n",
              "      <th>weighted avg_f1-score</th>\n",
              "      <th>weighted avg_support</th>\n",
              "    </tr>\n",
              "  </thead>\n",
              "  <tbody>\n",
              "    <tr>\n",
              "      <th>0</th>\n",
              "      <td>LogisticRegression</td>\n",
              "      <td>0.000000</td>\n",
              "      <td>0.000000</td>\n",
              "      <td>0.000000</td>\n",
              "      <td>15</td>\n",
              "      <td>0.435185</td>\n",
              "      <td>0.626667</td>\n",
              "      <td>0.513661</td>\n",
              "      <td>75</td>\n",
              "      <td>0.384615</td>\n",
              "      <td>0.285714</td>\n",
              "      <td>0.327869</td>\n",
              "      <td>70</td>\n",
              "      <td>0.41875</td>\n",
              "      <td>0.273267</td>\n",
              "      <td>0.304127</td>\n",
              "      <td>0.280510</td>\n",
              "      <td>160</td>\n",
              "      <td>0.372262</td>\n",
              "      <td>0.41875</td>\n",
              "      <td>0.384221</td>\n",
              "      <td>160</td>\n",
              "    </tr>\n",
              "    <tr>\n",
              "      <th>1</th>\n",
              "      <td>RidgeClassifier</td>\n",
              "      <td>0.000000</td>\n",
              "      <td>0.000000</td>\n",
              "      <td>0.000000</td>\n",
              "      <td>15</td>\n",
              "      <td>0.448598</td>\n",
              "      <td>0.640000</td>\n",
              "      <td>0.527473</td>\n",
              "      <td>75</td>\n",
              "      <td>0.365385</td>\n",
              "      <td>0.271429</td>\n",
              "      <td>0.311475</td>\n",
              "      <td>70</td>\n",
              "      <td>0.41875</td>\n",
              "      <td>0.271328</td>\n",
              "      <td>0.303810</td>\n",
              "      <td>0.279649</td>\n",
              "      <td>160</td>\n",
              "      <td>0.370136</td>\n",
              "      <td>0.41875</td>\n",
              "      <td>0.383523</td>\n",
              "      <td>160</td>\n",
              "    </tr>\n",
              "    <tr>\n",
              "      <th>2</th>\n",
              "      <td>RandomForestClassifier</td>\n",
              "      <td>0.000000</td>\n",
              "      <td>0.000000</td>\n",
              "      <td>0.000000</td>\n",
              "      <td>15</td>\n",
              "      <td>0.443396</td>\n",
              "      <td>0.626667</td>\n",
              "      <td>0.519337</td>\n",
              "      <td>75</td>\n",
              "      <td>0.420000</td>\n",
              "      <td>0.300000</td>\n",
              "      <td>0.350000</td>\n",
              "      <td>70</td>\n",
              "      <td>0.42500</td>\n",
              "      <td>0.287799</td>\n",
              "      <td>0.308889</td>\n",
              "      <td>0.289779</td>\n",
              "      <td>160</td>\n",
              "      <td>0.391592</td>\n",
              "      <td>0.42500</td>\n",
              "      <td>0.396564</td>\n",
              "      <td>160</td>\n",
              "    </tr>\n",
              "    <tr>\n",
              "      <th>3</th>\n",
              "      <td>SVC</td>\n",
              "      <td>0.000000</td>\n",
              "      <td>0.000000</td>\n",
              "      <td>0.000000</td>\n",
              "      <td>15</td>\n",
              "      <td>0.463768</td>\n",
              "      <td>0.853333</td>\n",
              "      <td>0.600939</td>\n",
              "      <td>75</td>\n",
              "      <td>0.333333</td>\n",
              "      <td>0.100000</td>\n",
              "      <td>0.153846</td>\n",
              "      <td>70</td>\n",
              "      <td>0.44375</td>\n",
              "      <td>0.265700</td>\n",
              "      <td>0.317778</td>\n",
              "      <td>0.251595</td>\n",
              "      <td>160</td>\n",
              "      <td>0.363225</td>\n",
              "      <td>0.44375</td>\n",
              "      <td>0.348998</td>\n",
              "      <td>160</td>\n",
              "    </tr>\n",
              "    <tr>\n",
              "      <th>4</th>\n",
              "      <td>DecisionTreeClassifier</td>\n",
              "      <td>0.050000</td>\n",
              "      <td>0.066667</td>\n",
              "      <td>0.057143</td>\n",
              "      <td>15</td>\n",
              "      <td>0.415584</td>\n",
              "      <td>0.426667</td>\n",
              "      <td>0.421053</td>\n",
              "      <td>75</td>\n",
              "      <td>0.365079</td>\n",
              "      <td>0.328571</td>\n",
              "      <td>0.345865</td>\n",
              "      <td>70</td>\n",
              "      <td>0.35000</td>\n",
              "      <td>0.276888</td>\n",
              "      <td>0.273968</td>\n",
              "      <td>0.274687</td>\n",
              "      <td>160</td>\n",
              "      <td>0.359215</td>\n",
              "      <td>0.35000</td>\n",
              "      <td>0.354041</td>\n",
              "      <td>160</td>\n",
              "    </tr>\n",
              "    <tr>\n",
              "      <th>5</th>\n",
              "      <td>BernoulliNB</td>\n",
              "      <td>0.333333</td>\n",
              "      <td>0.200000</td>\n",
              "      <td>0.250000</td>\n",
              "      <td>15</td>\n",
              "      <td>0.516854</td>\n",
              "      <td>0.613333</td>\n",
              "      <td>0.560976</td>\n",
              "      <td>75</td>\n",
              "      <td>0.483871</td>\n",
              "      <td>0.428571</td>\n",
              "      <td>0.454545</td>\n",
              "      <td>70</td>\n",
              "      <td>0.49375</td>\n",
              "      <td>0.444686</td>\n",
              "      <td>0.413968</td>\n",
              "      <td>0.421840</td>\n",
              "      <td>160</td>\n",
              "      <td>0.485219</td>\n",
              "      <td>0.49375</td>\n",
              "      <td>0.485258</td>\n",
              "      <td>160</td>\n",
              "    </tr>\n",
              "  </tbody>\n",
              "</table>\n",
              "</div>"
            ],
            "text/plain": [
              "                algorithm  ...  weighted avg_support\n",
              "0      LogisticRegression  ...                   160\n",
              "1         RidgeClassifier  ...                   160\n",
              "2  RandomForestClassifier  ...                   160\n",
              "3                     SVC  ...                   160\n",
              "4  DecisionTreeClassifier  ...                   160\n",
              "5             BernoulliNB  ...                   160\n",
              "\n",
              "[6 rows x 22 columns]"
            ]
          },
          "metadata": {},
          "execution_count": 69
        }
      ]
    },
    {
      "cell_type": "markdown",
      "metadata": {
        "id": "X_OBVIseCj0M"
      },
      "source": [
        "### BERT + Inspector"
      ]
    },
    {
      "cell_type": "code",
      "metadata": {
        "id": "CMy_eMcjCibm",
        "colab": {
          "base_uri": "https://localhost:8080/",
          "height": 342,
          "referenced_widgets": [
            "a43447ca3e71480992571235d60e983a",
            "3d32fba574c848d5a96a561eb35d9478",
            "9c56be539fbd4438be0c8830582a87ec",
            "f3fa1912b5324128a94e64cbf1ae91b7",
            "6a286e8d4fc34eaeaf5ca09b53b2a7c1",
            "a1ee903e6dab4faaab30dff60a599b0c",
            "845cd3fc05fc42cea83cfb8d4ce4563d",
            "8b7cd34bcc1e481095282d005ea352bf",
            "19d79a7493994130b59860697c6a077a",
            "3854da3b5d6648038883b1df2c21f57f",
            "e1d2c9bf2ff74f22a36a7abfdeba2787"
          ]
        },
        "outputId": "470fe43c-60f4-4bb9-e342-20de3fa4384e"
      },
      "source": [
        "bert_embedder = BERTEmbedder('bert-base-cased')\n",
        "X2 = bert_embedder.process_sample(questions['question'].tolist(),\n",
        "                                 flatten_method='average')\n",
        "\n",
        "X = np.concatenate((X, X2), axis=1)\n",
        "X_train, X_test, y_train, y_test = train_test_split(X, y, random_state=42)\n",
        "\n",
        "clfs = [\n",
        "        LogisticRegression, RidgeClassifier,\n",
        "        RandomForestClassifier, SVC,\n",
        "        DecisionTreeClassifier, BernoulliNB\n",
        "]\n",
        "\n",
        "result = []\n",
        "\n",
        "for clf in clfs:\n",
        "  try:\n",
        "    scorer = clf(random_state=42).fit(X_train, y_train)\n",
        "  except:\n",
        "    scorer = clf().fit(X_train, y_train)\n",
        "  predicted = scorer.predict(X_test)\n",
        "  report = classification_report(y_test, predicted, output_dict=True)\n",
        "  entry = ({\n",
        "      'algorithm': clf.__name__,\n",
        "  })\n",
        "\n",
        "  for key, val in report.items():\n",
        "    if type(val) == dict:\n",
        "      for k, v in val.items():\n",
        "        entry[f\"{key}_{k}\"] = v\n",
        "    else:\n",
        "      entry[key] = val\n",
        "  \n",
        "  result.append(entry)\n",
        "result = pd.DataFrame(result)"
      ],
      "execution_count": null,
      "outputs": [
        {
          "output_type": "stream",
          "name": "stderr",
          "text": [
            "Some weights of the model checkpoint at bert-base-cased were not used when initializing BertModel: ['cls.predictions.bias', 'cls.predictions.transform.dense.weight', 'cls.seq_relationship.weight', 'cls.predictions.transform.LayerNorm.weight', 'cls.predictions.transform.dense.bias', 'cls.predictions.decoder.weight', 'cls.seq_relationship.bias', 'cls.predictions.transform.LayerNorm.bias']\n",
            "- This IS expected if you are initializing BertModel from the checkpoint of a model trained on another task or with another architecture (e.g. initializing a BertForSequenceClassification model from a BertForPreTraining model).\n",
            "- This IS NOT expected if you are initializing BertModel from the checkpoint of a model that you expect to be exactly identical (initializing a BertForSequenceClassification model from a BertForSequenceClassification model).\n",
            "/usr/local/lib/python3.7/dist-packages/ipykernel_launcher.py:40: TqdmDeprecationWarning: This function will be removed in tqdm==5.0.0\n",
            "Please use `tqdm.notebook.tqdm` instead of `tqdm.tqdm_notebook`\n"
          ]
        },
        {
          "output_type": "display_data",
          "data": {
            "application/vnd.jupyter.widget-view+json": {
              "model_id": "a43447ca3e71480992571235d60e983a",
              "version_minor": 0,
              "version_major": 2
            },
            "text/plain": [
              "  0%|          | 0/160 [00:00<?, ?it/s]"
            ]
          },
          "metadata": {}
        },
        {
          "output_type": "stream",
          "name": "stderr",
          "text": [
            "/usr/local/lib/python3.7/dist-packages/sklearn/linear_model/logistic.py:432: FutureWarning: Default solver will be changed to 'lbfgs' in 0.22. Specify a solver to silence this warning.\n",
            "  FutureWarning)\n",
            "/usr/local/lib/python3.7/dist-packages/sklearn/linear_model/logistic.py:469: FutureWarning: Default multi_class will be changed to 'auto' in 0.22. Specify the multi_class option to silence this warning.\n",
            "  \"this warning.\", FutureWarning)\n",
            "/usr/local/lib/python3.7/dist-packages/sklearn/ensemble/forest.py:245: FutureWarning: The default value of n_estimators will change from 10 in version 0.20 to 100 in 0.22.\n",
            "  \"10 in version 0.20 to 100 in 0.22.\", FutureWarning)\n",
            "/usr/local/lib/python3.7/dist-packages/sklearn/svm/base.py:193: FutureWarning: The default value of gamma will change from 'auto' to 'scale' in version 0.22 to account better for unscaled features. Set gamma explicitly to 'auto' or 'scale' to avoid this warning.\n",
            "  \"avoid this warning.\", FutureWarning)\n",
            "/usr/local/lib/python3.7/dist-packages/sklearn/metrics/classification.py:1437: UndefinedMetricWarning: Precision and F-score are ill-defined and being set to 0.0 in labels with no predicted samples.\n",
            "  'precision', 'predicted', average, warn_for)\n"
          ]
        }
      ]
    },
    {
      "cell_type": "code",
      "metadata": {
        "id": "nc7AvFLjDsFd",
        "colab": {
          "base_uri": "https://localhost:8080/",
          "height": 291
        },
        "outputId": "9e545bbc-09fe-4016-eb87-c6b0597ee55f"
      },
      "source": [
        "result"
      ],
      "execution_count": null,
      "outputs": [
        {
          "output_type": "execute_result",
          "data": {
            "text/html": [
              "<div>\n",
              "<style scoped>\n",
              "    .dataframe tbody tr th:only-of-type {\n",
              "        vertical-align: middle;\n",
              "    }\n",
              "\n",
              "    .dataframe tbody tr th {\n",
              "        vertical-align: top;\n",
              "    }\n",
              "\n",
              "    .dataframe thead th {\n",
              "        text-align: right;\n",
              "    }\n",
              "</style>\n",
              "<table border=\"1\" class=\"dataframe\">\n",
              "  <thead>\n",
              "    <tr style=\"text-align: right;\">\n",
              "      <th></th>\n",
              "      <th>algorithm</th>\n",
              "      <th>adpq_1_precision</th>\n",
              "      <th>adpq_1_recall</th>\n",
              "      <th>adpq_1_f1-score</th>\n",
              "      <th>adpq_1_support</th>\n",
              "      <th>adpq_2_precision</th>\n",
              "      <th>adpq_2_recall</th>\n",
              "      <th>adpq_2_f1-score</th>\n",
              "      <th>adpq_2_support</th>\n",
              "      <th>adpq_3_precision</th>\n",
              "      <th>adpq_3_recall</th>\n",
              "      <th>adpq_3_f1-score</th>\n",
              "      <th>adpq_3_support</th>\n",
              "      <th>accuracy</th>\n",
              "      <th>macro avg_precision</th>\n",
              "      <th>macro avg_recall</th>\n",
              "      <th>macro avg_f1-score</th>\n",
              "      <th>macro avg_support</th>\n",
              "      <th>weighted avg_precision</th>\n",
              "      <th>weighted avg_recall</th>\n",
              "      <th>weighted avg_f1-score</th>\n",
              "      <th>weighted avg_support</th>\n",
              "    </tr>\n",
              "  </thead>\n",
              "  <tbody>\n",
              "    <tr>\n",
              "      <th>0</th>\n",
              "      <td>LogisticRegression</td>\n",
              "      <td>0.333333</td>\n",
              "      <td>0.133333</td>\n",
              "      <td>0.190476</td>\n",
              "      <td>15</td>\n",
              "      <td>0.479592</td>\n",
              "      <td>0.626667</td>\n",
              "      <td>0.543353</td>\n",
              "      <td>75</td>\n",
              "      <td>0.464286</td>\n",
              "      <td>0.371429</td>\n",
              "      <td>0.412698</td>\n",
              "      <td>70</td>\n",
              "      <td>0.46875</td>\n",
              "      <td>0.425737</td>\n",
              "      <td>0.377143</td>\n",
              "      <td>0.382176</td>\n",
              "      <td>160</td>\n",
              "      <td>0.459184</td>\n",
              "      <td>0.46875</td>\n",
              "      <td>0.453109</td>\n",
              "      <td>160</td>\n",
              "    </tr>\n",
              "    <tr>\n",
              "      <th>1</th>\n",
              "      <td>RidgeClassifier</td>\n",
              "      <td>0.181818</td>\n",
              "      <td>0.133333</td>\n",
              "      <td>0.153846</td>\n",
              "      <td>15</td>\n",
              "      <td>0.433333</td>\n",
              "      <td>0.520000</td>\n",
              "      <td>0.472727</td>\n",
              "      <td>75</td>\n",
              "      <td>0.406780</td>\n",
              "      <td>0.342857</td>\n",
              "      <td>0.372093</td>\n",
              "      <td>70</td>\n",
              "      <td>0.40625</td>\n",
              "      <td>0.340644</td>\n",
              "      <td>0.332063</td>\n",
              "      <td>0.332889</td>\n",
              "      <td>160</td>\n",
              "      <td>0.398137</td>\n",
              "      <td>0.40625</td>\n",
              "      <td>0.398805</td>\n",
              "      <td>160</td>\n",
              "    </tr>\n",
              "    <tr>\n",
              "      <th>2</th>\n",
              "      <td>RandomForestClassifier</td>\n",
              "      <td>0.000000</td>\n",
              "      <td>0.000000</td>\n",
              "      <td>0.000000</td>\n",
              "      <td>15</td>\n",
              "      <td>0.453704</td>\n",
              "      <td>0.653333</td>\n",
              "      <td>0.535519</td>\n",
              "      <td>75</td>\n",
              "      <td>0.510638</td>\n",
              "      <td>0.342857</td>\n",
              "      <td>0.410256</td>\n",
              "      <td>70</td>\n",
              "      <td>0.45625</td>\n",
              "      <td>0.321447</td>\n",
              "      <td>0.332063</td>\n",
              "      <td>0.315259</td>\n",
              "      <td>160</td>\n",
              "      <td>0.436078</td>\n",
              "      <td>0.45625</td>\n",
              "      <td>0.430512</td>\n",
              "      <td>160</td>\n",
              "    </tr>\n",
              "    <tr>\n",
              "      <th>3</th>\n",
              "      <td>SVC</td>\n",
              "      <td>0.000000</td>\n",
              "      <td>0.000000</td>\n",
              "      <td>0.000000</td>\n",
              "      <td>15</td>\n",
              "      <td>0.485915</td>\n",
              "      <td>0.920000</td>\n",
              "      <td>0.635945</td>\n",
              "      <td>75</td>\n",
              "      <td>0.666667</td>\n",
              "      <td>0.171429</td>\n",
              "      <td>0.272727</td>\n",
              "      <td>70</td>\n",
              "      <td>0.50625</td>\n",
              "      <td>0.384194</td>\n",
              "      <td>0.363810</td>\n",
              "      <td>0.302891</td>\n",
              "      <td>160</td>\n",
              "      <td>0.519440</td>\n",
              "      <td>0.50625</td>\n",
              "      <td>0.417417</td>\n",
              "      <td>160</td>\n",
              "    </tr>\n",
              "    <tr>\n",
              "      <th>4</th>\n",
              "      <td>DecisionTreeClassifier</td>\n",
              "      <td>0.090909</td>\n",
              "      <td>0.066667</td>\n",
              "      <td>0.076923</td>\n",
              "      <td>15</td>\n",
              "      <td>0.473118</td>\n",
              "      <td>0.586667</td>\n",
              "      <td>0.523810</td>\n",
              "      <td>75</td>\n",
              "      <td>0.464286</td>\n",
              "      <td>0.371429</td>\n",
              "      <td>0.412698</td>\n",
              "      <td>70</td>\n",
              "      <td>0.44375</td>\n",
              "      <td>0.342771</td>\n",
              "      <td>0.341587</td>\n",
              "      <td>0.337810</td>\n",
              "      <td>160</td>\n",
              "      <td>0.433422</td>\n",
              "      <td>0.44375</td>\n",
              "      <td>0.433303</td>\n",
              "      <td>160</td>\n",
              "    </tr>\n",
              "    <tr>\n",
              "      <th>5</th>\n",
              "      <td>BernoulliNB</td>\n",
              "      <td>0.130435</td>\n",
              "      <td>0.200000</td>\n",
              "      <td>0.157895</td>\n",
              "      <td>15</td>\n",
              "      <td>0.486111</td>\n",
              "      <td>0.466667</td>\n",
              "      <td>0.476190</td>\n",
              "      <td>75</td>\n",
              "      <td>0.476923</td>\n",
              "      <td>0.442857</td>\n",
              "      <td>0.459259</td>\n",
              "      <td>70</td>\n",
              "      <td>0.43125</td>\n",
              "      <td>0.364490</td>\n",
              "      <td>0.369841</td>\n",
              "      <td>0.364448</td>\n",
              "      <td>160</td>\n",
              "      <td>0.448747</td>\n",
              "      <td>0.43125</td>\n",
              "      <td>0.438943</td>\n",
              "      <td>160</td>\n",
              "    </tr>\n",
              "  </tbody>\n",
              "</table>\n",
              "</div>"
            ],
            "text/plain": [
              "                algorithm  ...  weighted avg_support\n",
              "0      LogisticRegression  ...                   160\n",
              "1         RidgeClassifier  ...                   160\n",
              "2  RandomForestClassifier  ...                   160\n",
              "3                     SVC  ...                   160\n",
              "4  DecisionTreeClassifier  ...                   160\n",
              "5             BernoulliNB  ...                   160\n",
              "\n",
              "[6 rows x 22 columns]"
            ]
          },
          "metadata": {},
          "execution_count": 71
        }
      ]
    },
    {
      "cell_type": "markdown",
      "metadata": {
        "id": "QxHWzo_2Eqxh"
      },
      "source": [
        "### BERT + TFIDF + Inspector"
      ]
    },
    {
      "cell_type": "code",
      "metadata": {
        "id": "vZm4tZwbEuGV",
        "colab": {
          "base_uri": "https://localhost:8080/"
        },
        "outputId": "5397a5c1-336c-4f6b-facc-a56002bbd8d6"
      },
      "source": [
        "print(train_test_split(['a','b','c','d','e','f','g','h','i','j'], random_state=42))\n",
        "print(train_test_split(list(range(10)), random_state=42))"
      ],
      "execution_count": null,
      "outputs": [
        {
          "output_type": "stream",
          "name": "stdout",
          "text": [
            "[['a', 'h', 'c', 'j', 'e', 'd', 'g'], ['i', 'b', 'f']]\n",
            "[[0, 7, 2, 9, 4, 3, 6], [8, 1, 5]]\n"
          ]
        }
      ]
    },
    {
      "cell_type": "code",
      "metadata": {
        "id": "B-qMkQyDFo42"
      },
      "source": [
        "text_train, text_test = train_test_split(questions['question'], random_state=42)"
      ],
      "execution_count": null,
      "outputs": []
    },
    {
      "cell_type": "code",
      "metadata": {
        "id": "6ktTVRyTF4VV"
      },
      "source": [
        "vec = TfidfVectorizer().fit(text_train)\n",
        "X_train3 = vec.transform(text_train)\n",
        "X_test3 = vec.transform(text_test)\n",
        "svd = TruncatedSVD(n_components=500).fit(X_train3)\n",
        "X_train3 = svd.transform(X_train3)\n",
        "X_test3 = svd.transform(X_test3)"
      ],
      "execution_count": null,
      "outputs": []
    },
    {
      "cell_type": "code",
      "metadata": {
        "id": "enn3VbHIGqwx"
      },
      "source": [
        "X_train = np.concatenate((X_train, X_train3), axis=1)\n",
        "X_test = np.concatenate((X_test, X_test3), axis=1)"
      ],
      "execution_count": null,
      "outputs": []
    },
    {
      "cell_type": "code",
      "metadata": {
        "id": "xzSO7FT-HPTv",
        "colab": {
          "base_uri": "https://localhost:8080/"
        },
        "outputId": "10d98966-e0b3-41ae-aa4c-a9124b972c9f"
      },
      "source": [
        "svd2 = TruncatedSVD(n_components=300).fit(X_train)\n",
        "svd2.explained_variance_ratio_.sum()"
      ],
      "execution_count": null,
      "outputs": [
        {
          "output_type": "execute_result",
          "data": {
            "text/plain": [
              "0.9999780270940863"
            ]
          },
          "metadata": {},
          "execution_count": 76
        }
      ]
    },
    {
      "cell_type": "code",
      "metadata": {
        "id": "hzz0JJXnHWtE"
      },
      "source": [
        "X_train = svd2.transform(X_train)\n",
        "X_test = svd2.transform(X_test)"
      ],
      "execution_count": null,
      "outputs": []
    },
    {
      "cell_type": "code",
      "metadata": {
        "id": "abEzu6e0G5Xs",
        "colab": {
          "base_uri": "https://localhost:8080/"
        },
        "outputId": "080aac42-67a9-42b6-ad03-329e52821d90"
      },
      "source": [
        "clfs = [\n",
        "        LogisticRegression, RidgeClassifier,\n",
        "        RandomForestClassifier, SVC,\n",
        "        DecisionTreeClassifier, BernoulliNB\n",
        "]\n",
        "\n",
        "result = []\n",
        "\n",
        "for clf in clfs:\n",
        "  try:\n",
        "    scorer = clf(random_state=42).fit(X_train, y_train)\n",
        "  except:\n",
        "    scorer = clf().fit(X_train, y_train)\n",
        "  predicted = scorer.predict(X_test)\n",
        "  report = classification_report(y_test, predicted, output_dict=True)\n",
        "  entry = ({\n",
        "      'algorithm': clf.__name__,\n",
        "  })\n",
        "\n",
        "  for key, val in report.items():\n",
        "    if type(val) == dict:\n",
        "      for k, v in val.items():\n",
        "        entry[f\"{key}_{k}\"] = v\n",
        "    else:\n",
        "      entry[key] = val\n",
        "  \n",
        "  result.append(entry)\n",
        "result = pd.DataFrame(result)"
      ],
      "execution_count": null,
      "outputs": [
        {
          "output_type": "stream",
          "name": "stderr",
          "text": [
            "/usr/local/lib/python3.7/dist-packages/sklearn/linear_model/logistic.py:432: FutureWarning: Default solver will be changed to 'lbfgs' in 0.22. Specify a solver to silence this warning.\n",
            "  FutureWarning)\n",
            "/usr/local/lib/python3.7/dist-packages/sklearn/linear_model/logistic.py:469: FutureWarning: Default multi_class will be changed to 'auto' in 0.22. Specify the multi_class option to silence this warning.\n",
            "  \"this warning.\", FutureWarning)\n",
            "/usr/local/lib/python3.7/dist-packages/sklearn/ensemble/forest.py:245: FutureWarning: The default value of n_estimators will change from 10 in version 0.20 to 100 in 0.22.\n",
            "  \"10 in version 0.20 to 100 in 0.22.\", FutureWarning)\n",
            "/usr/local/lib/python3.7/dist-packages/sklearn/svm/base.py:193: FutureWarning: The default value of gamma will change from 'auto' to 'scale' in version 0.22 to account better for unscaled features. Set gamma explicitly to 'auto' or 'scale' to avoid this warning.\n",
            "  \"avoid this warning.\", FutureWarning)\n"
          ]
        }
      ]
    },
    {
      "cell_type": "code",
      "metadata": {
        "id": "t6b1FBHoHEBY",
        "colab": {
          "base_uri": "https://localhost:8080/",
          "height": 291
        },
        "outputId": "109d0bfd-ef5d-44ed-bce3-7e329a40b33a"
      },
      "source": [
        "result"
      ],
      "execution_count": null,
      "outputs": [
        {
          "output_type": "execute_result",
          "data": {
            "text/html": [
              "<div>\n",
              "<style scoped>\n",
              "    .dataframe tbody tr th:only-of-type {\n",
              "        vertical-align: middle;\n",
              "    }\n",
              "\n",
              "    .dataframe tbody tr th {\n",
              "        vertical-align: top;\n",
              "    }\n",
              "\n",
              "    .dataframe thead th {\n",
              "        text-align: right;\n",
              "    }\n",
              "</style>\n",
              "<table border=\"1\" class=\"dataframe\">\n",
              "  <thead>\n",
              "    <tr style=\"text-align: right;\">\n",
              "      <th></th>\n",
              "      <th>algorithm</th>\n",
              "      <th>adpq_1_precision</th>\n",
              "      <th>adpq_1_recall</th>\n",
              "      <th>adpq_1_f1-score</th>\n",
              "      <th>adpq_1_support</th>\n",
              "      <th>adpq_2_precision</th>\n",
              "      <th>adpq_2_recall</th>\n",
              "      <th>adpq_2_f1-score</th>\n",
              "      <th>adpq_2_support</th>\n",
              "      <th>adpq_3_precision</th>\n",
              "      <th>adpq_3_recall</th>\n",
              "      <th>adpq_3_f1-score</th>\n",
              "      <th>adpq_3_support</th>\n",
              "      <th>accuracy</th>\n",
              "      <th>macro avg_precision</th>\n",
              "      <th>macro avg_recall</th>\n",
              "      <th>macro avg_f1-score</th>\n",
              "      <th>macro avg_support</th>\n",
              "      <th>weighted avg_precision</th>\n",
              "      <th>weighted avg_recall</th>\n",
              "      <th>weighted avg_f1-score</th>\n",
              "      <th>weighted avg_support</th>\n",
              "    </tr>\n",
              "  </thead>\n",
              "  <tbody>\n",
              "    <tr>\n",
              "      <th>0</th>\n",
              "      <td>LogisticRegression</td>\n",
              "      <td>0.428571</td>\n",
              "      <td>0.200000</td>\n",
              "      <td>0.272727</td>\n",
              "      <td>15</td>\n",
              "      <td>0.469388</td>\n",
              "      <td>0.613333</td>\n",
              "      <td>0.531792</td>\n",
              "      <td>75</td>\n",
              "      <td>0.454545</td>\n",
              "      <td>0.357143</td>\n",
              "      <td>0.400000</td>\n",
              "      <td>70</td>\n",
              "      <td>0.46250</td>\n",
              "      <td>0.450835</td>\n",
              "      <td>0.390159</td>\n",
              "      <td>0.401506</td>\n",
              "      <td>160</td>\n",
              "      <td>0.459068</td>\n",
              "      <td>0.46250</td>\n",
              "      <td>0.449846</td>\n",
              "      <td>160</td>\n",
              "    </tr>\n",
              "    <tr>\n",
              "      <th>1</th>\n",
              "      <td>RidgeClassifier</td>\n",
              "      <td>0.181818</td>\n",
              "      <td>0.133333</td>\n",
              "      <td>0.153846</td>\n",
              "      <td>15</td>\n",
              "      <td>0.471264</td>\n",
              "      <td>0.546667</td>\n",
              "      <td>0.506173</td>\n",
              "      <td>75</td>\n",
              "      <td>0.451613</td>\n",
              "      <td>0.400000</td>\n",
              "      <td>0.424242</td>\n",
              "      <td>70</td>\n",
              "      <td>0.44375</td>\n",
              "      <td>0.368232</td>\n",
              "      <td>0.360000</td>\n",
              "      <td>0.361420</td>\n",
              "      <td>160</td>\n",
              "      <td>0.435531</td>\n",
              "      <td>0.44375</td>\n",
              "      <td>0.437298</td>\n",
              "      <td>160</td>\n",
              "    </tr>\n",
              "    <tr>\n",
              "      <th>2</th>\n",
              "      <td>RandomForestClassifier</td>\n",
              "      <td>0.000000</td>\n",
              "      <td>0.000000</td>\n",
              "      <td>0.000000</td>\n",
              "      <td>15</td>\n",
              "      <td>0.471698</td>\n",
              "      <td>0.666667</td>\n",
              "      <td>0.552486</td>\n",
              "      <td>75</td>\n",
              "      <td>0.461538</td>\n",
              "      <td>0.342857</td>\n",
              "      <td>0.393443</td>\n",
              "      <td>70</td>\n",
              "      <td>0.46250</td>\n",
              "      <td>0.311079</td>\n",
              "      <td>0.336508</td>\n",
              "      <td>0.315310</td>\n",
              "      <td>160</td>\n",
              "      <td>0.423032</td>\n",
              "      <td>0.46250</td>\n",
              "      <td>0.431109</td>\n",
              "      <td>160</td>\n",
              "    </tr>\n",
              "    <tr>\n",
              "      <th>3</th>\n",
              "      <td>SVC</td>\n",
              "      <td>0.000000</td>\n",
              "      <td>0.000000</td>\n",
              "      <td>0.000000</td>\n",
              "      <td>15</td>\n",
              "      <td>0.482517</td>\n",
              "      <td>0.920000</td>\n",
              "      <td>0.633028</td>\n",
              "      <td>75</td>\n",
              "      <td>0.625000</td>\n",
              "      <td>0.142857</td>\n",
              "      <td>0.232558</td>\n",
              "      <td>70</td>\n",
              "      <td>0.49375</td>\n",
              "      <td>0.369172</td>\n",
              "      <td>0.354286</td>\n",
              "      <td>0.288529</td>\n",
              "      <td>160</td>\n",
              "      <td>0.499618</td>\n",
              "      <td>0.49375</td>\n",
              "      <td>0.398476</td>\n",
              "      <td>160</td>\n",
              "    </tr>\n",
              "    <tr>\n",
              "      <th>4</th>\n",
              "      <td>DecisionTreeClassifier</td>\n",
              "      <td>0.125000</td>\n",
              "      <td>0.133333</td>\n",
              "      <td>0.129032</td>\n",
              "      <td>15</td>\n",
              "      <td>0.476190</td>\n",
              "      <td>0.533333</td>\n",
              "      <td>0.503145</td>\n",
              "      <td>75</td>\n",
              "      <td>0.400000</td>\n",
              "      <td>0.342857</td>\n",
              "      <td>0.369231</td>\n",
              "      <td>70</td>\n",
              "      <td>0.41250</td>\n",
              "      <td>0.333730</td>\n",
              "      <td>0.336508</td>\n",
              "      <td>0.333803</td>\n",
              "      <td>160</td>\n",
              "      <td>0.409933</td>\n",
              "      <td>0.41250</td>\n",
              "      <td>0.409484</td>\n",
              "      <td>160</td>\n",
              "    </tr>\n",
              "    <tr>\n",
              "      <th>5</th>\n",
              "      <td>BernoulliNB</td>\n",
              "      <td>0.285714</td>\n",
              "      <td>0.133333</td>\n",
              "      <td>0.181818</td>\n",
              "      <td>15</td>\n",
              "      <td>0.417582</td>\n",
              "      <td>0.506667</td>\n",
              "      <td>0.457831</td>\n",
              "      <td>75</td>\n",
              "      <td>0.354839</td>\n",
              "      <td>0.314286</td>\n",
              "      <td>0.333333</td>\n",
              "      <td>70</td>\n",
              "      <td>0.38750</td>\n",
              "      <td>0.352712</td>\n",
              "      <td>0.318095</td>\n",
              "      <td>0.324328</td>\n",
              "      <td>160</td>\n",
              "      <td>0.377769</td>\n",
              "      <td>0.38750</td>\n",
              "      <td>0.377487</td>\n",
              "      <td>160</td>\n",
              "    </tr>\n",
              "  </tbody>\n",
              "</table>\n",
              "</div>"
            ],
            "text/plain": [
              "                algorithm  ...  weighted avg_support\n",
              "0      LogisticRegression  ...                   160\n",
              "1         RidgeClassifier  ...                   160\n",
              "2  RandomForestClassifier  ...                   160\n",
              "3                     SVC  ...                   160\n",
              "4  DecisionTreeClassifier  ...                   160\n",
              "5             BernoulliNB  ...                   160\n",
              "\n",
              "[6 rows x 22 columns]"
            ]
          },
          "metadata": {},
          "execution_count": 79
        }
      ]
    },
    {
      "cell_type": "markdown",
      "metadata": {
        "id": "EDE3N6xMHtX5"
      },
      "source": [
        "Пока что лучший результат - Inspector"
      ]
    },
    {
      "cell_type": "markdown",
      "metadata": {
        "id": "T3v7ZYOX33Lp"
      },
      "source": [
        "### Inspector + TF-IDF"
      ]
    },
    {
      "cell_type": "code",
      "metadata": {
        "id": "m9SCQQ5f37B_"
      },
      "source": [
        "X_inspector = inspector_df\n",
        "\n",
        "x_text = questions[\"question\"]\n",
        "text_train, text_test = train_test_split(x_text, random_state=42)\n",
        "\n",
        "vec = TfidfVectorizer().fit(text_train)\n",
        "\n",
        "X_tfidf_train = vec.transform(text_train)\n",
        "X_tfidf_test = vec.transform(text_test)\n",
        "\n",
        "SVD = TruncatedSVD(n_components=408).fit(X_tfidf_train)\n",
        "\n",
        "X_tfidf_train = SVD.transform(X_tfidf_train)\n",
        "X_tfidf_test = SVD.transform(X_tfidf_test)\n",
        "\n",
        "X_inspector_train, X_inspector_test = train_test_split(X_inspector, random_state=42)\n",
        "\n",
        "X_train = np.concatenate((X_tfidf_train, X_inspector_train), axis=1)\n",
        "X_test = np.concatenate((X_tfidf_test, X_inspector_test), axis=1)\n",
        "\n",
        "y = questions[\"category\"]\n",
        "\n",
        "y_train, y_test = train_test_split(y, random_state=42)"
      ],
      "execution_count": null,
      "outputs": []
    },
    {
      "cell_type": "code",
      "metadata": {
        "colab": {
          "base_uri": "https://localhost:8080/"
        },
        "id": "sxS84HW371Mv",
        "outputId": "7f9ce9cd-eb18-410e-d214-f6c29fa85723"
      },
      "source": [
        "SVD.explained_variance_ratio_.sum()"
      ],
      "execution_count": null,
      "outputs": [
        {
          "output_type": "execute_result",
          "data": {
            "text/plain": [
              "0.9747853828975686"
            ]
          },
          "metadata": {},
          "execution_count": 86
        }
      ]
    },
    {
      "cell_type": "code",
      "metadata": {
        "colab": {
          "base_uri": "https://localhost:8080/"
        },
        "id": "WCotWiTA75NP",
        "outputId": "b36c0bd2-337a-4506-d401-7888b327017e"
      },
      "source": [
        "clfs = [\n",
        "        LogisticRegression, RidgeClassifier,\n",
        "        RandomForestClassifier, SVC,\n",
        "        DecisionTreeClassifier, BernoulliNB\n",
        "]\n",
        "\n",
        "result = []\n",
        "\n",
        "for clf in clfs:\n",
        "  try:\n",
        "    scorer = clf(random_state=42).fit(X_train, y_train)\n",
        "  except:\n",
        "    scorer = clf().fit(X_train, y_train)\n",
        "  predicted = scorer.predict(X_test)\n",
        "  report = classification_report(y_test, predicted, output_dict=True)\n",
        "  entry = ({\n",
        "      'algorithm': clf.__name__,\n",
        "  })\n",
        "\n",
        "  for key, val in report.items():\n",
        "    if type(val) == dict:\n",
        "      for k, v in val.items():\n",
        "        entry[f\"{key}_{k}\"] = v\n",
        "    else:\n",
        "      entry[key] = val\n",
        "  \n",
        "  result.append(entry)\n",
        "result = pd.DataFrame(result)"
      ],
      "execution_count": null,
      "outputs": [
        {
          "output_type": "stream",
          "name": "stderr",
          "text": [
            "/usr/local/lib/python3.7/dist-packages/sklearn/linear_model/logistic.py:432: FutureWarning: Default solver will be changed to 'lbfgs' in 0.22. Specify a solver to silence this warning.\n",
            "  FutureWarning)\n",
            "/usr/local/lib/python3.7/dist-packages/sklearn/linear_model/logistic.py:469: FutureWarning: Default multi_class will be changed to 'auto' in 0.22. Specify the multi_class option to silence this warning.\n",
            "  \"this warning.\", FutureWarning)\n",
            "/usr/local/lib/python3.7/dist-packages/sklearn/ensemble/forest.py:245: FutureWarning: The default value of n_estimators will change from 10 in version 0.20 to 100 in 0.22.\n",
            "  \"10 in version 0.20 to 100 in 0.22.\", FutureWarning)\n",
            "/usr/local/lib/python3.7/dist-packages/sklearn/svm/base.py:193: FutureWarning: The default value of gamma will change from 'auto' to 'scale' in version 0.22 to account better for unscaled features. Set gamma explicitly to 'auto' or 'scale' to avoid this warning.\n",
            "  \"avoid this warning.\", FutureWarning)\n",
            "/usr/local/lib/python3.7/dist-packages/sklearn/metrics/classification.py:1437: UndefinedMetricWarning: Precision and F-score are ill-defined and being set to 0.0 in labels with no predicted samples.\n",
            "  'precision', 'predicted', average, warn_for)\n"
          ]
        }
      ]
    },
    {
      "cell_type": "code",
      "metadata": {
        "colab": {
          "base_uri": "https://localhost:8080/",
          "height": 291
        },
        "id": "EPO_sFo-8D5D",
        "outputId": "3a109e36-f93a-4ced-d0c7-e8b30d6988e2"
      },
      "source": [
        "result"
      ],
      "execution_count": null,
      "outputs": [
        {
          "output_type": "execute_result",
          "data": {
            "text/html": [
              "<div>\n",
              "<style scoped>\n",
              "    .dataframe tbody tr th:only-of-type {\n",
              "        vertical-align: middle;\n",
              "    }\n",
              "\n",
              "    .dataframe tbody tr th {\n",
              "        vertical-align: top;\n",
              "    }\n",
              "\n",
              "    .dataframe thead th {\n",
              "        text-align: right;\n",
              "    }\n",
              "</style>\n",
              "<table border=\"1\" class=\"dataframe\">\n",
              "  <thead>\n",
              "    <tr style=\"text-align: right;\">\n",
              "      <th></th>\n",
              "      <th>algorithm</th>\n",
              "      <th>adpq_1_precision</th>\n",
              "      <th>adpq_1_recall</th>\n",
              "      <th>adpq_1_f1-score</th>\n",
              "      <th>adpq_1_support</th>\n",
              "      <th>adpq_2_precision</th>\n",
              "      <th>adpq_2_recall</th>\n",
              "      <th>adpq_2_f1-score</th>\n",
              "      <th>adpq_2_support</th>\n",
              "      <th>adpq_3_precision</th>\n",
              "      <th>adpq_3_recall</th>\n",
              "      <th>adpq_3_f1-score</th>\n",
              "      <th>adpq_3_support</th>\n",
              "      <th>accuracy</th>\n",
              "      <th>macro avg_precision</th>\n",
              "      <th>macro avg_recall</th>\n",
              "      <th>macro avg_f1-score</th>\n",
              "      <th>macro avg_support</th>\n",
              "      <th>weighted avg_precision</th>\n",
              "      <th>weighted avg_recall</th>\n",
              "      <th>weighted avg_f1-score</th>\n",
              "      <th>weighted avg_support</th>\n",
              "    </tr>\n",
              "  </thead>\n",
              "  <tbody>\n",
              "    <tr>\n",
              "      <th>0</th>\n",
              "      <td>LogisticRegression</td>\n",
              "      <td>0.000000</td>\n",
              "      <td>0.000000</td>\n",
              "      <td>0.000000</td>\n",
              "      <td>15</td>\n",
              "      <td>0.451923</td>\n",
              "      <td>0.626667</td>\n",
              "      <td>0.525140</td>\n",
              "      <td>75</td>\n",
              "      <td>0.418182</td>\n",
              "      <td>0.328571</td>\n",
              "      <td>0.368000</td>\n",
              "      <td>70</td>\n",
              "      <td>0.43750</td>\n",
              "      <td>0.290035</td>\n",
              "      <td>0.318413</td>\n",
              "      <td>0.297713</td>\n",
              "      <td>160</td>\n",
              "      <td>0.394793</td>\n",
              "      <td>0.43750</td>\n",
              "      <td>0.407159</td>\n",
              "      <td>160</td>\n",
              "    </tr>\n",
              "    <tr>\n",
              "      <th>1</th>\n",
              "      <td>RidgeClassifier</td>\n",
              "      <td>0.333333</td>\n",
              "      <td>0.066667</td>\n",
              "      <td>0.111111</td>\n",
              "      <td>15</td>\n",
              "      <td>0.447917</td>\n",
              "      <td>0.573333</td>\n",
              "      <td>0.502924</td>\n",
              "      <td>75</td>\n",
              "      <td>0.442623</td>\n",
              "      <td>0.385714</td>\n",
              "      <td>0.412214</td>\n",
              "      <td>70</td>\n",
              "      <td>0.44375</td>\n",
              "      <td>0.407958</td>\n",
              "      <td>0.341905</td>\n",
              "      <td>0.342083</td>\n",
              "      <td>160</td>\n",
              "      <td>0.434858</td>\n",
              "      <td>0.44375</td>\n",
              "      <td>0.426506</td>\n",
              "      <td>160</td>\n",
              "    </tr>\n",
              "    <tr>\n",
              "      <th>2</th>\n",
              "      <td>RandomForestClassifier</td>\n",
              "      <td>0.000000</td>\n",
              "      <td>0.000000</td>\n",
              "      <td>0.000000</td>\n",
              "      <td>15</td>\n",
              "      <td>0.464912</td>\n",
              "      <td>0.706667</td>\n",
              "      <td>0.560847</td>\n",
              "      <td>75</td>\n",
              "      <td>0.409091</td>\n",
              "      <td>0.257143</td>\n",
              "      <td>0.315789</td>\n",
              "      <td>70</td>\n",
              "      <td>0.44375</td>\n",
              "      <td>0.291334</td>\n",
              "      <td>0.321270</td>\n",
              "      <td>0.292212</td>\n",
              "      <td>160</td>\n",
              "      <td>0.396905</td>\n",
              "      <td>0.44375</td>\n",
              "      <td>0.401055</td>\n",
              "      <td>160</td>\n",
              "    </tr>\n",
              "    <tr>\n",
              "      <th>3</th>\n",
              "      <td>SVC</td>\n",
              "      <td>0.000000</td>\n",
              "      <td>0.000000</td>\n",
              "      <td>0.000000</td>\n",
              "      <td>15</td>\n",
              "      <td>0.482517</td>\n",
              "      <td>0.920000</td>\n",
              "      <td>0.633028</td>\n",
              "      <td>75</td>\n",
              "      <td>0.647059</td>\n",
              "      <td>0.157143</td>\n",
              "      <td>0.252874</td>\n",
              "      <td>70</td>\n",
              "      <td>0.50000</td>\n",
              "      <td>0.376525</td>\n",
              "      <td>0.359048</td>\n",
              "      <td>0.295300</td>\n",
              "      <td>160</td>\n",
              "      <td>0.509268</td>\n",
              "      <td>0.50000</td>\n",
              "      <td>0.407364</td>\n",
              "      <td>160</td>\n",
              "    </tr>\n",
              "    <tr>\n",
              "      <th>4</th>\n",
              "      <td>DecisionTreeClassifier</td>\n",
              "      <td>0.095238</td>\n",
              "      <td>0.133333</td>\n",
              "      <td>0.111111</td>\n",
              "      <td>15</td>\n",
              "      <td>0.452381</td>\n",
              "      <td>0.506667</td>\n",
              "      <td>0.477987</td>\n",
              "      <td>75</td>\n",
              "      <td>0.436364</td>\n",
              "      <td>0.342857</td>\n",
              "      <td>0.384000</td>\n",
              "      <td>70</td>\n",
              "      <td>0.40000</td>\n",
              "      <td>0.327994</td>\n",
              "      <td>0.327619</td>\n",
              "      <td>0.324366</td>\n",
              "      <td>160</td>\n",
              "      <td>0.411891</td>\n",
              "      <td>0.40000</td>\n",
              "      <td>0.402473</td>\n",
              "      <td>160</td>\n",
              "    </tr>\n",
              "    <tr>\n",
              "      <th>5</th>\n",
              "      <td>BernoulliNB</td>\n",
              "      <td>0.166667</td>\n",
              "      <td>0.133333</td>\n",
              "      <td>0.148148</td>\n",
              "      <td>15</td>\n",
              "      <td>0.512821</td>\n",
              "      <td>0.533333</td>\n",
              "      <td>0.522876</td>\n",
              "      <td>75</td>\n",
              "      <td>0.457143</td>\n",
              "      <td>0.457143</td>\n",
              "      <td>0.457143</td>\n",
              "      <td>70</td>\n",
              "      <td>0.46250</td>\n",
              "      <td>0.378877</td>\n",
              "      <td>0.374603</td>\n",
              "      <td>0.376056</td>\n",
              "      <td>160</td>\n",
              "      <td>0.456010</td>\n",
              "      <td>0.46250</td>\n",
              "      <td>0.458987</td>\n",
              "      <td>160</td>\n",
              "    </tr>\n",
              "  </tbody>\n",
              "</table>\n",
              "</div>"
            ],
            "text/plain": [
              "                algorithm  ...  weighted avg_support\n",
              "0      LogisticRegression  ...                   160\n",
              "1         RidgeClassifier  ...                   160\n",
              "2  RandomForestClassifier  ...                   160\n",
              "3                     SVC  ...                   160\n",
              "4  DecisionTreeClassifier  ...                   160\n",
              "5             BernoulliNB  ...                   160\n",
              "\n",
              "[6 rows x 22 columns]"
            ]
          },
          "metadata": {},
          "execution_count": 88
        }
      ]
    },
    {
      "cell_type": "markdown",
      "metadata": {
        "id": "7kmU3FKACgV-"
      },
      "source": [
        "## Saving Best Models"
      ]
    },
    {
      "cell_type": "code",
      "metadata": {
        "id": "BzoPbMdSCkG6"
      },
      "source": [
        "os.chdir('..')"
      ],
      "execution_count": null,
      "outputs": []
    },
    {
      "cell_type": "code",
      "metadata": {
        "id": "B9hEta7ECpOc"
      },
      "source": [
        "os.chdir('..')"
      ],
      "execution_count": null,
      "outputs": []
    },
    {
      "cell_type": "code",
      "metadata": {
        "id": "JaRZlhtMUBgK"
      },
      "source": [
        "y = questions[\"category\"]"
      ],
      "execution_count": null,
      "outputs": []
    },
    {
      "cell_type": "code",
      "metadata": {
        "colab": {
          "base_uri": "https://localhost:8080/"
        },
        "id": "V_iEqfzxCrlv",
        "outputId": "344b4b55-3b71-4f2d-b874-331b6ecb5f3d"
      },
      "source": [
        "os.listdir()"
      ],
      "execution_count": null,
      "outputs": [
        {
          "output_type": "execute_result",
          "data": {
            "text/plain": [
              "['.config',\n",
              " 'LIST',\n",
              " 'meta.json',\n",
              " 'README',\n",
              " 'drive',\n",
              " 'model.bin',\n",
              " 'model.txt',\n",
              " 'lab_inspector',\n",
              " '40.zip',\n",
              " 'sample_data']"
            ]
          },
          "metadata": {},
          "execution_count": 93
        }
      ]
    },
    {
      "cell_type": "code",
      "metadata": {
        "id": "Pi0yc8aiEWs0"
      },
      "source": [
        "with open('drive/My Drive/QuestionLevelPrediction/BertEmbedder.pickle','wb') as outp:\n",
        "  pickle.dump(bert_embedder, outp)"
      ],
      "execution_count": null,
      "outputs": []
    },
    {
      "cell_type": "code",
      "metadata": {
        "id": "MSE8BScrF_jS"
      },
      "source": [
        "with open('drive/My Drive/QuestionLevelPrediction/GPT2Embedder.pickle','wb') as outp:\n",
        "  pickle.dump(gpt2_embedder, outp)"
      ],
      "execution_count": null,
      "outputs": []
    },
    {
      "cell_type": "code",
      "metadata": {
        "id": "YQ06oOYcLUYO",
        "colab": {
          "base_uri": "https://localhost:8080/",
          "height": 85,
          "referenced_widgets": [
            "515cab940dd44d1fb5500a5dff68f690",
            "bee1180847e04cad8138fd1d3ed82545",
            "e9c5d37641f946538000045215e1ab28",
            "81805cf4208f4aab94ccc56282eba6dc",
            "aa4db9bafdfa4d58a09bad8dd0d09d4a",
            "475ad286e7144c88a306ed4ddf8480b4",
            "b2c600a86d4e4b51a0cf2bf67e771e1a",
            "b15a808d04374396a88642ccdf114491",
            "48126fcc465c43a7a42db307223c7b7e",
            "6d2b21b46b2441e8b4b8a0799f178e12",
            "44e5c8712de244ffb5217767b8a29417"
          ]
        },
        "outputId": "113739d4-0b7b-45b4-823e-466ed7c8c53d"
      },
      "source": [
        "X_bert = bert_embedder.process_sample(questions['question'].tolist(), flatten_method='average')"
      ],
      "execution_count": null,
      "outputs": [
        {
          "output_type": "stream",
          "name": "stderr",
          "text": [
            "/usr/local/lib/python3.7/dist-packages/ipykernel_launcher.py:40: TqdmDeprecationWarning: This function will be removed in tqdm==5.0.0\n",
            "Please use `tqdm.notebook.tqdm` instead of `tqdm.tqdm_notebook`\n"
          ]
        },
        {
          "output_type": "display_data",
          "data": {
            "application/vnd.jupyter.widget-view+json": {
              "model_id": "515cab940dd44d1fb5500a5dff68f690",
              "version_minor": 0,
              "version_major": 2
            },
            "text/plain": [
              "  0%|          | 0/160 [00:00<?, ?it/s]"
            ]
          },
          "metadata": {}
        }
      ]
    },
    {
      "cell_type": "code",
      "metadata": {
        "id": "drjUqAxoT413"
      },
      "source": [
        "X_gpt2 = gpt2_embedder.process_sample(questions['question'].tolist(), flatten_method='average')"
      ],
      "execution_count": null,
      "outputs": []
    },
    {
      "cell_type": "code",
      "metadata": {
        "id": "6fj94BwBMqsE"
      },
      "source": [
        "bernoulli_bert = BernoulliNB().fit(X_bert, y)\n",
        "bernoulli_gpt2 = BernoulliNB().fit(X_gpt2, y)"
      ],
      "execution_count": null,
      "outputs": []
    },
    {
      "cell_type": "code",
      "metadata": {
        "id": "XwvfXeVSQMqi"
      },
      "source": [
        "bert_tree = DecisionTreeClassifier(random_state=42).fit(X_bert, y)"
      ],
      "execution_count": null,
      "outputs": []
    },
    {
      "cell_type": "code",
      "metadata": {
        "id": "_0qtx-aZNDJ8"
      },
      "source": [
        "with open('drive/My Drive/QuestionLevelPrediction/BernoulliBERT.pickle','wb') as outp:\n",
        "  pickle.dump(bernoulli_bert, outp)\n",
        "\n",
        "with open('drive/My Drive/QuestionLevelPrediction/BernoulliGPT2.pickle','wb') as outp:\n",
        "  pickle.dump(bernoulli_gpt2, outp)"
      ],
      "execution_count": null,
      "outputs": []
    },
    {
      "cell_type": "code",
      "metadata": {
        "id": "GFETxGmbUI_W"
      },
      "source": [
        "with open('drive/MyDrive/QuestionLevelPrediction/TreeBERT.pickle','wb') as outp:\n",
        "  pickle.dump(bert_tree, outp)"
      ],
      "execution_count": null,
      "outputs": []
    },
    {
      "cell_type": "code",
      "metadata": {
        "id": "g_dUbdSXN64B"
      },
      "source": [
        "inspector_tree = DecisionTreeClassifier(random_state=42).fit(inspector_df, y)"
      ],
      "execution_count": null,
      "outputs": []
    },
    {
      "cell_type": "code",
      "metadata": {
        "id": "DAyxHSwpOL9C"
      },
      "source": [
        "with open('drive/My Drive/QuestionLevelPrediction/InspectorTree.pickle','wb') as outp:\n",
        "  pickle.dump(inspector_tree, outp)"
      ],
      "execution_count": null,
      "outputs": []
    },
    {
      "cell_type": "markdown",
      "metadata": {
        "id": "AaIbOgKuuxvj"
      },
      "source": [
        "## Derived features"
      ]
    },
    {
      "cell_type": "code",
      "metadata": {
        "id": "UFQE0T3a35xB"
      },
      "source": [
        ""
      ],
      "execution_count": null,
      "outputs": []
    }
  ]
}