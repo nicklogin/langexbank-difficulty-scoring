{
 "cells": [
  {
   "cell_type": "code",
   "execution_count": 2,
   "metadata": {
    "id": "Jzw217U67hdM"
   },
   "outputs": [],
   "source": [
    "#!apt install -qq enchant\n",
    "#!pip install pyenchant\n",
    "#!pip install pyspellchecker\n",
    "#!pip install transformers\n",
    "#!pip install conllu\n",
    "#!pip install ufal.udpipe\n",
    "\n",
    "from sklearn.linear_model import LogisticRegression, RidgeClassifier\n",
    "from sklearn.ensemble import RandomForestClassifier\n",
    "from sklearn.svm import SVC\n",
    "from sklearn.tree import DecisionTreeClassifier\n",
    "from sklearn.naive_bayes import BernoulliNB\n",
    "from sklearn.feature_extraction.text import TfidfVectorizer\n",
    "from sklearn.model_selection import train_test_split\n",
    "from sklearn.decomposition import TruncatedSVD\n",
    "from sklearn.manifold import TSNE\n",
    "from sklearn.metrics import classification_report\n",
    "from sklearn.preprocessing import LabelEncoder\n",
    "from gensim.models import KeyedVectors\n",
    "from transformers import BertModel, BertTokenizer, GPT2Model, GPT2Tokenizer\n",
    "from tqdm import tqdm_notebook\n",
    "from math import ceil\n",
    "\n",
    "import re\n",
    "import os\n",
    "import html\n",
    "import pandas as pd\n",
    "import matplotlib.pyplot as plt\n",
    "import numpy as np\n",
    "\n",
    "import pickle\n",
    "\n",
    "import nltk\n",
    "#nltk.download('punkt')\n",
    "from nltk import word_tokenize\n",
    "\n",
    "#from google.colab import drive"
   ]
  },
  {
   "cell_type": "code",
   "execution_count": null,
   "metadata": {
    "colab": {
     "base_uri": "https://localhost:8080/",
     "height": 379
    },
    "id": "C7BZdyWv_EGf",
    "outputId": "7e8f1aa1-f1e4-4b72-d2e9-53f2ab0fe80c"
   },
   "outputs": [],
   "source": [
    "!pip uninstall scikit-learn\n",
    "!pip install scikit-learn==0.21.2"
   ]
  },
  {
   "cell_type": "code",
   "execution_count": null,
   "metadata": {
    "colab": {
     "base_uri": "https://localhost:8080/"
    },
    "id": "85tt3rt__I5p",
    "outputId": "8879ed1a-02e1-4855-fa91-57fc44440d95"
   },
   "outputs": [],
   "source": [
    "!git clone https://github.com/lcl-hse/lab_inspector.git"
   ]
  },
  {
   "cell_type": "code",
   "execution_count": null,
   "metadata": {
    "colab": {
     "base_uri": "https://localhost:8080/"
    },
    "id": "5XiwG3B0_LDO",
    "outputId": "fbaaa5c5-67ea-44cf-a820-06ff49bf95dd"
   },
   "outputs": [],
   "source": [
    "os.listdir('lab_inspector')"
   ]
  },
  {
   "cell_type": "code",
   "execution_count": 3,
   "metadata": {
    "id": "mCcwxWrc7DIw"
   },
   "outputs": [],
   "source": [
    "class MyBatchIterator:\n",
    "  def __init__(self, texts, batch_size):\n",
    "    self.texts = texts\n",
    "    self.batch_size = batch_size\n",
    "  \n",
    "  def __iter__(self):\n",
    "    self.start = 0\n",
    "    return self\n",
    "  \n",
    "  def __next__(self):\n",
    "    if self.start >= len(self.texts):\n",
    "      raise StopIteration\n",
    "    batch = self.texts[self.start:self.start+self.batch_size]\n",
    "    self.start += self.batch_size\n",
    "    return batch\n",
    "  \n",
    "  def __len__(self):\n",
    "    return ceil(len(self.texts)/self.batch_size)\n",
    "\n",
    "class BERTEmbedder:\n",
    "  def __init__(self, model_name):\n",
    "    self.tokenizer = BertTokenizer.from_pretrained(model_name)\n",
    "    self.model = BertModel.from_pretrained(model_name)\n",
    "  \n",
    "  def process(self, texts, flatten_method='pooler'):\n",
    "    tokenized = self.tokenizer(texts, return_tensors='pt', padding=True, truncation=True, max_length=128)\n",
    "    ids = tokenized['input_ids']\n",
    "    mask = tokenized['attention_mask']\n",
    "    processed = self.model(input_ids=ids, attention_mask=mask)\n",
    "\n",
    "    if flatten_method == 'average':\n",
    "      return processed['last_hidden_state'].detach().numpy().mean(axis=1)\n",
    "    elif flatten_method == 'pooler':\n",
    "      return processed['pooler_output'].detach().numpy()\n",
    "  \n",
    "  def process_sample(self, texts, batch_size=4, flatten_method='pooler'):\n",
    "    text_iter = MyBatchIterator(texts, batch_size=batch_size)\n",
    "    batches = []\n",
    "\n",
    "    for batch in tqdm_notebook(text_iter, total=len(text_iter)):\n",
    "      batches.append(self.process(batch, flatten_method=flatten_method))\n",
    "    \n",
    "    return np.concatenate(batches, axis=0)\n",
    "\n",
    "class GPT2Embedder(BERTEmbedder):\n",
    "  def __init__(self, model_name):\n",
    "    self.tokenizer = GPT2Tokenizer.from_pretrained(model_name)\n",
    "    self.tokenizer.pad_token = self.tokenizer.eos_token\n",
    "    self.model = GPT2Model.from_pretrained(model_name)\n",
    "  \n",
    "  def process(self, texts, flatten_method='pooler'):\n",
    "    tokenized = self.tokenizer(texts, return_tensors='pt', padding=True, truncation=True, max_length=128)\n",
    "    ids = tokenized['input_ids']\n",
    "    mask = tokenized['attention_mask']\n",
    "    processed = self.model(input_ids=ids, attention_mask=mask)\n",
    "\n",
    "    if flatten_method == 'average':\n",
    "      return processed['last_hidden_state'].detach().numpy().mean(axis=1)\n",
    "    elif flatten_method == 'pooler':\n",
    "      return processed['pooler_output'].detach().numpy()"
   ]
  },
  {
   "cell_type": "code",
   "execution_count": null,
   "metadata": {
    "colab": {
     "base_uri": "https://localhost:8080/"
    },
    "id": "p2A9dlgxu2yE",
    "outputId": "ca0d4a70-2235-4bf6-8d5f-e3d30a8ff946"
   },
   "outputs": [],
   "source": [
    "drive.mount(\"/content/drive\")"
   ]
  },
  {
   "cell_type": "code",
   "execution_count": 3,
   "metadata": {
    "id": "eOZGhIxJwP-J"
   },
   "outputs": [],
   "source": [
    "zero_level = pd.read_csv(\"ZeroLevel.csv\")"
   ]
  },
  {
   "cell_type": "code",
   "execution_count": 5,
   "metadata": {},
   "outputs": [
    {
     "data": {
      "image/png": "[encoded data removed]",
      "text/plain": [
       "<Figure size 432x288 with 1 Axes>"
      ]
     },
     "metadata": {},
     "output_type": "display_data"
    }
   ],
   "source": [
    "zero_level[\"Level (Hand)\"].value_counts().plot.pie(autopct='%1.2f%%')\n",
    "plt.axis(\"equal\")\n",
    "plt.tight_layout()\n",
    "plt.show()"
   ]
  },
  {
   "cell_type": "code",
   "execution_count": 6,
   "metadata": {},
   "outputs": [
    {
     "data": {
      "image/png": "[encoded data removed]",
      "text/plain": [
       "<Figure size 432x288 with 1 Axes>"
      ]
     },
     "metadata": {},
     "output_type": "display_data"
    }
   ],
   "source": [
    "ml_data_class_counts = pd.Series({1: 67, 2:313, 3:260})\n",
    "ml_data_class_counts.plot.pie(autopct='%1.2f%%',\n",
    "                              colors=[\"#2ca02c\",\n",
    "                                      \"#ff7f0e\",\n",
    "                                      \"#1f77b4\"])\n",
    "plt.axis(\"equal\")\n",
    "plt.tight_layout()\n",
    "plt.show()"
   ]
  },
  {
   "cell_type": "code",
   "execution_count": 4,
   "metadata": {
    "colab": {
     "base_uri": "https://localhost:8080/",
     "height": 836
    },
    "id": "3_WFjgqXwhAz",
    "outputId": "f4eaaa97-73c1-47aa-9990-c047cda88707"
   },
   "outputs": [
    {
     "data": {
      "text/html": [
       "<div>\n",
       "<style scoped>\n",
       "    .dataframe tbody tr th:only-of-type {\n",
       "        vertical-align: middle;\n",
       "    }\n",
       "\n",
       "    .dataframe tbody tr th {\n",
       "        vertical-align: top;\n",
       "    }\n",
       "\n",
       "    .dataframe thead th {\n",
       "        text-align: right;\n",
       "    }\n",
       "</style>\n",
       "<table border=\"1\" class=\"dataframe\">\n",
       "  <thead>\n",
       "    <tr style=\"text-align: right;\">\n",
       "      <th></th>\n",
       "      <th>Unnamed: 0</th>\n",
       "      <th>Unnamed: 0.1</th>\n",
       "      <th>id</th>\n",
       "      <th>Sentence (original)</th>\n",
       "      <th>Sentence (changed)</th>\n",
       "      <th>Right answer</th>\n",
       "      <th>Error type</th>\n",
       "      <th>Error type+</th>\n",
       "      <th>Level (Hand)</th>\n",
       "      <th>path_in_REALEC</th>\n",
       "      <th>Sentence</th>\n",
       "      <th>Error span</th>\n",
       "      <th>LevelAuto</th>\n",
       "    </tr>\n",
       "  </thead>\n",
       "  <tbody>\n",
       "    <tr>\n",
       "      <th>0</th>\n",
       "      <td>4</td>\n",
       "      <td>6</td>\n",
       "      <td>50904</td>\n",
       "      <td>If in North Africa and South Asia there &lt;b&gt;is...</td>\n",
       "      <td>If in North Africa and South Asia there &lt;b&gt;is...</td>\n",
       "      <td>were</td>\n",
       "      <td>Agreement_errors //Tense_choice</td>\n",
       "      <td>Agreement_errors</td>\n",
       "      <td>3</td>\n",
       "      <td>https://realec.org/index.xhtml#/exam/Exam2017/...</td>\n",
       "      <td>If in North Africa and South Asia there &lt;b&gt;is...</td>\n",
       "      <td>is</td>\n",
       "      <td>0</td>\n",
       "    </tr>\n",
       "    <tr>\n",
       "      <th>1</th>\n",
       "      <td>16</td>\n",
       "      <td>19</td>\n",
       "      <td>39505</td>\n",
       "      <td>Overall, the chart gives information that aro...</td>\n",
       "      <td>Overall, the chart gives information that aro...</td>\n",
       "      <td>a bigger proportion</td>\n",
       "      <td>Comparison_degree</td>\n",
       "      <td>Comparison_degree</td>\n",
       "      <td>3</td>\n",
       "      <td>https://realec.org/index.xhtml#/exam/Exam2016/...</td>\n",
       "      <td>Overall, the chart gives information that aro...</td>\n",
       "      <td>the biggest proportion</td>\n",
       "      <td>0</td>\n",
       "    </tr>\n",
       "    <tr>\n",
       "      <th>2</th>\n",
       "      <td>18</td>\n",
       "      <td>21</td>\n",
       "      <td>17497</td>\n",
       "      <td>The situation in Africa &lt;b&gt;is decreased&lt;/b&gt; a...</td>\n",
       "      <td>The situation in Africa &lt;b&gt;was decreased&lt;/b&gt; ...</td>\n",
       "      <td>worsened</td>\n",
       "      <td>Voice //lex_item_choice</td>\n",
       "      <td>Voice</td>\n",
       "      <td>3</td>\n",
       "      <td>https://realec.org/index.xhtml#/exam/Exam2016/...</td>\n",
       "      <td>The situation in Africa &lt;b&gt;was decreased&lt;/b&gt; ...</td>\n",
       "      <td>was decreased</td>\n",
       "      <td>0</td>\n",
       "    </tr>\n",
       "    <tr>\n",
       "      <th>3</th>\n",
       "      <td>20</td>\n",
       "      <td>23</td>\n",
       "      <td>69626</td>\n",
       "      <td>But on the other hand, there are a lot of &lt;b&gt;...</td>\n",
       "      <td>NaN</td>\n",
       "      <td>people who</td>\n",
       "      <td>Relative_clause</td>\n",
       "      <td>Relative_clause</td>\n",
       "      <td>3</td>\n",
       "      <td>https://realec.org/index.xhtml#/exam/Exam2017/...</td>\n",
       "      <td>But on the other hand, there are a lot of &lt;b&gt;...</td>\n",
       "      <td>people, who</td>\n",
       "      <td>0</td>\n",
       "    </tr>\n",
       "    <tr>\n",
       "      <th>4</th>\n",
       "      <td>25</td>\n",
       "      <td>29</td>\n",
       "      <td>56370</td>\n",
       "      <td>&lt;b&gt;Exploration the space&lt;/b&gt; can lead to the ...</td>\n",
       "      <td>&lt;b&gt;Exploration the space&lt;/b&gt; can lead to new ...</td>\n",
       "      <td>Space exploration</td>\n",
       "      <td>Word_order //Article</td>\n",
       "      <td>Word_order</td>\n",
       "      <td>3</td>\n",
       "      <td>https://realec.org/index.xhtml#/exam/Exam2017/...</td>\n",
       "      <td>&lt;b&gt;Exploration the space&lt;/b&gt; can lead to new ...</td>\n",
       "      <td>Exploration the space</td>\n",
       "      <td>0</td>\n",
       "    </tr>\n",
       "    <tr>\n",
       "      <th>...</th>\n",
       "      <td>...</td>\n",
       "      <td>...</td>\n",
       "      <td>...</td>\n",
       "      <td>...</td>\n",
       "      <td>...</td>\n",
       "      <td>...</td>\n",
       "      <td>...</td>\n",
       "      <td>...</td>\n",
       "      <td>...</td>\n",
       "      <td>...</td>\n",
       "      <td>...</td>\n",
       "      <td>...</td>\n",
       "      <td>...</td>\n",
       "    </tr>\n",
       "    <tr>\n",
       "      <th>108</th>\n",
       "      <td>718</td>\n",
       "      <td>813</td>\n",
       "      <td>55758</td>\n",
       "      <td>The most significant difference took place fo...</td>\n",
       "      <td>The most significant difference was registere...</td>\n",
       "      <td>three times as often as</td>\n",
       "      <td>Comparative_constr</td>\n",
       "      <td>Tense_choice</td>\n",
       "      <td>3</td>\n",
       "      <td>https://realec.org/index.xhtml#/exam/Exam2017/...</td>\n",
       "      <td>The most significant difference was registere...</td>\n",
       "      <td>three times more often than</td>\n",
       "      <td>0</td>\n",
       "    </tr>\n",
       "    <tr>\n",
       "      <th>109</th>\n",
       "      <td>730</td>\n",
       "      <td>826</td>\n",
       "      <td>4617</td>\n",
       "      <td>&lt;b&gt;USA's growth of elderly people percentage&lt;...</td>\n",
       "      <td>NaN</td>\n",
       "      <td>The growth in the percentage of elderly people...</td>\n",
       "      <td>Structure_confusion</td>\n",
       "      <td>Word_order</td>\n",
       "      <td>3</td>\n",
       "      <td>https://realec.org/index.xhtml#/exam/Exam2014/...</td>\n",
       "      <td>&lt;b&gt;USA's growth of elderly people percentage&lt;...</td>\n",
       "      <td>USA's growth of elderly people percentage</td>\n",
       "      <td>0</td>\n",
       "    </tr>\n",
       "    <tr>\n",
       "      <th>110</th>\n",
       "      <td>737</td>\n",
       "      <td>834</td>\n",
       "      <td>79712</td>\n",
       "      <td>The given pie charts present the major reasons...</td>\n",
       "      <td>The given pie charts present the major reasons...</td>\n",
       "      <td>a ten-year period</td>\n",
       "      <td>Structure_confusion //Article</td>\n",
       "      <td>Possessive</td>\n",
       "      <td>3</td>\n",
       "      <td>https://realec.org/index.xhtml#/exam/Exam2019/...</td>\n",
       "      <td>The given pie charts present the major reasons...</td>\n",
       "      <td>the ten year's period</td>\n",
       "      <td>0</td>\n",
       "    </tr>\n",
       "    <tr>\n",
       "      <th>111</th>\n",
       "      <td>741</td>\n",
       "      <td>838</td>\n",
       "      <td>80835</td>\n",
       "      <td>Firstly, I believe that space could &lt;b&gt;wait&lt;/...</td>\n",
       "      <td>Firstly, I believe that space could wait &lt;b&gt;a...</td>\n",
       "      <td>until</td>\n",
       "      <td>Linking_device OR Conjunctions</td>\n",
       "      <td>Prepositions</td>\n",
       "      <td>3</td>\n",
       "      <td>https://realec.org/index.xhtml#/exam/Exam2017/...</td>\n",
       "      <td>Firstly, I believe that space could wait &lt;b&gt;a...</td>\n",
       "      <td>a time, when</td>\n",
       "      <td>0</td>\n",
       "    </tr>\n",
       "    <tr>\n",
       "      <th>112</th>\n",
       "      <td>742</td>\n",
       "      <td>839</td>\n",
       "      <td>67232</td>\n",
       "      <td>&lt;b&gt;Having paid&lt;/b&gt; more attention to it we wi...</td>\n",
       "      <td>NaN</td>\n",
       "      <td>By paying</td>\n",
       "      <td>Structure_confusion</td>\n",
       "      <td>Participial_constr</td>\n",
       "      <td>3</td>\n",
       "      <td>https://realec.org/index.xhtml#/exam/Exam2017/...</td>\n",
       "      <td>&lt;b&gt;Having paid&lt;/b&gt; more attention to it we wi...</td>\n",
       "      <td>Having paid</td>\n",
       "      <td>0</td>\n",
       "    </tr>\n",
       "  </tbody>\n",
       "</table>\n",
       "<p>113 rows × 13 columns</p>\n",
       "</div>"
      ],
      "text/plain": [
       "     Unnamed: 0  Unnamed: 0.1     id  \\\n",
       "0             4             6  50904   \n",
       "1            16            19  39505   \n",
       "2            18            21  17497   \n",
       "3            20            23  69626   \n",
       "4            25            29  56370   \n",
       "..          ...           ...    ...   \n",
       "108         718           813  55758   \n",
       "109         730           826   4617   \n",
       "110         737           834  79712   \n",
       "111         741           838  80835   \n",
       "112         742           839  67232   \n",
       "\n",
       "                                   Sentence (original)  \\\n",
       "0     If in North Africa and South Asia there <b>is...   \n",
       "1     Overall, the chart gives information that aro...   \n",
       "2     The situation in Africa <b>is decreased</b> a...   \n",
       "3     But on the other hand, there are a lot of <b>...   \n",
       "4     <b>Exploration the space</b> can lead to the ...   \n",
       "..                                                 ...   \n",
       "108   The most significant difference took place fo...   \n",
       "109   <b>USA's growth of elderly people percentage<...   \n",
       "110  The given pie charts present the major reasons...   \n",
       "111   Firstly, I believe that space could <b>wait</...   \n",
       "112   <b>Having paid</b> more attention to it we wi...   \n",
       "\n",
       "                                    Sentence (changed)  \\\n",
       "0     If in North Africa and South Asia there <b>is...   \n",
       "1     Overall, the chart gives information that aro...   \n",
       "2     The situation in Africa <b>was decreased</b> ...   \n",
       "3                                                  NaN   \n",
       "4     <b>Exploration the space</b> can lead to new ...   \n",
       "..                                                 ...   \n",
       "108   The most significant difference was registere...   \n",
       "109                                                NaN   \n",
       "110  The given pie charts present the major reasons...   \n",
       "111   Firstly, I believe that space could wait <b>a...   \n",
       "112                                                NaN   \n",
       "\n",
       "                                          Right answer  \\\n",
       "0                                                 were   \n",
       "1                                  a bigger proportion   \n",
       "2                                             worsened   \n",
       "3                                           people who   \n",
       "4                                    Space exploration   \n",
       "..                                                 ...   \n",
       "108                            three times as often as   \n",
       "109  The growth in the percentage of elderly people...   \n",
       "110                                  a ten-year period   \n",
       "111                                              until   \n",
       "112                                          By paying   \n",
       "\n",
       "                          Error type         Error type+  Level (Hand)  \\\n",
       "0    Agreement_errors //Tense_choice    Agreement_errors             3   \n",
       "1                  Comparison_degree   Comparison_degree             3   \n",
       "2            Voice //lex_item_choice               Voice             3   \n",
       "3                    Relative_clause     Relative_clause             3   \n",
       "4               Word_order //Article          Word_order             3   \n",
       "..                               ...                 ...           ...   \n",
       "108               Comparative_constr        Tense_choice             3   \n",
       "109              Structure_confusion          Word_order             3   \n",
       "110    Structure_confusion //Article          Possessive             3   \n",
       "111   Linking_device OR Conjunctions        Prepositions             3   \n",
       "112              Structure_confusion  Participial_constr             3   \n",
       "\n",
       "                                        path_in_REALEC  \\\n",
       "0    https://realec.org/index.xhtml#/exam/Exam2017/...   \n",
       "1    https://realec.org/index.xhtml#/exam/Exam2016/...   \n",
       "2    https://realec.org/index.xhtml#/exam/Exam2016/...   \n",
       "3    https://realec.org/index.xhtml#/exam/Exam2017/...   \n",
       "4    https://realec.org/index.xhtml#/exam/Exam2017/...   \n",
       "..                                                 ...   \n",
       "108  https://realec.org/index.xhtml#/exam/Exam2017/...   \n",
       "109  https://realec.org/index.xhtml#/exam/Exam2014/...   \n",
       "110  https://realec.org/index.xhtml#/exam/Exam2019/...   \n",
       "111  https://realec.org/index.xhtml#/exam/Exam2017/...   \n",
       "112  https://realec.org/index.xhtml#/exam/Exam2017/...   \n",
       "\n",
       "                                              Sentence  \\\n",
       "0     If in North Africa and South Asia there <b>is...   \n",
       "1     Overall, the chart gives information that aro...   \n",
       "2     The situation in Africa <b>was decreased</b> ...   \n",
       "3     But on the other hand, there are a lot of <b>...   \n",
       "4     <b>Exploration the space</b> can lead to new ...   \n",
       "..                                                 ...   \n",
       "108   The most significant difference was registere...   \n",
       "109   <b>USA's growth of elderly people percentage<...   \n",
       "110  The given pie charts present the major reasons...   \n",
       "111   Firstly, I believe that space could wait <b>a...   \n",
       "112   <b>Having paid</b> more attention to it we wi...   \n",
       "\n",
       "                                    Error span  LevelAuto  \n",
       "0                                           is          0  \n",
       "1                       the biggest proportion          0  \n",
       "2                                was decreased          0  \n",
       "3                                  people, who          0  \n",
       "4                        Exploration the space          0  \n",
       "..                                         ...        ...  \n",
       "108                three times more often than          0  \n",
       "109  USA's growth of elderly people percentage          0  \n",
       "110                      the ten year's period          0  \n",
       "111                               a time, when          0  \n",
       "112                                Having paid          0  \n",
       "\n",
       "[113 rows x 13 columns]"
      ]
     },
     "execution_count": 4,
     "metadata": {},
     "output_type": "execute_result"
    }
   ],
   "source": [
    "zero_level"
   ]
  },
  {
   "cell_type": "code",
   "execution_count": 10,
   "metadata": {
    "id": "h_sMsZMa4fmx"
   },
   "outputs": [
    {
     "ename": "FileNotFoundError",
     "evalue": "[Errno 2] No such file or directory: 'BernoulliBERT.pickle'",
     "output_type": "error",
     "traceback": [
      "\u001b[1;31m---------------------------------------------------------------------------\u001b[0m",
      "\u001b[1;31mFileNotFoundError\u001b[0m                         Traceback (most recent call last)",
      "\u001b[1;32m<ipython-input-10-e8e4aab0d0a5>\u001b[0m in \u001b[0;36m<module>\u001b[1;34m\u001b[0m\n\u001b[0;32m      5\u001b[0m \u001b[1;31m#   gpt2_embedder = pickle.load(inp)\u001b[0m\u001b[1;33m\u001b[0m\u001b[1;33m\u001b[0m\u001b[1;33m\u001b[0m\u001b[0m\n\u001b[0;32m      6\u001b[0m \u001b[1;33m\u001b[0m\u001b[0m\n\u001b[1;32m----> 7\u001b[1;33m \u001b[1;32mwith\u001b[0m \u001b[0mopen\u001b[0m\u001b[1;33m(\u001b[0m\u001b[1;34m'BernoulliBERT.pickle'\u001b[0m\u001b[1;33m,\u001b[0m\u001b[1;34m'rb'\u001b[0m\u001b[1;33m)\u001b[0m \u001b[1;32mas\u001b[0m \u001b[0minp\u001b[0m\u001b[1;33m:\u001b[0m\u001b[1;33m\u001b[0m\u001b[1;33m\u001b[0m\u001b[0m\n\u001b[0m\u001b[0;32m      8\u001b[0m   \u001b[0mbernoulli_bert\u001b[0m \u001b[1;33m=\u001b[0m \u001b[0mpickle\u001b[0m\u001b[1;33m.\u001b[0m\u001b[0mload\u001b[0m\u001b[1;33m(\u001b[0m\u001b[0minp\u001b[0m\u001b[1;33m)\u001b[0m\u001b[1;33m\u001b[0m\u001b[1;33m\u001b[0m\u001b[0m\n\u001b[0;32m      9\u001b[0m \u001b[1;33m\u001b[0m\u001b[0m\n",
      "\u001b[1;31mFileNotFoundError\u001b[0m: [Errno 2] No such file or directory: 'BernoulliBERT.pickle'"
     ]
    }
   ],
   "source": [
    "with open('BertEmbedder.pickle','rb') as inp:\n",
    "  bert_embedder = pickle.load(inp)\n",
    "\n",
    "# with open('GPT2Embedder.pickle','rb') as inp:\n",
    "#   gpt2_embedder = pickle.load(inp)\n",
    "\n",
    "# with open('BernoulliBERT.pickle','rb') as inp:\n",
    "#   bernoulli_bert = pickle.load(inp)\n",
    "\n",
    "# with open('BernoulliGPT2.pickle','rb') as inp:\n",
    "#   bernoulli_gpt2 = pickle.load(inp)"
   ]
  },
  {
   "cell_type": "code",
   "execution_count": null,
   "metadata": {
    "id": "tYupdE5bDCOI"
   },
   "outputs": [],
   "source": [
    "with open('drive/My Drive/QuestionLevelPrediction/InspectorTree.pickle','rb') as inp:\n",
    "  inspector_tree = pickle.load(inp)"
   ]
  },
  {
   "cell_type": "code",
   "execution_count": 7,
   "metadata": {
    "id": "eE9uB55d8Y2J"
   },
   "outputs": [],
   "source": [
    "X = zero_level[\"Sentence\"].tolist()\n",
    "y = zero_level[\"Level (Hand)\"].apply(lambda x: f\"adpq_{x}\")"
   ]
  },
  {
   "cell_type": "code",
   "execution_count": 16,
   "metadata": {},
   "outputs": [
    {
     "data": {
      "text/plain": [
       "113"
      ]
     },
     "execution_count": 16,
     "metadata": {},
     "output_type": "execute_result"
    }
   ],
   "source": [
    "len(X)"
   ]
  },
  {
   "cell_type": "code",
   "execution_count": 8,
   "metadata": {
    "colab": {
     "base_uri": "https://localhost:8080/",
     "height": 117,
     "referenced_widgets": [
      "77a60e119091439b9373447709b4c023",
      "296a9fc215af46f9b221bf11a83ed2c9",
      "0683af825b564aac92af0923fa7f73f1",
      "b8f919d1dd1f405cb418bebcc2edbb2a",
      "5ec586391cf74802b6a4d2c0916bcdf0",
      "1dc9b2a2301c443280feaedec8b55ac9",
      "655bb971ae8645fb8e6c6c722b04689f",
      "b3058ca27cb44ce385015a2156584ce1",
      "3f800ad3f3c94a86858be835312e6bfc",
      "db50282e213d4a09af155cc6f80e173e",
      "74a91959e3f942fca2bc46cc7a506e58",
      "427171908bb647a8b393091d7e002c78",
      "6eb18c008c7a489a88eea98e11e8982f",
      "12dabdc1c7994549bea4e3485e185d5c",
      "671d4ff5a6da40e7bfba94acae05f792",
      "52eb8720194e4809bdd0c77789d9b176",
      "783b3f1ce06a4e25a14fbc30dc68d870",
      "67217bb2864f478fa55f587bb2b833d8",
      "ed05b621eb2443ab8c50ab96c68b6db5",
      "8bbbcd6593fb499fb72ed2cc29d56ddf",
      "57e30c80c3814f4799ec1c6e8f650b9e",
      "22911903f6224fca9e3a20d6913f472a"
     ]
    },
    "id": "0mx2V_bV9BV_",
    "outputId": "1c074c20-713e-45f9-d1d9-ccbb0f554195"
   },
   "outputs": [
    {
     "name": "stderr",
     "output_type": "stream",
     "text": [
      "c:\\users\\k1l77\\desktop\\182e~1\\term_p~1\\lib\\site-packages\\ipykernel_launcher.py:40: TqdmDeprecationWarning: This function will be removed in tqdm==5.0.0\n",
      "Please use `tqdm.notebook.tqdm` instead of `tqdm.tqdm_notebook`\n"
     ]
    },
    {
     "data": {
      "application/vnd.jupyter.widget-view+json": {
       "model_id": "933648787a7349d4ab770796916a72a3",
       "version_major": 2,
       "version_minor": 0
      },
      "text/plain": [
       "HBox(children=(HTML(value=''), FloatProgress(value=0.0, max=29.0), HTML(value='')))"
      ]
     },
     "metadata": {},
     "output_type": "display_data"
    },
    {
     "name": "stdout",
     "output_type": "stream",
     "text": [
      "\n"
     ]
    }
   ],
   "source": [
    "X_bert = bert_embedder.process_sample(X, flatten_method=\"average\")\n",
    "#X_gpt2 = gpt2_embedder.process_sample(X, flatten_method=\"average\")"
   ]
  },
  {
   "cell_type": "code",
   "execution_count": 9,
   "metadata": {
    "id": "7gttRDqF9-Xs"
   },
   "outputs": [
    {
     "ename": "NameError",
     "evalue": "name 'bernoulli_bert' is not defined",
     "output_type": "error",
     "traceback": [
      "\u001b[1;31m---------------------------------------------------------------------------\u001b[0m",
      "\u001b[1;31mNameError\u001b[0m                                 Traceback (most recent call last)",
      "\u001b[1;32m<ipython-input-9-c934aee949a5>\u001b[0m in \u001b[0;36m<module>\u001b[1;34m\u001b[0m\n\u001b[1;32m----> 1\u001b[1;33m \u001b[0my_pred_bert\u001b[0m \u001b[1;33m=\u001b[0m \u001b[0mbernoulli_bert\u001b[0m\u001b[1;33m.\u001b[0m\u001b[0mpredict\u001b[0m\u001b[1;33m(\u001b[0m\u001b[0mX_bert\u001b[0m\u001b[1;33m)\u001b[0m\u001b[1;33m\u001b[0m\u001b[1;33m\u001b[0m\u001b[0m\n\u001b[0m\u001b[0;32m      2\u001b[0m \u001b[1;31m#y_pred_gpt2 = bernoulli_gpt2.predict(X_gpt2)\u001b[0m\u001b[1;33m\u001b[0m\u001b[1;33m\u001b[0m\u001b[1;33m\u001b[0m\u001b[0m\n",
      "\u001b[1;31mNameError\u001b[0m: name 'bernoulli_bert' is not defined"
     ]
    }
   ],
   "source": [
    "y_pred_bert = bernoulli_bert.predict(X_bert)\n",
    "#y_pred_gpt2 = bernoulli_gpt2.predict(X_gpt2)"
   ]
  },
  {
   "cell_type": "code",
   "execution_count": null,
   "metadata": {
    "colab": {
     "base_uri": "https://localhost:8080/"
    },
    "id": "-OvIvE6L-Lcj",
    "outputId": "802309ce-a0c0-4b76-b083-0146a1e98020"
   },
   "outputs": [],
   "source": [
    "print(classification_report(y, y_pred_bert))"
   ]
  },
  {
   "cell_type": "code",
   "execution_count": null,
   "metadata": {
    "colab": {
     "base_uri": "https://localhost:8080/"
    },
    "id": "SWRxWTkk-rep",
    "outputId": "541bf81a-bd58-4f09-c93c-c69e928fb7a3"
   },
   "outputs": [],
   "source": [
    "print(classification_report(y, y_pred_gpt2))"
   ]
  },
  {
   "cell_type": "code",
   "execution_count": null,
   "metadata": {
    "id": "QL7OkLUUARXM"
   },
   "outputs": [],
   "source": [
    "os.chdir(\"lab_inspector/Inspector\")"
   ]
  },
  {
   "cell_type": "code",
   "execution_count": null,
   "metadata": {
    "id": "opv1Yk7nCvEk"
   },
   "outputs": [],
   "source": [
    "from main import main as inspect"
   ]
  },
  {
   "cell_type": "code",
   "execution_count": null,
   "metadata": {
    "colab": {
     "base_uri": "https://localhost:8080/",
     "height": 104,
     "referenced_widgets": [
      "4fa2059ba9614a398c64eee8b54fbb6f",
      "f6b0037379ec4b85b69a7dd8bad6e206",
      "e0e49d75127a4ae594a84024548bd19c",
      "f95e04e056d04435b209afd99b285e2d",
      "c559709bb5744863a4deddc0ff1847b5",
      "45bd13ce5fb54d379fe650819091f45c",
      "bba25f22662c4c739ecacd8691d354b7",
      "a58263c7e208474f8207cfa5b7d8baad",
      "d0250214934f42e983cb1c79da3846b1",
      "3b1ed8f60b31444a9e39251b70a49b70",
      "3dd3a5eed27047089d7f16a525f6cd3b"
     ]
    },
    "id": "PmsLF9-xAdP_",
    "outputId": "65b799b5-0bb1-4cc0-af86-47d432cf5d52"
   },
   "outputs": [],
   "source": [
    "X_inspector = []\n",
    "\n",
    "for question in tqdm_notebook(X, total=len(X)):\n",
    "  X_inspector.append(inspect(question))\n",
    "\n",
    "X_inspector = pd.DataFrame(X_inspector, index=zero_level.index)"
   ]
  },
  {
   "cell_type": "code",
   "execution_count": null,
   "metadata": {
    "colab": {
     "base_uri": "https://localhost:8080/",
     "height": 225
    },
    "id": "DHr8nUydC1a2",
    "outputId": "1e7dde66-fced-4000-afe6-1f9b6c82a944"
   },
   "outputs": [],
   "source": [
    "X_inspector.head()"
   ]
  },
  {
   "cell_type": "code",
   "execution_count": null,
   "metadata": {
    "id": "aK1YsrcgC9p-"
   },
   "outputs": [],
   "source": [
    "y_pred_inspector = inspector_tree.predict(X_inspector)"
   ]
  },
  {
   "cell_type": "code",
   "execution_count": null,
   "metadata": {
    "colab": {
     "base_uri": "https://localhost:8080/"
    },
    "id": "hzrZtMcADYSm",
    "outputId": "f9d63086-c192-4576-89dc-c9839e36d578"
   },
   "outputs": [],
   "source": [
    "print(classification_report(y, y_pred_inspector))"
   ]
  },
  {
   "cell_type": "code",
   "execution_count": null,
   "metadata": {
    "id": "jTnq2KhhLyfh"
   },
   "outputs": [],
   "source": [
    "zero_level[\"Level (Hand)\"] = zero_level[\"Level (Hand)\"].apply(lambda x: f\"adpq_{x}\")"
   ]
  },
  {
   "cell_type": "code",
   "execution_count": null,
   "metadata": {
    "id": "umKiiApNMDXg"
   },
   "outputs": [],
   "source": [
    "zero_level[\"Level (ML)\"] = y_pred_bert"
   ]
  },
  {
   "cell_type": "code",
   "execution_count": null,
   "metadata": {
    "colab": {
     "base_uri": "https://localhost:8080/",
     "height": 1000
    },
    "id": "zIemCUshMHr1",
    "outputId": "f07e95c7-a41c-4f6e-ce21-448f88214288"
   },
   "outputs": [],
   "source": [
    "zero_level[zero_level[\"Level (Hand)\"] == zero_level[\"Level (ML)\"]]"
   ]
  },
  {
   "cell_type": "code",
   "execution_count": null,
   "metadata": {
    "colab": {
     "base_uri": "https://localhost:8080/"
    },
    "id": "WEbxKWo5MW5F",
    "outputId": "90de9e54-b9ac-4bda-d2e3-e406c077c262"
   },
   "outputs": [],
   "source": [
    "len(zero_level[zero_level[\"Level (Hand)\"] == zero_level[\"Level (ML)\"]])"
   ]
  },
  {
   "cell_type": "code",
   "execution_count": null,
   "metadata": {
    "colab": {
     "base_uri": "https://localhost:8080/"
    },
    "id": "SnTDIBp8M58G",
    "outputId": "895b32ff-6656-49f9-d8b0-b9dddeed435b"
   },
   "outputs": [],
   "source": [
    "(388+53)/581"
   ]
  },
  {
   "cell_type": "code",
   "execution_count": null,
   "metadata": {
    "id": "okMb12akUt3q"
   },
   "outputs": [],
   "source": [
    "import sklearn"
   ]
  },
  {
   "cell_type": "code",
   "execution_count": 11,
   "metadata": {
    "id": "Fs6vEzvPUh3C"
   },
   "outputs": [
    {
     "name": "stderr",
     "output_type": "stream",
     "text": [
      "c:\\users\\k1l77\\desktop\\182e~1\\term_p~1\\lib\\site-packages\\sklearn\\utils\\deprecation.py:143: FutureWarning: The sklearn.tree.tree module is  deprecated in version 0.22 and will be removed in version 0.24. The corresponding classes / functions should instead be imported from sklearn.tree. Anything that cannot be imported from sklearn.tree is now part of the private API.\n",
      "  warnings.warn(message, FutureWarning)\n",
      "c:\\users\\k1l77\\desktop\\182e~1\\term_p~1\\lib\\site-packages\\sklearn\\base.py:334: UserWarning: Trying to unpickle estimator DecisionTreeClassifier from version 0.21.2 when using version 0.23.2. This might lead to breaking code or invalid results. Use at your own risk.\n",
      "  UserWarning)\n"
     ]
    }
   ],
   "source": [
    "with open('TreeBERT.pickle','rb') as inp:\n",
    "  bert_tree = pickle.load(inp)"
   ]
  },
  {
   "cell_type": "code",
   "execution_count": 12,
   "metadata": {
    "id": "DwP1ukOjWznY"
   },
   "outputs": [],
   "source": [
    "y_pred_bert_tree = bert_tree.predict(X_bert)"
   ]
  },
  {
   "cell_type": "code",
   "execution_count": 13,
   "metadata": {
    "colab": {
     "base_uri": "https://localhost:8080/"
    },
    "id": "afrZGKpXW66X",
    "outputId": "2ef1257c-6816-4ec7-bfec-def1f11b7368"
   },
   "outputs": [
    {
     "name": "stdout",
     "output_type": "stream",
     "text": [
      "              precision    recall  f1-score   support\n",
      "\n",
      "      adpq_1       0.00      0.00      0.00         1\n",
      "      adpq_2       0.22      0.41      0.29        22\n",
      "      adpq_3       0.82      0.56      0.66        90\n",
      "\n",
      "    accuracy                           0.52       113\n",
      "   macro avg       0.35      0.32      0.32       113\n",
      "weighted avg       0.70      0.52      0.58       113\n",
      "\n"
     ]
    }
   ],
   "source": [
    "print(classification_report(y, y_pred_bert_tree))"
   ]
  },
  {
   "cell_type": "code",
   "execution_count": 15,
   "metadata": {},
   "outputs": [],
   "source": [
    "from sklearn.metrics import accuracy_score"
   ]
  },
  {
   "cell_type": "code",
   "execution_count": 18,
   "metadata": {},
   "outputs": [
    {
     "name": "stdout",
     "output_type": "stream",
     "text": [
      "59\n"
     ]
    }
   ],
   "source": [
    "print(accuracy_score(y, y_pred_bert_tree, normalize=False))"
   ]
  },
  {
   "cell_type": "code",
   "execution_count": null,
   "metadata": {
    "id": "usQyqb4OXOhs"
   },
   "outputs": [],
   "source": [
    "zero_level[\"Level (ML)\"] = y_pred_bert_tree"
   ]
  },
  {
   "cell_type": "code",
   "execution_count": null,
   "metadata": {
    "colab": {
     "base_uri": "https://localhost:8080/"
    },
    "id": "aYOAy7CCXSw3",
    "outputId": "07a81521-bc34-4695-9997-a23ce31ff281"
   },
   "outputs": [],
   "source": [
    "len(zero_level[zero_level[\"Level (Hand)\"] == zero_level[\"Level (ML)\"]])"
   ]
  },
  {
   "cell_type": "code",
   "execution_count": null,
   "metadata": {
    "colab": {
     "base_uri": "https://localhost:8080/"
    },
    "id": "dWBNmguWXW1Y",
    "outputId": "3fc74923-2143-43c3-cc0f-7b11d03c0a1a"
   },
   "outputs": [],
   "source": [
    "(388+59)/581"
   ]
  },
  {
   "cell_type": "code",
   "execution_count": 23,
   "metadata": {},
   "outputs": [],
   "source": [
    "with open(\"BertModel.pickle\", 'wb') as outp1:\n",
    "    pickle.dump(bert_embedder.model, outp1)\n",
    "\n",
    "with open(\"BertTokenizer.pickle\", 'wb') as outp2:\n",
    "    pickle.dump(bert_embedder.tokenizer, outp2)"
   ]
  },
  {
   "cell_type": "code",
   "execution_count": 22,
   "metadata": {},
   "outputs": [
    {
     "name": "stdout",
     "output_type": "stream",
     "text": [
      "Help on built-in function dump in module _pickle:\n",
      "\n",
      "dump(obj, file, protocol=None, *, fix_imports=True)\n",
      "    Write a pickled representation of obj to the open file object file.\n",
      "    \n",
      "    This is equivalent to ``Pickler(file, protocol).dump(obj)``, but may\n",
      "    be more efficient.\n",
      "    \n",
      "    The optional *protocol* argument tells the pickler to use the given\n",
      "    protocol supported protocols are 0, 1, 2, 3 and 4.  The default\n",
      "    protocol is 3; a backward-incompatible protocol designed for Python 3.\n",
      "    \n",
      "    Specifying a negative protocol version selects the highest protocol\n",
      "    version supported.  The higher the protocol used, the more recent the\n",
      "    version of Python needed to read the pickle produced.\n",
      "    \n",
      "    The *file* argument must have a write() method that accepts a single\n",
      "    bytes argument.  It can thus be a file object opened for binary\n",
      "    writing, an io.BytesIO instance, or any other custom object that meets\n",
      "    this interface.\n",
      "    \n",
      "    If *fix_imports* is True and protocol is less than 3, pickle will try\n",
      "    to map the new Python 3 names to the old module names used in Python\n",
      "    2, so that the pickle data stream is readable with Python 2.\n",
      "\n"
     ]
    }
   ],
   "source": [
    "help(pickle.dump)"
   ]
  },
  {
   "cell_type": "code",
   "execution_count": null,
   "metadata": {},
   "outputs": [],
   "source": []
  }
 ],
 "metadata": {
  "colab": {
   "collapsed_sections": [],
   "name": "PredictZeroLevel.ipynb",
   "provenance": []
  },
  "kernelspec": {
   "display_name": "Python 3",
   "language": "python",
   "name": "python3"
  },
  "language_info": {
   "codemirror_mode": {
    "name": "ipython",
    "version": 3
   },
   "file_extension": ".py",
   "mimetype": "text/x-python",
   "name": "python",
   "nbconvert_exporter": "python",
   "pygments_lexer": "ipython3",
   "version": "3.7.3"
  },
  "widgets": {
   "application/vnd.jupyter.widget-state+json": {
    "0683af825b564aac92af0923fa7f73f1": {
     "model_module": "@jupyter-widgets/controls",
     "model_module_version": "1.5.0",
     "model_name": "HTMLModel",
     "state": {
      "_dom_classes": [],
      "_model_module": "@jupyter-widgets/controls",
      "_model_module_version": "1.5.0",
      "_model_name": "HTMLModel",
      "_view_count": null,
      "_view_module": "@jupyter-widgets/controls",
      "_view_module_version": "1.5.0",
      "_view_name": "HTMLView",
      "description": "",
      "description_tooltip": null,
      "layout": "IPY_MODEL_655bb971ae8645fb8e6c6c722b04689f",
      "placeholder": "​",
      "style": "IPY_MODEL_1dc9b2a2301c443280feaedec8b55ac9",
      "value": "100%"
     }
    },
    "12dabdc1c7994549bea4e3485e185d5c": {
     "model_module": "@jupyter-widgets/controls",
     "model_module_version": "1.5.0",
     "model_name": "HTMLModel",
     "state": {
      "_dom_classes": [],
      "_model_module": "@jupyter-widgets/controls",
      "_model_module_version": "1.5.0",
      "_model_name": "HTMLModel",
      "_view_count": null,
      "_view_module": "@jupyter-widgets/controls",
      "_view_module_version": "1.5.0",
      "_view_name": "HTMLView",
      "description": "",
      "description_tooltip": null,
      "layout": "IPY_MODEL_67217bb2864f478fa55f587bb2b833d8",
      "placeholder": "​",
      "style": "IPY_MODEL_783b3f1ce06a4e25a14fbc30dc68d870",
      "value": "100%"
     }
    },
    "1dc9b2a2301c443280feaedec8b55ac9": {
     "model_module": "@jupyter-widgets/controls",
     "model_module_version": "1.5.0",
     "model_name": "DescriptionStyleModel",
     "state": {
      "_model_module": "@jupyter-widgets/controls",
      "_model_module_version": "1.5.0",
      "_model_name": "DescriptionStyleModel",
      "_view_count": null,
      "_view_module": "@jupyter-widgets/base",
      "_view_module_version": "1.2.0",
      "_view_name": "StyleView",
      "description_width": ""
     }
    },
    "22911903f6224fca9e3a20d6913f472a": {
     "model_module": "@jupyter-widgets/base",
     "model_module_version": "1.2.0",
     "model_name": "LayoutModel",
     "state": {
      "_model_module": "@jupyter-widgets/base",
      "_model_module_version": "1.2.0",
      "_model_name": "LayoutModel",
      "_view_count": null,
      "_view_module": "@jupyter-widgets/base",
      "_view_module_version": "1.2.0",
      "_view_name": "LayoutView",
      "align_content": null,
      "align_items": null,
      "align_self": null,
      "border": null,
      "bottom": null,
      "display": null,
      "flex": null,
      "flex_flow": null,
      "grid_area": null,
      "grid_auto_columns": null,
      "grid_auto_flow": null,
      "grid_auto_rows": null,
      "grid_column": null,
      "grid_gap": null,
      "grid_row": null,
      "grid_template_areas": null,
      "grid_template_columns": null,
      "grid_template_rows": null,
      "height": null,
      "justify_content": null,
      "justify_items": null,
      "left": null,
      "margin": null,
      "max_height": null,
      "max_width": null,
      "min_height": null,
      "min_width": null,
      "object_fit": null,
      "object_position": null,
      "order": null,
      "overflow": null,
      "overflow_x": null,
      "overflow_y": null,
      "padding": null,
      "right": null,
      "top": null,
      "visibility": null,
      "width": null
     }
    },
    "296a9fc215af46f9b221bf11a83ed2c9": {
     "model_module": "@jupyter-widgets/base",
     "model_module_version": "1.2.0",
     "model_name": "LayoutModel",
     "state": {
      "_model_module": "@jupyter-widgets/base",
      "_model_module_version": "1.2.0",
      "_model_name": "LayoutModel",
      "_view_count": null,
      "_view_module": "@jupyter-widgets/base",
      "_view_module_version": "1.2.0",
      "_view_name": "LayoutView",
      "align_content": null,
      "align_items": null,
      "align_self": null,
      "border": null,
      "bottom": null,
      "display": null,
      "flex": null,
      "flex_flow": null,
      "grid_area": null,
      "grid_auto_columns": null,
      "grid_auto_flow": null,
      "grid_auto_rows": null,
      "grid_column": null,
      "grid_gap": null,
      "grid_row": null,
      "grid_template_areas": null,
      "grid_template_columns": null,
      "grid_template_rows": null,
      "height": null,
      "justify_content": null,
      "justify_items": null,
      "left": null,
      "margin": null,
      "max_height": null,
      "max_width": null,
      "min_height": null,
      "min_width": null,
      "object_fit": null,
      "object_position": null,
      "order": null,
      "overflow": null,
      "overflow_x": null,
      "overflow_y": null,
      "padding": null,
      "right": null,
      "top": null,
      "visibility": null,
      "width": null
     }
    },
    "3b1ed8f60b31444a9e39251b70a49b70": {
     "model_module": "@jupyter-widgets/controls",
     "model_module_version": "1.5.0",
     "model_name": "DescriptionStyleModel",
     "state": {
      "_model_module": "@jupyter-widgets/controls",
      "_model_module_version": "1.5.0",
      "_model_name": "DescriptionStyleModel",
      "_view_count": null,
      "_view_module": "@jupyter-widgets/base",
      "_view_module_version": "1.2.0",
      "_view_name": "StyleView",
      "description_width": ""
     }
    },
    "3dd3a5eed27047089d7f16a525f6cd3b": {
     "model_module": "@jupyter-widgets/base",
     "model_module_version": "1.2.0",
     "model_name": "LayoutModel",
     "state": {
      "_model_module": "@jupyter-widgets/base",
      "_model_module_version": "1.2.0",
      "_model_name": "LayoutModel",
      "_view_count": null,
      "_view_module": "@jupyter-widgets/base",
      "_view_module_version": "1.2.0",
      "_view_name": "LayoutView",
      "align_content": null,
      "align_items": null,
      "align_self": null,
      "border": null,
      "bottom": null,
      "display": null,
      "flex": null,
      "flex_flow": null,
      "grid_area": null,
      "grid_auto_columns": null,
      "grid_auto_flow": null,
      "grid_auto_rows": null,
      "grid_column": null,
      "grid_gap": null,
      "grid_row": null,
      "grid_template_areas": null,
      "grid_template_columns": null,
      "grid_template_rows": null,
      "height": null,
      "justify_content": null,
      "justify_items": null,
      "left": null,
      "margin": null,
      "max_height": null,
      "max_width": null,
      "min_height": null,
      "min_width": null,
      "object_fit": null,
      "object_position": null,
      "order": null,
      "overflow": null,
      "overflow_x": null,
      "overflow_y": null,
      "padding": null,
      "right": null,
      "top": null,
      "visibility": null,
      "width": null
     }
    },
    "3f800ad3f3c94a86858be835312e6bfc": {
     "model_module": "@jupyter-widgets/base",
     "model_module_version": "1.2.0",
     "model_name": "LayoutModel",
     "state": {
      "_model_module": "@jupyter-widgets/base",
      "_model_module_version": "1.2.0",
      "_model_name": "LayoutModel",
      "_view_count": null,
      "_view_module": "@jupyter-widgets/base",
      "_view_module_version": "1.2.0",
      "_view_name": "LayoutView",
      "align_content": null,
      "align_items": null,
      "align_self": null,
      "border": null,
      "bottom": null,
      "display": null,
      "flex": null,
      "flex_flow": null,
      "grid_area": null,
      "grid_auto_columns": null,
      "grid_auto_flow": null,
      "grid_auto_rows": null,
      "grid_column": null,
      "grid_gap": null,
      "grid_row": null,
      "grid_template_areas": null,
      "grid_template_columns": null,
      "grid_template_rows": null,
      "height": null,
      "justify_content": null,
      "justify_items": null,
      "left": null,
      "margin": null,
      "max_height": null,
      "max_width": null,
      "min_height": null,
      "min_width": null,
      "object_fit": null,
      "object_position": null,
      "order": null,
      "overflow": null,
      "overflow_x": null,
      "overflow_y": null,
      "padding": null,
      "right": null,
      "top": null,
      "visibility": null,
      "width": null
     }
    },
    "427171908bb647a8b393091d7e002c78": {
     "model_module": "@jupyter-widgets/controls",
     "model_module_version": "1.5.0",
     "model_name": "HBoxModel",
     "state": {
      "_dom_classes": [],
      "_model_module": "@jupyter-widgets/controls",
      "_model_module_version": "1.5.0",
      "_model_name": "HBoxModel",
      "_view_count": null,
      "_view_module": "@jupyter-widgets/controls",
      "_view_module_version": "1.5.0",
      "_view_name": "HBoxView",
      "box_style": "",
      "children": [
       "IPY_MODEL_12dabdc1c7994549bea4e3485e185d5c",
       "IPY_MODEL_671d4ff5a6da40e7bfba94acae05f792",
       "IPY_MODEL_52eb8720194e4809bdd0c77789d9b176"
      ],
      "layout": "IPY_MODEL_6eb18c008c7a489a88eea98e11e8982f"
     }
    },
    "45bd13ce5fb54d379fe650819091f45c": {
     "model_module": "@jupyter-widgets/controls",
     "model_module_version": "1.5.0",
     "model_name": "DescriptionStyleModel",
     "state": {
      "_model_module": "@jupyter-widgets/controls",
      "_model_module_version": "1.5.0",
      "_model_name": "DescriptionStyleModel",
      "_view_count": null,
      "_view_module": "@jupyter-widgets/base",
      "_view_module_version": "1.2.0",
      "_view_name": "StyleView",
      "description_width": ""
     }
    },
    "4fa2059ba9614a398c64eee8b54fbb6f": {
     "model_module": "@jupyter-widgets/controls",
     "model_module_version": "1.5.0",
     "model_name": "HBoxModel",
     "state": {
      "_dom_classes": [],
      "_model_module": "@jupyter-widgets/controls",
      "_model_module_version": "1.5.0",
      "_model_name": "HBoxModel",
      "_view_count": null,
      "_view_module": "@jupyter-widgets/controls",
      "_view_module_version": "1.5.0",
      "_view_name": "HBoxView",
      "box_style": "",
      "children": [
       "IPY_MODEL_e0e49d75127a4ae594a84024548bd19c",
       "IPY_MODEL_f95e04e056d04435b209afd99b285e2d",
       "IPY_MODEL_c559709bb5744863a4deddc0ff1847b5"
      ],
      "layout": "IPY_MODEL_f6b0037379ec4b85b69a7dd8bad6e206"
     }
    },
    "52eb8720194e4809bdd0c77789d9b176": {
     "model_module": "@jupyter-widgets/controls",
     "model_module_version": "1.5.0",
     "model_name": "HTMLModel",
     "state": {
      "_dom_classes": [],
      "_model_module": "@jupyter-widgets/controls",
      "_model_module_version": "1.5.0",
      "_model_name": "HTMLModel",
      "_view_count": null,
      "_view_module": "@jupyter-widgets/controls",
      "_view_module_version": "1.5.0",
      "_view_name": "HTMLView",
      "description": "",
      "description_tooltip": null,
      "layout": "IPY_MODEL_22911903f6224fca9e3a20d6913f472a",
      "placeholder": "​",
      "style": "IPY_MODEL_57e30c80c3814f4799ec1c6e8f650b9e",
      "value": " 29/29 [00:20&lt;00:00,  2.00it/s]"
     }
    },
    "57e30c80c3814f4799ec1c6e8f650b9e": {
     "model_module": "@jupyter-widgets/controls",
     "model_module_version": "1.5.0",
     "model_name": "DescriptionStyleModel",
     "state": {
      "_model_module": "@jupyter-widgets/controls",
      "_model_module_version": "1.5.0",
      "_model_name": "DescriptionStyleModel",
      "_view_count": null,
      "_view_module": "@jupyter-widgets/base",
      "_view_module_version": "1.2.0",
      "_view_name": "StyleView",
      "description_width": ""
     }
    },
    "5ec586391cf74802b6a4d2c0916bcdf0": {
     "model_module": "@jupyter-widgets/controls",
     "model_module_version": "1.5.0",
     "model_name": "HTMLModel",
     "state": {
      "_dom_classes": [],
      "_model_module": "@jupyter-widgets/controls",
      "_model_module_version": "1.5.0",
      "_model_name": "HTMLModel",
      "_view_count": null,
      "_view_module": "@jupyter-widgets/controls",
      "_view_module_version": "1.5.0",
      "_view_name": "HTMLView",
      "description": "",
      "description_tooltip": null,
      "layout": "IPY_MODEL_74a91959e3f942fca2bc46cc7a506e58",
      "placeholder": "​",
      "style": "IPY_MODEL_db50282e213d4a09af155cc6f80e173e",
      "value": " 29/29 [00:20&lt;00:00,  2.01it/s]"
     }
    },
    "655bb971ae8645fb8e6c6c722b04689f": {
     "model_module": "@jupyter-widgets/base",
     "model_module_version": "1.2.0",
     "model_name": "LayoutModel",
     "state": {
      "_model_module": "@jupyter-widgets/base",
      "_model_module_version": "1.2.0",
      "_model_name": "LayoutModel",
      "_view_count": null,
      "_view_module": "@jupyter-widgets/base",
      "_view_module_version": "1.2.0",
      "_view_name": "LayoutView",
      "align_content": null,
      "align_items": null,
      "align_self": null,
      "border": null,
      "bottom": null,
      "display": null,
      "flex": null,
      "flex_flow": null,
      "grid_area": null,
      "grid_auto_columns": null,
      "grid_auto_flow": null,
      "grid_auto_rows": null,
      "grid_column": null,
      "grid_gap": null,
      "grid_row": null,
      "grid_template_areas": null,
      "grid_template_columns": null,
      "grid_template_rows": null,
      "height": null,
      "justify_content": null,
      "justify_items": null,
      "left": null,
      "margin": null,
      "max_height": null,
      "max_width": null,
      "min_height": null,
      "min_width": null,
      "object_fit": null,
      "object_position": null,
      "order": null,
      "overflow": null,
      "overflow_x": null,
      "overflow_y": null,
      "padding": null,
      "right": null,
      "top": null,
      "visibility": null,
      "width": null
     }
    },
    "671d4ff5a6da40e7bfba94acae05f792": {
     "model_module": "@jupyter-widgets/controls",
     "model_module_version": "1.5.0",
     "model_name": "FloatProgressModel",
     "state": {
      "_dom_classes": [],
      "_model_module": "@jupyter-widgets/controls",
      "_model_module_version": "1.5.0",
      "_model_name": "FloatProgressModel",
      "_view_count": null,
      "_view_module": "@jupyter-widgets/controls",
      "_view_module_version": "1.5.0",
      "_view_name": "ProgressView",
      "bar_style": "success",
      "description": "",
      "description_tooltip": null,
      "layout": "IPY_MODEL_8bbbcd6593fb499fb72ed2cc29d56ddf",
      "max": 29,
      "min": 0,
      "orientation": "horizontal",
      "style": "IPY_MODEL_ed05b621eb2443ab8c50ab96c68b6db5",
      "value": 29
     }
    },
    "67217bb2864f478fa55f587bb2b833d8": {
     "model_module": "@jupyter-widgets/base",
     "model_module_version": "1.2.0",
     "model_name": "LayoutModel",
     "state": {
      "_model_module": "@jupyter-widgets/base",
      "_model_module_version": "1.2.0",
      "_model_name": "LayoutModel",
      "_view_count": null,
      "_view_module": "@jupyter-widgets/base",
      "_view_module_version": "1.2.0",
      "_view_name": "LayoutView",
      "align_content": null,
      "align_items": null,
      "align_self": null,
      "border": null,
      "bottom": null,
      "display": null,
      "flex": null,
      "flex_flow": null,
      "grid_area": null,
      "grid_auto_columns": null,
      "grid_auto_flow": null,
      "grid_auto_rows": null,
      "grid_column": null,
      "grid_gap": null,
      "grid_row": null,
      "grid_template_areas": null,
      "grid_template_columns": null,
      "grid_template_rows": null,
      "height": null,
      "justify_content": null,
      "justify_items": null,
      "left": null,
      "margin": null,
      "max_height": null,
      "max_width": null,
      "min_height": null,
      "min_width": null,
      "object_fit": null,
      "object_position": null,
      "order": null,
      "overflow": null,
      "overflow_x": null,
      "overflow_y": null,
      "padding": null,
      "right": null,
      "top": null,
      "visibility": null,
      "width": null
     }
    },
    "6eb18c008c7a489a88eea98e11e8982f": {
     "model_module": "@jupyter-widgets/base",
     "model_module_version": "1.2.0",
     "model_name": "LayoutModel",
     "state": {
      "_model_module": "@jupyter-widgets/base",
      "_model_module_version": "1.2.0",
      "_model_name": "LayoutModel",
      "_view_count": null,
      "_view_module": "@jupyter-widgets/base",
      "_view_module_version": "1.2.0",
      "_view_name": "LayoutView",
      "align_content": null,
      "align_items": null,
      "align_self": null,
      "border": null,
      "bottom": null,
      "display": null,
      "flex": null,
      "flex_flow": null,
      "grid_area": null,
      "grid_auto_columns": null,
      "grid_auto_flow": null,
      "grid_auto_rows": null,
      "grid_column": null,
      "grid_gap": null,
      "grid_row": null,
      "grid_template_areas": null,
      "grid_template_columns": null,
      "grid_template_rows": null,
      "height": null,
      "justify_content": null,
      "justify_items": null,
      "left": null,
      "margin": null,
      "max_height": null,
      "max_width": null,
      "min_height": null,
      "min_width": null,
      "object_fit": null,
      "object_position": null,
      "order": null,
      "overflow": null,
      "overflow_x": null,
      "overflow_y": null,
      "padding": null,
      "right": null,
      "top": null,
      "visibility": null,
      "width": null
     }
    },
    "74a91959e3f942fca2bc46cc7a506e58": {
     "model_module": "@jupyter-widgets/base",
     "model_module_version": "1.2.0",
     "model_name": "LayoutModel",
     "state": {
      "_model_module": "@jupyter-widgets/base",
      "_model_module_version": "1.2.0",
      "_model_name": "LayoutModel",
      "_view_count": null,
      "_view_module": "@jupyter-widgets/base",
      "_view_module_version": "1.2.0",
      "_view_name": "LayoutView",
      "align_content": null,
      "align_items": null,
      "align_self": null,
      "border": null,
      "bottom": null,
      "display": null,
      "flex": null,
      "flex_flow": null,
      "grid_area": null,
      "grid_auto_columns": null,
      "grid_auto_flow": null,
      "grid_auto_rows": null,
      "grid_column": null,
      "grid_gap": null,
      "grid_row": null,
      "grid_template_areas": null,
      "grid_template_columns": null,
      "grid_template_rows": null,
      "height": null,
      "justify_content": null,
      "justify_items": null,
      "left": null,
      "margin": null,
      "max_height": null,
      "max_width": null,
      "min_height": null,
      "min_width": null,
      "object_fit": null,
      "object_position": null,
      "order": null,
      "overflow": null,
      "overflow_x": null,
      "overflow_y": null,
      "padding": null,
      "right": null,
      "top": null,
      "visibility": null,
      "width": null
     }
    },
    "77a60e119091439b9373447709b4c023": {
     "model_module": "@jupyter-widgets/controls",
     "model_module_version": "1.5.0",
     "model_name": "HBoxModel",
     "state": {
      "_dom_classes": [],
      "_model_module": "@jupyter-widgets/controls",
      "_model_module_version": "1.5.0",
      "_model_name": "HBoxModel",
      "_view_count": null,
      "_view_module": "@jupyter-widgets/controls",
      "_view_module_version": "1.5.0",
      "_view_name": "HBoxView",
      "box_style": "",
      "children": [
       "IPY_MODEL_0683af825b564aac92af0923fa7f73f1",
       "IPY_MODEL_b8f919d1dd1f405cb418bebcc2edbb2a",
       "IPY_MODEL_5ec586391cf74802b6a4d2c0916bcdf0"
      ],
      "layout": "IPY_MODEL_296a9fc215af46f9b221bf11a83ed2c9"
     }
    },
    "783b3f1ce06a4e25a14fbc30dc68d870": {
     "model_module": "@jupyter-widgets/controls",
     "model_module_version": "1.5.0",
     "model_name": "DescriptionStyleModel",
     "state": {
      "_model_module": "@jupyter-widgets/controls",
      "_model_module_version": "1.5.0",
      "_model_name": "DescriptionStyleModel",
      "_view_count": null,
      "_view_module": "@jupyter-widgets/base",
      "_view_module_version": "1.2.0",
      "_view_name": "StyleView",
      "description_width": ""
     }
    },
    "8bbbcd6593fb499fb72ed2cc29d56ddf": {
     "model_module": "@jupyter-widgets/base",
     "model_module_version": "1.2.0",
     "model_name": "LayoutModel",
     "state": {
      "_model_module": "@jupyter-widgets/base",
      "_model_module_version": "1.2.0",
      "_model_name": "LayoutModel",
      "_view_count": null,
      "_view_module": "@jupyter-widgets/base",
      "_view_module_version": "1.2.0",
      "_view_name": "LayoutView",
      "align_content": null,
      "align_items": null,
      "align_self": null,
      "border": null,
      "bottom": null,
      "display": null,
      "flex": null,
      "flex_flow": null,
      "grid_area": null,
      "grid_auto_columns": null,
      "grid_auto_flow": null,
      "grid_auto_rows": null,
      "grid_column": null,
      "grid_gap": null,
      "grid_row": null,
      "grid_template_areas": null,
      "grid_template_columns": null,
      "grid_template_rows": null,
      "height": null,
      "justify_content": null,
      "justify_items": null,
      "left": null,
      "margin": null,
      "max_height": null,
      "max_width": null,
      "min_height": null,
      "min_width": null,
      "object_fit": null,
      "object_position": null,
      "order": null,
      "overflow": null,
      "overflow_x": null,
      "overflow_y": null,
      "padding": null,
      "right": null,
      "top": null,
      "visibility": null,
      "width": null
     }
    },
    "a58263c7e208474f8207cfa5b7d8baad": {
     "model_module": "@jupyter-widgets/controls",
     "model_module_version": "1.5.0",
     "model_name": "ProgressStyleModel",
     "state": {
      "_model_module": "@jupyter-widgets/controls",
      "_model_module_version": "1.5.0",
      "_model_name": "ProgressStyleModel",
      "_view_count": null,
      "_view_module": "@jupyter-widgets/base",
      "_view_module_version": "1.2.0",
      "_view_name": "StyleView",
      "bar_color": null,
      "description_width": ""
     }
    },
    "b3058ca27cb44ce385015a2156584ce1": {
     "model_module": "@jupyter-widgets/controls",
     "model_module_version": "1.5.0",
     "model_name": "ProgressStyleModel",
     "state": {
      "_model_module": "@jupyter-widgets/controls",
      "_model_module_version": "1.5.0",
      "_model_name": "ProgressStyleModel",
      "_view_count": null,
      "_view_module": "@jupyter-widgets/base",
      "_view_module_version": "1.2.0",
      "_view_name": "StyleView",
      "bar_color": null,
      "description_width": ""
     }
    },
    "b8f919d1dd1f405cb418bebcc2edbb2a": {
     "model_module": "@jupyter-widgets/controls",
     "model_module_version": "1.5.0",
     "model_name": "FloatProgressModel",
     "state": {
      "_dom_classes": [],
      "_model_module": "@jupyter-widgets/controls",
      "_model_module_version": "1.5.0",
      "_model_name": "FloatProgressModel",
      "_view_count": null,
      "_view_module": "@jupyter-widgets/controls",
      "_view_module_version": "1.5.0",
      "_view_name": "ProgressView",
      "bar_style": "success",
      "description": "",
      "description_tooltip": null,
      "layout": "IPY_MODEL_3f800ad3f3c94a86858be835312e6bfc",
      "max": 29,
      "min": 0,
      "orientation": "horizontal",
      "style": "IPY_MODEL_b3058ca27cb44ce385015a2156584ce1",
      "value": 29
     }
    },
    "bba25f22662c4c739ecacd8691d354b7": {
     "model_module": "@jupyter-widgets/base",
     "model_module_version": "1.2.0",
     "model_name": "LayoutModel",
     "state": {
      "_model_module": "@jupyter-widgets/base",
      "_model_module_version": "1.2.0",
      "_model_name": "LayoutModel",
      "_view_count": null,
      "_view_module": "@jupyter-widgets/base",
      "_view_module_version": "1.2.0",
      "_view_name": "LayoutView",
      "align_content": null,
      "align_items": null,
      "align_self": null,
      "border": null,
      "bottom": null,
      "display": null,
      "flex": null,
      "flex_flow": null,
      "grid_area": null,
      "grid_auto_columns": null,
      "grid_auto_flow": null,
      "grid_auto_rows": null,
      "grid_column": null,
      "grid_gap": null,
      "grid_row": null,
      "grid_template_areas": null,
      "grid_template_columns": null,
      "grid_template_rows": null,
      "height": null,
      "justify_content": null,
      "justify_items": null,
      "left": null,
      "margin": null,
      "max_height": null,
      "max_width": null,
      "min_height": null,
      "min_width": null,
      "object_fit": null,
      "object_position": null,
      "order": null,
      "overflow": null,
      "overflow_x": null,
      "overflow_y": null,
      "padding": null,
      "right": null,
      "top": null,
      "visibility": null,
      "width": null
     }
    },
    "c559709bb5744863a4deddc0ff1847b5": {
     "model_module": "@jupyter-widgets/controls",
     "model_module_version": "1.5.0",
     "model_name": "HTMLModel",
     "state": {
      "_dom_classes": [],
      "_model_module": "@jupyter-widgets/controls",
      "_model_module_version": "1.5.0",
      "_model_name": "HTMLModel",
      "_view_count": null,
      "_view_module": "@jupyter-widgets/controls",
      "_view_module_version": "1.5.0",
      "_view_name": "HTMLView",
      "description": "",
      "description_tooltip": null,
      "layout": "IPY_MODEL_3dd3a5eed27047089d7f16a525f6cd3b",
      "placeholder": "​",
      "style": "IPY_MODEL_3b1ed8f60b31444a9e39251b70a49b70",
      "value": " 113/113 [00:03&lt;00:00, 31.79it/s]"
     }
    },
    "d0250214934f42e983cb1c79da3846b1": {
     "model_module": "@jupyter-widgets/base",
     "model_module_version": "1.2.0",
     "model_name": "LayoutModel",
     "state": {
      "_model_module": "@jupyter-widgets/base",
      "_model_module_version": "1.2.0",
      "_model_name": "LayoutModel",
      "_view_count": null,
      "_view_module": "@jupyter-widgets/base",
      "_view_module_version": "1.2.0",
      "_view_name": "LayoutView",
      "align_content": null,
      "align_items": null,
      "align_self": null,
      "border": null,
      "bottom": null,
      "display": null,
      "flex": null,
      "flex_flow": null,
      "grid_area": null,
      "grid_auto_columns": null,
      "grid_auto_flow": null,
      "grid_auto_rows": null,
      "grid_column": null,
      "grid_gap": null,
      "grid_row": null,
      "grid_template_areas": null,
      "grid_template_columns": null,
      "grid_template_rows": null,
      "height": null,
      "justify_content": null,
      "justify_items": null,
      "left": null,
      "margin": null,
      "max_height": null,
      "max_width": null,
      "min_height": null,
      "min_width": null,
      "object_fit": null,
      "object_position": null,
      "order": null,
      "overflow": null,
      "overflow_x": null,
      "overflow_y": null,
      "padding": null,
      "right": null,
      "top": null,
      "visibility": null,
      "width": null
     }
    },
    "db50282e213d4a09af155cc6f80e173e": {
     "model_module": "@jupyter-widgets/controls",
     "model_module_version": "1.5.0",
     "model_name": "DescriptionStyleModel",
     "state": {
      "_model_module": "@jupyter-widgets/controls",
      "_model_module_version": "1.5.0",
      "_model_name": "DescriptionStyleModel",
      "_view_count": null,
      "_view_module": "@jupyter-widgets/base",
      "_view_module_version": "1.2.0",
      "_view_name": "StyleView",
      "description_width": ""
     }
    },
    "e0e49d75127a4ae594a84024548bd19c": {
     "model_module": "@jupyter-widgets/controls",
     "model_module_version": "1.5.0",
     "model_name": "HTMLModel",
     "state": {
      "_dom_classes": [],
      "_model_module": "@jupyter-widgets/controls",
      "_model_module_version": "1.5.0",
      "_model_name": "HTMLModel",
      "_view_count": null,
      "_view_module": "@jupyter-widgets/controls",
      "_view_module_version": "1.5.0",
      "_view_name": "HTMLView",
      "description": "",
      "description_tooltip": null,
      "layout": "IPY_MODEL_bba25f22662c4c739ecacd8691d354b7",
      "placeholder": "​",
      "style": "IPY_MODEL_45bd13ce5fb54d379fe650819091f45c",
      "value": "100%"
     }
    },
    "ed05b621eb2443ab8c50ab96c68b6db5": {
     "model_module": "@jupyter-widgets/controls",
     "model_module_version": "1.5.0",
     "model_name": "ProgressStyleModel",
     "state": {
      "_model_module": "@jupyter-widgets/controls",
      "_model_module_version": "1.5.0",
      "_model_name": "ProgressStyleModel",
      "_view_count": null,
      "_view_module": "@jupyter-widgets/base",
      "_view_module_version": "1.2.0",
      "_view_name": "StyleView",
      "bar_color": null,
      "description_width": ""
     }
    },
    "f6b0037379ec4b85b69a7dd8bad6e206": {
     "model_module": "@jupyter-widgets/base",
     "model_module_version": "1.2.0",
     "model_name": "LayoutModel",
     "state": {
      "_model_module": "@jupyter-widgets/base",
      "_model_module_version": "1.2.0",
      "_model_name": "LayoutModel",
      "_view_count": null,
      "_view_module": "@jupyter-widgets/base",
      "_view_module_version": "1.2.0",
      "_view_name": "LayoutView",
      "align_content": null,
      "align_items": null,
      "align_self": null,
      "border": null,
      "bottom": null,
      "display": null,
      "flex": null,
      "flex_flow": null,
      "grid_area": null,
      "grid_auto_columns": null,
      "grid_auto_flow": null,
      "grid_auto_rows": null,
      "grid_column": null,
      "grid_gap": null,
      "grid_row": null,
      "grid_template_areas": null,
      "grid_template_columns": null,
      "grid_template_rows": null,
      "height": null,
      "justify_content": null,
      "justify_items": null,
      "left": null,
      "margin": null,
      "max_height": null,
      "max_width": null,
      "min_height": null,
      "min_width": null,
      "object_fit": null,
      "object_position": null,
      "order": null,
      "overflow": null,
      "overflow_x": null,
      "overflow_y": null,
      "padding": null,
      "right": null,
      "top": null,
      "visibility": null,
      "width": null
     }
    },
    "f95e04e056d04435b209afd99b285e2d": {
     "model_module": "@jupyter-widgets/controls",
     "model_module_version": "1.5.0",
     "model_name": "FloatProgressModel",
     "state": {
      "_dom_classes": [],
      "_model_module": "@jupyter-widgets/controls",
      "_model_module_version": "1.5.0",
      "_model_name": "FloatProgressModel",
      "_view_count": null,
      "_view_module": "@jupyter-widgets/controls",
      "_view_module_version": "1.5.0",
      "_view_name": "ProgressView",
      "bar_style": "success",
      "description": "",
      "description_tooltip": null,
      "layout": "IPY_MODEL_d0250214934f42e983cb1c79da3846b1",
      "max": 113,
      "min": 0,
      "orientation": "horizontal",
      "style": "IPY_MODEL_a58263c7e208474f8207cfa5b7d8baad",
      "value": 113
     }
    }
   }
  }
 },
 "nbformat": 4,
 "nbformat_minor": 1
}
